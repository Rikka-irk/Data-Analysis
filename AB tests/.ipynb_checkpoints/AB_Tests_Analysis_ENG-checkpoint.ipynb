{
 "cells": [
  {
   "cell_type": "markdown",
   "id": "a1ff54c6",
   "metadata": {},
   "source": [
    "# Conducting and analysing A/B testing results"
   ]
  },
  {
   "cell_type": "markdown",
   "id": "1da3ceb9",
   "metadata": {},
   "source": [
    "**Goal**   \n",
    "\n",
    "Analise the results of the A/B tests and provide recommendations for the online-store revenue improvements."
   ]
  },
  {
   "cell_type": "markdown",
   "id": "1ec1c983",
   "metadata": {},
   "source": [
    "**Plan**    \n",
    " \n",
    "1. Review and data preprocessing\n",
    "1. Checking the correctness of the performed tests\n",
    "1. Creating additional dataframes with target and cumulative metrics\n",
    "1. Exploratory data analyses\n",
    "1. A/B test results analysis\n",
    "1. Calculation of the statistical significance"
   ]
  },
  {
   "cell_type": "markdown",
   "id": "ac696efe",
   "metadata": {},
   "source": [
    "## Data review"
   ]
  },
  {
   "cell_type": "markdown",
   "id": "e6792d31",
   "metadata": {},
   "source": [
    "Importing necessary libraries"
   ]
  },
  {
   "cell_type": "code",
   "execution_count": 60,
   "id": "db80d2a0",
   "metadata": {},
   "outputs": [],
   "source": [
    "import pandas as pd\n",
    "import os\n",
    "import numpy as np\n",
    "from datetime import datetime, timedelta\n",
    "import matplotlib.pyplot as plt\n",
    "import scipy.stats as stats\n",
    "import math as mth\n",
    "from IPython.display import display, Markdown\n",
    "import warnings \n",
    "warnings.filterwarnings('ignore')\n",
    "plt.rcParams['figure.figsize'] = [12, 6]"
   ]
  },
  {
   "cell_type": "markdown",
   "id": "b2e2d72d",
   "metadata": {},
   "source": [
    "Reading data from files"
   ]
  },
  {
   "cell_type": "markdown",
   "id": "91ed7276",
   "metadata": {},
   "source": [
    "**Test participants**\n",
    "   \n",
    "      \n",
    "- `user_id` — user identifier;\n",
    "- `ab_test` — name of the test;\n",
    "- `group` — user group.     "
   ]
  },
  {
   "cell_type": "code",
   "execution_count": 61,
   "id": "4af0833a",
   "metadata": {
    "scrolled": false
   },
   "outputs": [
    {
     "data": {
      "text/html": [
       "<div>\n",
       "<style scoped>\n",
       "    .dataframe tbody tr th:only-of-type {\n",
       "        vertical-align: middle;\n",
       "    }\n",
       "\n",
       "    .dataframe tbody tr th {\n",
       "        vertical-align: top;\n",
       "    }\n",
       "\n",
       "    .dataframe thead th {\n",
       "        text-align: right;\n",
       "    }\n",
       "</style>\n",
       "<table border=\"1\" class=\"dataframe\">\n",
       "  <thead>\n",
       "    <tr style=\"text-align: right;\">\n",
       "      <th></th>\n",
       "      <th>user_id</th>\n",
       "      <th>group</th>\n",
       "      <th>ab_test</th>\n",
       "    </tr>\n",
       "  </thead>\n",
       "  <tbody>\n",
       "    <tr>\n",
       "      <th>4155</th>\n",
       "      <td>38DA0BA08A977520</td>\n",
       "      <td>A</td>\n",
       "      <td>recommender_system_test</td>\n",
       "    </tr>\n",
       "    <tr>\n",
       "      <th>4679</th>\n",
       "      <td>EC9E9E250559033B</td>\n",
       "      <td>A</td>\n",
       "      <td>recommender_system_test</td>\n",
       "    </tr>\n",
       "    <tr>\n",
       "      <th>16314</th>\n",
       "      <td>642711159160F5FF</td>\n",
       "      <td>B</td>\n",
       "      <td>interface_eu_test</td>\n",
       "    </tr>\n",
       "    <tr>\n",
       "      <th>16304</th>\n",
       "      <td>FB82B9F6F3DA4C62</td>\n",
       "      <td>A</td>\n",
       "      <td>interface_eu_test</td>\n",
       "    </tr>\n",
       "    <tr>\n",
       "      <th>15320</th>\n",
       "      <td>6EE262E915126867</td>\n",
       "      <td>A</td>\n",
       "      <td>interface_eu_test</td>\n",
       "    </tr>\n",
       "    <tr>\n",
       "      <th>6971</th>\n",
       "      <td>DB4860DD68741AEE</td>\n",
       "      <td>A</td>\n",
       "      <td>interface_eu_test</td>\n",
       "    </tr>\n",
       "    <tr>\n",
       "      <th>4445</th>\n",
       "      <td>2A986C1D47CA7C87</td>\n",
       "      <td>A</td>\n",
       "      <td>recommender_system_test</td>\n",
       "    </tr>\n",
       "    <tr>\n",
       "      <th>12661</th>\n",
       "      <td>D7306BBCB3411F99</td>\n",
       "      <td>A</td>\n",
       "      <td>interface_eu_test</td>\n",
       "    </tr>\n",
       "    <tr>\n",
       "      <th>8771</th>\n",
       "      <td>8BD0081B1F369AA7</td>\n",
       "      <td>B</td>\n",
       "      <td>interface_eu_test</td>\n",
       "    </tr>\n",
       "    <tr>\n",
       "      <th>17829</th>\n",
       "      <td>BDD0564F61158B4E</td>\n",
       "      <td>A</td>\n",
       "      <td>interface_eu_test</td>\n",
       "    </tr>\n",
       "  </tbody>\n",
       "</table>\n",
       "</div>"
      ],
      "text/plain": [
       "                user_id group                  ab_test\n",
       "4155   38DA0BA08A977520     A  recommender_system_test\n",
       "4679   EC9E9E250559033B     A  recommender_system_test\n",
       "16314  642711159160F5FF     B        interface_eu_test\n",
       "16304  FB82B9F6F3DA4C62     A        interface_eu_test\n",
       "15320  6EE262E915126867     A        interface_eu_test\n",
       "6971   DB4860DD68741AEE     A        interface_eu_test\n",
       "4445   2A986C1D47CA7C87     A  recommender_system_test\n",
       "12661  D7306BBCB3411F99     A        interface_eu_test\n",
       "8771   8BD0081B1F369AA7     B        interface_eu_test\n",
       "17829  BDD0564F61158B4E     A        interface_eu_test"
      ]
     },
     "metadata": {},
     "output_type": "display_data"
    },
    {
     "name": "stdout",
     "output_type": "stream",
     "text": [
      "<class 'pandas.core.frame.DataFrame'>\n",
      "RangeIndex: 18268 entries, 0 to 18267\n",
      "Data columns (total 3 columns):\n",
      " #   Column   Non-Null Count  Dtype \n",
      "---  ------   --------------  ----- \n",
      " 0   user_id  18268 non-null  object\n",
      " 1   group    18268 non-null  object\n",
      " 2   ab_test  18268 non-null  object\n",
      "dtypes: object(3)\n",
      "memory usage: 428.3+ KB\n"
     ]
    },
    {
     "data": {
      "text/plain": [
       "None"
      ]
     },
     "metadata": {},
     "output_type": "display_data"
    }
   ],
   "source": [
    "try: \n",
    "    final_ab_participants = pd.read_csv('https://raw.githubusercontent.com/Rikka-irk/Data-Analysis/main/AB%20tests/final_ab_participants.csv')\n",
    "except: \n",
    "    print('File reading error. Check the URL')\n",
    "\n",
    "display(final_ab_participants.sample(10))\n",
    "display(final_ab_participants.info())"
   ]
  },
  {
   "cell_type": "code",
   "execution_count": 62,
   "id": "639a1b96",
   "metadata": {},
   "outputs": [
    {
     "data": {
      "text/plain": [
       "interface_eu_test          11567\n",
       "recommender_system_test     6701\n",
       "Name: ab_test, dtype: int64"
      ]
     },
     "execution_count": 62,
     "metadata": {},
     "output_type": "execute_result"
    }
   ],
   "source": [
    "final_ab_participants['ab_test'].value_counts()"
   ]
  },
  {
   "cell_type": "markdown",
   "id": "bd1a4692",
   "metadata": {},
   "source": [
    "The file contains data not only about users who participated in the A/B test we are interested in. It will be necessary to filter out excessive data."
   ]
  },
  {
   "cell_type": "markdown",
   "id": "dd0a1d8d",
   "metadata": {},
   "source": [
    "**New users**     \n",
    "    \n",
    "Registered between 7 and 21 December 2020.   \n",
    "   \n",
    "      \n",
    "      \n",
    "- `user_id` — user identifier;\n",
    "- `first_date` — registration date;\n",
    "- `region` — user's region;\n",
    "- `device` — user registration device."
   ]
  },
  {
   "cell_type": "code",
   "execution_count": 63,
   "id": "5c5057b4",
   "metadata": {
    "scrolled": false
   },
   "outputs": [
    {
     "data": {
      "text/html": [
       "<div>\n",
       "<style scoped>\n",
       "    .dataframe tbody tr th:only-of-type {\n",
       "        vertical-align: middle;\n",
       "    }\n",
       "\n",
       "    .dataframe tbody tr th {\n",
       "        vertical-align: top;\n",
       "    }\n",
       "\n",
       "    .dataframe thead th {\n",
       "        text-align: right;\n",
       "    }\n",
       "</style>\n",
       "<table border=\"1\" class=\"dataframe\">\n",
       "  <thead>\n",
       "    <tr style=\"text-align: right;\">\n",
       "      <th></th>\n",
       "      <th>user_id</th>\n",
       "      <th>first_date</th>\n",
       "      <th>region</th>\n",
       "      <th>device</th>\n",
       "    </tr>\n",
       "  </thead>\n",
       "  <tbody>\n",
       "    <tr>\n",
       "      <th>14480</th>\n",
       "      <td>DA7D081A70781049</td>\n",
       "      <td>2020-12-21</td>\n",
       "      <td>EU</td>\n",
       "      <td>PC</td>\n",
       "    </tr>\n",
       "    <tr>\n",
       "      <th>6075</th>\n",
       "      <td>AD1973EDF090F3A0</td>\n",
       "      <td>2020-12-14</td>\n",
       "      <td>EU</td>\n",
       "      <td>iPhone</td>\n",
       "    </tr>\n",
       "    <tr>\n",
       "      <th>23000</th>\n",
       "      <td>B9CDA57F47B4F367</td>\n",
       "      <td>2020-12-15</td>\n",
       "      <td>EU</td>\n",
       "      <td>iPhone</td>\n",
       "    </tr>\n",
       "    <tr>\n",
       "      <th>15199</th>\n",
       "      <td>09E2CB56DACE9C4F</td>\n",
       "      <td>2020-12-21</td>\n",
       "      <td>APAC</td>\n",
       "      <td>Mac</td>\n",
       "    </tr>\n",
       "    <tr>\n",
       "      <th>47732</th>\n",
       "      <td>D45FB4CC5F4D2DCE</td>\n",
       "      <td>2020-12-12</td>\n",
       "      <td>N.America</td>\n",
       "      <td>Android</td>\n",
       "    </tr>\n",
       "    <tr>\n",
       "      <th>55095</th>\n",
       "      <td>CF22F839C4F43160</td>\n",
       "      <td>2020-12-13</td>\n",
       "      <td>EU</td>\n",
       "      <td>Android</td>\n",
       "    </tr>\n",
       "    <tr>\n",
       "      <th>61381</th>\n",
       "      <td>FD32DAF37B9E1281</td>\n",
       "      <td>2020-12-20</td>\n",
       "      <td>CIS</td>\n",
       "      <td>iPhone</td>\n",
       "    </tr>\n",
       "    <tr>\n",
       "      <th>23657</th>\n",
       "      <td>C39A467C88FF3981</td>\n",
       "      <td>2020-12-15</td>\n",
       "      <td>APAC</td>\n",
       "      <td>Mac</td>\n",
       "    </tr>\n",
       "    <tr>\n",
       "      <th>58318</th>\n",
       "      <td>A03EAD12BAD403BC</td>\n",
       "      <td>2020-12-20</td>\n",
       "      <td>EU</td>\n",
       "      <td>Mac</td>\n",
       "    </tr>\n",
       "    <tr>\n",
       "      <th>21122</th>\n",
       "      <td>88F98E1DED83659E</td>\n",
       "      <td>2020-12-15</td>\n",
       "      <td>APAC</td>\n",
       "      <td>Android</td>\n",
       "    </tr>\n",
       "  </tbody>\n",
       "</table>\n",
       "</div>"
      ],
      "text/plain": [
       "                user_id  first_date     region   device\n",
       "14480  DA7D081A70781049  2020-12-21         EU       PC\n",
       "6075   AD1973EDF090F3A0  2020-12-14         EU   iPhone\n",
       "23000  B9CDA57F47B4F367  2020-12-15         EU   iPhone\n",
       "15199  09E2CB56DACE9C4F  2020-12-21       APAC      Mac\n",
       "47732  D45FB4CC5F4D2DCE  2020-12-12  N.America  Android\n",
       "55095  CF22F839C4F43160  2020-12-13         EU  Android\n",
       "61381  FD32DAF37B9E1281  2020-12-20        CIS   iPhone\n",
       "23657  C39A467C88FF3981  2020-12-15       APAC      Mac\n",
       "58318  A03EAD12BAD403BC  2020-12-20         EU      Mac\n",
       "21122  88F98E1DED83659E  2020-12-15       APAC  Android"
      ]
     },
     "metadata": {},
     "output_type": "display_data"
    },
    {
     "name": "stdout",
     "output_type": "stream",
     "text": [
      "<class 'pandas.core.frame.DataFrame'>\n",
      "RangeIndex: 61733 entries, 0 to 61732\n",
      "Data columns (total 4 columns):\n",
      " #   Column      Non-Null Count  Dtype \n",
      "---  ------      --------------  ----- \n",
      " 0   user_id     61733 non-null  object\n",
      " 1   first_date  61733 non-null  object\n",
      " 2   region      61733 non-null  object\n",
      " 3   device      61733 non-null  object\n",
      "dtypes: object(4)\n",
      "memory usage: 1.9+ MB\n"
     ]
    },
    {
     "data": {
      "text/plain": [
       "None"
      ]
     },
     "metadata": {},
     "output_type": "display_data"
    }
   ],
   "source": [
    "try:\n",
    "    final_ab_new_users = pd.read_csv('https://raw.githubusercontent.com/Rikka-irk/Data-Analysis/main/AB%20tests/final_ab_new_users.csv')\n",
    "except: \n",
    "    print('File reading error. Check the URL')\n",
    "display(final_ab_new_users.sample(10))\n",
    "display(final_ab_new_users.info())"
   ]
  },
  {
   "cell_type": "markdown",
   "id": "fd31a5c0",
   "metadata": {},
   "source": [
    "The same problem with this table: there are records about other tests."
   ]
  },
  {
   "cell_type": "markdown",
   "id": "7a716ae0",
   "metadata": {},
   "source": [
    "**User activities**  \n",
    "   \n",
    "According to the requirements, user actions were recorded between 7 December 2020 and 4 January 2021.   \n",
    "    \n",
    "- `user_id` — user identifier;\n",
    "- `event_dt` — date and time of the event;\n",
    "- `event_name` — type of the event;\n",
    "- `details` — additional data about the event. For example, for events `purchase` this field stores the purchase price in dollars."
   ]
  },
  {
   "cell_type": "code",
   "execution_count": 64,
   "id": "19a981f8",
   "metadata": {
    "scrolled": false
   },
   "outputs": [
    {
     "data": {
      "text/html": [
       "<div>\n",
       "<style scoped>\n",
       "    .dataframe tbody tr th:only-of-type {\n",
       "        vertical-align: middle;\n",
       "    }\n",
       "\n",
       "    .dataframe tbody tr th {\n",
       "        vertical-align: top;\n",
       "    }\n",
       "\n",
       "    .dataframe thead th {\n",
       "        text-align: right;\n",
       "    }\n",
       "</style>\n",
       "<table border=\"1\" class=\"dataframe\">\n",
       "  <thead>\n",
       "    <tr style=\"text-align: right;\">\n",
       "      <th></th>\n",
       "      <th>user_id</th>\n",
       "      <th>event_dt</th>\n",
       "      <th>event_name</th>\n",
       "      <th>details</th>\n",
       "    </tr>\n",
       "  </thead>\n",
       "  <tbody>\n",
       "    <tr>\n",
       "      <th>290126</th>\n",
       "      <td>3EE718562551ECDD</td>\n",
       "      <td>2020-12-13 14:58:18</td>\n",
       "      <td>login</td>\n",
       "      <td>NaN</td>\n",
       "    </tr>\n",
       "    <tr>\n",
       "      <th>227642</th>\n",
       "      <td>411119D22217B633</td>\n",
       "      <td>2020-12-24 15:14:30</td>\n",
       "      <td>product_page</td>\n",
       "      <td>NaN</td>\n",
       "    </tr>\n",
       "    <tr>\n",
       "      <th>391326</th>\n",
       "      <td>AA024D87B6F66D27</td>\n",
       "      <td>2020-12-22 09:17:22</td>\n",
       "      <td>login</td>\n",
       "      <td>NaN</td>\n",
       "    </tr>\n",
       "    <tr>\n",
       "      <th>178236</th>\n",
       "      <td>D397CBC636C2047C</td>\n",
       "      <td>2020-12-17 14:05:43</td>\n",
       "      <td>product_page</td>\n",
       "      <td>NaN</td>\n",
       "    </tr>\n",
       "    <tr>\n",
       "      <th>113155</th>\n",
       "      <td>738C5F219CA0CCC4</td>\n",
       "      <td>2020-12-23 11:52:46</td>\n",
       "      <td>product_cart</td>\n",
       "      <td>NaN</td>\n",
       "    </tr>\n",
       "    <tr>\n",
       "      <th>295355</th>\n",
       "      <td>602C340464965823</td>\n",
       "      <td>2020-12-14 01:48:08</td>\n",
       "      <td>login</td>\n",
       "      <td>NaN</td>\n",
       "    </tr>\n",
       "    <tr>\n",
       "      <th>266880</th>\n",
       "      <td>1A30D48A58C39C08</td>\n",
       "      <td>2020-12-10 01:47:00</td>\n",
       "      <td>login</td>\n",
       "      <td>NaN</td>\n",
       "    </tr>\n",
       "    <tr>\n",
       "      <th>115335</th>\n",
       "      <td>010D64A3EC7AF889</td>\n",
       "      <td>2020-12-24 21:27:53</td>\n",
       "      <td>product_cart</td>\n",
       "      <td>NaN</td>\n",
       "    </tr>\n",
       "    <tr>\n",
       "      <th>23175</th>\n",
       "      <td>87F7EB2CFEB6D11A</td>\n",
       "      <td>2020-12-16 23:53:31</td>\n",
       "      <td>purchase</td>\n",
       "      <td>4.99</td>\n",
       "    </tr>\n",
       "    <tr>\n",
       "      <th>276869</th>\n",
       "      <td>DCD99B2C594576A4</td>\n",
       "      <td>2020-12-11 07:36:47</td>\n",
       "      <td>login</td>\n",
       "      <td>NaN</td>\n",
       "    </tr>\n",
       "  </tbody>\n",
       "</table>\n",
       "</div>"
      ],
      "text/plain": [
       "                 user_id             event_dt    event_name  details\n",
       "290126  3EE718562551ECDD  2020-12-13 14:58:18         login      NaN\n",
       "227642  411119D22217B633  2020-12-24 15:14:30  product_page      NaN\n",
       "391326  AA024D87B6F66D27  2020-12-22 09:17:22         login      NaN\n",
       "178236  D397CBC636C2047C  2020-12-17 14:05:43  product_page      NaN\n",
       "113155  738C5F219CA0CCC4  2020-12-23 11:52:46  product_cart      NaN\n",
       "295355  602C340464965823  2020-12-14 01:48:08         login      NaN\n",
       "266880  1A30D48A58C39C08  2020-12-10 01:47:00         login      NaN\n",
       "115335  010D64A3EC7AF889  2020-12-24 21:27:53  product_cart      NaN\n",
       "23175   87F7EB2CFEB6D11A  2020-12-16 23:53:31      purchase     4.99\n",
       "276869  DCD99B2C594576A4  2020-12-11 07:36:47         login      NaN"
      ]
     },
     "metadata": {},
     "output_type": "display_data"
    },
    {
     "name": "stdout",
     "output_type": "stream",
     "text": [
      "<class 'pandas.core.frame.DataFrame'>\n",
      "RangeIndex: 440317 entries, 0 to 440316\n",
      "Data columns (total 4 columns):\n",
      " #   Column      Non-Null Count   Dtype  \n",
      "---  ------      --------------   -----  \n",
      " 0   user_id     440317 non-null  object \n",
      " 1   event_dt    440317 non-null  object \n",
      " 2   event_name  440317 non-null  object \n",
      " 3   details     62740 non-null   float64\n",
      "dtypes: float64(1), object(3)\n",
      "memory usage: 13.4+ MB\n"
     ]
    },
    {
     "data": {
      "text/plain": [
       "None"
      ]
     },
     "metadata": {},
     "output_type": "display_data"
    }
   ],
   "source": [
    "try:\n",
    "    final_ab_events = pd.read_csv('https://raw.githubusercontent.com/Rikka-irk/Data-Analysis/main/AB%20tests/final_ab_events.csv')\n",
    "except: \n",
    "    print('File reading error. Check the URL')\n",
    "    \n",
    "display(final_ab_events.sample(10))\n",
    "display(final_ab_events.info())"
   ]
  },
  {
   "cell_type": "markdown",
   "id": "aa3aa6ac",
   "metadata": {},
   "source": [
    "**Marketing campaigns calendar 2020**    \n",
    "    \n",
    "- `name` — name of the campaign;\n",
    "- `regions` — region where this campaign will be held;\n",
    "- `start_dt` — date when campaign starts;\n",
    "- `finish_dt` — date when campaign ends.    "
   ]
  },
  {
   "cell_type": "code",
   "execution_count": 65,
   "id": "dd2e5561",
   "metadata": {},
   "outputs": [
    {
     "data": {
      "text/html": [
       "<div>\n",
       "<style scoped>\n",
       "    .dataframe tbody tr th:only-of-type {\n",
       "        vertical-align: middle;\n",
       "    }\n",
       "\n",
       "    .dataframe tbody tr th {\n",
       "        vertical-align: top;\n",
       "    }\n",
       "\n",
       "    .dataframe thead th {\n",
       "        text-align: right;\n",
       "    }\n",
       "</style>\n",
       "<table border=\"1\" class=\"dataframe\">\n",
       "  <thead>\n",
       "    <tr style=\"text-align: right;\">\n",
       "      <th></th>\n",
       "      <th>name</th>\n",
       "      <th>regions</th>\n",
       "      <th>start_dt</th>\n",
       "      <th>finish_dt</th>\n",
       "    </tr>\n",
       "  </thead>\n",
       "  <tbody>\n",
       "    <tr>\n",
       "      <th>6</th>\n",
       "      <td>Chinese New Year Promo</td>\n",
       "      <td>APAC</td>\n",
       "      <td>2020-01-25</td>\n",
       "      <td>2020-02-07</td>\n",
       "    </tr>\n",
       "    <tr>\n",
       "      <th>1</th>\n",
       "      <td>St. Valentine's Day Giveaway</td>\n",
       "      <td>EU, CIS, APAC, N.America</td>\n",
       "      <td>2020-02-14</td>\n",
       "      <td>2020-02-16</td>\n",
       "    </tr>\n",
       "    <tr>\n",
       "      <th>8</th>\n",
       "      <td>International Women's Day Promo</td>\n",
       "      <td>EU, CIS, APAC</td>\n",
       "      <td>2020-03-08</td>\n",
       "      <td>2020-03-10</td>\n",
       "    </tr>\n",
       "    <tr>\n",
       "      <th>2</th>\n",
       "      <td>St. Patric's Day Promo</td>\n",
       "      <td>EU, N.America</td>\n",
       "      <td>2020-03-17</td>\n",
       "      <td>2020-03-19</td>\n",
       "    </tr>\n",
       "    <tr>\n",
       "      <th>3</th>\n",
       "      <td>Easter Promo</td>\n",
       "      <td>EU, CIS, APAC, N.America</td>\n",
       "      <td>2020-04-12</td>\n",
       "      <td>2020-04-19</td>\n",
       "    </tr>\n",
       "    <tr>\n",
       "      <th>7</th>\n",
       "      <td>Labor day (May 1st) Ads Campaign</td>\n",
       "      <td>EU, CIS, APAC</td>\n",
       "      <td>2020-05-01</td>\n",
       "      <td>2020-05-03</td>\n",
       "    </tr>\n",
       "    <tr>\n",
       "      <th>9</th>\n",
       "      <td>Victory Day CIS (May 9th) Event</td>\n",
       "      <td>CIS</td>\n",
       "      <td>2020-05-09</td>\n",
       "      <td>2020-05-11</td>\n",
       "    </tr>\n",
       "    <tr>\n",
       "      <th>11</th>\n",
       "      <td>Dragon Boat Festival Giveaway</td>\n",
       "      <td>APAC</td>\n",
       "      <td>2020-06-25</td>\n",
       "      <td>2020-07-01</td>\n",
       "    </tr>\n",
       "    <tr>\n",
       "      <th>4</th>\n",
       "      <td>4th of July Promo</td>\n",
       "      <td>N.America</td>\n",
       "      <td>2020-07-04</td>\n",
       "      <td>2020-07-11</td>\n",
       "    </tr>\n",
       "    <tr>\n",
       "      <th>13</th>\n",
       "      <td>Chinese Moon Festival</td>\n",
       "      <td>APAC</td>\n",
       "      <td>2020-10-01</td>\n",
       "      <td>2020-10-07</td>\n",
       "    </tr>\n",
       "    <tr>\n",
       "      <th>12</th>\n",
       "      <td>Single's Day Gift Promo</td>\n",
       "      <td>APAC</td>\n",
       "      <td>2020-11-11</td>\n",
       "      <td>2020-11-12</td>\n",
       "    </tr>\n",
       "    <tr>\n",
       "      <th>5</th>\n",
       "      <td>Black Friday Ads Campaign</td>\n",
       "      <td>EU, CIS, APAC, N.America</td>\n",
       "      <td>2020-11-26</td>\n",
       "      <td>2020-12-01</td>\n",
       "    </tr>\n",
       "    <tr>\n",
       "      <th>0</th>\n",
       "      <td>Christmas&amp;New Year Promo</td>\n",
       "      <td>EU, N.America</td>\n",
       "      <td>2020-12-25</td>\n",
       "      <td>2021-01-03</td>\n",
       "    </tr>\n",
       "    <tr>\n",
       "      <th>10</th>\n",
       "      <td>CIS New Year Gift Lottery</td>\n",
       "      <td>CIS</td>\n",
       "      <td>2020-12-30</td>\n",
       "      <td>2021-01-07</td>\n",
       "    </tr>\n",
       "  </tbody>\n",
       "</table>\n",
       "</div>"
      ],
      "text/plain": [
       "                                name                   regions    start_dt  \\\n",
       "6             Chinese New Year Promo                      APAC  2020-01-25   \n",
       "1       St. Valentine's Day Giveaway  EU, CIS, APAC, N.America  2020-02-14   \n",
       "8    International Women's Day Promo             EU, CIS, APAC  2020-03-08   \n",
       "2             St. Patric's Day Promo             EU, N.America  2020-03-17   \n",
       "3                       Easter Promo  EU, CIS, APAC, N.America  2020-04-12   \n",
       "7   Labor day (May 1st) Ads Campaign             EU, CIS, APAC  2020-05-01   \n",
       "9    Victory Day CIS (May 9th) Event                       CIS  2020-05-09   \n",
       "11     Dragon Boat Festival Giveaway                      APAC  2020-06-25   \n",
       "4                  4th of July Promo                 N.America  2020-07-04   \n",
       "13             Chinese Moon Festival                      APAC  2020-10-01   \n",
       "12           Single's Day Gift Promo                      APAC  2020-11-11   \n",
       "5          Black Friday Ads Campaign  EU, CIS, APAC, N.America  2020-11-26   \n",
       "0           Christmas&New Year Promo             EU, N.America  2020-12-25   \n",
       "10         CIS New Year Gift Lottery                       CIS  2020-12-30   \n",
       "\n",
       "     finish_dt  \n",
       "6   2020-02-07  \n",
       "1   2020-02-16  \n",
       "8   2020-03-10  \n",
       "2   2020-03-19  \n",
       "3   2020-04-19  \n",
       "7   2020-05-03  \n",
       "9   2020-05-11  \n",
       "11  2020-07-01  \n",
       "4   2020-07-11  \n",
       "13  2020-10-07  \n",
       "12  2020-11-12  \n",
       "5   2020-12-01  \n",
       "0   2021-01-03  \n",
       "10  2021-01-07  "
      ]
     },
     "metadata": {},
     "output_type": "display_data"
    },
    {
     "name": "stdout",
     "output_type": "stream",
     "text": [
      "<class 'pandas.core.frame.DataFrame'>\n",
      "RangeIndex: 14 entries, 0 to 13\n",
      "Data columns (total 4 columns):\n",
      " #   Column     Non-Null Count  Dtype \n",
      "---  ------     --------------  ----- \n",
      " 0   name       14 non-null     object\n",
      " 1   regions    14 non-null     object\n",
      " 2   start_dt   14 non-null     object\n",
      " 3   finish_dt  14 non-null     object\n",
      "dtypes: object(4)\n",
      "memory usage: 576.0+ bytes\n"
     ]
    },
    {
     "data": {
      "text/plain": [
       "None"
      ]
     },
     "metadata": {},
     "output_type": "display_data"
    }
   ],
   "source": [
    "try:\n",
    "    ab_project_marketing_events = pd.read_csv('https://raw.githubusercontent.com/Rikka-irk/Data-Analysis/main/AB%20tests/ab_project_marketing_events.csv')\n",
    "except: \n",
    "    print('File reading error. Check the URL')\n",
    "\n",
    "display(ab_project_marketing_events.sort_values(by='start_dt'))\n",
    "display(ab_project_marketing_events.info())"
   ]
  },
  {
   "cell_type": "markdown",
   "id": "4e39a66d",
   "metadata": {},
   "source": [
    "## Data preprocessing"
   ]
  },
  {
   "cell_type": "markdown",
   "id": "c3eb0cfc",
   "metadata": {},
   "source": [
    "### Data extraction"
   ]
  },
  {
   "cell_type": "markdown",
   "id": "3749bbbe",
   "metadata": {},
   "source": [
    "#### Test participants"
   ]
  },
  {
   "cell_type": "markdown",
   "id": "22bea359",
   "metadata": {},
   "source": [
    "Checking missing values"
   ]
  },
  {
   "cell_type": "code",
   "execution_count": 66,
   "id": "2de5f175",
   "metadata": {
    "scrolled": true
   },
   "outputs": [
    {
     "data": {
      "text/plain": [
       "user_id    0\n",
       "group      0\n",
       "ab_test    0\n",
       "dtype: int64"
      ]
     },
     "execution_count": 66,
     "metadata": {},
     "output_type": "execute_result"
    }
   ],
   "source": [
    "final_ab_participants.isna().sum()"
   ]
  },
  {
   "cell_type": "markdown",
   "id": "2840a7e5",
   "metadata": {},
   "source": [
    "From the table `final_ab_participants` electing only users participated in the test of our interest"
   ]
  },
  {
   "cell_type": "code",
   "execution_count": 67,
   "id": "bbdbdfe8",
   "metadata": {
    "scrolled": true
   },
   "outputs": [
    {
     "data": {
      "text/html": [
       "<div>\n",
       "<style scoped>\n",
       "    .dataframe tbody tr th:only-of-type {\n",
       "        vertical-align: middle;\n",
       "    }\n",
       "\n",
       "    .dataframe tbody tr th {\n",
       "        vertical-align: top;\n",
       "    }\n",
       "\n",
       "    .dataframe thead th {\n",
       "        text-align: right;\n",
       "    }\n",
       "</style>\n",
       "<table border=\"1\" class=\"dataframe\">\n",
       "  <thead>\n",
       "    <tr style=\"text-align: right;\">\n",
       "      <th></th>\n",
       "      <th>user_id</th>\n",
       "      <th>group</th>\n",
       "      <th>ab_test</th>\n",
       "    </tr>\n",
       "  </thead>\n",
       "  <tbody>\n",
       "    <tr>\n",
       "      <th>4280</th>\n",
       "      <td>BA9906DF9975512E</td>\n",
       "      <td>B</td>\n",
       "      <td>recommender_system_test</td>\n",
       "    </tr>\n",
       "    <tr>\n",
       "      <th>3688</th>\n",
       "      <td>32BFB39666579FC1</td>\n",
       "      <td>B</td>\n",
       "      <td>recommender_system_test</td>\n",
       "    </tr>\n",
       "    <tr>\n",
       "      <th>336</th>\n",
       "      <td>A944D2BCDFD50619</td>\n",
       "      <td>A</td>\n",
       "      <td>recommender_system_test</td>\n",
       "    </tr>\n",
       "    <tr>\n",
       "      <th>2781</th>\n",
       "      <td>9F7BA4BA8A1C2563</td>\n",
       "      <td>A</td>\n",
       "      <td>recommender_system_test</td>\n",
       "    </tr>\n",
       "    <tr>\n",
       "      <th>1100</th>\n",
       "      <td>2EA84A8B0EE6739C</td>\n",
       "      <td>A</td>\n",
       "      <td>recommender_system_test</td>\n",
       "    </tr>\n",
       "  </tbody>\n",
       "</table>\n",
       "</div>"
      ],
      "text/plain": [
       "               user_id group                  ab_test\n",
       "4280  BA9906DF9975512E     B  recommender_system_test\n",
       "3688  32BFB39666579FC1     B  recommender_system_test\n",
       "336   A944D2BCDFD50619     A  recommender_system_test\n",
       "2781  9F7BA4BA8A1C2563     A  recommender_system_test\n",
       "1100  2EA84A8B0EE6739C     A  recommender_system_test"
      ]
     },
     "metadata": {},
     "output_type": "display_data"
    }
   ],
   "source": [
    "test_participants = final_ab_participants\\\n",
    "      .loc[final_ab_participants\\\n",
    "      .ab_test == 'recommender_system_test']\n",
    "\n",
    "display(test_participants.sample(5))\n",
    "\n",
    "# collect the other test participants into a separate table\n",
    "another_test_users = final_ab_participants.query(\"ab_test == 'interface_eu_test'\")"
   ]
  },
  {
   "cell_type": "code",
   "execution_count": 68,
   "id": "ed3decd0",
   "metadata": {
    "scrolled": false
   },
   "outputs": [
    {
     "data": {
      "text/markdown": [
       "**Number of unique users:**"
      ],
      "text/plain": [
       "<IPython.core.display.Markdown object>"
      ]
     },
     "metadata": {},
     "output_type": "display_data"
    },
    {
     "data": {
      "text/plain": [
       "6701"
      ]
     },
     "metadata": {},
     "output_type": "display_data"
    },
    {
     "data": {
      "text/markdown": [
       "**Number of test groups:**"
      ],
      "text/plain": [
       "<IPython.core.display.Markdown object>"
      ]
     },
     "metadata": {},
     "output_type": "display_data"
    },
    {
     "data": {
      "text/plain": [
       "2"
      ]
     },
     "metadata": {},
     "output_type": "display_data"
    },
    {
     "data": {
      "text/markdown": [
       "**Test groups:**"
      ],
      "text/plain": [
       "<IPython.core.display.Markdown object>"
      ]
     },
     "metadata": {},
     "output_type": "display_data"
    },
    {
     "data": {
      "text/plain": [
       "['A', 'B']"
      ]
     },
     "metadata": {},
     "output_type": "display_data"
    },
    {
     "data": {
      "text/markdown": [
       "**Number of users in test groups:**"
      ],
      "text/plain": [
       "<IPython.core.display.Markdown object>"
      ]
     },
     "metadata": {},
     "output_type": "display_data"
    },
    {
     "data": {
      "text/html": [
       "<div>\n",
       "<style scoped>\n",
       "    .dataframe tbody tr th:only-of-type {\n",
       "        vertical-align: middle;\n",
       "    }\n",
       "\n",
       "    .dataframe tbody tr th {\n",
       "        vertical-align: top;\n",
       "    }\n",
       "\n",
       "    .dataframe thead th {\n",
       "        text-align: right;\n",
       "    }\n",
       "</style>\n",
       "<table border=\"1\" class=\"dataframe\">\n",
       "  <thead>\n",
       "    <tr style=\"text-align: right;\">\n",
       "      <th></th>\n",
       "      <th>user_id</th>\n",
       "    </tr>\n",
       "    <tr>\n",
       "      <th>group</th>\n",
       "      <th></th>\n",
       "    </tr>\n",
       "  </thead>\n",
       "  <tbody>\n",
       "    <tr>\n",
       "      <th>A</th>\n",
       "      <td>3824</td>\n",
       "    </tr>\n",
       "    <tr>\n",
       "      <th>B</th>\n",
       "      <td>2877</td>\n",
       "    </tr>\n",
       "  </tbody>\n",
       "</table>\n",
       "</div>"
      ],
      "text/plain": [
       "       user_id\n",
       "group         \n",
       "A         3824\n",
       "B         2877"
      ]
     },
     "metadata": {},
     "output_type": "display_data"
    }
   ],
   "source": [
    "display(Markdown('**Number of unique users:**'), \n",
    "        test_participants['user_id'].nunique()     \n",
    "       )\n",
    "\n",
    "display(Markdown('**Number of test groups:**'), test_participants['group'].nunique()\n",
    "     )\n",
    "\n",
    "display(Markdown('**Test groups:**') ,\n",
    "      test_participants['group'].unique().tolist()\n",
    "     )\n",
    "display(Markdown('**Number of users in test groups:**'))\n",
    "display( test_participants[['user_id','group']].groupby('group').nunique())\n",
    "\n"
   ]
  },
  {
   "cell_type": "markdown",
   "id": "2181b3ef",
   "metadata": {},
   "source": [
    "#### Registered users"
   ]
  },
  {
   "cell_type": "markdown",
   "id": "e1587e51",
   "metadata": {},
   "source": [
    "Checking the missing values"
   ]
  },
  {
   "cell_type": "code",
   "execution_count": 69,
   "id": "4f7df611",
   "metadata": {
    "scrolled": false
   },
   "outputs": [
    {
     "data": {
      "text/plain": [
       "user_id       0\n",
       "first_date    0\n",
       "region        0\n",
       "device        0\n",
       "dtype: int64"
      ]
     },
     "execution_count": 69,
     "metadata": {},
     "output_type": "execute_result"
    }
   ],
   "source": [
    "final_ab_new_users.isna().sum()"
   ]
  },
  {
   "cell_type": "markdown",
   "id": "754840e4",
   "metadata": {},
   "source": [
    "Selecting from the `final_ab_new_users` only the A/B test participants from EU region"
   ]
  },
  {
   "cell_type": "code",
   "execution_count": 70,
   "id": "dbe6eefc",
   "metadata": {
    "scrolled": false
   },
   "outputs": [
    {
     "data": {
      "text/html": [
       "<div>\n",
       "<style scoped>\n",
       "    .dataframe tbody tr th:only-of-type {\n",
       "        vertical-align: middle;\n",
       "    }\n",
       "\n",
       "    .dataframe tbody tr th {\n",
       "        vertical-align: top;\n",
       "    }\n",
       "\n",
       "    .dataframe thead th {\n",
       "        text-align: right;\n",
       "    }\n",
       "</style>\n",
       "<table border=\"1\" class=\"dataframe\">\n",
       "  <thead>\n",
       "    <tr style=\"text-align: right;\">\n",
       "      <th></th>\n",
       "      <th>user_id</th>\n",
       "      <th>first_date</th>\n",
       "      <th>region</th>\n",
       "      <th>device</th>\n",
       "    </tr>\n",
       "  </thead>\n",
       "  <tbody>\n",
       "    <tr>\n",
       "      <th>13706</th>\n",
       "      <td>4AC7CA13200F4A8C</td>\n",
       "      <td>2020-12-21</td>\n",
       "      <td>EU</td>\n",
       "      <td>iPhone</td>\n",
       "    </tr>\n",
       "    <tr>\n",
       "      <th>3440</th>\n",
       "      <td>88FB1EDF3E249223</td>\n",
       "      <td>2020-12-07</td>\n",
       "      <td>EU</td>\n",
       "      <td>Android</td>\n",
       "    </tr>\n",
       "    <tr>\n",
       "      <th>33514</th>\n",
       "      <td>F5717EDCB0830A05</td>\n",
       "      <td>2020-12-10</td>\n",
       "      <td>EU</td>\n",
       "      <td>PC</td>\n",
       "    </tr>\n",
       "    <tr>\n",
       "      <th>23420</th>\n",
       "      <td>9C8CC142A4B89819</td>\n",
       "      <td>2020-12-15</td>\n",
       "      <td>EU</td>\n",
       "      <td>PC</td>\n",
       "    </tr>\n",
       "    <tr>\n",
       "      <th>4771</th>\n",
       "      <td>87C41A6F03A02CEA</td>\n",
       "      <td>2020-12-07</td>\n",
       "      <td>EU</td>\n",
       "      <td>iPhone</td>\n",
       "    </tr>\n",
       "  </tbody>\n",
       "</table>\n",
       "</div>"
      ],
      "text/plain": [
       "                user_id first_date region   device\n",
       "13706  4AC7CA13200F4A8C 2020-12-21     EU   iPhone\n",
       "3440   88FB1EDF3E249223 2020-12-07     EU  Android\n",
       "33514  F5717EDCB0830A05 2020-12-10     EU       PC\n",
       "23420  9C8CC142A4B89819 2020-12-15     EU       PC\n",
       "4771   87C41A6F03A02CEA 2020-12-07     EU   iPhone"
      ]
     },
     "metadata": {},
     "output_type": "display_data"
    }
   ],
   "source": [
    "new_users = final_ab_new_users.query(\"user_id in @test_participants.user_id and region == 'EU'\").copy()\n",
    "\n",
    "#set the date as type \"date\" for further comparison operations\n",
    "new_users['first_date'] = new_users['first_date'].astype('datetime64[ns]')\n",
    "\n",
    "display(new_users.sample(5))"
   ]
  },
  {
   "cell_type": "markdown",
   "id": "8ec27013",
   "metadata": {},
   "source": [
    "Let's write the time frame of the test in the variables."
   ]
  },
  {
   "cell_type": "code",
   "execution_count": 71,
   "id": "a95ae592",
   "metadata": {},
   "outputs": [
    {
     "data": {
      "text/markdown": [
       "**Start of the test and users registration:**"
      ],
      "text/plain": [
       "<IPython.core.display.Markdown object>"
      ]
     },
     "metadata": {},
     "output_type": "display_data"
    },
    {
     "data": {
      "text/plain": [
       "Timestamp('2020-12-07 00:00:00')"
      ]
     },
     "metadata": {},
     "output_type": "display_data"
    },
    {
     "data": {
      "text/markdown": [
       "**End of the user registrations:**"
      ],
      "text/plain": [
       "<IPython.core.display.Markdown object>"
      ]
     },
     "metadata": {},
     "output_type": "display_data"
    },
    {
     "data": {
      "text/plain": [
       "Timestamp('2020-12-21 00:00:00')"
      ]
     },
     "metadata": {},
     "output_type": "display_data"
    },
    {
     "data": {
      "text/markdown": [
       "**Planned end of the testing**"
      ],
      "text/plain": [
       "<IPython.core.display.Markdown object>"
      ]
     },
     "metadata": {},
     "output_type": "display_data"
    },
    {
     "data": {
      "text/plain": [
       "datetime.date(2021, 1, 4)"
      ]
     },
     "metadata": {},
     "output_type": "display_data"
    },
    {
     "data": {
      "text/markdown": [
       "**Number of unique registered users:**"
      ],
      "text/plain": [
       "<IPython.core.display.Markdown object>"
      ]
     },
     "metadata": {},
     "output_type": "display_data"
    },
    {
     "data": {
      "text/plain": [
       "6351"
      ]
     },
     "metadata": {},
     "output_type": "display_data"
    },
    {
     "data": {
      "text/markdown": [
       "**Types of devices:**"
      ],
      "text/plain": [
       "<IPython.core.display.Markdown object>"
      ]
     },
     "metadata": {},
     "output_type": "display_data"
    },
    {
     "data": {
      "text/plain": [
       "array(['PC', 'Android', 'iPhone', 'Mac'], dtype=object)"
      ]
     },
     "metadata": {},
     "output_type": "display_data"
    }
   ],
   "source": [
    "ab_test_start = new_users['first_date'].min()\n",
    "display(Markdown('**Start of the test and users registration:**'), ab_test_start)\n",
    "\n",
    "\n",
    "new_users_register_fin = new_users['first_date'].max()\n",
    "display(Markdown('**End of the user registrations:**'), new_users_register_fin)\n",
    "        \n",
    "ab_test_fin = pd.to_datetime('2021-01-04').date()\n",
    "display(Markdown('**Planned end of the testing**'),ab_test_fin)\n",
    "\n",
    "display(Markdown('**Number of unique registered users:**'),\n",
    "      new_users['user_id'].nunique()\n",
    "     )\n",
    "\n",
    "display(Markdown('**Types of devices:**'),        \n",
    "      new_users['device'].unique()\n",
    "     )\n"
   ]
  },
  {
   "cell_type": "markdown",
   "id": "c0612dc4",
   "metadata": {},
   "source": [
    "The number of registered users is lower than the number of the test participants.\n",
    "It is possible that `final_ab_participants` table also contains users who registered after the user allocation has been stopped or users from other regions.  \n",
    "\n",
    "Let's check this hypothesis:"
   ]
  },
  {
   "cell_type": "code",
   "execution_count": 72,
   "id": "adf3e19e",
   "metadata": {
    "scrolled": false
   },
   "outputs": [
    {
     "data": {
      "text/html": [
       "<div>\n",
       "<style scoped>\n",
       "    .dataframe tbody tr th:only-of-type {\n",
       "        vertical-align: middle;\n",
       "    }\n",
       "\n",
       "    .dataframe tbody tr th {\n",
       "        vertical-align: top;\n",
       "    }\n",
       "\n",
       "    .dataframe thead th {\n",
       "        text-align: right;\n",
       "    }\n",
       "</style>\n",
       "<table border=\"1\" class=\"dataframe\">\n",
       "  <thead>\n",
       "    <tr style=\"text-align: right;\">\n",
       "      <th></th>\n",
       "      <th>user_id</th>\n",
       "      <th>group</th>\n",
       "      <th>ab_test</th>\n",
       "    </tr>\n",
       "  </thead>\n",
       "  <tbody>\n",
       "    <tr>\n",
       "      <th>6351</th>\n",
       "      <td>800AF45A68291849</td>\n",
       "      <td>A</td>\n",
       "      <td>recommender_system_test</td>\n",
       "    </tr>\n",
       "    <tr>\n",
       "      <th>6352</th>\n",
       "      <td>8CB01194A7A8B2C6</td>\n",
       "      <td>B</td>\n",
       "      <td>recommender_system_test</td>\n",
       "    </tr>\n",
       "    <tr>\n",
       "      <th>6353</th>\n",
       "      <td>E93E75B64A774E02</td>\n",
       "      <td>B</td>\n",
       "      <td>recommender_system_test</td>\n",
       "    </tr>\n",
       "    <tr>\n",
       "      <th>6354</th>\n",
       "      <td>ECE67C0C773DCA8F</td>\n",
       "      <td>B</td>\n",
       "      <td>recommender_system_test</td>\n",
       "    </tr>\n",
       "    <tr>\n",
       "      <th>6355</th>\n",
       "      <td>01E9662F25EE4560</td>\n",
       "      <td>B</td>\n",
       "      <td>recommender_system_test</td>\n",
       "    </tr>\n",
       "    <tr>\n",
       "      <th>...</th>\n",
       "      <td>...</td>\n",
       "      <td>...</td>\n",
       "      <td>...</td>\n",
       "    </tr>\n",
       "    <tr>\n",
       "      <th>6696</th>\n",
       "      <td>053FB26D6D49EDDC</td>\n",
       "      <td>A</td>\n",
       "      <td>recommender_system_test</td>\n",
       "    </tr>\n",
       "    <tr>\n",
       "      <th>6697</th>\n",
       "      <td>9D263B8EF15CF188</td>\n",
       "      <td>B</td>\n",
       "      <td>recommender_system_test</td>\n",
       "    </tr>\n",
       "    <tr>\n",
       "      <th>6698</th>\n",
       "      <td>F2FBBA33F37DEC46</td>\n",
       "      <td>A</td>\n",
       "      <td>recommender_system_test</td>\n",
       "    </tr>\n",
       "    <tr>\n",
       "      <th>6699</th>\n",
       "      <td>29C92313A98B1176</td>\n",
       "      <td>B</td>\n",
       "      <td>recommender_system_test</td>\n",
       "    </tr>\n",
       "    <tr>\n",
       "      <th>6700</th>\n",
       "      <td>6715343AFBA285AE</td>\n",
       "      <td>B</td>\n",
       "      <td>recommender_system_test</td>\n",
       "    </tr>\n",
       "  </tbody>\n",
       "</table>\n",
       "<p>350 rows × 3 columns</p>\n",
       "</div>"
      ],
      "text/plain": [
       "               user_id group                  ab_test\n",
       "6351  800AF45A68291849     A  recommender_system_test\n",
       "6352  8CB01194A7A8B2C6     B  recommender_system_test\n",
       "6353  E93E75B64A774E02     B  recommender_system_test\n",
       "6354  ECE67C0C773DCA8F     B  recommender_system_test\n",
       "6355  01E9662F25EE4560     B  recommender_system_test\n",
       "...                ...   ...                      ...\n",
       "6696  053FB26D6D49EDDC     A  recommender_system_test\n",
       "6697  9D263B8EF15CF188     B  recommender_system_test\n",
       "6698  F2FBBA33F37DEC46     A  recommender_system_test\n",
       "6699  29C92313A98B1176     B  recommender_system_test\n",
       "6700  6715343AFBA285AE     B  recommender_system_test\n",
       "\n",
       "[350 rows x 3 columns]"
      ]
     },
     "metadata": {},
     "output_type": "display_data"
    }
   ],
   "source": [
    "#selecting users not appered in the `new_users` table\n",
    "missed_users = test_participants.query('user_id not in @new_users.user_id')#['user_id']\n",
    "display(missed_users)\n",
    "#display(new_users.query('user_id not in @missed_users'))\n",
    "#display(new_users.query('user_id not in @missed_users')['first_date'].max())"
   ]
  },
  {
   "cell_type": "code",
   "execution_count": 73,
   "id": "4629e436",
   "metadata": {},
   "outputs": [
    {
     "data": {
      "text/html": [
       "<div>\n",
       "<style scoped>\n",
       "    .dataframe tbody tr th:only-of-type {\n",
       "        vertical-align: middle;\n",
       "    }\n",
       "\n",
       "    .dataframe tbody tr th {\n",
       "        vertical-align: top;\n",
       "    }\n",
       "\n",
       "    .dataframe thead th {\n",
       "        text-align: right;\n",
       "    }\n",
       "</style>\n",
       "<table border=\"1\" class=\"dataframe\">\n",
       "  <thead>\n",
       "    <tr style=\"text-align: right;\">\n",
       "      <th></th>\n",
       "      <th>region</th>\n",
       "    </tr>\n",
       "  </thead>\n",
       "  <tbody>\n",
       "    <tr>\n",
       "      <th>N.America</th>\n",
       "      <td>223</td>\n",
       "    </tr>\n",
       "    <tr>\n",
       "      <th>APAC</th>\n",
       "      <td>72</td>\n",
       "    </tr>\n",
       "    <tr>\n",
       "      <th>CIS</th>\n",
       "      <td>55</td>\n",
       "    </tr>\n",
       "  </tbody>\n",
       "</table>\n",
       "</div>"
      ],
      "text/plain": [
       "           region\n",
       "N.America     223\n",
       "APAC           72\n",
       "CIS            55"
      ]
     },
     "execution_count": 73,
     "metadata": {},
     "output_type": "execute_result"
    }
   ],
   "source": [
    "final_ab_new_users.query('user_id in @missed_users.user_id')['region'].value_counts().to_frame()"
   ]
  },
  {
   "cell_type": "markdown",
   "id": "2cd0f355",
   "metadata": {},
   "source": [
    "Indeed, these users are from other regions."
   ]
  },
  {
   "cell_type": "markdown",
   "id": "de04c807",
   "metadata": {},
   "source": [
    "#### Test participants' activity"
   ]
  },
  {
   "cell_type": "markdown",
   "id": "40f37df2",
   "metadata": {},
   "source": [
    "Checking missing values"
   ]
  },
  {
   "cell_type": "code",
   "execution_count": 74,
   "id": "6eea5667",
   "metadata": {
    "scrolled": false
   },
   "outputs": [
    {
     "data": {
      "text/html": [
       "<div>\n",
       "<style scoped>\n",
       "    .dataframe tbody tr th:only-of-type {\n",
       "        vertical-align: middle;\n",
       "    }\n",
       "\n",
       "    .dataframe tbody tr th {\n",
       "        vertical-align: top;\n",
       "    }\n",
       "\n",
       "    .dataframe thead th {\n",
       "        text-align: right;\n",
       "    }\n",
       "</style>\n",
       "<table border=\"1\" class=\"dataframe\">\n",
       "  <thead>\n",
       "    <tr style=\"text-align: right;\">\n",
       "      <th></th>\n",
       "      <th>0</th>\n",
       "    </tr>\n",
       "  </thead>\n",
       "  <tbody>\n",
       "    <tr>\n",
       "      <th>user_id</th>\n",
       "      <td>0</td>\n",
       "    </tr>\n",
       "    <tr>\n",
       "      <th>event_dt</th>\n",
       "      <td>0</td>\n",
       "    </tr>\n",
       "    <tr>\n",
       "      <th>event_name</th>\n",
       "      <td>0</td>\n",
       "    </tr>\n",
       "    <tr>\n",
       "      <th>details</th>\n",
       "      <td>377577</td>\n",
       "    </tr>\n",
       "  </tbody>\n",
       "</table>\n",
       "</div>"
      ],
      "text/plain": [
       "                 0\n",
       "user_id          0\n",
       "event_dt         0\n",
       "event_name       0\n",
       "details     377577"
      ]
     },
     "execution_count": 74,
     "metadata": {},
     "output_type": "execute_result"
    }
   ],
   "source": [
    "final_ab_events.isna().sum().to_frame()"
   ]
  },
  {
   "cell_type": "markdown",
   "id": "9c422e45",
   "metadata": {},
   "source": [
    "According to the requirements not all the records contain `details`"
   ]
  },
  {
   "cell_type": "markdown",
   "id": "6b604c2c",
   "metadata": {},
   "source": [
    "Select all the actions of the A/B test participant during the period of testing from the `final_ab_events` table."
   ]
  },
  {
   "cell_type": "code",
   "execution_count": 75,
   "id": "d87a91de",
   "metadata": {
    "scrolled": false
   },
   "outputs": [],
   "source": [
    "#set the date to the data type \"date\", for further comparison operations\n",
    "final_ab_events['event_dt'] = final_ab_events['event_dt'].astype('datetime64[ns]')\n",
    "\n",
    "events = final_ab_events.query(\"(@ab_test_start <= event_dt <= @ab_test_fin) \\\n",
    "                and user_id in @test_participants.user_id\").copy()\n",
    "\n",
    "#Also collect another test participants' activities into a separate table\n",
    "another_test_events = final_ab_events.query(\"(@ab_test_start <= event_dt <= @ab_test_fin) \\\n",
    "                and user_id in @another_test_users.user_id\").copy()"
   ]
  },
  {
   "cell_type": "code",
   "execution_count": 76,
   "id": "8c03000b",
   "metadata": {
    "scrolled": true
   },
   "outputs": [
    {
     "data": {
      "text/markdown": [
       "**Users:**"
      ],
      "text/plain": [
       "<IPython.core.display.Markdown object>"
      ]
     },
     "metadata": {},
     "output_type": "display_data"
    },
    {
     "data": {
      "text/plain": [
       "3675"
      ]
     },
     "metadata": {},
     "output_type": "display_data"
    },
    {
     "data": {
      "text/markdown": [
       "**Activities during the A?B testing period:**"
      ],
      "text/plain": [
       "<IPython.core.display.Markdown object>"
      ]
     },
     "metadata": {},
     "output_type": "display_data"
    },
    {
     "data": {
      "text/plain": [
       "24698"
      ]
     },
     "metadata": {},
     "output_type": "display_data"
    },
    {
     "data": {
      "text/markdown": [
       "**Activity types:**"
      ],
      "text/plain": [
       "<IPython.core.display.Markdown object>"
      ]
     },
     "metadata": {},
     "output_type": "display_data"
    },
    {
     "data": {
      "text/plain": [
       "array(['purchase', 'product_cart', 'product_page', 'login'], dtype=object)"
      ]
     },
     "metadata": {},
     "output_type": "display_data"
    }
   ],
   "source": [
    "display(Markdown('**Users:**'),\n",
    "   events['user_id'].nunique()\n",
    "      )\n",
    "\n",
    "display(Markdown('**Activities during the A?B testing period:**'),\n",
    "       events.shape[0]\n",
    "      )\n",
    "\n",
    "display(Markdown('**Activity types:**'),\n",
    "   events['event_name'].unique()\n",
    "      )"
   ]
  },
  {
   "cell_type": "markdown",
   "id": "3b08c8e8",
   "metadata": {},
   "source": [
    "There were even fewer users here. Not everyone who registered went to the site and made purchases."
   ]
  },
  {
   "cell_type": "markdown",
   "id": "e0b0246f",
   "metadata": {},
   "source": [
    "Setting `date` at data type "
   ]
  },
  {
   "cell_type": "code",
   "execution_count": 77,
   "id": "2b7115be",
   "metadata": {
    "scrolled": false
   },
   "outputs": [
    {
     "data": {
      "text/html": [
       "<div>\n",
       "<style scoped>\n",
       "    .dataframe tbody tr th:only-of-type {\n",
       "        vertical-align: middle;\n",
       "    }\n",
       "\n",
       "    .dataframe tbody tr th {\n",
       "        vertical-align: top;\n",
       "    }\n",
       "\n",
       "    .dataframe thead th {\n",
       "        text-align: right;\n",
       "    }\n",
       "</style>\n",
       "<table border=\"1\" class=\"dataframe\">\n",
       "  <thead>\n",
       "    <tr style=\"text-align: right;\">\n",
       "      <th></th>\n",
       "      <th>user_id</th>\n",
       "      <th>event_dt</th>\n",
       "      <th>event_name</th>\n",
       "      <th>details</th>\n",
       "      <th>event_date</th>\n",
       "    </tr>\n",
       "  </thead>\n",
       "  <tbody>\n",
       "    <tr>\n",
       "      <th>5</th>\n",
       "      <td>831887FE7F2D6CBA</td>\n",
       "      <td>2020-12-07 06:50:29</td>\n",
       "      <td>purchase</td>\n",
       "      <td>4.99</td>\n",
       "      <td>2020-12-07</td>\n",
       "    </tr>\n",
       "    <tr>\n",
       "      <th>17</th>\n",
       "      <td>3C5DD0288AC4FE23</td>\n",
       "      <td>2020-12-07 19:42:40</td>\n",
       "      <td>purchase</td>\n",
       "      <td>4.99</td>\n",
       "      <td>2020-12-07</td>\n",
       "    </tr>\n",
       "    <tr>\n",
       "      <th>58</th>\n",
       "      <td>49EA242586C87836</td>\n",
       "      <td>2020-12-07 06:31:24</td>\n",
       "      <td>purchase</td>\n",
       "      <td>99.99</td>\n",
       "      <td>2020-12-07</td>\n",
       "    </tr>\n",
       "    <tr>\n",
       "      <th>71</th>\n",
       "      <td>2B06EB547B7AAD08</td>\n",
       "      <td>2020-12-07 21:36:38</td>\n",
       "      <td>purchase</td>\n",
       "      <td>4.99</td>\n",
       "      <td>2020-12-07</td>\n",
       "    </tr>\n",
       "    <tr>\n",
       "      <th>74</th>\n",
       "      <td>A640F31CAC7823A6</td>\n",
       "      <td>2020-12-07 18:48:26</td>\n",
       "      <td>purchase</td>\n",
       "      <td>4.99</td>\n",
       "      <td>2020-12-07</td>\n",
       "    </tr>\n",
       "    <tr>\n",
       "      <th>...</th>\n",
       "      <td>...</td>\n",
       "      <td>...</td>\n",
       "      <td>...</td>\n",
       "      <td>...</td>\n",
       "      <td>...</td>\n",
       "    </tr>\n",
       "    <tr>\n",
       "      <th>440239</th>\n",
       "      <td>D21F0D4FDCD82DB2</td>\n",
       "      <td>2020-12-29 02:17:00</td>\n",
       "      <td>login</td>\n",
       "      <td>NaN</td>\n",
       "      <td>2020-12-29</td>\n",
       "    </tr>\n",
       "    <tr>\n",
       "      <th>440258</th>\n",
       "      <td>96BDD55846D1F7F6</td>\n",
       "      <td>2020-12-29 16:53:42</td>\n",
       "      <td>login</td>\n",
       "      <td>NaN</td>\n",
       "      <td>2020-12-29</td>\n",
       "    </tr>\n",
       "    <tr>\n",
       "      <th>440267</th>\n",
       "      <td>553BAE96C6EB6240</td>\n",
       "      <td>2020-12-29 14:09:14</td>\n",
       "      <td>login</td>\n",
       "      <td>NaN</td>\n",
       "      <td>2020-12-29</td>\n",
       "    </tr>\n",
       "    <tr>\n",
       "      <th>440281</th>\n",
       "      <td>DD4352CDCF8C3D57</td>\n",
       "      <td>2020-12-30 12:42:56</td>\n",
       "      <td>login</td>\n",
       "      <td>NaN</td>\n",
       "      <td>2020-12-30</td>\n",
       "    </tr>\n",
       "    <tr>\n",
       "      <th>440289</th>\n",
       "      <td>75845C83258FBF73</td>\n",
       "      <td>2020-12-30 06:42:52</td>\n",
       "      <td>login</td>\n",
       "      <td>NaN</td>\n",
       "      <td>2020-12-30</td>\n",
       "    </tr>\n",
       "  </tbody>\n",
       "</table>\n",
       "<p>24698 rows × 5 columns</p>\n",
       "</div>"
      ],
      "text/plain": [
       "                 user_id            event_dt event_name  details  event_date\n",
       "5       831887FE7F2D6CBA 2020-12-07 06:50:29   purchase     4.99  2020-12-07\n",
       "17      3C5DD0288AC4FE23 2020-12-07 19:42:40   purchase     4.99  2020-12-07\n",
       "58      49EA242586C87836 2020-12-07 06:31:24   purchase    99.99  2020-12-07\n",
       "71      2B06EB547B7AAD08 2020-12-07 21:36:38   purchase     4.99  2020-12-07\n",
       "74      A640F31CAC7823A6 2020-12-07 18:48:26   purchase     4.99  2020-12-07\n",
       "...                  ...                 ...        ...      ...         ...\n",
       "440239  D21F0D4FDCD82DB2 2020-12-29 02:17:00      login      NaN  2020-12-29\n",
       "440258  96BDD55846D1F7F6 2020-12-29 16:53:42      login      NaN  2020-12-29\n",
       "440267  553BAE96C6EB6240 2020-12-29 14:09:14      login      NaN  2020-12-29\n",
       "440281  DD4352CDCF8C3D57 2020-12-30 12:42:56      login      NaN  2020-12-30\n",
       "440289  75845C83258FBF73 2020-12-30 06:42:52      login      NaN  2020-12-30\n",
       "\n",
       "[24698 rows x 5 columns]"
      ]
     },
     "execution_count": 77,
     "metadata": {},
     "output_type": "execute_result"
    }
   ],
   "source": [
    "events['event_date'] = events['event_dt'].dt.date\n",
    "events"
   ]
  },
  {
   "cell_type": "markdown",
   "id": "786f214b",
   "metadata": {},
   "source": [
    "#### Conclusion"
   ]
  },
  {
   "cell_type": "markdown",
   "id": "49a28dbd",
   "metadata": {},
   "source": [
    "* Number of new users who took part in the test - 6701, of which:\n",
    "    * In the control group - 3824\n",
    "    * In the test group - 2877\n",
    "    * Only 3675 users visited the site and performed any actions after the registration.\n",
    "* The provided files also contain data about other tests performed."
   ]
  },
  {
   "cell_type": "markdown",
   "id": "9bbe670c",
   "metadata": {},
   "source": [
    "### Checking data for anomalies"
   ]
  },
  {
   "cell_type": "markdown",
   "id": "e32a66fb",
   "metadata": {},
   "source": [
    "Distribution of order total price "
   ]
  },
  {
   "cell_type": "code",
   "execution_count": 78,
   "id": "ac9c1645",
   "metadata": {
    "scrolled": true
   },
   "outputs": [
    {
     "data": {
      "text/html": [
       "<div>\n",
       "<style scoped>\n",
       "    .dataframe tbody tr th:only-of-type {\n",
       "        vertical-align: middle;\n",
       "    }\n",
       "\n",
       "    .dataframe tbody tr th {\n",
       "        vertical-align: top;\n",
       "    }\n",
       "\n",
       "    .dataframe thead th {\n",
       "        text-align: right;\n",
       "    }\n",
       "</style>\n",
       "<table border=\"1\" class=\"dataframe\">\n",
       "  <thead>\n",
       "    <tr style=\"text-align: right;\">\n",
       "      <th></th>\n",
       "      <th>details</th>\n",
       "    </tr>\n",
       "  </thead>\n",
       "  <tbody>\n",
       "    <tr>\n",
       "      <th>count</th>\n",
       "      <td>3331.0</td>\n",
       "    </tr>\n",
       "    <tr>\n",
       "      <th>mean</th>\n",
       "      <td>23.0</td>\n",
       "    </tr>\n",
       "    <tr>\n",
       "      <th>std</th>\n",
       "      <td>71.0</td>\n",
       "    </tr>\n",
       "    <tr>\n",
       "      <th>min</th>\n",
       "      <td>5.0</td>\n",
       "    </tr>\n",
       "    <tr>\n",
       "      <th>50%</th>\n",
       "      <td>5.0</td>\n",
       "    </tr>\n",
       "    <tr>\n",
       "      <th>97%</th>\n",
       "      <td>100.0</td>\n",
       "    </tr>\n",
       "    <tr>\n",
       "      <th>98%</th>\n",
       "      <td>100.0</td>\n",
       "    </tr>\n",
       "    <tr>\n",
       "      <th>99%</th>\n",
       "      <td>500.0</td>\n",
       "    </tr>\n",
       "    <tr>\n",
       "      <th>max</th>\n",
       "      <td>500.0</td>\n",
       "    </tr>\n",
       "  </tbody>\n",
       "</table>\n",
       "</div>"
      ],
      "text/plain": [
       "       details\n",
       "count   3331.0\n",
       "mean      23.0\n",
       "std       71.0\n",
       "min        5.0\n",
       "50%        5.0\n",
       "97%      100.0\n",
       "98%      100.0\n",
       "99%      500.0\n",
       "max      500.0"
      ]
     },
     "execution_count": 78,
     "metadata": {},
     "output_type": "execute_result"
    }
   ],
   "source": [
    "np.round(events[['details']].describe(percentiles=[0.97,0.98,0.99]))"
   ]
  },
  {
   "cell_type": "markdown",
   "id": "c3c1723e",
   "metadata": {},
   "source": [
    "There are rare large orders in the data. Since in this study we are interested in conversion, not revenue, there is no need to remove them."
   ]
  },
  {
   "cell_type": "code",
   "execution_count": 79,
   "id": "c979a948",
   "metadata": {},
   "outputs": [
    {
     "data": {
      "text/html": [
       "<div>\n",
       "<style scoped>\n",
       "    .dataframe tbody tr th:only-of-type {\n",
       "        vertical-align: middle;\n",
       "    }\n",
       "\n",
       "    .dataframe tbody tr th {\n",
       "        vertical-align: top;\n",
       "    }\n",
       "\n",
       "    .dataframe thead th {\n",
       "        text-align: right;\n",
       "    }\n",
       "</style>\n",
       "<table border=\"1\" class=\"dataframe\">\n",
       "  <thead>\n",
       "    <tr style=\"text-align: right;\">\n",
       "      <th></th>\n",
       "      <th>user_id</th>\n",
       "      <th>group</th>\n",
       "      <th>ab_test</th>\n",
       "    </tr>\n",
       "  </thead>\n",
       "  <tbody>\n",
       "    <tr>\n",
       "      <th>6286</th>\n",
       "      <td>2E268F6ECDA395D6</td>\n",
       "      <td>A</td>\n",
       "      <td>recommender_system_test</td>\n",
       "    </tr>\n",
       "    <tr>\n",
       "      <th>154</th>\n",
       "      <td>E594B711ADD81DD8</td>\n",
       "      <td>A</td>\n",
       "      <td>recommender_system_test</td>\n",
       "    </tr>\n",
       "    <tr>\n",
       "      <th>4543</th>\n",
       "      <td>6EC64889E1189870</td>\n",
       "      <td>A</td>\n",
       "      <td>recommender_system_test</td>\n",
       "    </tr>\n",
       "    <tr>\n",
       "      <th>1368</th>\n",
       "      <td>5ECF8AD51FC8062E</td>\n",
       "      <td>A</td>\n",
       "      <td>recommender_system_test</td>\n",
       "    </tr>\n",
       "    <tr>\n",
       "      <th>5680</th>\n",
       "      <td>693C9126C80A3279</td>\n",
       "      <td>B</td>\n",
       "      <td>recommender_system_test</td>\n",
       "    </tr>\n",
       "  </tbody>\n",
       "</table>\n",
       "</div>"
      ],
      "text/plain": [
       "               user_id group                  ab_test\n",
       "6286  2E268F6ECDA395D6     A  recommender_system_test\n",
       "154   E594B711ADD81DD8     A  recommender_system_test\n",
       "4543  6EC64889E1189870     A  recommender_system_test\n",
       "1368  5ECF8AD51FC8062E     A  recommender_system_test\n",
       "5680  693C9126C80A3279     B  recommender_system_test"
      ]
     },
     "execution_count": 79,
     "metadata": {},
     "output_type": "execute_result"
    }
   ],
   "source": [
    "test_participants.sample(5)"
   ]
  },
  {
   "cell_type": "code",
   "execution_count": 80,
   "id": "0d1be6f6",
   "metadata": {},
   "outputs": [
    {
     "data": {
      "text/html": [
       "<div>\n",
       "<style scoped>\n",
       "    .dataframe tbody tr th:only-of-type {\n",
       "        vertical-align: middle;\n",
       "    }\n",
       "\n",
       "    .dataframe tbody tr th {\n",
       "        vertical-align: top;\n",
       "    }\n",
       "\n",
       "    .dataframe thead th {\n",
       "        text-align: right;\n",
       "    }\n",
       "</style>\n",
       "<table border=\"1\" class=\"dataframe\">\n",
       "  <thead>\n",
       "    <tr style=\"text-align: right;\">\n",
       "      <th></th>\n",
       "      <th>user_id</th>\n",
       "      <th>first_date</th>\n",
       "      <th>region</th>\n",
       "      <th>device</th>\n",
       "    </tr>\n",
       "  </thead>\n",
       "  <tbody>\n",
       "    <tr>\n",
       "      <th>1937</th>\n",
       "      <td>FA98254969FF4762</td>\n",
       "      <td>2020-12-07</td>\n",
       "      <td>EU</td>\n",
       "      <td>PC</td>\n",
       "    </tr>\n",
       "    <tr>\n",
       "      <th>48565</th>\n",
       "      <td>956779F8DB1A6218</td>\n",
       "      <td>2020-12-12</td>\n",
       "      <td>EU</td>\n",
       "      <td>PC</td>\n",
       "    </tr>\n",
       "    <tr>\n",
       "      <th>43118</th>\n",
       "      <td>AD16069CCDF9927B</td>\n",
       "      <td>2020-12-18</td>\n",
       "      <td>EU</td>\n",
       "      <td>Android</td>\n",
       "    </tr>\n",
       "    <tr>\n",
       "      <th>6809</th>\n",
       "      <td>D7E4F4E7A99546F1</td>\n",
       "      <td>2020-12-14</td>\n",
       "      <td>EU</td>\n",
       "      <td>iPhone</td>\n",
       "    </tr>\n",
       "    <tr>\n",
       "      <th>58137</th>\n",
       "      <td>A7CA7B2555BA40BB</td>\n",
       "      <td>2020-12-20</td>\n",
       "      <td>EU</td>\n",
       "      <td>PC</td>\n",
       "    </tr>\n",
       "  </tbody>\n",
       "</table>\n",
       "</div>"
      ],
      "text/plain": [
       "                user_id first_date region   device\n",
       "1937   FA98254969FF4762 2020-12-07     EU       PC\n",
       "48565  956779F8DB1A6218 2020-12-12     EU       PC\n",
       "43118  AD16069CCDF9927B 2020-12-18     EU  Android\n",
       "6809   D7E4F4E7A99546F1 2020-12-14     EU   iPhone\n",
       "58137  A7CA7B2555BA40BB 2020-12-20     EU       PC"
      ]
     },
     "execution_count": 80,
     "metadata": {},
     "output_type": "execute_result"
    }
   ],
   "source": [
    "new_users.sample(5)"
   ]
  },
  {
   "cell_type": "code",
   "execution_count": 81,
   "id": "92f81769",
   "metadata": {},
   "outputs": [
    {
     "data": {
      "text/html": [
       "<div>\n",
       "<style scoped>\n",
       "    .dataframe tbody tr th:only-of-type {\n",
       "        vertical-align: middle;\n",
       "    }\n",
       "\n",
       "    .dataframe tbody tr th {\n",
       "        vertical-align: top;\n",
       "    }\n",
       "\n",
       "    .dataframe thead th {\n",
       "        text-align: right;\n",
       "    }\n",
       "</style>\n",
       "<table border=\"1\" class=\"dataframe\">\n",
       "  <thead>\n",
       "    <tr style=\"text-align: right;\">\n",
       "      <th></th>\n",
       "      <th>user_id</th>\n",
       "      <th>event_dt</th>\n",
       "      <th>event_name</th>\n",
       "      <th>details</th>\n",
       "      <th>event_date</th>\n",
       "    </tr>\n",
       "  </thead>\n",
       "  <tbody>\n",
       "    <tr>\n",
       "      <th>131296</th>\n",
       "      <td>4F095D257CB159C6</td>\n",
       "      <td>2020-12-08 02:03:37</td>\n",
       "      <td>product_page</td>\n",
       "      <td>NaN</td>\n",
       "      <td>2020-12-08</td>\n",
       "    </tr>\n",
       "    <tr>\n",
       "      <th>41995</th>\n",
       "      <td>055A4CD17A483B8E</td>\n",
       "      <td>2020-12-21 06:07:47</td>\n",
       "      <td>purchase</td>\n",
       "      <td>4.99</td>\n",
       "      <td>2020-12-21</td>\n",
       "    </tr>\n",
       "    <tr>\n",
       "      <th>181948</th>\n",
       "      <td>3AB66F0BF152DBEC</td>\n",
       "      <td>2020-12-18 18:05:16</td>\n",
       "      <td>product_page</td>\n",
       "      <td>NaN</td>\n",
       "      <td>2020-12-18</td>\n",
       "    </tr>\n",
       "    <tr>\n",
       "      <th>63902</th>\n",
       "      <td>EBBE8317E9D7B490</td>\n",
       "      <td>2020-12-07 03:46:01</td>\n",
       "      <td>product_cart</td>\n",
       "      <td>NaN</td>\n",
       "      <td>2020-12-07</td>\n",
       "    </tr>\n",
       "    <tr>\n",
       "      <th>236765</th>\n",
       "      <td>BB3873E1AC6E7BC3</td>\n",
       "      <td>2020-12-25 00:33:46</td>\n",
       "      <td>product_page</td>\n",
       "      <td>NaN</td>\n",
       "      <td>2020-12-25</td>\n",
       "    </tr>\n",
       "  </tbody>\n",
       "</table>\n",
       "</div>"
      ],
      "text/plain": [
       "                 user_id            event_dt    event_name  details  \\\n",
       "131296  4F095D257CB159C6 2020-12-08 02:03:37  product_page      NaN   \n",
       "41995   055A4CD17A483B8E 2020-12-21 06:07:47      purchase     4.99   \n",
       "181948  3AB66F0BF152DBEC 2020-12-18 18:05:16  product_page      NaN   \n",
       "63902   EBBE8317E9D7B490 2020-12-07 03:46:01  product_cart      NaN   \n",
       "236765  BB3873E1AC6E7BC3 2020-12-25 00:33:46  product_page      NaN   \n",
       "\n",
       "        event_date  \n",
       "131296  2020-12-08  \n",
       "41995   2020-12-21  \n",
       "181948  2020-12-18  \n",
       "63902   2020-12-07  \n",
       "236765  2020-12-25  "
      ]
     },
     "execution_count": 81,
     "metadata": {},
     "output_type": "execute_result"
    }
   ],
   "source": [
    "events.sample(5)"
   ]
  },
  {
   "cell_type": "markdown",
   "id": "e10c7f57",
   "metadata": {},
   "source": [
    "The rest of the data does not require checks for anomalies."
   ]
  },
  {
   "cell_type": "markdown",
   "id": "e76272bc",
   "metadata": {},
   "source": [
    "### Duplicates processing"
   ]
  },
  {
   "cell_type": "markdown",
   "id": "6cc7ca4e",
   "metadata": {},
   "source": [
    "Check that each user is a participant of only one test group."
   ]
  },
  {
   "cell_type": "code",
   "execution_count": 82,
   "id": "a24f5096",
   "metadata": {},
   "outputs": [
    {
     "data": {
      "text/plain": [
       "group    0\n",
       "dtype: int64"
      ]
     },
     "execution_count": 82,
     "metadata": {},
     "output_type": "execute_result"
    }
   ],
   "source": [
    "test_participants.groupby('user_id')['group'].nunique().to_frame().query('group > 1 ').count()"
   ]
  },
  {
   "cell_type": "code",
   "execution_count": 83,
   "id": "373148c4",
   "metadata": {},
   "outputs": [
    {
     "data": {
      "text/plain": [
       "0"
      ]
     },
     "execution_count": 83,
     "metadata": {},
     "output_type": "execute_result"
    }
   ],
   "source": [
    "new_users['user_id'].duplicated().sum()"
   ]
  },
  {
   "cell_type": "markdown",
   "id": "883496c9",
   "metadata": {},
   "source": [
    "Check the events' duplicates"
   ]
  },
  {
   "cell_type": "code",
   "execution_count": 84,
   "id": "d9bf6ea7",
   "metadata": {},
   "outputs": [
    {
     "data": {
      "text/plain": [
       "0"
      ]
     },
     "execution_count": 84,
     "metadata": {},
     "output_type": "execute_result"
    }
   ],
   "source": [
    "events.duplicated().sum()"
   ]
  },
  {
   "cell_type": "markdown",
   "id": "3fb185dd",
   "metadata": {},
   "source": [
    "No duplicates found"
   ]
  },
  {
   "cell_type": "markdown",
   "id": "0f7c65ec",
   "metadata": {},
   "source": [
    "### Checking the validity of the test performed"
   ]
  },
  {
   "cell_type": "markdown",
   "id": "c7404761",
   "metadata": {},
   "source": [
    "#### A/B testing period"
   ]
  },
  {
   "cell_type": "markdown",
   "id": "96a2360b",
   "metadata": {},
   "source": [
    "Let's check that the events table contains activities for the correct period."
   ]
  },
  {
   "cell_type": "code",
   "execution_count": 85,
   "id": "aa3d31d9",
   "metadata": {},
   "outputs": [
    {
     "name": "stdout",
     "output_type": "stream",
     "text": [
      "The first event: 2020-12-07 00:05:57\n",
      "The last event: 2020-12-30 12:42:57\n"
     ]
    }
   ],
   "source": [
    "first_event_date = (final_ab_events.query(\"user_id in @test_participants.user_id\")['event_dt'].min())\n",
    "last_event_date = (final_ab_events.query(\"user_id in @test_participants.user_id\")['event_dt'].max())\n",
    "\n",
    "print('The first event:',first_event_date)\n",
    "print('The last event:',last_event_date)"
   ]
  },
  {
   "cell_type": "markdown",
   "id": "34dba80c",
   "metadata": {},
   "source": [
    "Event dates end before the scheduled end of the experiment. It can affect the analysis results. According to the requirements, we analyse user behaviour within 14 days period after the registration. So users registered after 15 December will have shorten event horizon. "
   ]
  },
  {
   "cell_type": "markdown",
   "id": "e9318f38",
   "metadata": {},
   "source": [
    "#### Intersection with the other tests participants"
   ]
  },
  {
   "cell_type": "code",
   "execution_count": 86,
   "id": "a285bac9",
   "metadata": {
    "scrolled": true
   },
   "outputs": [
    {
     "name": "stdout",
     "output_type": "stream",
     "text": [
      "The second A/B test was from 2020-12-07 00:05:57 till 2020-12-30 12:42:57\n"
     ]
    }
   ],
   "source": [
    "another_test_events = events.query(\"user_id in @another_test_users.user_id\")\n",
    "print('The second A/B test was from',\n",
    "      another_test_events.event_dt.min(),\n",
    "      'till',another_test_events.event_dt.max())\n"
   ]
  },
  {
   "cell_type": "markdown",
   "id": "b5ea4838",
   "metadata": {},
   "source": [
    "Let's also check whether the selected users participated in other tests."
   ]
  },
  {
   "cell_type": "code",
   "execution_count": 87,
   "id": "64867573",
   "metadata": {},
   "outputs": [],
   "source": [
    "test_participants.set_index('user_id', drop=True, inplace=True)\n",
    "new_users.set_index('user_id', drop=True, inplace=True)"
   ]
  },
  {
   "cell_type": "code",
   "execution_count": 88,
   "id": "7cc57cf5",
   "metadata": {},
   "outputs": [
    {
     "data": {
      "text/html": [
       "<div>\n",
       "<style scoped>\n",
       "    .dataframe tbody tr th:only-of-type {\n",
       "        vertical-align: middle;\n",
       "    }\n",
       "\n",
       "    .dataframe tbody tr th {\n",
       "        vertical-align: top;\n",
       "    }\n",
       "\n",
       "    .dataframe thead th {\n",
       "        text-align: right;\n",
       "    }\n",
       "</style>\n",
       "<table border=\"1\" class=\"dataframe\">\n",
       "  <thead>\n",
       "    <tr style=\"text-align: right;\">\n",
       "      <th></th>\n",
       "      <th>first_date</th>\n",
       "      <th>region</th>\n",
       "      <th>device</th>\n",
       "      <th>group</th>\n",
       "      <th>ab_test</th>\n",
       "    </tr>\n",
       "    <tr>\n",
       "      <th>user_id</th>\n",
       "      <th></th>\n",
       "      <th></th>\n",
       "      <th></th>\n",
       "      <th></th>\n",
       "      <th></th>\n",
       "    </tr>\n",
       "  </thead>\n",
       "  <tbody>\n",
       "    <tr>\n",
       "      <th>D72A72121175D8BE</th>\n",
       "      <td>2020-12-07</td>\n",
       "      <td>EU</td>\n",
       "      <td>PC</td>\n",
       "      <td>A</td>\n",
       "      <td>recommender_system_test</td>\n",
       "    </tr>\n",
       "    <tr>\n",
       "      <th>E6DE857AFBDC6102</th>\n",
       "      <td>2020-12-07</td>\n",
       "      <td>EU</td>\n",
       "      <td>PC</td>\n",
       "      <td>B</td>\n",
       "      <td>recommender_system_test</td>\n",
       "    </tr>\n",
       "    <tr>\n",
       "      <th>DD4352CDCF8C3D57</th>\n",
       "      <td>2020-12-07</td>\n",
       "      <td>EU</td>\n",
       "      <td>Android</td>\n",
       "      <td>B</td>\n",
       "      <td>recommender_system_test</td>\n",
       "    </tr>\n",
       "    <tr>\n",
       "      <th>831887FE7F2D6CBA</th>\n",
       "      <td>2020-12-07</td>\n",
       "      <td>EU</td>\n",
       "      <td>Android</td>\n",
       "      <td>A</td>\n",
       "      <td>recommender_system_test</td>\n",
       "    </tr>\n",
       "    <tr>\n",
       "      <th>4CB179C7F847320B</th>\n",
       "      <td>2020-12-07</td>\n",
       "      <td>EU</td>\n",
       "      <td>iPhone</td>\n",
       "      <td>B</td>\n",
       "      <td>recommender_system_test</td>\n",
       "    </tr>\n",
       "    <tr>\n",
       "      <th>...</th>\n",
       "      <td>...</td>\n",
       "      <td>...</td>\n",
       "      <td>...</td>\n",
       "      <td>...</td>\n",
       "      <td>...</td>\n",
       "    </tr>\n",
       "    <tr>\n",
       "      <th>A09DFE27D4CFF8E8</th>\n",
       "      <td>2020-12-20</td>\n",
       "      <td>EU</td>\n",
       "      <td>Android</td>\n",
       "      <td>B</td>\n",
       "      <td>recommender_system_test</td>\n",
       "    </tr>\n",
       "    <tr>\n",
       "      <th>0F7D49FC184EDCDE</th>\n",
       "      <td>2020-12-20</td>\n",
       "      <td>EU</td>\n",
       "      <td>PC</td>\n",
       "      <td>A</td>\n",
       "      <td>recommender_system_test</td>\n",
       "    </tr>\n",
       "    <tr>\n",
       "      <th>574ACBC674BC385D</th>\n",
       "      <td>2020-12-20</td>\n",
       "      <td>EU</td>\n",
       "      <td>Mac</td>\n",
       "      <td>A</td>\n",
       "      <td>recommender_system_test</td>\n",
       "    </tr>\n",
       "    <tr>\n",
       "      <th>0416B34D35C8C8B8</th>\n",
       "      <td>2020-12-20</td>\n",
       "      <td>EU</td>\n",
       "      <td>Android</td>\n",
       "      <td>A</td>\n",
       "      <td>recommender_system_test</td>\n",
       "    </tr>\n",
       "    <tr>\n",
       "      <th>89CB0BFBC3F35126</th>\n",
       "      <td>2020-12-20</td>\n",
       "      <td>EU</td>\n",
       "      <td>PC</td>\n",
       "      <td>B</td>\n",
       "      <td>recommender_system_test</td>\n",
       "    </tr>\n",
       "  </tbody>\n",
       "</table>\n",
       "<p>6351 rows × 5 columns</p>\n",
       "</div>"
      ],
      "text/plain": [
       "                 first_date region   device group                  ab_test\n",
       "user_id                                                                   \n",
       "D72A72121175D8BE 2020-12-07     EU       PC     A  recommender_system_test\n",
       "E6DE857AFBDC6102 2020-12-07     EU       PC     B  recommender_system_test\n",
       "DD4352CDCF8C3D57 2020-12-07     EU  Android     B  recommender_system_test\n",
       "831887FE7F2D6CBA 2020-12-07     EU  Android     A  recommender_system_test\n",
       "4CB179C7F847320B 2020-12-07     EU   iPhone     B  recommender_system_test\n",
       "...                     ...    ...      ...   ...                      ...\n",
       "A09DFE27D4CFF8E8 2020-12-20     EU  Android     B  recommender_system_test\n",
       "0F7D49FC184EDCDE 2020-12-20     EU       PC     A  recommender_system_test\n",
       "574ACBC674BC385D 2020-12-20     EU      Mac     A  recommender_system_test\n",
       "0416B34D35C8C8B8 2020-12-20     EU  Android     A  recommender_system_test\n",
       "89CB0BFBC3F35126 2020-12-20     EU       PC     B  recommender_system_test\n",
       "\n",
       "[6351 rows x 5 columns]"
      ]
     },
     "metadata": {},
     "output_type": "display_data"
    }
   ],
   "source": [
    "user_data = new_users.join(test_participants,  how='inner')\n",
    "display(user_data )"
   ]
  },
  {
   "cell_type": "code",
   "execution_count": 89,
   "id": "82c41d87",
   "metadata": {},
   "outputs": [
    {
     "data": {
      "text/markdown": [
       "**Users participated in other tests:**"
      ],
      "text/plain": [
       "<IPython.core.display.Markdown object>"
      ]
     },
     "metadata": {},
     "output_type": "display_data"
    },
    {
     "data": {
      "text/plain": [
       "1602"
      ]
     },
     "metadata": {},
     "output_type": "display_data"
    }
   ],
   "source": [
    "display(Markdown('**Users participated in other tests:**'), \n",
    "      final_ab_participants.query(\"user_id in @user_data.index \")\n",
    "      .groupby('user_id')['ab_test'].nunique().to_frame()\n",
    "      .query('ab_test > 1 ').count()[0]\n",
    "     )"
   ]
  },
  {
   "cell_type": "markdown",
   "id": "ef8b5d07",
   "metadata": {},
   "source": [
    "Let's place the id of users participating in several tests at the same time in a separate table."
   ]
  },
  {
   "cell_type": "code",
   "execution_count": 90,
   "id": "b19c3ab1",
   "metadata": {},
   "outputs": [],
   "source": [
    "users_in_two_tests = (final_ab_participants.query(\"user_id in @user_data.index \")\n",
    "      .groupby('user_id')['ab_test'].nunique().to_frame()\n",
    "      .query('ab_test > 1 ').sort_values('ab_test').index)"
   ]
  },
  {
   "cell_type": "markdown",
   "id": "849ddbfe",
   "metadata": {},
   "source": [
    "The number of users in both tests by groups."
   ]
  },
  {
   "cell_type": "code",
   "execution_count": 91,
   "id": "8da0b8af",
   "metadata": {},
   "outputs": [
    {
     "data": {
      "text/html": [
       "<div>\n",
       "<style scoped>\n",
       "    .dataframe tbody tr th:only-of-type {\n",
       "        vertical-align: middle;\n",
       "    }\n",
       "\n",
       "    .dataframe tbody tr th {\n",
       "        vertical-align: top;\n",
       "    }\n",
       "\n",
       "    .dataframe thead th {\n",
       "        text-align: right;\n",
       "    }\n",
       "</style>\n",
       "<table border=\"1\" class=\"dataframe\">\n",
       "  <thead>\n",
       "    <tr style=\"text-align: right;\">\n",
       "      <th></th>\n",
       "      <th></th>\n",
       "      <th>user_id</th>\n",
       "    </tr>\n",
       "    <tr>\n",
       "      <th>ab_test</th>\n",
       "      <th>group</th>\n",
       "      <th></th>\n",
       "    </tr>\n",
       "  </thead>\n",
       "  <tbody>\n",
       "    <tr>\n",
       "      <th rowspan=\"2\" valign=\"top\">interface_eu_test</th>\n",
       "      <th>A</th>\n",
       "      <td>5831</td>\n",
       "    </tr>\n",
       "    <tr>\n",
       "      <th>B</th>\n",
       "      <td>5736</td>\n",
       "    </tr>\n",
       "    <tr>\n",
       "      <th rowspan=\"2\" valign=\"top\">recommender_system_test</th>\n",
       "      <th>A</th>\n",
       "      <td>3824</td>\n",
       "    </tr>\n",
       "    <tr>\n",
       "      <th>B</th>\n",
       "      <td>2877</td>\n",
       "    </tr>\n",
       "  </tbody>\n",
       "</table>\n",
       "</div>"
      ],
      "text/plain": [
       "                               user_id\n",
       "ab_test                 group         \n",
       "interface_eu_test       A         5831\n",
       "                        B         5736\n",
       "recommender_system_test A         3824\n",
       "                        B         2877"
      ]
     },
     "execution_count": 91,
     "metadata": {},
     "output_type": "execute_result"
    }
   ],
   "source": [
    "final_ab_participants.groupby(['ab_test','group']).count()"
   ]
  },
  {
   "cell_type": "code",
   "execution_count": 92,
   "id": "c872dd3f",
   "metadata": {},
   "outputs": [
    {
     "data": {
      "text/html": [
       "<div>\n",
       "<style scoped>\n",
       "    .dataframe tbody tr th:only-of-type {\n",
       "        vertical-align: middle;\n",
       "    }\n",
       "\n",
       "    .dataframe tbody tr th {\n",
       "        vertical-align: top;\n",
       "    }\n",
       "\n",
       "    .dataframe thead th {\n",
       "        text-align: right;\n",
       "    }\n",
       "</style>\n",
       "<table border=\"1\" class=\"dataframe\">\n",
       "  <thead>\n",
       "    <tr style=\"text-align: right;\">\n",
       "      <th></th>\n",
       "      <th>first_date</th>\n",
       "    </tr>\n",
       "    <tr>\n",
       "      <th>group</th>\n",
       "      <th></th>\n",
       "    </tr>\n",
       "  </thead>\n",
       "  <tbody>\n",
       "    <tr>\n",
       "      <th>A</th>\n",
       "      <td>3634</td>\n",
       "    </tr>\n",
       "    <tr>\n",
       "      <th>B</th>\n",
       "      <td>2717</td>\n",
       "    </tr>\n",
       "  </tbody>\n",
       "</table>\n",
       "</div>"
      ],
      "text/plain": [
       "       first_date\n",
       "group            \n",
       "A            3634\n",
       "B            2717"
      ]
     },
     "metadata": {},
     "output_type": "display_data"
    }
   ],
   "source": [
    "display(user_data.groupby('group')['first_date'].count().to_frame())"
   ]
  },
  {
   "cell_type": "markdown",
   "id": "cc2d983f",
   "metadata": {},
   "source": [
    "Select the participants of the second A/B test."
   ]
  },
  {
   "cell_type": "code",
   "execution_count": 93,
   "id": "aa5bd5b4",
   "metadata": {
    "scrolled": false
   },
   "outputs": [
    {
     "data": {
      "text/html": [
       "<div>\n",
       "<style scoped>\n",
       "    .dataframe tbody tr th:only-of-type {\n",
       "        vertical-align: middle;\n",
       "    }\n",
       "\n",
       "    .dataframe tbody tr th {\n",
       "        vertical-align: top;\n",
       "    }\n",
       "\n",
       "    .dataframe thead th {\n",
       "        text-align: right;\n",
       "    }\n",
       "</style>\n",
       "<table border=\"1\" class=\"dataframe\">\n",
       "  <thead>\n",
       "    <tr style=\"text-align: right;\">\n",
       "      <th></th>\n",
       "      <th>group2</th>\n",
       "      <th>test2</th>\n",
       "    </tr>\n",
       "    <tr>\n",
       "      <th>user_id</th>\n",
       "      <th></th>\n",
       "      <th></th>\n",
       "    </tr>\n",
       "  </thead>\n",
       "  <tbody>\n",
       "    <tr>\n",
       "      <th>D4E530F6595A05A3</th>\n",
       "      <td>A</td>\n",
       "      <td>interface_eu_test</td>\n",
       "    </tr>\n",
       "    <tr>\n",
       "      <th>773ECB64E45DEBAB</th>\n",
       "      <td>A</td>\n",
       "      <td>interface_eu_test</td>\n",
       "    </tr>\n",
       "    <tr>\n",
       "      <th>6BCB0F33D3BAB8C2</th>\n",
       "      <td>A</td>\n",
       "      <td>interface_eu_test</td>\n",
       "    </tr>\n",
       "    <tr>\n",
       "      <th>AABA4219186465C9</th>\n",
       "      <td>A</td>\n",
       "      <td>interface_eu_test</td>\n",
       "    </tr>\n",
       "    <tr>\n",
       "      <th>2BA8FA8754D1FE50</th>\n",
       "      <td>B</td>\n",
       "      <td>interface_eu_test</td>\n",
       "    </tr>\n",
       "    <tr>\n",
       "      <th>...</th>\n",
       "      <td>...</td>\n",
       "      <td>...</td>\n",
       "    </tr>\n",
       "    <tr>\n",
       "      <th>1D302F8688B91781</th>\n",
       "      <td>B</td>\n",
       "      <td>interface_eu_test</td>\n",
       "    </tr>\n",
       "    <tr>\n",
       "      <th>3DE51B726983B657</th>\n",
       "      <td>A</td>\n",
       "      <td>interface_eu_test</td>\n",
       "    </tr>\n",
       "    <tr>\n",
       "      <th>F501F79D332BE86C</th>\n",
       "      <td>A</td>\n",
       "      <td>interface_eu_test</td>\n",
       "    </tr>\n",
       "    <tr>\n",
       "      <th>63FBE257B05F2245</th>\n",
       "      <td>A</td>\n",
       "      <td>interface_eu_test</td>\n",
       "    </tr>\n",
       "    <tr>\n",
       "      <th>79F9ABFB029CF724</th>\n",
       "      <td>B</td>\n",
       "      <td>interface_eu_test</td>\n",
       "    </tr>\n",
       "  </tbody>\n",
       "</table>\n",
       "<p>11567 rows × 2 columns</p>\n",
       "</div>"
      ],
      "text/plain": [
       "                 group2              test2\n",
       "user_id                                   \n",
       "D4E530F6595A05A3      A  interface_eu_test\n",
       "773ECB64E45DEBAB      A  interface_eu_test\n",
       "6BCB0F33D3BAB8C2      A  interface_eu_test\n",
       "AABA4219186465C9      A  interface_eu_test\n",
       "2BA8FA8754D1FE50      B  interface_eu_test\n",
       "...                 ...                ...\n",
       "1D302F8688B91781      B  interface_eu_test\n",
       "3DE51B726983B657      A  interface_eu_test\n",
       "F501F79D332BE86C      A  interface_eu_test\n",
       "63FBE257B05F2245      A  interface_eu_test\n",
       "79F9ABFB029CF724      B  interface_eu_test\n",
       "\n",
       "[11567 rows x 2 columns]"
      ]
     },
     "metadata": {},
     "output_type": "display_data"
    }
   ],
   "source": [
    "other_test_users = final_ab_participants.query(\"ab_test == 'interface_eu_test'\").set_index('user_id')\n",
    "other_test_users.columns = ['group2','test2']\n",
    "\n",
    "display(other_test_users)"
   ]
  },
  {
   "cell_type": "markdown",
   "id": "fe0f900e",
   "metadata": {},
   "source": [
    "Join this data to the users we are interested in."
   ]
  },
  {
   "cell_type": "code",
   "execution_count": 94,
   "id": "37d0e6ff",
   "metadata": {},
   "outputs": [
    {
     "data": {
      "text/html": [
       "<div>\n",
       "<style scoped>\n",
       "    .dataframe tbody tr th:only-of-type {\n",
       "        vertical-align: middle;\n",
       "    }\n",
       "\n",
       "    .dataframe tbody tr th {\n",
       "        vertical-align: top;\n",
       "    }\n",
       "\n",
       "    .dataframe thead th {\n",
       "        text-align: right;\n",
       "    }\n",
       "</style>\n",
       "<table border=\"1\" class=\"dataframe\">\n",
       "  <thead>\n",
       "    <tr style=\"text-align: right;\">\n",
       "      <th></th>\n",
       "      <th>first_date</th>\n",
       "      <th>region</th>\n",
       "      <th>device</th>\n",
       "      <th>group</th>\n",
       "      <th>ab_test</th>\n",
       "      <th>group2</th>\n",
       "      <th>test2</th>\n",
       "    </tr>\n",
       "    <tr>\n",
       "      <th>user_id</th>\n",
       "      <th></th>\n",
       "      <th></th>\n",
       "      <th></th>\n",
       "      <th></th>\n",
       "      <th></th>\n",
       "      <th></th>\n",
       "      <th></th>\n",
       "    </tr>\n",
       "  </thead>\n",
       "  <tbody>\n",
       "    <tr>\n",
       "      <th>D72A72121175D8BE</th>\n",
       "      <td>2020-12-07</td>\n",
       "      <td>EU</td>\n",
       "      <td>PC</td>\n",
       "      <td>A</td>\n",
       "      <td>recommender_system_test</td>\n",
       "      <td>no_data</td>\n",
       "      <td>no_data</td>\n",
       "    </tr>\n",
       "    <tr>\n",
       "      <th>E6DE857AFBDC6102</th>\n",
       "      <td>2020-12-07</td>\n",
       "      <td>EU</td>\n",
       "      <td>PC</td>\n",
       "      <td>B</td>\n",
       "      <td>recommender_system_test</td>\n",
       "      <td>B</td>\n",
       "      <td>interface_eu_test</td>\n",
       "    </tr>\n",
       "    <tr>\n",
       "      <th>DD4352CDCF8C3D57</th>\n",
       "      <td>2020-12-07</td>\n",
       "      <td>EU</td>\n",
       "      <td>Android</td>\n",
       "      <td>B</td>\n",
       "      <td>recommender_system_test</td>\n",
       "      <td>A</td>\n",
       "      <td>interface_eu_test</td>\n",
       "    </tr>\n",
       "    <tr>\n",
       "      <th>831887FE7F2D6CBA</th>\n",
       "      <td>2020-12-07</td>\n",
       "      <td>EU</td>\n",
       "      <td>Android</td>\n",
       "      <td>A</td>\n",
       "      <td>recommender_system_test</td>\n",
       "      <td>no_data</td>\n",
       "      <td>no_data</td>\n",
       "    </tr>\n",
       "    <tr>\n",
       "      <th>4CB179C7F847320B</th>\n",
       "      <td>2020-12-07</td>\n",
       "      <td>EU</td>\n",
       "      <td>iPhone</td>\n",
       "      <td>B</td>\n",
       "      <td>recommender_system_test</td>\n",
       "      <td>no_data</td>\n",
       "      <td>no_data</td>\n",
       "    </tr>\n",
       "    <tr>\n",
       "      <th>...</th>\n",
       "      <td>...</td>\n",
       "      <td>...</td>\n",
       "      <td>...</td>\n",
       "      <td>...</td>\n",
       "      <td>...</td>\n",
       "      <td>...</td>\n",
       "      <td>...</td>\n",
       "    </tr>\n",
       "    <tr>\n",
       "      <th>A09DFE27D4CFF8E8</th>\n",
       "      <td>2020-12-20</td>\n",
       "      <td>EU</td>\n",
       "      <td>Android</td>\n",
       "      <td>B</td>\n",
       "      <td>recommender_system_test</td>\n",
       "      <td>B</td>\n",
       "      <td>interface_eu_test</td>\n",
       "    </tr>\n",
       "    <tr>\n",
       "      <th>0F7D49FC184EDCDE</th>\n",
       "      <td>2020-12-20</td>\n",
       "      <td>EU</td>\n",
       "      <td>PC</td>\n",
       "      <td>A</td>\n",
       "      <td>recommender_system_test</td>\n",
       "      <td>no_data</td>\n",
       "      <td>no_data</td>\n",
       "    </tr>\n",
       "    <tr>\n",
       "      <th>574ACBC674BC385D</th>\n",
       "      <td>2020-12-20</td>\n",
       "      <td>EU</td>\n",
       "      <td>Mac</td>\n",
       "      <td>A</td>\n",
       "      <td>recommender_system_test</td>\n",
       "      <td>no_data</td>\n",
       "      <td>no_data</td>\n",
       "    </tr>\n",
       "    <tr>\n",
       "      <th>0416B34D35C8C8B8</th>\n",
       "      <td>2020-12-20</td>\n",
       "      <td>EU</td>\n",
       "      <td>Android</td>\n",
       "      <td>A</td>\n",
       "      <td>recommender_system_test</td>\n",
       "      <td>no_data</td>\n",
       "      <td>no_data</td>\n",
       "    </tr>\n",
       "    <tr>\n",
       "      <th>89CB0BFBC3F35126</th>\n",
       "      <td>2020-12-20</td>\n",
       "      <td>EU</td>\n",
       "      <td>PC</td>\n",
       "      <td>B</td>\n",
       "      <td>recommender_system_test</td>\n",
       "      <td>no_data</td>\n",
       "      <td>no_data</td>\n",
       "    </tr>\n",
       "  </tbody>\n",
       "</table>\n",
       "<p>6351 rows × 7 columns</p>\n",
       "</div>"
      ],
      "text/plain": [
       "                 first_date region   device group                  ab_test  \\\n",
       "user_id                                                                      \n",
       "D72A72121175D8BE 2020-12-07     EU       PC     A  recommender_system_test   \n",
       "E6DE857AFBDC6102 2020-12-07     EU       PC     B  recommender_system_test   \n",
       "DD4352CDCF8C3D57 2020-12-07     EU  Android     B  recommender_system_test   \n",
       "831887FE7F2D6CBA 2020-12-07     EU  Android     A  recommender_system_test   \n",
       "4CB179C7F847320B 2020-12-07     EU   iPhone     B  recommender_system_test   \n",
       "...                     ...    ...      ...   ...                      ...   \n",
       "A09DFE27D4CFF8E8 2020-12-20     EU  Android     B  recommender_system_test   \n",
       "0F7D49FC184EDCDE 2020-12-20     EU       PC     A  recommender_system_test   \n",
       "574ACBC674BC385D 2020-12-20     EU      Mac     A  recommender_system_test   \n",
       "0416B34D35C8C8B8 2020-12-20     EU  Android     A  recommender_system_test   \n",
       "89CB0BFBC3F35126 2020-12-20     EU       PC     B  recommender_system_test   \n",
       "\n",
       "                   group2              test2  \n",
       "user_id                                       \n",
       "D72A72121175D8BE  no_data            no_data  \n",
       "E6DE857AFBDC6102        B  interface_eu_test  \n",
       "DD4352CDCF8C3D57        A  interface_eu_test  \n",
       "831887FE7F2D6CBA  no_data            no_data  \n",
       "4CB179C7F847320B  no_data            no_data  \n",
       "...                   ...                ...  \n",
       "A09DFE27D4CFF8E8        B  interface_eu_test  \n",
       "0F7D49FC184EDCDE  no_data            no_data  \n",
       "574ACBC674BC385D  no_data            no_data  \n",
       "0416B34D35C8C8B8  no_data            no_data  \n",
       "89CB0BFBC3F35126  no_data            no_data  \n",
       "\n",
       "[6351 rows x 7 columns]"
      ]
     },
     "metadata": {},
     "output_type": "display_data"
    }
   ],
   "source": [
    "user_data = user_data.join(other_test_users, how = 'left')\n",
    "user_data = user_data.fillna('no_data')\n",
    "\n",
    "display(user_data)"
   ]
  },
  {
   "cell_type": "markdown",
   "id": "207622c8",
   "metadata": {},
   "source": [
    "Let's make a pivot table showing the number of users who participated in the two tests."
   ]
  },
  {
   "cell_type": "code",
   "execution_count": 95,
   "id": "4da90b2a",
   "metadata": {},
   "outputs": [
    {
     "data": {
      "text/html": [
       "<div>\n",
       "<style scoped>\n",
       "    .dataframe tbody tr th:only-of-type {\n",
       "        vertical-align: middle;\n",
       "    }\n",
       "\n",
       "    .dataframe tbody tr th {\n",
       "        vertical-align: top;\n",
       "    }\n",
       "\n",
       "    .dataframe thead th {\n",
       "        text-align: right;\n",
       "    }\n",
       "</style>\n",
       "<table border=\"1\" class=\"dataframe\">\n",
       "  <thead>\n",
       "    <tr style=\"text-align: right;\">\n",
       "      <th>group2</th>\n",
       "      <th>A</th>\n",
       "      <th>B</th>\n",
       "      <th>no_data</th>\n",
       "    </tr>\n",
       "    <tr>\n",
       "      <th>group</th>\n",
       "      <th></th>\n",
       "      <th></th>\n",
       "      <th></th>\n",
       "    </tr>\n",
       "  </thead>\n",
       "  <tbody>\n",
       "    <tr>\n",
       "      <th>A</th>\n",
       "      <td>482</td>\n",
       "      <td>439</td>\n",
       "      <td>2713</td>\n",
       "    </tr>\n",
       "    <tr>\n",
       "      <th>B</th>\n",
       "      <td>337</td>\n",
       "      <td>344</td>\n",
       "      <td>2036</td>\n",
       "    </tr>\n",
       "  </tbody>\n",
       "</table>\n",
       "</div>"
      ],
      "text/plain": [
       "group2    A    B  no_data\n",
       "group                    \n",
       "A       482  439     2713\n",
       "B       337  344     2036"
      ]
     },
     "execution_count": 95,
     "metadata": {},
     "output_type": "execute_result"
    }
   ],
   "source": [
    "tests_dist_pivot =  user_data.reset_index().pivot_table(columns='group2', values='user_id', index='group', aggfunc='nunique')\n",
    "tests_dist_pivot"
   ]
  },
  {
   "cell_type": "markdown",
   "id": "4dd8e754",
   "metadata": {},
   "source": [
    "Turn it into ratios"
   ]
  },
  {
   "cell_type": "code",
   "execution_count": 96,
   "id": "27730cfe",
   "metadata": {},
   "outputs": [
    {
     "data": {
      "text/html": [
       "<div>\n",
       "<style scoped>\n",
       "    .dataframe tbody tr th:only-of-type {\n",
       "        vertical-align: middle;\n",
       "    }\n",
       "\n",
       "    .dataframe tbody tr th {\n",
       "        vertical-align: top;\n",
       "    }\n",
       "\n",
       "    .dataframe thead th {\n",
       "        text-align: right;\n",
       "    }\n",
       "</style>\n",
       "<table border=\"1\" class=\"dataframe\">\n",
       "  <thead>\n",
       "    <tr style=\"text-align: right;\">\n",
       "      <th>group2</th>\n",
       "      <th>A</th>\n",
       "      <th>B</th>\n",
       "      <th>no_data</th>\n",
       "    </tr>\n",
       "    <tr>\n",
       "      <th>group</th>\n",
       "      <th></th>\n",
       "      <th></th>\n",
       "      <th></th>\n",
       "    </tr>\n",
       "  </thead>\n",
       "  <tbody>\n",
       "    <tr>\n",
       "      <th>A</th>\n",
       "      <td>0.132636</td>\n",
       "      <td>0.120804</td>\n",
       "      <td>0.746560</td>\n",
       "    </tr>\n",
       "    <tr>\n",
       "      <th>B</th>\n",
       "      <td>0.124034</td>\n",
       "      <td>0.126610</td>\n",
       "      <td>0.749356</td>\n",
       "    </tr>\n",
       "  </tbody>\n",
       "</table>\n",
       "</div>"
      ],
      "text/plain": [
       "group2         A         B   no_data\n",
       "group                               \n",
       "A       0.132636  0.120804  0.746560\n",
       "B       0.124034  0.126610  0.749356"
      ]
     },
     "execution_count": 96,
     "metadata": {},
     "output_type": "execute_result"
    }
   ],
   "source": [
    "tests_dist_pivot.div(tests_dist_pivot.sum(axis=1), axis=0)"
   ]
  },
  {
   "cell_type": "markdown",
   "id": "1ee8b21e",
   "metadata": {},
   "source": [
    "74% of users from the test and control groups of the Recommendations test did not participate in other tests.       \n",
    "    \n",
    "26% of users also participated in another test. But the distribution of participants in the control and test groups of both tests is uniform, so the impact of the second test on both groups is equal and should not create a problem."
   ]
  },
  {
   "cell_type": "markdown",
   "id": "445b6180",
   "metadata": {},
   "source": [
    "#### Marketing campaigns"
   ]
  },
  {
   "cell_type": "code",
   "execution_count": 97,
   "id": "5247fce7",
   "metadata": {},
   "outputs": [
    {
     "name": "stdout",
     "output_type": "stream",
     "text": [
      "\n",
      "Marketing campaigns during the new users allocation period: 0\n",
      "\n",
      "Marketing campaigns during the A/B testing period: 1\n"
     ]
    },
    {
     "data": {
      "text/html": [
       "<div>\n",
       "<style scoped>\n",
       "    .dataframe tbody tr th:only-of-type {\n",
       "        vertical-align: middle;\n",
       "    }\n",
       "\n",
       "    .dataframe tbody tr th {\n",
       "        vertical-align: top;\n",
       "    }\n",
       "\n",
       "    .dataframe thead th {\n",
       "        text-align: right;\n",
       "    }\n",
       "</style>\n",
       "<table border=\"1\" class=\"dataframe\">\n",
       "  <thead>\n",
       "    <tr style=\"text-align: right;\">\n",
       "      <th></th>\n",
       "      <th>name</th>\n",
       "      <th>regions</th>\n",
       "      <th>start_dt</th>\n",
       "      <th>finish_dt</th>\n",
       "    </tr>\n",
       "  </thead>\n",
       "  <tbody>\n",
       "    <tr>\n",
       "      <th>0</th>\n",
       "      <td>Christmas&amp;New Year Promo</td>\n",
       "      <td>EU, N.America</td>\n",
       "      <td>2020-12-25</td>\n",
       "      <td>2021-01-03</td>\n",
       "    </tr>\n",
       "  </tbody>\n",
       "</table>\n",
       "</div>"
      ],
      "text/plain": [
       "                       name        regions    start_dt   finish_dt\n",
       "0  Christmas&New Year Promo  EU, N.America  2020-12-25  2021-01-03"
      ]
     },
     "metadata": {},
     "output_type": "display_data"
    }
   ],
   "source": [
    "#set the date to the data type \"date\", for further comparison operations\n",
    "ab_project_marketing_events['start_dt'] = ab_project_marketing_events['start_dt'].astype('datetime64[ns]').dt.date\n",
    "ab_project_marketing_events['finish_dt'] = ab_project_marketing_events['finish_dt'].astype('datetime64[ns]').dt.date\n",
    "\n",
    "campaigns = ab_project_marketing_events.loc[ab_project_marketing_events.regions.str.contains('EU')].copy()\n",
    "\n",
    "print('')\n",
    "print('Marketing campaigns during the new users allocation period:',\n",
    "       campaigns\n",
    "          .query(\" (@ab_test_start< start_dt < @new_users_register_fin) \\\n",
    "                 and  (@ab_test_start< finish_dt < @new_users_register_fin) \")\n",
    "          .shape[0]\n",
    "     )\n",
    "\n",
    "print('')\n",
    "print('Marketing campaigns during the A/B testing period:', \n",
    "      campaigns\n",
    "       .query(\" (@ab_test_start< start_dt < @ab_test_fin)\\\n",
    "       and  (@ab_test_start< finish_dt < @ab_test_fin) \")\n",
    "      .shape[0]\n",
    "     )\n",
    "display(campaigns\n",
    "       .query(\" (@ab_test_start< start_dt < @ab_test_fin)\\\n",
    "       and  (@ab_test_start< finish_dt < @ab_test_fin) \")\n",
    "        )"
   ]
  },
  {
   "cell_type": "markdown",
   "id": "ee799cea",
   "metadata": {},
   "source": [
    "There were no marketing campaigns during the allocation of new users.   \n",
    "But after that, during testing, there was one New Year promotional campaign from December 25 to January 3.   \n",
    "We should pay attention to user activity during this period."
   ]
  },
  {
   "cell_type": "markdown",
   "id": "4df5abee",
   "metadata": {},
   "source": [
    "#### Conclusion"
   ]
  },
  {
   "cell_type": "markdown",
   "id": "aac0583e",
   "metadata": {},
   "source": [
    "* Event records end before the scheduled end of the test - 30.12 instead of 4.01. Therefore not all users have a 14-day lifetime, as specified in the test requirements.\n",
    "    * To solve this problem, we will count metrics for 14 days for those who's lifetime is 14 days, and 7 for the rest. \n",
    "    * This approach will help to evaluate the results of an A/B test with a large number of users meeting the requirements.\n",
    "* Also, the end of the testing period coincides with the end of the New Year advertising campaign, which could also affect user activity.\n",
    "    * Pay attention to the users' activity during this period for a presence of outliers and anomalies.\n",
    "* More over, some of the registered test participants also took part in a parallel A/B testing of another feature.\n",
    "    * Users are evenly distributed between tests and there is no skewness towards one of the control or test groups."
   ]
  },
  {
   "cell_type": "markdown",
   "id": "440d7b97",
   "metadata": {},
   "source": [
    "### Creating additional dataframes"
   ]
  },
  {
   "cell_type": "markdown",
   "id": "ced6a2de",
   "metadata": {},
   "source": [
    "####  User target metrics at 7- and 14-day time intervals"
   ]
  },
  {
   "cell_type": "code",
   "execution_count": 98,
   "id": "afdbc960",
   "metadata": {},
   "outputs": [
    {
     "data": {
      "text/html": [
       "<div>\n",
       "<style scoped>\n",
       "    .dataframe tbody tr th:only-of-type {\n",
       "        vertical-align: middle;\n",
       "    }\n",
       "\n",
       "    .dataframe tbody tr th {\n",
       "        vertical-align: top;\n",
       "    }\n",
       "\n",
       "    .dataframe thead th {\n",
       "        text-align: right;\n",
       "    }\n",
       "</style>\n",
       "<table border=\"1\" class=\"dataframe\">\n",
       "  <thead>\n",
       "    <tr style=\"text-align: right;\">\n",
       "      <th></th>\n",
       "      <th>user_id</th>\n",
       "      <th>event_dt</th>\n",
       "      <th>event_name</th>\n",
       "      <th>revenue</th>\n",
       "      <th>event_date</th>\n",
       "      <th>first_date</th>\n",
       "      <th>region</th>\n",
       "      <th>device</th>\n",
       "      <th>group</th>\n",
       "      <th>ab_test</th>\n",
       "      <th>group2</th>\n",
       "      <th>test2</th>\n",
       "    </tr>\n",
       "  </thead>\n",
       "  <tbody>\n",
       "    <tr>\n",
       "      <th>7921</th>\n",
       "      <td>56EE3A6402B3BAC0</td>\n",
       "      <td>2020-12-16 20:58:38</td>\n",
       "      <td>product_cart</td>\n",
       "      <td>NaN</td>\n",
       "      <td>2020-12-16</td>\n",
       "      <td>2020-12-16</td>\n",
       "      <td>EU</td>\n",
       "      <td>PC</td>\n",
       "      <td>A</td>\n",
       "      <td>recommender_system_test</td>\n",
       "      <td>no_data</td>\n",
       "      <td>no_data</td>\n",
       "    </tr>\n",
       "    <tr>\n",
       "      <th>16986</th>\n",
       "      <td>B893A9176CA2DDCC</td>\n",
       "      <td>2020-12-20 01:12:16</td>\n",
       "      <td>login</td>\n",
       "      <td>NaN</td>\n",
       "      <td>2020-12-20</td>\n",
       "      <td>2020-12-20</td>\n",
       "      <td>EU</td>\n",
       "      <td>PC</td>\n",
       "      <td>A</td>\n",
       "      <td>recommender_system_test</td>\n",
       "      <td>no_data</td>\n",
       "      <td>no_data</td>\n",
       "    </tr>\n",
       "    <tr>\n",
       "      <th>97</th>\n",
       "      <td>00EFA157F7B6E1C4</td>\n",
       "      <td>2020-12-10 14:43:26</td>\n",
       "      <td>login</td>\n",
       "      <td>NaN</td>\n",
       "      <td>2020-12-10</td>\n",
       "      <td>2020-12-09</td>\n",
       "      <td>EU</td>\n",
       "      <td>Android</td>\n",
       "      <td>A</td>\n",
       "      <td>recommender_system_test</td>\n",
       "      <td>A</td>\n",
       "      <td>interface_eu_test</td>\n",
       "    </tr>\n",
       "    <tr>\n",
       "      <th>11894</th>\n",
       "      <td>84EB34779A251529</td>\n",
       "      <td>2020-12-19 15:15:18</td>\n",
       "      <td>login</td>\n",
       "      <td>NaN</td>\n",
       "      <td>2020-12-19</td>\n",
       "      <td>2020-12-19</td>\n",
       "      <td>EU</td>\n",
       "      <td>iPhone</td>\n",
       "      <td>B</td>\n",
       "      <td>recommender_system_test</td>\n",
       "      <td>no_data</td>\n",
       "      <td>no_data</td>\n",
       "    </tr>\n",
       "    <tr>\n",
       "      <th>3397</th>\n",
       "      <td>2556F5BDA0E0723B</td>\n",
       "      <td>2020-12-10 13:30:53</td>\n",
       "      <td>product_cart</td>\n",
       "      <td>NaN</td>\n",
       "      <td>2020-12-10</td>\n",
       "      <td>2020-12-10</td>\n",
       "      <td>EU</td>\n",
       "      <td>Android</td>\n",
       "      <td>A</td>\n",
       "      <td>recommender_system_test</td>\n",
       "      <td>no_data</td>\n",
       "      <td>no_data</td>\n",
       "    </tr>\n",
       "  </tbody>\n",
       "</table>\n",
       "</div>"
      ],
      "text/plain": [
       "                user_id            event_dt    event_name  revenue  \\\n",
       "7921   56EE3A6402B3BAC0 2020-12-16 20:58:38  product_cart      NaN   \n",
       "16986  B893A9176CA2DDCC 2020-12-20 01:12:16         login      NaN   \n",
       "97     00EFA157F7B6E1C4 2020-12-10 14:43:26         login      NaN   \n",
       "11894  84EB34779A251529 2020-12-19 15:15:18         login      NaN   \n",
       "3397   2556F5BDA0E0723B 2020-12-10 13:30:53  product_cart      NaN   \n",
       "\n",
       "       event_date first_date region   device group                  ab_test  \\\n",
       "7921   2020-12-16 2020-12-16     EU       PC     A  recommender_system_test   \n",
       "16986  2020-12-20 2020-12-20     EU       PC     A  recommender_system_test   \n",
       "97     2020-12-10 2020-12-09     EU  Android     A  recommender_system_test   \n",
       "11894  2020-12-19 2020-12-19     EU   iPhone     B  recommender_system_test   \n",
       "3397   2020-12-10 2020-12-10     EU  Android     A  recommender_system_test   \n",
       "\n",
       "        group2              test2  \n",
       "7921   no_data            no_data  \n",
       "16986  no_data            no_data  \n",
       "97           A  interface_eu_test  \n",
       "11894  no_data            no_data  \n",
       "3397   no_data            no_data  "
      ]
     },
     "metadata": {},
     "output_type": "display_data"
    }
   ],
   "source": [
    "events = events.set_index('user_id').join(user_data, how='inner').reset_index()\n",
    "events = events.rename(columns={'details':'revenue'})\n",
    "\n",
    "display(events.sample(5))"
   ]
  },
  {
   "cell_type": "markdown",
   "id": "43893aae",
   "metadata": {},
   "source": [
    "Create a users dataframe with columns +14 and +7 days from the registration date for further evaluation of the users' event horizon and eligibility."
   ]
  },
  {
   "cell_type": "code",
   "execution_count": 99,
   "id": "1b62a91f",
   "metadata": {},
   "outputs": [
    {
     "data": {
      "text/html": [
       "<div>\n",
       "<style scoped>\n",
       "    .dataframe tbody tr th:only-of-type {\n",
       "        vertical-align: middle;\n",
       "    }\n",
       "\n",
       "    .dataframe tbody tr th {\n",
       "        vertical-align: top;\n",
       "    }\n",
       "\n",
       "    .dataframe thead th {\n",
       "        text-align: right;\n",
       "    }\n",
       "</style>\n",
       "<table border=\"1\" class=\"dataframe\">\n",
       "  <thead>\n",
       "    <tr style=\"text-align: right;\">\n",
       "      <th></th>\n",
       "      <th>user_id</th>\n",
       "      <th>event_dt</th>\n",
       "      <th>event_name</th>\n",
       "      <th>revenue</th>\n",
       "      <th>event_date</th>\n",
       "      <th>first_date</th>\n",
       "      <th>region</th>\n",
       "      <th>device</th>\n",
       "      <th>group</th>\n",
       "      <th>ab_test</th>\n",
       "      <th>group2</th>\n",
       "      <th>test2</th>\n",
       "      <th>day_14</th>\n",
       "      <th>day_7</th>\n",
       "    </tr>\n",
       "  </thead>\n",
       "  <tbody>\n",
       "    <tr>\n",
       "      <th>21812</th>\n",
       "      <td>EE9E527A761299B2</td>\n",
       "      <td>2020-12-23 13:41:04</td>\n",
       "      <td>login</td>\n",
       "      <td>NaN</td>\n",
       "      <td>2020-12-23</td>\n",
       "      <td>2020-12-21</td>\n",
       "      <td>EU</td>\n",
       "      <td>PC</td>\n",
       "      <td>B</td>\n",
       "      <td>recommender_system_test</td>\n",
       "      <td>A</td>\n",
       "      <td>interface_eu_test</td>\n",
       "      <td>2021-01-04</td>\n",
       "      <td>2020-12-28</td>\n",
       "    </tr>\n",
       "    <tr>\n",
       "      <th>4315</th>\n",
       "      <td>2F28A3B279E5494A</td>\n",
       "      <td>2020-12-17 16:00:16</td>\n",
       "      <td>product_cart</td>\n",
       "      <td>NaN</td>\n",
       "      <td>2020-12-17</td>\n",
       "      <td>2020-12-14</td>\n",
       "      <td>EU</td>\n",
       "      <td>Android</td>\n",
       "      <td>A</td>\n",
       "      <td>recommender_system_test</td>\n",
       "      <td>B</td>\n",
       "      <td>interface_eu_test</td>\n",
       "      <td>2020-12-28</td>\n",
       "      <td>2020-12-21</td>\n",
       "    </tr>\n",
       "    <tr>\n",
       "      <th>18421</th>\n",
       "      <td>C716AF018B3D96F5</td>\n",
       "      <td>2020-12-27 20:27:14</td>\n",
       "      <td>login</td>\n",
       "      <td>NaN</td>\n",
       "      <td>2020-12-27</td>\n",
       "      <td>2020-12-17</td>\n",
       "      <td>EU</td>\n",
       "      <td>iPhone</td>\n",
       "      <td>A</td>\n",
       "      <td>recommender_system_test</td>\n",
       "      <td>no_data</td>\n",
       "      <td>no_data</td>\n",
       "      <td>2020-12-31</td>\n",
       "      <td>2020-12-24</td>\n",
       "    </tr>\n",
       "    <tr>\n",
       "      <th>1717</th>\n",
       "      <td>12E86A81CC9AA775</td>\n",
       "      <td>2020-12-26 05:12:50</td>\n",
       "      <td>login</td>\n",
       "      <td>NaN</td>\n",
       "      <td>2020-12-26</td>\n",
       "      <td>2020-12-21</td>\n",
       "      <td>EU</td>\n",
       "      <td>PC</td>\n",
       "      <td>A</td>\n",
       "      <td>recommender_system_test</td>\n",
       "      <td>no_data</td>\n",
       "      <td>no_data</td>\n",
       "      <td>2021-01-04</td>\n",
       "      <td>2020-12-28</td>\n",
       "    </tr>\n",
       "    <tr>\n",
       "      <th>7245</th>\n",
       "      <td>4F27E0ECC98D9F89</td>\n",
       "      <td>2020-12-20 22:45:21</td>\n",
       "      <td>product_page</td>\n",
       "      <td>NaN</td>\n",
       "      <td>2020-12-20</td>\n",
       "      <td>2020-12-20</td>\n",
       "      <td>EU</td>\n",
       "      <td>Android</td>\n",
       "      <td>B</td>\n",
       "      <td>recommender_system_test</td>\n",
       "      <td>no_data</td>\n",
       "      <td>no_data</td>\n",
       "      <td>2021-01-03</td>\n",
       "      <td>2020-12-27</td>\n",
       "    </tr>\n",
       "  </tbody>\n",
       "</table>\n",
       "</div>"
      ],
      "text/plain": [
       "                user_id            event_dt    event_name  revenue  \\\n",
       "21812  EE9E527A761299B2 2020-12-23 13:41:04         login      NaN   \n",
       "4315   2F28A3B279E5494A 2020-12-17 16:00:16  product_cart      NaN   \n",
       "18421  C716AF018B3D96F5 2020-12-27 20:27:14         login      NaN   \n",
       "1717   12E86A81CC9AA775 2020-12-26 05:12:50         login      NaN   \n",
       "7245   4F27E0ECC98D9F89 2020-12-20 22:45:21  product_page      NaN   \n",
       "\n",
       "       event_date first_date region   device group                  ab_test  \\\n",
       "21812  2020-12-23 2020-12-21     EU       PC     B  recommender_system_test   \n",
       "4315   2020-12-17 2020-12-14     EU  Android     A  recommender_system_test   \n",
       "18421  2020-12-27 2020-12-17     EU   iPhone     A  recommender_system_test   \n",
       "1717   2020-12-26 2020-12-21     EU       PC     A  recommender_system_test   \n",
       "7245   2020-12-20 2020-12-20     EU  Android     B  recommender_system_test   \n",
       "\n",
       "        group2              test2     day_14      day_7  \n",
       "21812        A  interface_eu_test 2021-01-04 2020-12-28  \n",
       "4315         B  interface_eu_test 2020-12-28 2020-12-21  \n",
       "18421  no_data            no_data 2020-12-31 2020-12-24  \n",
       "1717   no_data            no_data 2021-01-04 2020-12-28  \n",
       "7245   no_data            no_data 2021-01-03 2020-12-27  "
      ]
     },
     "metadata": {},
     "output_type": "display_data"
    }
   ],
   "source": [
    "#Creating columns:\n",
    "\n",
    "#    with a date \"+14 days from the registration date\"\n",
    "events['day_14'] = events['first_date'] + pd.Timedelta(days=14)\n",
    "\n",
    "#    with a date \"+7 days from the registration date\"\n",
    "events['day_7'] = events['first_date'] + pd.Timedelta(days=7)\n",
    "display(events.sample(5))"
   ]
  },
  {
   "cell_type": "code",
   "execution_count": 100,
   "id": "70e11a6b",
   "metadata": {},
   "outputs": [
    {
     "data": {
      "text/html": [
       "<div>\n",
       "<style scoped>\n",
       "    .dataframe tbody tr th:only-of-type {\n",
       "        vertical-align: middle;\n",
       "    }\n",
       "\n",
       "    .dataframe tbody tr th {\n",
       "        vertical-align: top;\n",
       "    }\n",
       "\n",
       "    .dataframe thead th {\n",
       "        text-align: right;\n",
       "    }\n",
       "</style>\n",
       "<table border=\"1\" class=\"dataframe\">\n",
       "  <thead>\n",
       "    <tr style=\"text-align: right;\">\n",
       "      <th>event_name</th>\n",
       "      <th>login</th>\n",
       "      <th>product_cart</th>\n",
       "      <th>product_page</th>\n",
       "      <th>purchase</th>\n",
       "    </tr>\n",
       "    <tr>\n",
       "      <th>user_id</th>\n",
       "      <th></th>\n",
       "      <th></th>\n",
       "      <th></th>\n",
       "      <th></th>\n",
       "    </tr>\n",
       "  </thead>\n",
       "  <tbody>\n",
       "    <tr>\n",
       "      <th>4A61A28F35795FD1</th>\n",
       "      <td>1</td>\n",
       "      <td>0</td>\n",
       "      <td>0</td>\n",
       "      <td>0</td>\n",
       "    </tr>\n",
       "    <tr>\n",
       "      <th>4438A8DB1591E2FD</th>\n",
       "      <td>1</td>\n",
       "      <td>1</td>\n",
       "      <td>0</td>\n",
       "      <td>0</td>\n",
       "    </tr>\n",
       "    <tr>\n",
       "      <th>5673140CA30564D5</th>\n",
       "      <td>1</td>\n",
       "      <td>1</td>\n",
       "      <td>0</td>\n",
       "      <td>0</td>\n",
       "    </tr>\n",
       "    <tr>\n",
       "      <th>6E3DF9C69A6B607E</th>\n",
       "      <td>1</td>\n",
       "      <td>1</td>\n",
       "      <td>1</td>\n",
       "      <td>0</td>\n",
       "    </tr>\n",
       "    <tr>\n",
       "      <th>66E0CBF90827B836</th>\n",
       "      <td>1</td>\n",
       "      <td>0</td>\n",
       "      <td>1</td>\n",
       "      <td>0</td>\n",
       "    </tr>\n",
       "  </tbody>\n",
       "</table>\n",
       "</div>"
      ],
      "text/plain": [
       "event_name        login  product_cart  product_page  purchase\n",
       "user_id                                                      \n",
       "4A61A28F35795FD1      1             0             0         0\n",
       "4438A8DB1591E2FD      1             1             0         0\n",
       "5673140CA30564D5      1             1             0         0\n",
       "6E3DF9C69A6B607E      1             1             1         0\n",
       "66E0CBF90827B836      1             0             1         0"
      ]
     },
     "metadata": {},
     "output_type": "display_data"
    }
   ],
   "source": [
    "#adding a flag for each user\n",
    "#whether there was an activity of each type during the 14 days period\n",
    "\n",
    "users_events_d14 = (events.query(\"event_date <= day_14\")\n",
    "                    .groupby(['user_id','event_name'])['event_date']\n",
    "                    .min().unstack())\n",
    "\n",
    "users_events_d14 = users_events_d14.where(users_events_d14.isnull(), 1).fillna(0)\n",
    "display(users_events_d14.sample(5))"
   ]
  },
  {
   "cell_type": "code",
   "execution_count": 101,
   "id": "b8677644",
   "metadata": {},
   "outputs": [
    {
     "data": {
      "text/html": [
       "<div>\n",
       "<style scoped>\n",
       "    .dataframe tbody tr th:only-of-type {\n",
       "        vertical-align: middle;\n",
       "    }\n",
       "\n",
       "    .dataframe tbody tr th {\n",
       "        vertical-align: top;\n",
       "    }\n",
       "\n",
       "    .dataframe thead th {\n",
       "        text-align: right;\n",
       "    }\n",
       "</style>\n",
       "<table border=\"1\" class=\"dataframe\">\n",
       "  <thead>\n",
       "    <tr style=\"text-align: right;\">\n",
       "      <th>event_name</th>\n",
       "      <th>login</th>\n",
       "      <th>product_cart</th>\n",
       "      <th>product_page</th>\n",
       "      <th>purchase</th>\n",
       "    </tr>\n",
       "    <tr>\n",
       "      <th>user_id</th>\n",
       "      <th></th>\n",
       "      <th></th>\n",
       "      <th></th>\n",
       "      <th></th>\n",
       "    </tr>\n",
       "  </thead>\n",
       "  <tbody>\n",
       "    <tr>\n",
       "      <th>6070727198404A40</th>\n",
       "      <td>1</td>\n",
       "      <td>0</td>\n",
       "      <td>0</td>\n",
       "      <td>0</td>\n",
       "    </tr>\n",
       "    <tr>\n",
       "      <th>6610064A4B2303D1</th>\n",
       "      <td>1</td>\n",
       "      <td>0</td>\n",
       "      <td>1</td>\n",
       "      <td>0</td>\n",
       "    </tr>\n",
       "    <tr>\n",
       "      <th>EF3118771FB74F92</th>\n",
       "      <td>1</td>\n",
       "      <td>0</td>\n",
       "      <td>0</td>\n",
       "      <td>0</td>\n",
       "    </tr>\n",
       "    <tr>\n",
       "      <th>E3780F6861A69868</th>\n",
       "      <td>1</td>\n",
       "      <td>0</td>\n",
       "      <td>0</td>\n",
       "      <td>0</td>\n",
       "    </tr>\n",
       "    <tr>\n",
       "      <th>5D4B70B71BD714AD</th>\n",
       "      <td>1</td>\n",
       "      <td>0</td>\n",
       "      <td>1</td>\n",
       "      <td>1</td>\n",
       "    </tr>\n",
       "  </tbody>\n",
       "</table>\n",
       "</div>"
      ],
      "text/plain": [
       "event_name        login  product_cart  product_page  purchase\n",
       "user_id                                                      \n",
       "6070727198404A40      1             0             0         0\n",
       "6610064A4B2303D1      1             0             1         0\n",
       "EF3118771FB74F92      1             0             0         0\n",
       "E3780F6861A69868      1             0             0         0\n",
       "5D4B70B71BD714AD      1             0             1         1"
      ]
     },
     "metadata": {},
     "output_type": "display_data"
    }
   ],
   "source": [
    "#adding a flag for each user\n",
    "#whether there was an activity of each type during the 7 days period\n",
    "\n",
    "users_events_d7 = (events.query(\"event_date <= day_7\")\n",
    "                    .groupby(['user_id','event_name'])['event_date']\n",
    "                    .min().unstack())\n",
    "\n",
    "users_events_d7 = users_events_d7.where(users_events_d7.isnull(), 1).fillna(0)\n",
    "display(users_events_d7.sample(5))"
   ]
  },
  {
   "cell_type": "code",
   "execution_count": 102,
   "id": "76490db5",
   "metadata": {},
   "outputs": [
    {
     "data": {
      "text/html": [
       "<div>\n",
       "<style scoped>\n",
       "    .dataframe tbody tr th:only-of-type {\n",
       "        vertical-align: middle;\n",
       "    }\n",
       "\n",
       "    .dataframe tbody tr th {\n",
       "        vertical-align: top;\n",
       "    }\n",
       "\n",
       "    .dataframe thead th {\n",
       "        text-align: right;\n",
       "    }\n",
       "</style>\n",
       "<table border=\"1\" class=\"dataframe\">\n",
       "  <thead>\n",
       "    <tr style=\"text-align: right;\">\n",
       "      <th></th>\n",
       "      <th>first_date</th>\n",
       "      <th>region</th>\n",
       "      <th>device</th>\n",
       "      <th>group</th>\n",
       "      <th>ab_test</th>\n",
       "      <th>group2</th>\n",
       "      <th>test2</th>\n",
       "    </tr>\n",
       "    <tr>\n",
       "      <th>user_id</th>\n",
       "      <th></th>\n",
       "      <th></th>\n",
       "      <th></th>\n",
       "      <th></th>\n",
       "      <th></th>\n",
       "      <th></th>\n",
       "      <th></th>\n",
       "    </tr>\n",
       "  </thead>\n",
       "  <tbody>\n",
       "    <tr>\n",
       "      <th>826966D0867A0E28</th>\n",
       "      <td>2020-12-08</td>\n",
       "      <td>EU</td>\n",
       "      <td>Android</td>\n",
       "      <td>B</td>\n",
       "      <td>recommender_system_test</td>\n",
       "      <td>A</td>\n",
       "      <td>interface_eu_test</td>\n",
       "    </tr>\n",
       "    <tr>\n",
       "      <th>50AA33C3098BDDE2</th>\n",
       "      <td>2020-12-10</td>\n",
       "      <td>EU</td>\n",
       "      <td>Android</td>\n",
       "      <td>A</td>\n",
       "      <td>recommender_system_test</td>\n",
       "      <td>B</td>\n",
       "      <td>interface_eu_test</td>\n",
       "    </tr>\n",
       "    <tr>\n",
       "      <th>47EEC31E3D0C6E8B</th>\n",
       "      <td>2020-12-10</td>\n",
       "      <td>EU</td>\n",
       "      <td>Android</td>\n",
       "      <td>B</td>\n",
       "      <td>recommender_system_test</td>\n",
       "      <td>no_data</td>\n",
       "      <td>no_data</td>\n",
       "    </tr>\n",
       "    <tr>\n",
       "      <th>A241F8D0DEF95F32</th>\n",
       "      <td>2020-12-11</td>\n",
       "      <td>EU</td>\n",
       "      <td>Mac</td>\n",
       "      <td>A</td>\n",
       "      <td>recommender_system_test</td>\n",
       "      <td>B</td>\n",
       "      <td>interface_eu_test</td>\n",
       "    </tr>\n",
       "    <tr>\n",
       "      <th>0FE0324B5431F1FF</th>\n",
       "      <td>2020-12-11</td>\n",
       "      <td>EU</td>\n",
       "      <td>PC</td>\n",
       "      <td>A</td>\n",
       "      <td>recommender_system_test</td>\n",
       "      <td>no_data</td>\n",
       "      <td>no_data</td>\n",
       "    </tr>\n",
       "  </tbody>\n",
       "</table>\n",
       "</div>"
      ],
      "text/plain": [
       "                 first_date region   device group                  ab_test  \\\n",
       "user_id                                                                      \n",
       "826966D0867A0E28 2020-12-08     EU  Android     B  recommender_system_test   \n",
       "50AA33C3098BDDE2 2020-12-10     EU  Android     A  recommender_system_test   \n",
       "47EEC31E3D0C6E8B 2020-12-10     EU  Android     B  recommender_system_test   \n",
       "A241F8D0DEF95F32 2020-12-11     EU      Mac     A  recommender_system_test   \n",
       "0FE0324B5431F1FF 2020-12-11     EU       PC     A  recommender_system_test   \n",
       "\n",
       "                   group2              test2  \n",
       "user_id                                       \n",
       "826966D0867A0E28        A  interface_eu_test  \n",
       "50AA33C3098BDDE2        B  interface_eu_test  \n",
       "47EEC31E3D0C6E8B  no_data            no_data  \n",
       "A241F8D0DEF95F32        B  interface_eu_test  \n",
       "0FE0324B5431F1FF  no_data            no_data  "
      ]
     },
     "metadata": {},
     "output_type": "display_data"
    },
    {
     "data": {
      "text/html": [
       "<div>\n",
       "<style scoped>\n",
       "    .dataframe tbody tr th:only-of-type {\n",
       "        vertical-align: middle;\n",
       "    }\n",
       "\n",
       "    .dataframe tbody tr th {\n",
       "        vertical-align: top;\n",
       "    }\n",
       "\n",
       "    .dataframe thead th {\n",
       "        text-align: right;\n",
       "    }\n",
       "</style>\n",
       "<table border=\"1\" class=\"dataframe\">\n",
       "  <thead>\n",
       "    <tr style=\"text-align: right;\">\n",
       "      <th></th>\n",
       "      <th>first_date</th>\n",
       "      <th>region</th>\n",
       "      <th>device</th>\n",
       "      <th>group</th>\n",
       "      <th>ab_test</th>\n",
       "      <th>group2</th>\n",
       "      <th>test2</th>\n",
       "    </tr>\n",
       "    <tr>\n",
       "      <th>user_id</th>\n",
       "      <th></th>\n",
       "      <th></th>\n",
       "      <th></th>\n",
       "      <th></th>\n",
       "      <th></th>\n",
       "      <th></th>\n",
       "      <th></th>\n",
       "    </tr>\n",
       "  </thead>\n",
       "  <tbody>\n",
       "    <tr>\n",
       "      <th>C6E67DC34B047AA2</th>\n",
       "      <td>2020-12-15</td>\n",
       "      <td>EU</td>\n",
       "      <td>Mac</td>\n",
       "      <td>A</td>\n",
       "      <td>recommender_system_test</td>\n",
       "      <td>no_data</td>\n",
       "      <td>no_data</td>\n",
       "    </tr>\n",
       "    <tr>\n",
       "      <th>D275276F3490096F</th>\n",
       "      <td>2020-12-14</td>\n",
       "      <td>EU</td>\n",
       "      <td>Android</td>\n",
       "      <td>A</td>\n",
       "      <td>recommender_system_test</td>\n",
       "      <td>no_data</td>\n",
       "      <td>no_data</td>\n",
       "    </tr>\n",
       "    <tr>\n",
       "      <th>6E8C4C4691828595</th>\n",
       "      <td>2020-12-14</td>\n",
       "      <td>EU</td>\n",
       "      <td>Android</td>\n",
       "      <td>A</td>\n",
       "      <td>recommender_system_test</td>\n",
       "      <td>no_data</td>\n",
       "      <td>no_data</td>\n",
       "    </tr>\n",
       "    <tr>\n",
       "      <th>963F921521088A5C</th>\n",
       "      <td>2020-12-18</td>\n",
       "      <td>EU</td>\n",
       "      <td>Android</td>\n",
       "      <td>B</td>\n",
       "      <td>recommender_system_test</td>\n",
       "      <td>no_data</td>\n",
       "      <td>no_data</td>\n",
       "    </tr>\n",
       "    <tr>\n",
       "      <th>8A401E7C2E0DAE58</th>\n",
       "      <td>2020-12-09</td>\n",
       "      <td>EU</td>\n",
       "      <td>iPhone</td>\n",
       "      <td>B</td>\n",
       "      <td>recommender_system_test</td>\n",
       "      <td>no_data</td>\n",
       "      <td>no_data</td>\n",
       "    </tr>\n",
       "  </tbody>\n",
       "</table>\n",
       "</div>"
      ],
      "text/plain": [
       "                 first_date region   device group                  ab_test  \\\n",
       "user_id                                                                      \n",
       "C6E67DC34B047AA2 2020-12-15     EU      Mac     A  recommender_system_test   \n",
       "D275276F3490096F 2020-12-14     EU  Android     A  recommender_system_test   \n",
       "6E8C4C4691828595 2020-12-14     EU  Android     A  recommender_system_test   \n",
       "963F921521088A5C 2020-12-18     EU  Android     B  recommender_system_test   \n",
       "8A401E7C2E0DAE58 2020-12-09     EU   iPhone     B  recommender_system_test   \n",
       "\n",
       "                   group2    test2  \n",
       "user_id                             \n",
       "C6E67DC34B047AA2  no_data  no_data  \n",
       "D275276F3490096F  no_data  no_data  \n",
       "6E8C4C4691828595  no_data  no_data  \n",
       "963F921521088A5C  no_data  no_data  \n",
       "8A401E7C2E0DAE58  no_data  no_data  "
      ]
     },
     "metadata": {},
     "output_type": "display_data"
    }
   ],
   "source": [
    "#creating dataframes for users:\n",
    "\n",
    "    #who's lifetime is no less than 14 days\n",
    "user_data_d14 = user_data.loc[(last_event_date - user_data['first_date']).dt.days >= 14]\n",
    "\n",
    "    #who's lifetime is no less than 7 days\n",
    "user_data_d7 = user_data.loc[(last_event_date - user_data['first_date']).dt.days >= 7]\n",
    "display(user_data_d14.sample(5))   \n",
    "display(user_data_d7.sample(5))"
   ]
  },
  {
   "cell_type": "code",
   "execution_count": 103,
   "id": "27e41526",
   "metadata": {},
   "outputs": [
    {
     "data": {
      "text/html": [
       "<div>\n",
       "<style scoped>\n",
       "    .dataframe tbody tr th:only-of-type {\n",
       "        vertical-align: middle;\n",
       "    }\n",
       "\n",
       "    .dataframe tbody tr th {\n",
       "        vertical-align: top;\n",
       "    }\n",
       "\n",
       "    .dataframe thead th {\n",
       "        text-align: right;\n",
       "    }\n",
       "</style>\n",
       "<table border=\"1\" class=\"dataframe\">\n",
       "  <thead>\n",
       "    <tr style=\"text-align: right;\">\n",
       "      <th></th>\n",
       "      <th>first_date</th>\n",
       "      <th>region</th>\n",
       "      <th>device</th>\n",
       "      <th>group</th>\n",
       "      <th>ab_test</th>\n",
       "      <th>group2</th>\n",
       "      <th>test2</th>\n",
       "      <th>login</th>\n",
       "      <th>product_cart</th>\n",
       "      <th>product_page</th>\n",
       "      <th>purchase</th>\n",
       "    </tr>\n",
       "    <tr>\n",
       "      <th>user_id</th>\n",
       "      <th></th>\n",
       "      <th></th>\n",
       "      <th></th>\n",
       "      <th></th>\n",
       "      <th></th>\n",
       "      <th></th>\n",
       "      <th></th>\n",
       "      <th></th>\n",
       "      <th></th>\n",
       "      <th></th>\n",
       "      <th></th>\n",
       "    </tr>\n",
       "  </thead>\n",
       "  <tbody>\n",
       "    <tr>\n",
       "      <th>59BA4B15D73A2A6C</th>\n",
       "      <td>2020-12-14</td>\n",
       "      <td>EU</td>\n",
       "      <td>Android</td>\n",
       "      <td>A</td>\n",
       "      <td>recommender_system_test</td>\n",
       "      <td>no_data</td>\n",
       "      <td>no_data</td>\n",
       "      <td>1.0</td>\n",
       "      <td>0.0</td>\n",
       "      <td>1.0</td>\n",
       "      <td>0.0</td>\n",
       "    </tr>\n",
       "    <tr>\n",
       "      <th>9999E0476CE6B08B</th>\n",
       "      <td>2020-12-14</td>\n",
       "      <td>EU</td>\n",
       "      <td>iPhone</td>\n",
       "      <td>A</td>\n",
       "      <td>recommender_system_test</td>\n",
       "      <td>no_data</td>\n",
       "      <td>no_data</td>\n",
       "      <td>1.0</td>\n",
       "      <td>1.0</td>\n",
       "      <td>0.0</td>\n",
       "      <td>1.0</td>\n",
       "    </tr>\n",
       "    <tr>\n",
       "      <th>3807E97EF5DD2E4E</th>\n",
       "      <td>2020-12-10</td>\n",
       "      <td>EU</td>\n",
       "      <td>Android</td>\n",
       "      <td>B</td>\n",
       "      <td>recommender_system_test</td>\n",
       "      <td>no_data</td>\n",
       "      <td>no_data</td>\n",
       "      <td>0.0</td>\n",
       "      <td>0.0</td>\n",
       "      <td>0.0</td>\n",
       "      <td>0.0</td>\n",
       "    </tr>\n",
       "    <tr>\n",
       "      <th>0B0C9CDFCA3EFF8A</th>\n",
       "      <td>2020-12-13</td>\n",
       "      <td>EU</td>\n",
       "      <td>PC</td>\n",
       "      <td>B</td>\n",
       "      <td>recommender_system_test</td>\n",
       "      <td>no_data</td>\n",
       "      <td>no_data</td>\n",
       "      <td>1.0</td>\n",
       "      <td>1.0</td>\n",
       "      <td>0.0</td>\n",
       "      <td>0.0</td>\n",
       "    </tr>\n",
       "    <tr>\n",
       "      <th>7CEFBD3C6ABEF91A</th>\n",
       "      <td>2020-12-09</td>\n",
       "      <td>EU</td>\n",
       "      <td>iPhone</td>\n",
       "      <td>A</td>\n",
       "      <td>recommender_system_test</td>\n",
       "      <td>A</td>\n",
       "      <td>interface_eu_test</td>\n",
       "      <td>1.0</td>\n",
       "      <td>0.0</td>\n",
       "      <td>0.0</td>\n",
       "      <td>0.0</td>\n",
       "    </tr>\n",
       "  </tbody>\n",
       "</table>\n",
       "</div>"
      ],
      "text/plain": [
       "                 first_date region   device group                  ab_test  \\\n",
       "user_id                                                                      \n",
       "59BA4B15D73A2A6C 2020-12-14     EU  Android     A  recommender_system_test   \n",
       "9999E0476CE6B08B 2020-12-14     EU   iPhone     A  recommender_system_test   \n",
       "3807E97EF5DD2E4E 2020-12-10     EU  Android     B  recommender_system_test   \n",
       "0B0C9CDFCA3EFF8A 2020-12-13     EU       PC     B  recommender_system_test   \n",
       "7CEFBD3C6ABEF91A 2020-12-09     EU   iPhone     A  recommender_system_test   \n",
       "\n",
       "                   group2              test2  login  product_cart  \\\n",
       "user_id                                                             \n",
       "59BA4B15D73A2A6C  no_data            no_data    1.0           0.0   \n",
       "9999E0476CE6B08B  no_data            no_data    1.0           1.0   \n",
       "3807E97EF5DD2E4E  no_data            no_data    0.0           0.0   \n",
       "0B0C9CDFCA3EFF8A  no_data            no_data    1.0           1.0   \n",
       "7CEFBD3C6ABEF91A        A  interface_eu_test    1.0           0.0   \n",
       "\n",
       "                  product_page  purchase  \n",
       "user_id                                   \n",
       "59BA4B15D73A2A6C           1.0       0.0  \n",
       "9999E0476CE6B08B           0.0       1.0  \n",
       "3807E97EF5DD2E4E           0.0       0.0  \n",
       "0B0C9CDFCA3EFF8A           0.0       0.0  \n",
       "7CEFBD3C6ABEF91A           0.0       0.0  "
      ]
     },
     "metadata": {},
     "output_type": "display_data"
    },
    {
     "data": {
      "text/html": [
       "<div>\n",
       "<style scoped>\n",
       "    .dataframe tbody tr th:only-of-type {\n",
       "        vertical-align: middle;\n",
       "    }\n",
       "\n",
       "    .dataframe tbody tr th {\n",
       "        vertical-align: top;\n",
       "    }\n",
       "\n",
       "    .dataframe thead th {\n",
       "        text-align: right;\n",
       "    }\n",
       "</style>\n",
       "<table border=\"1\" class=\"dataframe\">\n",
       "  <thead>\n",
       "    <tr style=\"text-align: right;\">\n",
       "      <th></th>\n",
       "      <th>first_date</th>\n",
       "      <th>region</th>\n",
       "      <th>device</th>\n",
       "      <th>group</th>\n",
       "      <th>ab_test</th>\n",
       "      <th>group2</th>\n",
       "      <th>test2</th>\n",
       "      <th>login</th>\n",
       "      <th>product_cart</th>\n",
       "      <th>product_page</th>\n",
       "      <th>purchase</th>\n",
       "    </tr>\n",
       "    <tr>\n",
       "      <th>user_id</th>\n",
       "      <th></th>\n",
       "      <th></th>\n",
       "      <th></th>\n",
       "      <th></th>\n",
       "      <th></th>\n",
       "      <th></th>\n",
       "      <th></th>\n",
       "      <th></th>\n",
       "      <th></th>\n",
       "      <th></th>\n",
       "      <th></th>\n",
       "    </tr>\n",
       "  </thead>\n",
       "  <tbody>\n",
       "    <tr>\n",
       "      <th>D6434FEC52FD20BE</th>\n",
       "      <td>2020-12-08</td>\n",
       "      <td>EU</td>\n",
       "      <td>Mac</td>\n",
       "      <td>B</td>\n",
       "      <td>recommender_system_test</td>\n",
       "      <td>no_data</td>\n",
       "      <td>no_data</td>\n",
       "      <td>0.0</td>\n",
       "      <td>0.0</td>\n",
       "      <td>0.0</td>\n",
       "      <td>0.0</td>\n",
       "    </tr>\n",
       "    <tr>\n",
       "      <th>A138781ABFFF27AC</th>\n",
       "      <td>2020-12-15</td>\n",
       "      <td>EU</td>\n",
       "      <td>Mac</td>\n",
       "      <td>B</td>\n",
       "      <td>recommender_system_test</td>\n",
       "      <td>no_data</td>\n",
       "      <td>no_data</td>\n",
       "      <td>0.0</td>\n",
       "      <td>0.0</td>\n",
       "      <td>0.0</td>\n",
       "      <td>0.0</td>\n",
       "    </tr>\n",
       "    <tr>\n",
       "      <th>E6C4C8D05ED980DC</th>\n",
       "      <td>2020-12-17</td>\n",
       "      <td>EU</td>\n",
       "      <td>PC</td>\n",
       "      <td>B</td>\n",
       "      <td>recommender_system_test</td>\n",
       "      <td>no_data</td>\n",
       "      <td>no_data</td>\n",
       "      <td>0.0</td>\n",
       "      <td>0.0</td>\n",
       "      <td>0.0</td>\n",
       "      <td>0.0</td>\n",
       "    </tr>\n",
       "    <tr>\n",
       "      <th>60070049AB41EA28</th>\n",
       "      <td>2020-12-20</td>\n",
       "      <td>EU</td>\n",
       "      <td>Android</td>\n",
       "      <td>B</td>\n",
       "      <td>recommender_system_test</td>\n",
       "      <td>no_data</td>\n",
       "      <td>no_data</td>\n",
       "      <td>0.0</td>\n",
       "      <td>0.0</td>\n",
       "      <td>0.0</td>\n",
       "      <td>0.0</td>\n",
       "    </tr>\n",
       "    <tr>\n",
       "      <th>051112E3FE1F2E55</th>\n",
       "      <td>2020-12-18</td>\n",
       "      <td>EU</td>\n",
       "      <td>PC</td>\n",
       "      <td>B</td>\n",
       "      <td>recommender_system_test</td>\n",
       "      <td>no_data</td>\n",
       "      <td>no_data</td>\n",
       "      <td>1.0</td>\n",
       "      <td>1.0</td>\n",
       "      <td>0.0</td>\n",
       "      <td>0.0</td>\n",
       "    </tr>\n",
       "  </tbody>\n",
       "</table>\n",
       "</div>"
      ],
      "text/plain": [
       "                 first_date region   device group                  ab_test  \\\n",
       "user_id                                                                      \n",
       "D6434FEC52FD20BE 2020-12-08     EU      Mac     B  recommender_system_test   \n",
       "A138781ABFFF27AC 2020-12-15     EU      Mac     B  recommender_system_test   \n",
       "E6C4C8D05ED980DC 2020-12-17     EU       PC     B  recommender_system_test   \n",
       "60070049AB41EA28 2020-12-20     EU  Android     B  recommender_system_test   \n",
       "051112E3FE1F2E55 2020-12-18     EU       PC     B  recommender_system_test   \n",
       "\n",
       "                   group2    test2  login  product_cart  product_page  \\\n",
       "user_id                                                                 \n",
       "D6434FEC52FD20BE  no_data  no_data    0.0           0.0           0.0   \n",
       "A138781ABFFF27AC  no_data  no_data    0.0           0.0           0.0   \n",
       "E6C4C8D05ED980DC  no_data  no_data    0.0           0.0           0.0   \n",
       "60070049AB41EA28  no_data  no_data    0.0           0.0           0.0   \n",
       "051112E3FE1F2E55  no_data  no_data    1.0           1.0           0.0   \n",
       "\n",
       "                  purchase  \n",
       "user_id                     \n",
       "D6434FEC52FD20BE       0.0  \n",
       "A138781ABFFF27AC       0.0  \n",
       "E6C4C8D05ED980DC       0.0  \n",
       "60070049AB41EA28       0.0  \n",
       "051112E3FE1F2E55       0.0  "
      ]
     },
     "metadata": {},
     "output_type": "display_data"
    }
   ],
   "source": [
    "#Adding the event flags into thusers tables\n",
    "#for users without any activity the flag is set to 0\n",
    "user_data_d14 = user_data_d14.join(users_events_d14, how='left').fillna(0)\n",
    "user_data_d7 = user_data_d7.join(users_events_d7, how='left').fillna(0)\n",
    "display(user_data_d14.sample(5))\n",
    "display(user_data_d7.sample(5))"
   ]
  },
  {
   "cell_type": "markdown",
   "id": "cbe96c2f",
   "metadata": {},
   "source": [
    "#### Cumulative metrics by days "
   ]
  },
  {
   "cell_type": "markdown",
   "id": "d126187c",
   "metadata": {},
   "source": [
    "##### Logins"
   ]
  },
  {
   "cell_type": "markdown",
   "id": "0ffc640e",
   "metadata": {},
   "source": [
    "Creating a pivot table for the number of logged in users for each day."
   ]
  },
  {
   "cell_type": "code",
   "execution_count": 104,
   "id": "a788c2d7",
   "metadata": {},
   "outputs": [
    {
     "data": {
      "text/html": [
       "<div>\n",
       "<style scoped>\n",
       "    .dataframe tbody tr th:only-of-type {\n",
       "        vertical-align: middle;\n",
       "    }\n",
       "\n",
       "    .dataframe tbody tr th {\n",
       "        vertical-align: top;\n",
       "    }\n",
       "\n",
       "    .dataframe thead th {\n",
       "        text-align: right;\n",
       "    }\n",
       "</style>\n",
       "<table border=\"1\" class=\"dataframe\">\n",
       "  <thead>\n",
       "    <tr style=\"text-align: right;\">\n",
       "      <th>group</th>\n",
       "      <th>A</th>\n",
       "      <th>B</th>\n",
       "    </tr>\n",
       "    <tr>\n",
       "      <th>event_date</th>\n",
       "      <th></th>\n",
       "      <th></th>\n",
       "    </tr>\n",
       "  </thead>\n",
       "  <tbody>\n",
       "    <tr>\n",
       "      <th>2020-12-07</th>\n",
       "      <td>148.0</td>\n",
       "      <td>155.0</td>\n",
       "    </tr>\n",
       "    <tr>\n",
       "      <th>2020-12-08</th>\n",
       "      <td>146.0</td>\n",
       "      <td>113.0</td>\n",
       "    </tr>\n",
       "    <tr>\n",
       "      <th>2020-12-09</th>\n",
       "      <td>171.0</td>\n",
       "      <td>161.0</td>\n",
       "    </tr>\n",
       "    <tr>\n",
       "      <th>2020-12-10</th>\n",
       "      <td>156.0</td>\n",
       "      <td>124.0</td>\n",
       "    </tr>\n",
       "    <tr>\n",
       "      <th>2020-12-11</th>\n",
       "      <td>176.0</td>\n",
       "      <td>84.0</td>\n",
       "    </tr>\n",
       "    <tr>\n",
       "      <th>2020-12-12</th>\n",
       "      <td>168.0</td>\n",
       "      <td>102.0</td>\n",
       "    </tr>\n",
       "    <tr>\n",
       "      <th>2020-12-13</th>\n",
       "      <td>154.0</td>\n",
       "      <td>81.0</td>\n",
       "    </tr>\n",
       "    <tr>\n",
       "      <th>2020-12-14</th>\n",
       "      <td>461.0</td>\n",
       "      <td>120.0</td>\n",
       "    </tr>\n",
       "    <tr>\n",
       "      <th>2020-12-15</th>\n",
       "      <td>452.0</td>\n",
       "      <td>109.0</td>\n",
       "    </tr>\n",
       "    <tr>\n",
       "      <th>2020-12-16</th>\n",
       "      <td>442.0</td>\n",
       "      <td>165.0</td>\n",
       "    </tr>\n",
       "    <tr>\n",
       "      <th>2020-12-17</th>\n",
       "      <td>520.0</td>\n",
       "      <td>125.0</td>\n",
       "    </tr>\n",
       "    <tr>\n",
       "      <th>2020-12-18</th>\n",
       "      <td>543.0</td>\n",
       "      <td>127.0</td>\n",
       "    </tr>\n",
       "    <tr>\n",
       "      <th>2020-12-19</th>\n",
       "      <td>617.0</td>\n",
       "      <td>139.0</td>\n",
       "    </tr>\n",
       "    <tr>\n",
       "      <th>2020-12-20</th>\n",
       "      <td>627.0</td>\n",
       "      <td>155.0</td>\n",
       "    </tr>\n",
       "    <tr>\n",
       "      <th>2020-12-21</th>\n",
       "      <td>837.0</td>\n",
       "      <td>190.0</td>\n",
       "    </tr>\n",
       "    <tr>\n",
       "      <th>2020-12-22</th>\n",
       "      <td>554.0</td>\n",
       "      <td>96.0</td>\n",
       "    </tr>\n",
       "    <tr>\n",
       "      <th>2020-12-23</th>\n",
       "      <td>426.0</td>\n",
       "      <td>95.0</td>\n",
       "    </tr>\n",
       "    <tr>\n",
       "      <th>2020-12-24</th>\n",
       "      <td>362.0</td>\n",
       "      <td>72.0</td>\n",
       "    </tr>\n",
       "    <tr>\n",
       "      <th>2020-12-25</th>\n",
       "      <td>278.0</td>\n",
       "      <td>56.0</td>\n",
       "    </tr>\n",
       "    <tr>\n",
       "      <th>2020-12-26</th>\n",
       "      <td>249.0</td>\n",
       "      <td>55.0</td>\n",
       "    </tr>\n",
       "    <tr>\n",
       "      <th>2020-12-27</th>\n",
       "      <td>238.0</td>\n",
       "      <td>56.0</td>\n",
       "    </tr>\n",
       "    <tr>\n",
       "      <th>2020-12-28</th>\n",
       "      <td>206.0</td>\n",
       "      <td>53.0</td>\n",
       "    </tr>\n",
       "    <tr>\n",
       "      <th>2020-12-29</th>\n",
       "      <td>193.0</td>\n",
       "      <td>36.0</td>\n",
       "    </tr>\n",
       "    <tr>\n",
       "      <th>2020-12-30</th>\n",
       "      <td>NaN</td>\n",
       "      <td>2.0</td>\n",
       "    </tr>\n",
       "  </tbody>\n",
       "</table>\n",
       "</div>"
      ],
      "text/plain": [
       "group           A      B\n",
       "event_date              \n",
       "2020-12-07  148.0  155.0\n",
       "2020-12-08  146.0  113.0\n",
       "2020-12-09  171.0  161.0\n",
       "2020-12-10  156.0  124.0\n",
       "2020-12-11  176.0   84.0\n",
       "2020-12-12  168.0  102.0\n",
       "2020-12-13  154.0   81.0\n",
       "2020-12-14  461.0  120.0\n",
       "2020-12-15  452.0  109.0\n",
       "2020-12-16  442.0  165.0\n",
       "2020-12-17  520.0  125.0\n",
       "2020-12-18  543.0  127.0\n",
       "2020-12-19  617.0  139.0\n",
       "2020-12-20  627.0  155.0\n",
       "2020-12-21  837.0  190.0\n",
       "2020-12-22  554.0   96.0\n",
       "2020-12-23  426.0   95.0\n",
       "2020-12-24  362.0   72.0\n",
       "2020-12-25  278.0   56.0\n",
       "2020-12-26  249.0   55.0\n",
       "2020-12-27  238.0   56.0\n",
       "2020-12-28  206.0   53.0\n",
       "2020-12-29  193.0   36.0\n",
       "2020-12-30    NaN    2.0"
      ]
     },
     "metadata": {},
     "output_type": "display_data"
    }
   ],
   "source": [
    "logins  = events.query(\"event_name =='login'\")\n",
    "logins_pivot = logins.pivot_table(columns='group', values='event_name', index='event_date',aggfunc='count')\n",
    "display(logins_pivot)"
   ]
  },
  {
   "cell_type": "markdown",
   "id": "bbd2e18b",
   "metadata": {},
   "source": [
    "##### Products views"
   ]
  },
  {
   "cell_type": "markdown",
   "id": "b947602b",
   "metadata": {},
   "source": [
    "Making a pivot table for product views by dates."
   ]
  },
  {
   "cell_type": "code",
   "execution_count": 105,
   "id": "06ad6f8e",
   "metadata": {},
   "outputs": [
    {
     "data": {
      "text/html": [
       "<div>\n",
       "<style scoped>\n",
       "    .dataframe tbody tr th:only-of-type {\n",
       "        vertical-align: middle;\n",
       "    }\n",
       "\n",
       "    .dataframe tbody tr th {\n",
       "        vertical-align: top;\n",
       "    }\n",
       "\n",
       "    .dataframe thead th {\n",
       "        text-align: right;\n",
       "    }\n",
       "</style>\n",
       "<table border=\"1\" class=\"dataframe\">\n",
       "  <thead>\n",
       "    <tr style=\"text-align: right;\">\n",
       "      <th>group</th>\n",
       "      <th>A</th>\n",
       "      <th>B</th>\n",
       "    </tr>\n",
       "    <tr>\n",
       "      <th>event_date</th>\n",
       "      <th></th>\n",
       "      <th></th>\n",
       "    </tr>\n",
       "  </thead>\n",
       "  <tbody>\n",
       "    <tr>\n",
       "      <th>2020-12-07</th>\n",
       "      <td>92.0</td>\n",
       "      <td>101.0</td>\n",
       "    </tr>\n",
       "    <tr>\n",
       "      <th>2020-12-08</th>\n",
       "      <td>98.0</td>\n",
       "      <td>61.0</td>\n",
       "    </tr>\n",
       "    <tr>\n",
       "      <th>2020-12-09</th>\n",
       "      <td>103.0</td>\n",
       "      <td>99.0</td>\n",
       "    </tr>\n",
       "    <tr>\n",
       "      <th>2020-12-10</th>\n",
       "      <td>88.0</td>\n",
       "      <td>67.0</td>\n",
       "    </tr>\n",
       "    <tr>\n",
       "      <th>2020-12-11</th>\n",
       "      <td>96.0</td>\n",
       "      <td>45.0</td>\n",
       "    </tr>\n",
       "    <tr>\n",
       "      <th>2020-12-12</th>\n",
       "      <td>93.0</td>\n",
       "      <td>51.0</td>\n",
       "    </tr>\n",
       "    <tr>\n",
       "      <th>2020-12-13</th>\n",
       "      <td>88.0</td>\n",
       "      <td>41.0</td>\n",
       "    </tr>\n",
       "    <tr>\n",
       "      <th>2020-12-14</th>\n",
       "      <td>285.0</td>\n",
       "      <td>59.0</td>\n",
       "    </tr>\n",
       "    <tr>\n",
       "      <th>2020-12-15</th>\n",
       "      <td>286.0</td>\n",
       "      <td>52.0</td>\n",
       "    </tr>\n",
       "    <tr>\n",
       "      <th>2020-12-16</th>\n",
       "      <td>285.0</td>\n",
       "      <td>96.0</td>\n",
       "    </tr>\n",
       "    <tr>\n",
       "      <th>2020-12-17</th>\n",
       "      <td>334.0</td>\n",
       "      <td>72.0</td>\n",
       "    </tr>\n",
       "    <tr>\n",
       "      <th>2020-12-18</th>\n",
       "      <td>370.0</td>\n",
       "      <td>63.0</td>\n",
       "    </tr>\n",
       "    <tr>\n",
       "      <th>2020-12-19</th>\n",
       "      <td>405.0</td>\n",
       "      <td>74.0</td>\n",
       "    </tr>\n",
       "    <tr>\n",
       "      <th>2020-12-20</th>\n",
       "      <td>402.0</td>\n",
       "      <td>83.0</td>\n",
       "    </tr>\n",
       "    <tr>\n",
       "      <th>2020-12-21</th>\n",
       "      <td>549.0</td>\n",
       "      <td>102.0</td>\n",
       "    </tr>\n",
       "    <tr>\n",
       "      <th>2020-12-22</th>\n",
       "      <td>362.0</td>\n",
       "      <td>44.0</td>\n",
       "    </tr>\n",
       "    <tr>\n",
       "      <th>2020-12-23</th>\n",
       "      <td>274.0</td>\n",
       "      <td>48.0</td>\n",
       "    </tr>\n",
       "    <tr>\n",
       "      <th>2020-12-24</th>\n",
       "      <td>250.0</td>\n",
       "      <td>35.0</td>\n",
       "    </tr>\n",
       "    <tr>\n",
       "      <th>2020-12-25</th>\n",
       "      <td>184.0</td>\n",
       "      <td>30.0</td>\n",
       "    </tr>\n",
       "    <tr>\n",
       "      <th>2020-12-26</th>\n",
       "      <td>167.0</td>\n",
       "      <td>34.0</td>\n",
       "    </tr>\n",
       "    <tr>\n",
       "      <th>2020-12-27</th>\n",
       "      <td>157.0</td>\n",
       "      <td>24.0</td>\n",
       "    </tr>\n",
       "    <tr>\n",
       "      <th>2020-12-28</th>\n",
       "      <td>134.0</td>\n",
       "      <td>26.0</td>\n",
       "    </tr>\n",
       "    <tr>\n",
       "      <th>2020-12-29</th>\n",
       "      <td>125.0</td>\n",
       "      <td>19.0</td>\n",
       "    </tr>\n",
       "    <tr>\n",
       "      <th>2020-12-30</th>\n",
       "      <td>0.0</td>\n",
       "      <td>1.0</td>\n",
       "    </tr>\n",
       "  </tbody>\n",
       "</table>\n",
       "</div>"
      ],
      "text/plain": [
       "group           A      B\n",
       "event_date              \n",
       "2020-12-07   92.0  101.0\n",
       "2020-12-08   98.0   61.0\n",
       "2020-12-09  103.0   99.0\n",
       "2020-12-10   88.0   67.0\n",
       "2020-12-11   96.0   45.0\n",
       "2020-12-12   93.0   51.0\n",
       "2020-12-13   88.0   41.0\n",
       "2020-12-14  285.0   59.0\n",
       "2020-12-15  286.0   52.0\n",
       "2020-12-16  285.0   96.0\n",
       "2020-12-17  334.0   72.0\n",
       "2020-12-18  370.0   63.0\n",
       "2020-12-19  405.0   74.0\n",
       "2020-12-20  402.0   83.0\n",
       "2020-12-21  549.0  102.0\n",
       "2020-12-22  362.0   44.0\n",
       "2020-12-23  274.0   48.0\n",
       "2020-12-24  250.0   35.0\n",
       "2020-12-25  184.0   30.0\n",
       "2020-12-26  167.0   34.0\n",
       "2020-12-27  157.0   24.0\n",
       "2020-12-28  134.0   26.0\n",
       "2020-12-29  125.0   19.0\n",
       "2020-12-30    0.0    1.0"
      ]
     },
     "metadata": {},
     "output_type": "display_data"
    }
   ],
   "source": [
    "product_views = events.query(\"event_name =='product_page'\")\n",
    "product_views_pivot = product_views.pivot_table(columns='group', \n",
    "                                                values='event_name', \n",
    "                                                index='event_date',\n",
    "                                                aggfunc='count').fillna(0)\n",
    "display(product_views_pivot)"
   ]
  },
  {
   "cell_type": "markdown",
   "id": "51691569",
   "metadata": {},
   "source": [
    "##### Cart views"
   ]
  },
  {
   "cell_type": "markdown",
   "id": "3d2e0d9a",
   "metadata": {},
   "source": [
    "Creating a pivot table for product cart views by dates."
   ]
  },
  {
   "cell_type": "code",
   "execution_count": 106,
   "id": "975e7523",
   "metadata": {},
   "outputs": [
    {
     "data": {
      "text/html": [
       "<div>\n",
       "<style scoped>\n",
       "    .dataframe tbody tr th:only-of-type {\n",
       "        vertical-align: middle;\n",
       "    }\n",
       "\n",
       "    .dataframe tbody tr th {\n",
       "        vertical-align: top;\n",
       "    }\n",
       "\n",
       "    .dataframe thead th {\n",
       "        text-align: right;\n",
       "    }\n",
       "</style>\n",
       "<table border=\"1\" class=\"dataframe\">\n",
       "  <thead>\n",
       "    <tr style=\"text-align: right;\">\n",
       "      <th>group</th>\n",
       "      <th>A</th>\n",
       "      <th>B</th>\n",
       "    </tr>\n",
       "    <tr>\n",
       "      <th>event_date</th>\n",
       "      <th></th>\n",
       "      <th></th>\n",
       "    </tr>\n",
       "  </thead>\n",
       "  <tbody>\n",
       "    <tr>\n",
       "      <th>2020-12-07</th>\n",
       "      <td>35.0</td>\n",
       "      <td>41.0</td>\n",
       "    </tr>\n",
       "    <tr>\n",
       "      <th>2020-12-08</th>\n",
       "      <td>36.0</td>\n",
       "      <td>31.0</td>\n",
       "    </tr>\n",
       "    <tr>\n",
       "      <th>2020-12-09</th>\n",
       "      <td>50.0</td>\n",
       "      <td>39.0</td>\n",
       "    </tr>\n",
       "    <tr>\n",
       "      <th>2020-12-10</th>\n",
       "      <td>45.0</td>\n",
       "      <td>32.0</td>\n",
       "    </tr>\n",
       "    <tr>\n",
       "      <th>2020-12-11</th>\n",
       "      <td>44.0</td>\n",
       "      <td>16.0</td>\n",
       "    </tr>\n",
       "    <tr>\n",
       "      <th>2020-12-12</th>\n",
       "      <td>47.0</td>\n",
       "      <td>21.0</td>\n",
       "    </tr>\n",
       "    <tr>\n",
       "      <th>2020-12-13</th>\n",
       "      <td>34.0</td>\n",
       "      <td>16.0</td>\n",
       "    </tr>\n",
       "    <tr>\n",
       "      <th>2020-12-14</th>\n",
       "      <td>136.0</td>\n",
       "      <td>37.0</td>\n",
       "    </tr>\n",
       "    <tr>\n",
       "      <th>2020-12-15</th>\n",
       "      <td>155.0</td>\n",
       "      <td>29.0</td>\n",
       "    </tr>\n",
       "    <tr>\n",
       "      <th>2020-12-16</th>\n",
       "      <td>138.0</td>\n",
       "      <td>58.0</td>\n",
       "    </tr>\n",
       "    <tr>\n",
       "      <th>2020-12-17</th>\n",
       "      <td>177.0</td>\n",
       "      <td>48.0</td>\n",
       "    </tr>\n",
       "    <tr>\n",
       "      <th>2020-12-18</th>\n",
       "      <td>166.0</td>\n",
       "      <td>40.0</td>\n",
       "    </tr>\n",
       "    <tr>\n",
       "      <th>2020-12-19</th>\n",
       "      <td>200.0</td>\n",
       "      <td>41.0</td>\n",
       "    </tr>\n",
       "    <tr>\n",
       "      <th>2020-12-20</th>\n",
       "      <td>194.0</td>\n",
       "      <td>34.0</td>\n",
       "    </tr>\n",
       "    <tr>\n",
       "      <th>2020-12-21</th>\n",
       "      <td>235.0</td>\n",
       "      <td>57.0</td>\n",
       "    </tr>\n",
       "    <tr>\n",
       "      <th>2020-12-22</th>\n",
       "      <td>156.0</td>\n",
       "      <td>18.0</td>\n",
       "    </tr>\n",
       "    <tr>\n",
       "      <th>2020-12-23</th>\n",
       "      <td>123.0</td>\n",
       "      <td>23.0</td>\n",
       "    </tr>\n",
       "    <tr>\n",
       "      <th>2020-12-24</th>\n",
       "      <td>116.0</td>\n",
       "      <td>23.0</td>\n",
       "    </tr>\n",
       "    <tr>\n",
       "      <th>2020-12-25</th>\n",
       "      <td>71.0</td>\n",
       "      <td>10.0</td>\n",
       "    </tr>\n",
       "    <tr>\n",
       "      <th>2020-12-26</th>\n",
       "      <td>72.0</td>\n",
       "      <td>11.0</td>\n",
       "    </tr>\n",
       "    <tr>\n",
       "      <th>2020-12-27</th>\n",
       "      <td>70.0</td>\n",
       "      <td>15.0</td>\n",
       "    </tr>\n",
       "    <tr>\n",
       "      <th>2020-12-28</th>\n",
       "      <td>70.0</td>\n",
       "      <td>6.0</td>\n",
       "    </tr>\n",
       "    <tr>\n",
       "      <th>2020-12-29</th>\n",
       "      <td>52.0</td>\n",
       "      <td>6.0</td>\n",
       "    </tr>\n",
       "    <tr>\n",
       "      <th>2020-12-30</th>\n",
       "      <td>NaN</td>\n",
       "      <td>1.0</td>\n",
       "    </tr>\n",
       "  </tbody>\n",
       "</table>\n",
       "</div>"
      ],
      "text/plain": [
       "group           A     B\n",
       "event_date             \n",
       "2020-12-07   35.0  41.0\n",
       "2020-12-08   36.0  31.0\n",
       "2020-12-09   50.0  39.0\n",
       "2020-12-10   45.0  32.0\n",
       "2020-12-11   44.0  16.0\n",
       "2020-12-12   47.0  21.0\n",
       "2020-12-13   34.0  16.0\n",
       "2020-12-14  136.0  37.0\n",
       "2020-12-15  155.0  29.0\n",
       "2020-12-16  138.0  58.0\n",
       "2020-12-17  177.0  48.0\n",
       "2020-12-18  166.0  40.0\n",
       "2020-12-19  200.0  41.0\n",
       "2020-12-20  194.0  34.0\n",
       "2020-12-21  235.0  57.0\n",
       "2020-12-22  156.0  18.0\n",
       "2020-12-23  123.0  23.0\n",
       "2020-12-24  116.0  23.0\n",
       "2020-12-25   71.0  10.0\n",
       "2020-12-26   72.0  11.0\n",
       "2020-12-27   70.0  15.0\n",
       "2020-12-28   70.0   6.0\n",
       "2020-12-29   52.0   6.0\n",
       "2020-12-30    NaN   1.0"
      ]
     },
     "metadata": {},
     "output_type": "display_data"
    }
   ],
   "source": [
    "cart_views = events.query(\"event_name =='product_cart'\")\n",
    "cart_views_pivot = cart_views.pivot_table(columns='group', \n",
    "                                          values='event_name', \n",
    "                                          index='event_date',\n",
    "                                          aggfunc='count')\n",
    "display(cart_views_pivot)"
   ]
  },
  {
   "cell_type": "markdown",
   "id": "be5e46b2",
   "metadata": {},
   "source": [
    "##### Purchases"
   ]
  },
  {
   "cell_type": "markdown",
   "id": "68306fe0",
   "metadata": {},
   "source": [
    "Creating a pivot table for purchase number by dates."
   ]
  },
  {
   "cell_type": "code",
   "execution_count": 107,
   "id": "980279a3",
   "metadata": {},
   "outputs": [
    {
     "data": {
      "text/html": [
       "<div>\n",
       "<style scoped>\n",
       "    .dataframe tbody tr th:only-of-type {\n",
       "        vertical-align: middle;\n",
       "    }\n",
       "\n",
       "    .dataframe tbody tr th {\n",
       "        vertical-align: top;\n",
       "    }\n",
       "\n",
       "    .dataframe thead th {\n",
       "        text-align: right;\n",
       "    }\n",
       "</style>\n",
       "<table border=\"1\" class=\"dataframe\">\n",
       "  <thead>\n",
       "    <tr style=\"text-align: right;\">\n",
       "      <th>group</th>\n",
       "      <th>A</th>\n",
       "      <th>B</th>\n",
       "    </tr>\n",
       "    <tr>\n",
       "      <th>event_date</th>\n",
       "      <th></th>\n",
       "      <th></th>\n",
       "    </tr>\n",
       "  </thead>\n",
       "  <tbody>\n",
       "    <tr>\n",
       "      <th>2020-12-07</th>\n",
       "      <td>43</td>\n",
       "      <td>59</td>\n",
       "    </tr>\n",
       "    <tr>\n",
       "      <th>2020-12-08</th>\n",
       "      <td>33</td>\n",
       "      <td>33</td>\n",
       "    </tr>\n",
       "    <tr>\n",
       "      <th>2020-12-09</th>\n",
       "      <td>47</td>\n",
       "      <td>39</td>\n",
       "    </tr>\n",
       "    <tr>\n",
       "      <th>2020-12-10</th>\n",
       "      <td>42</td>\n",
       "      <td>26</td>\n",
       "    </tr>\n",
       "    <tr>\n",
       "      <th>2020-12-11</th>\n",
       "      <td>40</td>\n",
       "      <td>16</td>\n",
       "    </tr>\n",
       "    <tr>\n",
       "      <th>2020-12-12</th>\n",
       "      <td>38</td>\n",
       "      <td>25</td>\n",
       "    </tr>\n",
       "    <tr>\n",
       "      <th>2020-12-13</th>\n",
       "      <td>32</td>\n",
       "      <td>26</td>\n",
       "    </tr>\n",
       "    <tr>\n",
       "      <th>2020-12-14</th>\n",
       "      <td>133</td>\n",
       "      <td>32</td>\n",
       "    </tr>\n",
       "    <tr>\n",
       "      <th>2020-12-15</th>\n",
       "      <td>137</td>\n",
       "      <td>32</td>\n",
       "    </tr>\n",
       "    <tr>\n",
       "      <th>2020-12-16</th>\n",
       "      <td>142</td>\n",
       "      <td>50</td>\n",
       "    </tr>\n",
       "    <tr>\n",
       "      <th>2020-12-17</th>\n",
       "      <td>169</td>\n",
       "      <td>36</td>\n",
       "    </tr>\n",
       "    <tr>\n",
       "      <th>2020-12-18</th>\n",
       "      <td>165</td>\n",
       "      <td>29</td>\n",
       "    </tr>\n",
       "    <tr>\n",
       "      <th>2020-12-19</th>\n",
       "      <td>208</td>\n",
       "      <td>34</td>\n",
       "    </tr>\n",
       "    <tr>\n",
       "      <th>2020-12-20</th>\n",
       "      <td>211</td>\n",
       "      <td>37</td>\n",
       "    </tr>\n",
       "    <tr>\n",
       "      <th>2020-12-21</th>\n",
       "      <td>282</td>\n",
       "      <td>52</td>\n",
       "    </tr>\n",
       "    <tr>\n",
       "      <th>2020-12-22</th>\n",
       "      <td>164</td>\n",
       "      <td>27</td>\n",
       "    </tr>\n",
       "    <tr>\n",
       "      <th>2020-12-23</th>\n",
       "      <td>136</td>\n",
       "      <td>23</td>\n",
       "    </tr>\n",
       "    <tr>\n",
       "      <th>2020-12-24</th>\n",
       "      <td>122</td>\n",
       "      <td>19</td>\n",
       "    </tr>\n",
       "    <tr>\n",
       "      <th>2020-12-25</th>\n",
       "      <td>106</td>\n",
       "      <td>11</td>\n",
       "    </tr>\n",
       "    <tr>\n",
       "      <th>2020-12-26</th>\n",
       "      <td>92</td>\n",
       "      <td>13</td>\n",
       "    </tr>\n",
       "    <tr>\n",
       "      <th>2020-12-27</th>\n",
       "      <td>82</td>\n",
       "      <td>19</td>\n",
       "    </tr>\n",
       "    <tr>\n",
       "      <th>2020-12-28</th>\n",
       "      <td>69</td>\n",
       "      <td>10</td>\n",
       "    </tr>\n",
       "    <tr>\n",
       "      <th>2020-12-29</th>\n",
       "      <td>43</td>\n",
       "      <td>12</td>\n",
       "    </tr>\n",
       "  </tbody>\n",
       "</table>\n",
       "</div>"
      ],
      "text/plain": [
       "group         A   B\n",
       "event_date         \n",
       "2020-12-07   43  59\n",
       "2020-12-08   33  33\n",
       "2020-12-09   47  39\n",
       "2020-12-10   42  26\n",
       "2020-12-11   40  16\n",
       "2020-12-12   38  25\n",
       "2020-12-13   32  26\n",
       "2020-12-14  133  32\n",
       "2020-12-15  137  32\n",
       "2020-12-16  142  50\n",
       "2020-12-17  169  36\n",
       "2020-12-18  165  29\n",
       "2020-12-19  208  34\n",
       "2020-12-20  211  37\n",
       "2020-12-21  282  52\n",
       "2020-12-22  164  27\n",
       "2020-12-23  136  23\n",
       "2020-12-24  122  19\n",
       "2020-12-25  106  11\n",
       "2020-12-26   92  13\n",
       "2020-12-27   82  19\n",
       "2020-12-28   69  10\n",
       "2020-12-29   43  12"
      ]
     },
     "metadata": {},
     "output_type": "display_data"
    }
   ],
   "source": [
    "purchases = events.query(\"event_name =='purchase'\")\n",
    "purchases_pivot = purchases.pivot_table(columns='group', \n",
    "                                        values='event_name', \n",
    "                                        index='event_date',\n",
    "                                        aggfunc='count')\n",
    "display(purchases_pivot)"
   ]
  },
  {
   "cell_type": "markdown",
   "id": "45d69d6c",
   "metadata": {},
   "source": [
    "##### Revenue"
   ]
  },
  {
   "cell_type": "markdown",
   "id": "e3bf0ccd",
   "metadata": {},
   "source": [
    "A pivot table for daily revenue."
   ]
  },
  {
   "cell_type": "code",
   "execution_count": 108,
   "id": "dbb1e809",
   "metadata": {},
   "outputs": [
    {
     "data": {
      "text/html": [
       "<div>\n",
       "<style scoped>\n",
       "    .dataframe tbody tr th:only-of-type {\n",
       "        vertical-align: middle;\n",
       "    }\n",
       "\n",
       "    .dataframe tbody tr th {\n",
       "        vertical-align: top;\n",
       "    }\n",
       "\n",
       "    .dataframe thead th {\n",
       "        text-align: right;\n",
       "    }\n",
       "</style>\n",
       "<table border=\"1\" class=\"dataframe\">\n",
       "  <thead>\n",
       "    <tr style=\"text-align: right;\">\n",
       "      <th>group</th>\n",
       "      <th>A</th>\n",
       "      <th>B</th>\n",
       "    </tr>\n",
       "    <tr>\n",
       "      <th>event_date</th>\n",
       "      <th></th>\n",
       "      <th></th>\n",
       "    </tr>\n",
       "  </thead>\n",
       "  <tbody>\n",
       "    <tr>\n",
       "      <th>2020-12-07</th>\n",
       "      <td>1104.57</td>\n",
       "      <td>704.41</td>\n",
       "    </tr>\n",
       "    <tr>\n",
       "      <th>2020-12-08</th>\n",
       "      <td>754.67</td>\n",
       "      <td>484.67</td>\n",
       "    </tr>\n",
       "    <tr>\n",
       "      <th>2020-12-09</th>\n",
       "      <td>759.53</td>\n",
       "      <td>414.61</td>\n",
       "    </tr>\n",
       "    <tr>\n",
       "      <th>2020-12-10</th>\n",
       "      <td>809.58</td>\n",
       "      <td>639.74</td>\n",
       "    </tr>\n",
       "    <tr>\n",
       "      <th>2020-12-11</th>\n",
       "      <td>1089.60</td>\n",
       "      <td>94.84</td>\n",
       "    </tr>\n",
       "    <tr>\n",
       "      <th>2020-12-12</th>\n",
       "      <td>879.62</td>\n",
       "      <td>324.75</td>\n",
       "    </tr>\n",
       "    <tr>\n",
       "      <th>2020-12-13</th>\n",
       "      <td>289.68</td>\n",
       "      <td>1424.74</td>\n",
       "    </tr>\n",
       "    <tr>\n",
       "      <th>2020-12-14</th>\n",
       "      <td>3273.67</td>\n",
       "      <td>769.68</td>\n",
       "    </tr>\n",
       "    <tr>\n",
       "      <th>2020-12-15</th>\n",
       "      <td>3288.63</td>\n",
       "      <td>1459.68</td>\n",
       "    </tr>\n",
       "    <tr>\n",
       "      <th>2020-12-16</th>\n",
       "      <td>4353.58</td>\n",
       "      <td>1054.50</td>\n",
       "    </tr>\n",
       "    <tr>\n",
       "      <th>2020-12-17</th>\n",
       "      <td>2783.31</td>\n",
       "      <td>984.64</td>\n",
       "    </tr>\n",
       "    <tr>\n",
       "      <th>2020-12-18</th>\n",
       "      <td>3363.35</td>\n",
       "      <td>264.71</td>\n",
       "    </tr>\n",
       "    <tr>\n",
       "      <th>2020-12-19</th>\n",
       "      <td>4547.92</td>\n",
       "      <td>399.66</td>\n",
       "    </tr>\n",
       "    <tr>\n",
       "      <th>2020-12-20</th>\n",
       "      <td>5112.89</td>\n",
       "      <td>809.63</td>\n",
       "    </tr>\n",
       "    <tr>\n",
       "      <th>2020-12-21</th>\n",
       "      <td>7972.18</td>\n",
       "      <td>2234.48</td>\n",
       "    </tr>\n",
       "    <tr>\n",
       "      <th>2020-12-22</th>\n",
       "      <td>4408.36</td>\n",
       "      <td>339.73</td>\n",
       "    </tr>\n",
       "    <tr>\n",
       "      <th>2020-12-23</th>\n",
       "      <td>1663.64</td>\n",
       "      <td>319.77</td>\n",
       "    </tr>\n",
       "    <tr>\n",
       "      <th>2020-12-24</th>\n",
       "      <td>3653.78</td>\n",
       "      <td>109.81</td>\n",
       "    </tr>\n",
       "    <tr>\n",
       "      <th>2020-12-25</th>\n",
       "      <td>3458.94</td>\n",
       "      <td>249.89</td>\n",
       "    </tr>\n",
       "    <tr>\n",
       "      <th>2020-12-26</th>\n",
       "      <td>1884.08</td>\n",
       "      <td>164.87</td>\n",
       "    </tr>\n",
       "    <tr>\n",
       "      <th>2020-12-27</th>\n",
       "      <td>1614.18</td>\n",
       "      <td>1284.81</td>\n",
       "    </tr>\n",
       "    <tr>\n",
       "      <th>2020-12-28</th>\n",
       "      <td>1184.31</td>\n",
       "      <td>164.90</td>\n",
       "    </tr>\n",
       "    <tr>\n",
       "      <th>2020-12-29</th>\n",
       "      <td>614.57</td>\n",
       "      <td>64.88</td>\n",
       "    </tr>\n",
       "  </tbody>\n",
       "</table>\n",
       "</div>"
      ],
      "text/plain": [
       "group             A        B\n",
       "event_date                  \n",
       "2020-12-07  1104.57   704.41\n",
       "2020-12-08   754.67   484.67\n",
       "2020-12-09   759.53   414.61\n",
       "2020-12-10   809.58   639.74\n",
       "2020-12-11  1089.60    94.84\n",
       "2020-12-12   879.62   324.75\n",
       "2020-12-13   289.68  1424.74\n",
       "2020-12-14  3273.67   769.68\n",
       "2020-12-15  3288.63  1459.68\n",
       "2020-12-16  4353.58  1054.50\n",
       "2020-12-17  2783.31   984.64\n",
       "2020-12-18  3363.35   264.71\n",
       "2020-12-19  4547.92   399.66\n",
       "2020-12-20  5112.89   809.63\n",
       "2020-12-21  7972.18  2234.48\n",
       "2020-12-22  4408.36   339.73\n",
       "2020-12-23  1663.64   319.77\n",
       "2020-12-24  3653.78   109.81\n",
       "2020-12-25  3458.94   249.89\n",
       "2020-12-26  1884.08   164.87\n",
       "2020-12-27  1614.18  1284.81\n",
       "2020-12-28  1184.31   164.90\n",
       "2020-12-29   614.57    64.88"
      ]
     },
     "metadata": {},
     "output_type": "display_data"
    }
   ],
   "source": [
    "revenue_pivot = purchases.pivot_table(columns='group', \n",
    "                                      values='revenue', \n",
    "                                      index='event_date',\n",
    "                                      aggfunc='sum')\n",
    "display(revenue_pivot)"
   ]
  },
  {
   "cell_type": "markdown",
   "id": "9e34ccc6",
   "metadata": {},
   "source": [
    "##### Average transaction value"
   ]
  },
  {
   "cell_type": "markdown",
   "id": "9dcae355",
   "metadata": {},
   "source": [
    "Create a pivot table for an average transaction value for each day."
   ]
  },
  {
   "cell_type": "code",
   "execution_count": 109,
   "id": "f38698da",
   "metadata": {},
   "outputs": [
    {
     "data": {
      "text/html": [
       "<div>\n",
       "<style scoped>\n",
       "    .dataframe tbody tr th:only-of-type {\n",
       "        vertical-align: middle;\n",
       "    }\n",
       "\n",
       "    .dataframe tbody tr th {\n",
       "        vertical-align: top;\n",
       "    }\n",
       "\n",
       "    .dataframe thead th {\n",
       "        text-align: right;\n",
       "    }\n",
       "</style>\n",
       "<table border=\"1\" class=\"dataframe\">\n",
       "  <thead>\n",
       "    <tr style=\"text-align: right;\">\n",
       "      <th>group</th>\n",
       "      <th>A</th>\n",
       "      <th>B</th>\n",
       "    </tr>\n",
       "    <tr>\n",
       "      <th>event_date</th>\n",
       "      <th></th>\n",
       "      <th></th>\n",
       "    </tr>\n",
       "  </thead>\n",
       "  <tbody>\n",
       "    <tr>\n",
       "      <th>2020-12-07</th>\n",
       "      <td>25.687674</td>\n",
       "      <td>11.939153</td>\n",
       "    </tr>\n",
       "    <tr>\n",
       "      <th>2020-12-08</th>\n",
       "      <td>22.868788</td>\n",
       "      <td>14.686970</td>\n",
       "    </tr>\n",
       "    <tr>\n",
       "      <th>2020-12-09</th>\n",
       "      <td>16.160213</td>\n",
       "      <td>10.631026</td>\n",
       "    </tr>\n",
       "    <tr>\n",
       "      <th>2020-12-10</th>\n",
       "      <td>19.275714</td>\n",
       "      <td>24.605385</td>\n",
       "    </tr>\n",
       "    <tr>\n",
       "      <th>2020-12-11</th>\n",
       "      <td>27.240000</td>\n",
       "      <td>5.927500</td>\n",
       "    </tr>\n",
       "    <tr>\n",
       "      <th>2020-12-12</th>\n",
       "      <td>23.147895</td>\n",
       "      <td>12.990000</td>\n",
       "    </tr>\n",
       "    <tr>\n",
       "      <th>2020-12-13</th>\n",
       "      <td>9.052500</td>\n",
       "      <td>54.797692</td>\n",
       "    </tr>\n",
       "    <tr>\n",
       "      <th>2020-12-14</th>\n",
       "      <td>24.614060</td>\n",
       "      <td>24.052500</td>\n",
       "    </tr>\n",
       "    <tr>\n",
       "      <th>2020-12-15</th>\n",
       "      <td>24.004599</td>\n",
       "      <td>45.615000</td>\n",
       "    </tr>\n",
       "    <tr>\n",
       "      <th>2020-12-16</th>\n",
       "      <td>30.659014</td>\n",
       "      <td>21.090000</td>\n",
       "    </tr>\n",
       "    <tr>\n",
       "      <th>2020-12-17</th>\n",
       "      <td>16.469290</td>\n",
       "      <td>27.351111</td>\n",
       "    </tr>\n",
       "    <tr>\n",
       "      <th>2020-12-18</th>\n",
       "      <td>20.383939</td>\n",
       "      <td>9.127931</td>\n",
       "    </tr>\n",
       "    <tr>\n",
       "      <th>2020-12-19</th>\n",
       "      <td>21.865000</td>\n",
       "      <td>11.754706</td>\n",
       "    </tr>\n",
       "    <tr>\n",
       "      <th>2020-12-20</th>\n",
       "      <td>24.231706</td>\n",
       "      <td>21.881892</td>\n",
       "    </tr>\n",
       "    <tr>\n",
       "      <th>2020-12-21</th>\n",
       "      <td>28.270142</td>\n",
       "      <td>42.970769</td>\n",
       "    </tr>\n",
       "    <tr>\n",
       "      <th>2020-12-22</th>\n",
       "      <td>26.880244</td>\n",
       "      <td>12.582593</td>\n",
       "    </tr>\n",
       "    <tr>\n",
       "      <th>2020-12-23</th>\n",
       "      <td>12.232647</td>\n",
       "      <td>13.903043</td>\n",
       "    </tr>\n",
       "    <tr>\n",
       "      <th>2020-12-24</th>\n",
       "      <td>29.949016</td>\n",
       "      <td>5.779474</td>\n",
       "    </tr>\n",
       "    <tr>\n",
       "      <th>2020-12-25</th>\n",
       "      <td>32.631509</td>\n",
       "      <td>22.717273</td>\n",
       "    </tr>\n",
       "    <tr>\n",
       "      <th>2020-12-26</th>\n",
       "      <td>20.479130</td>\n",
       "      <td>12.682308</td>\n",
       "    </tr>\n",
       "    <tr>\n",
       "      <th>2020-12-27</th>\n",
       "      <td>19.685122</td>\n",
       "      <td>67.621579</td>\n",
       "    </tr>\n",
       "    <tr>\n",
       "      <th>2020-12-28</th>\n",
       "      <td>17.163913</td>\n",
       "      <td>16.490000</td>\n",
       "    </tr>\n",
       "    <tr>\n",
       "      <th>2020-12-29</th>\n",
       "      <td>14.292326</td>\n",
       "      <td>5.406667</td>\n",
       "    </tr>\n",
       "  </tbody>\n",
       "</table>\n",
       "</div>"
      ],
      "text/plain": [
       "group               A          B\n",
       "event_date                      \n",
       "2020-12-07  25.687674  11.939153\n",
       "2020-12-08  22.868788  14.686970\n",
       "2020-12-09  16.160213  10.631026\n",
       "2020-12-10  19.275714  24.605385\n",
       "2020-12-11  27.240000   5.927500\n",
       "2020-12-12  23.147895  12.990000\n",
       "2020-12-13   9.052500  54.797692\n",
       "2020-12-14  24.614060  24.052500\n",
       "2020-12-15  24.004599  45.615000\n",
       "2020-12-16  30.659014  21.090000\n",
       "2020-12-17  16.469290  27.351111\n",
       "2020-12-18  20.383939   9.127931\n",
       "2020-12-19  21.865000  11.754706\n",
       "2020-12-20  24.231706  21.881892\n",
       "2020-12-21  28.270142  42.970769\n",
       "2020-12-22  26.880244  12.582593\n",
       "2020-12-23  12.232647  13.903043\n",
       "2020-12-24  29.949016   5.779474\n",
       "2020-12-25  32.631509  22.717273\n",
       "2020-12-26  20.479130  12.682308\n",
       "2020-12-27  19.685122  67.621579\n",
       "2020-12-28  17.163913  16.490000\n",
       "2020-12-29  14.292326   5.406667"
      ]
     },
     "metadata": {},
     "output_type": "display_data"
    }
   ],
   "source": [
    "mean_spend_pivot = purchases.pivot_table(columns='group', \n",
    "                                         values='revenue', \n",
    "                                         index='event_date',\n",
    "                                         aggfunc='mean')\n",
    "display(mean_spend_pivot)"
   ]
  },
  {
   "cell_type": "markdown",
   "id": "6a2fba08",
   "metadata": {},
   "source": [
    "##### Registration"
   ]
  },
  {
   "cell_type": "markdown",
   "id": "d52312f3",
   "metadata": {},
   "source": [
    "A pivot table containing the amount of new users registrations by date."
   ]
  },
  {
   "cell_type": "code",
   "execution_count": 110,
   "id": "dae4f268",
   "metadata": {
    "scrolled": false
   },
   "outputs": [
    {
     "data": {
      "text/html": [
       "<div>\n",
       "<style scoped>\n",
       "    .dataframe tbody tr th:only-of-type {\n",
       "        vertical-align: middle;\n",
       "    }\n",
       "\n",
       "    .dataframe tbody tr th {\n",
       "        vertical-align: top;\n",
       "    }\n",
       "\n",
       "    .dataframe thead th {\n",
       "        text-align: right;\n",
       "    }\n",
       "</style>\n",
       "<table border=\"1\" class=\"dataframe\">\n",
       "  <thead>\n",
       "    <tr style=\"text-align: right;\">\n",
       "      <th>group</th>\n",
       "      <th>A</th>\n",
       "      <th>B</th>\n",
       "    </tr>\n",
       "    <tr>\n",
       "      <th>event_date</th>\n",
       "      <th></th>\n",
       "      <th></th>\n",
       "    </tr>\n",
       "  </thead>\n",
       "  <tbody>\n",
       "    <tr>\n",
       "      <th>2020-12-07</th>\n",
       "      <td>349.0</td>\n",
       "      <td>259.0</td>\n",
       "    </tr>\n",
       "    <tr>\n",
       "      <th>2020-12-08</th>\n",
       "      <td>186.0</td>\n",
       "      <td>149.0</td>\n",
       "    </tr>\n",
       "    <tr>\n",
       "      <th>2020-12-09</th>\n",
       "      <td>143.0</td>\n",
       "      <td>105.0</td>\n",
       "    </tr>\n",
       "    <tr>\n",
       "      <th>2020-12-10</th>\n",
       "      <td>189.0</td>\n",
       "      <td>181.0</td>\n",
       "    </tr>\n",
       "    <tr>\n",
       "      <th>2020-12-11</th>\n",
       "      <td>157.0</td>\n",
       "      <td>106.0</td>\n",
       "    </tr>\n",
       "    <tr>\n",
       "      <th>2020-12-12</th>\n",
       "      <td>268.0</td>\n",
       "      <td>198.0</td>\n",
       "    </tr>\n",
       "    <tr>\n",
       "      <th>2020-12-13</th>\n",
       "      <td>323.0</td>\n",
       "      <td>228.0</td>\n",
       "    </tr>\n",
       "    <tr>\n",
       "      <th>2020-12-14</th>\n",
       "      <td>366.0</td>\n",
       "      <td>262.0</td>\n",
       "    </tr>\n",
       "    <tr>\n",
       "      <th>2020-12-15</th>\n",
       "      <td>202.0</td>\n",
       "      <td>141.0</td>\n",
       "    </tr>\n",
       "    <tr>\n",
       "      <th>2020-12-16</th>\n",
       "      <td>160.0</td>\n",
       "      <td>114.0</td>\n",
       "    </tr>\n",
       "    <tr>\n",
       "      <th>2020-12-17</th>\n",
       "      <td>202.0</td>\n",
       "      <td>138.0</td>\n",
       "    </tr>\n",
       "    <tr>\n",
       "      <th>2020-12-18</th>\n",
       "      <td>210.0</td>\n",
       "      <td>172.0</td>\n",
       "    </tr>\n",
       "    <tr>\n",
       "      <th>2020-12-19</th>\n",
       "      <td>226.0</td>\n",
       "      <td>173.0</td>\n",
       "    </tr>\n",
       "    <tr>\n",
       "      <th>2020-12-20</th>\n",
       "      <td>255.0</td>\n",
       "      <td>206.0</td>\n",
       "    </tr>\n",
       "    <tr>\n",
       "      <th>2020-12-21</th>\n",
       "      <td>398.0</td>\n",
       "      <td>285.0</td>\n",
       "    </tr>\n",
       "    <tr>\n",
       "      <th>2020-12-22</th>\n",
       "      <td>0.0</td>\n",
       "      <td>0.0</td>\n",
       "    </tr>\n",
       "    <tr>\n",
       "      <th>2020-12-23</th>\n",
       "      <td>0.0</td>\n",
       "      <td>0.0</td>\n",
       "    </tr>\n",
       "    <tr>\n",
       "      <th>2020-12-24</th>\n",
       "      <td>0.0</td>\n",
       "      <td>0.0</td>\n",
       "    </tr>\n",
       "    <tr>\n",
       "      <th>2020-12-25</th>\n",
       "      <td>0.0</td>\n",
       "      <td>0.0</td>\n",
       "    </tr>\n",
       "    <tr>\n",
       "      <th>2020-12-26</th>\n",
       "      <td>0.0</td>\n",
       "      <td>0.0</td>\n",
       "    </tr>\n",
       "    <tr>\n",
       "      <th>2020-12-27</th>\n",
       "      <td>0.0</td>\n",
       "      <td>0.0</td>\n",
       "    </tr>\n",
       "    <tr>\n",
       "      <th>2020-12-28</th>\n",
       "      <td>0.0</td>\n",
       "      <td>0.0</td>\n",
       "    </tr>\n",
       "    <tr>\n",
       "      <th>2020-12-29</th>\n",
       "      <td>0.0</td>\n",
       "      <td>0.0</td>\n",
       "    </tr>\n",
       "  </tbody>\n",
       "</table>\n",
       "</div>"
      ],
      "text/plain": [
       "group           A      B\n",
       "event_date              \n",
       "2020-12-07  349.0  259.0\n",
       "2020-12-08  186.0  149.0\n",
       "2020-12-09  143.0  105.0\n",
       "2020-12-10  189.0  181.0\n",
       "2020-12-11  157.0  106.0\n",
       "2020-12-12  268.0  198.0\n",
       "2020-12-13  323.0  228.0\n",
       "2020-12-14  366.0  262.0\n",
       "2020-12-15  202.0  141.0\n",
       "2020-12-16  160.0  114.0\n",
       "2020-12-17  202.0  138.0\n",
       "2020-12-18  210.0  172.0\n",
       "2020-12-19  226.0  173.0\n",
       "2020-12-20  255.0  206.0\n",
       "2020-12-21  398.0  285.0\n",
       "2020-12-22    0.0    0.0\n",
       "2020-12-23    0.0    0.0\n",
       "2020-12-24    0.0    0.0\n",
       "2020-12-25    0.0    0.0\n",
       "2020-12-26    0.0    0.0\n",
       "2020-12-27    0.0    0.0\n",
       "2020-12-28    0.0    0.0\n",
       "2020-12-29    0.0    0.0"
      ]
     },
     "metadata": {},
     "output_type": "display_data"
    }
   ],
   "source": [
    "users_join_daily = user_data.pivot_table(columns='group',\n",
    "                                         values='ab_test',\n",
    "                                         index='first_date',\n",
    "                                         aggfunc='count')\n",
    "users_join_daily = revenue_pivot.drop(['A', 'B'], axis=1).join(users_join_daily).fillna(0)\n",
    "display(users_join_daily)"
   ]
  },
  {
   "cell_type": "markdown",
   "id": "efff6184",
   "metadata": {},
   "source": [
    "After the 21st of December user allocation was stopped."
   ]
  },
  {
   "cell_type": "markdown",
   "id": "dfb5ea05",
   "metadata": {},
   "source": [
    "## Exploratory data analysis"
   ]
  },
  {
   "cell_type": "markdown",
   "id": "0c151208",
   "metadata": {},
   "source": [
    "### Events per user by group"
   ]
  },
  {
   "cell_type": "code",
   "execution_count": 111,
   "id": "cb54a290",
   "metadata": {},
   "outputs": [
    {
     "data": {
      "text/html": [
       "<div>\n",
       "<style scoped>\n",
       "    .dataframe tbody tr th:only-of-type {\n",
       "        vertical-align: middle;\n",
       "    }\n",
       "\n",
       "    .dataframe tbody tr th {\n",
       "        vertical-align: top;\n",
       "    }\n",
       "\n",
       "    .dataframe thead th {\n",
       "        text-align: right;\n",
       "    }\n",
       "</style>\n",
       "<table border=\"1\" class=\"dataframe\">\n",
       "  <thead>\n",
       "    <tr style=\"text-align: right;\">\n",
       "      <th></th>\n",
       "      <th>event_date</th>\n",
       "    </tr>\n",
       "    <tr>\n",
       "      <th>group</th>\n",
       "      <th></th>\n",
       "    </tr>\n",
       "  </thead>\n",
       "  <tbody>\n",
       "    <tr>\n",
       "      <th>A</th>\n",
       "      <td>7.031106</td>\n",
       "    </tr>\n",
       "    <tr>\n",
       "      <th>B</th>\n",
       "      <td>5.827822</td>\n",
       "    </tr>\n",
       "  </tbody>\n",
       "</table>\n",
       "</div>"
      ],
      "text/plain": [
       "       event_date\n",
       "group            \n",
       "A        7.031106\n",
       "B        5.827822"
      ]
     },
     "execution_count": 111,
     "metadata": {},
     "output_type": "execute_result"
    }
   ],
   "source": [
    "events.groupby(['user_id','group'])['event_date'].count().reset_index()\\\n",
    "      .groupby('group')['event_date'].mean().to_frame()"
   ]
  },
  {
   "cell_type": "markdown",
   "id": "7fd69a81",
   "metadata": {},
   "source": [
    "The control group has 7 events per user on average, while the test group has only 5.8."
   ]
  },
  {
   "cell_type": "markdown",
   "id": "7843f17e",
   "metadata": {},
   "source": [
    "### Event distribution in groups by date"
   ]
  },
  {
   "cell_type": "code",
   "execution_count": 112,
   "id": "acbf37b3",
   "metadata": {},
   "outputs": [
    {
     "data": {
      "text/html": [
       "<div>\n",
       "<style scoped>\n",
       "    .dataframe tbody tr th:only-of-type {\n",
       "        vertical-align: middle;\n",
       "    }\n",
       "\n",
       "    .dataframe tbody tr th {\n",
       "        vertical-align: top;\n",
       "    }\n",
       "\n",
       "    .dataframe thead th {\n",
       "        text-align: right;\n",
       "    }\n",
       "</style>\n",
       "<table border=\"1\" class=\"dataframe\">\n",
       "  <thead>\n",
       "    <tr style=\"text-align: right;\">\n",
       "      <th>group</th>\n",
       "      <th>A</th>\n",
       "      <th>B</th>\n",
       "    </tr>\n",
       "    <tr>\n",
       "      <th>event_date</th>\n",
       "      <th></th>\n",
       "      <th></th>\n",
       "    </tr>\n",
       "  </thead>\n",
       "  <tbody>\n",
       "    <tr>\n",
       "      <th>2020-12-07</th>\n",
       "      <td>318.0</td>\n",
       "      <td>356.0</td>\n",
       "    </tr>\n",
       "    <tr>\n",
       "      <th>2020-12-08</th>\n",
       "      <td>313.0</td>\n",
       "      <td>238.0</td>\n",
       "    </tr>\n",
       "    <tr>\n",
       "      <th>2020-12-09</th>\n",
       "      <td>371.0</td>\n",
       "      <td>338.0</td>\n",
       "    </tr>\n",
       "    <tr>\n",
       "      <th>2020-12-10</th>\n",
       "      <td>331.0</td>\n",
       "      <td>249.0</td>\n",
       "    </tr>\n",
       "    <tr>\n",
       "      <th>2020-12-11</th>\n",
       "      <td>356.0</td>\n",
       "      <td>161.0</td>\n",
       "    </tr>\n",
       "    <tr>\n",
       "      <th>2020-12-12</th>\n",
       "      <td>346.0</td>\n",
       "      <td>199.0</td>\n",
       "    </tr>\n",
       "    <tr>\n",
       "      <th>2020-12-13</th>\n",
       "      <td>308.0</td>\n",
       "      <td>164.0</td>\n",
       "    </tr>\n",
       "    <tr>\n",
       "      <th>2020-12-14</th>\n",
       "      <td>1015.0</td>\n",
       "      <td>248.0</td>\n",
       "    </tr>\n",
       "    <tr>\n",
       "      <th>2020-12-15</th>\n",
       "      <td>1030.0</td>\n",
       "      <td>222.0</td>\n",
       "    </tr>\n",
       "    <tr>\n",
       "      <th>2020-12-16</th>\n",
       "      <td>1007.0</td>\n",
       "      <td>369.0</td>\n",
       "    </tr>\n",
       "    <tr>\n",
       "      <th>2020-12-17</th>\n",
       "      <td>1200.0</td>\n",
       "      <td>281.0</td>\n",
       "    </tr>\n",
       "    <tr>\n",
       "      <th>2020-12-18</th>\n",
       "      <td>1244.0</td>\n",
       "      <td>259.0</td>\n",
       "    </tr>\n",
       "    <tr>\n",
       "      <th>2020-12-19</th>\n",
       "      <td>1430.0</td>\n",
       "      <td>288.0</td>\n",
       "    </tr>\n",
       "    <tr>\n",
       "      <th>2020-12-20</th>\n",
       "      <td>1434.0</td>\n",
       "      <td>309.0</td>\n",
       "    </tr>\n",
       "    <tr>\n",
       "      <th>2020-12-21</th>\n",
       "      <td>1903.0</td>\n",
       "      <td>401.0</td>\n",
       "    </tr>\n",
       "    <tr>\n",
       "      <th>2020-12-22</th>\n",
       "      <td>1236.0</td>\n",
       "      <td>185.0</td>\n",
       "    </tr>\n",
       "    <tr>\n",
       "      <th>2020-12-23</th>\n",
       "      <td>959.0</td>\n",
       "      <td>189.0</td>\n",
       "    </tr>\n",
       "    <tr>\n",
       "      <th>2020-12-24</th>\n",
       "      <td>850.0</td>\n",
       "      <td>149.0</td>\n",
       "    </tr>\n",
       "    <tr>\n",
       "      <th>2020-12-25</th>\n",
       "      <td>639.0</td>\n",
       "      <td>107.0</td>\n",
       "    </tr>\n",
       "    <tr>\n",
       "      <th>2020-12-26</th>\n",
       "      <td>580.0</td>\n",
       "      <td>113.0</td>\n",
       "    </tr>\n",
       "    <tr>\n",
       "      <th>2020-12-27</th>\n",
       "      <td>547.0</td>\n",
       "      <td>114.0</td>\n",
       "    </tr>\n",
       "    <tr>\n",
       "      <th>2020-12-28</th>\n",
       "      <td>479.0</td>\n",
       "      <td>95.0</td>\n",
       "    </tr>\n",
       "    <tr>\n",
       "      <th>2020-12-29</th>\n",
       "      <td>413.0</td>\n",
       "      <td>73.0</td>\n",
       "    </tr>\n",
       "    <tr>\n",
       "      <th>2020-12-30</th>\n",
       "      <td>0.0</td>\n",
       "      <td>4.0</td>\n",
       "    </tr>\n",
       "  </tbody>\n",
       "</table>\n",
       "</div>"
      ],
      "text/plain": [
       "group            A      B\n",
       "event_date               \n",
       "2020-12-07   318.0  356.0\n",
       "2020-12-08   313.0  238.0\n",
       "2020-12-09   371.0  338.0\n",
       "2020-12-10   331.0  249.0\n",
       "2020-12-11   356.0  161.0\n",
       "2020-12-12   346.0  199.0\n",
       "2020-12-13   308.0  164.0\n",
       "2020-12-14  1015.0  248.0\n",
       "2020-12-15  1030.0  222.0\n",
       "2020-12-16  1007.0  369.0\n",
       "2020-12-17  1200.0  281.0\n",
       "2020-12-18  1244.0  259.0\n",
       "2020-12-19  1430.0  288.0\n",
       "2020-12-20  1434.0  309.0\n",
       "2020-12-21  1903.0  401.0\n",
       "2020-12-22  1236.0  185.0\n",
       "2020-12-23   959.0  189.0\n",
       "2020-12-24   850.0  149.0\n",
       "2020-12-25   639.0  107.0\n",
       "2020-12-26   580.0  113.0\n",
       "2020-12-27   547.0  114.0\n",
       "2020-12-28   479.0   95.0\n",
       "2020-12-29   413.0   73.0\n",
       "2020-12-30     0.0    4.0"
      ]
     },
     "metadata": {},
     "output_type": "display_data"
    }
   ],
   "source": [
    "events_pivot = events.pivot_table(columns='group', values='event_name', index='event_date',aggfunc='count').fillna(0)\n",
    "display(events_pivot)"
   ]
  },
  {
   "cell_type": "code",
   "execution_count": 113,
   "id": "c85192be",
   "metadata": {
    "scrolled": false
   },
   "outputs": [
    {
     "data": {
      "image/png": "[encoded data removed]",
      "text/plain": [
       "<Figure size 864x432 with 1 Axes>"
      ]
     },
     "metadata": {
      "needs_background": "light"
     },
     "output_type": "display_data"
    }
   ],
   "source": [
    "\n",
    "events_pivot.plot()\n",
    "plt.xlabel('Date')\n",
    "plt.ylabel('Number of events')\n",
    "plt.title('Event distribution in groups by date')\n",
    "plt.show();"
   ]
  },
  {
   "cell_type": "code",
   "execution_count": 114,
   "id": "9bc4932a",
   "metadata": {
    "scrolled": true
   },
   "outputs": [
    {
     "data": {
      "text/html": [
       "<div>\n",
       "<style scoped>\n",
       "    .dataframe tbody tr th:only-of-type {\n",
       "        vertical-align: middle;\n",
       "    }\n",
       "\n",
       "    .dataframe tbody tr th {\n",
       "        vertical-align: top;\n",
       "    }\n",
       "\n",
       "    .dataframe thead th {\n",
       "        text-align: right;\n",
       "    }\n",
       "</style>\n",
       "<table border=\"1\" class=\"dataframe\">\n",
       "  <thead>\n",
       "    <tr style=\"text-align: right;\">\n",
       "      <th></th>\n",
       "      <th>0</th>\n",
       "    </tr>\n",
       "    <tr>\n",
       "      <th>group</th>\n",
       "      <th></th>\n",
       "    </tr>\n",
       "  </thead>\n",
       "  <tbody>\n",
       "    <tr>\n",
       "      <th>A</th>\n",
       "      <td>762.875000</td>\n",
       "    </tr>\n",
       "    <tr>\n",
       "      <th>B</th>\n",
       "      <td>212.958333</td>\n",
       "    </tr>\n",
       "  </tbody>\n",
       "</table>\n",
       "</div>"
      ],
      "text/plain": [
       "                0\n",
       "group            \n",
       "A      762.875000\n",
       "B      212.958333"
      ]
     },
     "execution_count": 114,
     "metadata": {},
     "output_type": "execute_result"
    }
   ],
   "source": [
    "events_pivot.mean().to_frame()"
   ]
  },
  {
   "cell_type": "markdown",
   "id": "212e4870",
   "metadata": {},
   "source": [
    "* The test group users perform 213 actions per day on average, while the control group users perform 769 actions per day.\n",
    "* The control group users activity increases during period from the 13th of December and reaches its peak on the 20th. \n",
    "* The test group users activity does not change significantly during the whole period of test."
   ]
  },
  {
   "cell_type": "markdown",
   "id": "5128358b",
   "metadata": {},
   "source": [
    "### Change of conversion rates in the funnel by groups"
   ]
  },
  {
   "cell_type": "code",
   "execution_count": 115,
   "id": "2c136f28",
   "metadata": {},
   "outputs": [],
   "source": [
    "funnel =  events.pivot_table(columns='group',\n",
    "                   index='event_name',\n",
    "                   values='user_id', \n",
    "                   aggfunc='nunique')                  "
   ]
  },
  {
   "cell_type": "code",
   "execution_count": 116,
   "id": "835280b1",
   "metadata": {},
   "outputs": [
    {
     "data": {
      "text/html": [
       "<div>\n",
       "<style scoped>\n",
       "    .dataframe tbody tr th:only-of-type {\n",
       "        vertical-align: middle;\n",
       "    }\n",
       "\n",
       "    .dataframe tbody tr th {\n",
       "        vertical-align: top;\n",
       "    }\n",
       "\n",
       "    .dataframe thead th {\n",
       "        text-align: right;\n",
       "    }\n",
       "</style>\n",
       "<table border=\"1\" class=\"dataframe\">\n",
       "  <thead>\n",
       "    <tr style=\"text-align: right;\">\n",
       "      <th></th>\n",
       "      <th>first_date</th>\n",
       "    </tr>\n",
       "    <tr>\n",
       "      <th>group</th>\n",
       "      <th></th>\n",
       "    </tr>\n",
       "  </thead>\n",
       "  <tbody>\n",
       "    <tr>\n",
       "      <th>A</th>\n",
       "      <td>3634</td>\n",
       "    </tr>\n",
       "    <tr>\n",
       "      <th>B</th>\n",
       "      <td>2717</td>\n",
       "    </tr>\n",
       "  </tbody>\n",
       "</table>\n",
       "</div>"
      ],
      "text/plain": [
       "       first_date\n",
       "group            \n",
       "A            3634\n",
       "B            2717"
      ]
     },
     "execution_count": 116,
     "metadata": {},
     "output_type": "execute_result"
    }
   ],
   "source": [
    "user_data.groupby('group')['first_date'].count().to_frame()"
   ]
  },
  {
   "cell_type": "markdown",
   "id": "9579ba73",
   "metadata": {},
   "source": [
    "Calculating the user conversion funnel."
   ]
  },
  {
   "cell_type": "code",
   "execution_count": 117,
   "id": "5b6900b6",
   "metadata": {
    "scrolled": true
   },
   "outputs": [
    {
     "data": {
      "text/html": [
       "<div>\n",
       "<style scoped>\n",
       "    .dataframe tbody tr th:only-of-type {\n",
       "        vertical-align: middle;\n",
       "    }\n",
       "\n",
       "    .dataframe tbody tr th {\n",
       "        vertical-align: top;\n",
       "    }\n",
       "\n",
       "    .dataframe thead th {\n",
       "        text-align: right;\n",
       "    }\n",
       "</style>\n",
       "<table border=\"1\" class=\"dataframe\">\n",
       "  <thead>\n",
       "    <tr style=\"text-align: right;\">\n",
       "      <th>group</th>\n",
       "      <th>A</th>\n",
       "      <th>B</th>\n",
       "    </tr>\n",
       "    <tr>\n",
       "      <th>event_name</th>\n",
       "      <th></th>\n",
       "      <th></th>\n",
       "    </tr>\n",
       "  </thead>\n",
       "  <tbody>\n",
       "    <tr>\n",
       "      <th>registered</th>\n",
       "      <td>3634</td>\n",
       "      <td>2717</td>\n",
       "    </tr>\n",
       "    <tr>\n",
       "      <th>login</th>\n",
       "      <td>2604</td>\n",
       "      <td>877</td>\n",
       "    </tr>\n",
       "    <tr>\n",
       "      <th>product_page</th>\n",
       "      <td>1685</td>\n",
       "      <td>493</td>\n",
       "    </tr>\n",
       "    <tr>\n",
       "      <th>product_cart</th>\n",
       "      <td>782</td>\n",
       "      <td>244</td>\n",
       "    </tr>\n",
       "    <tr>\n",
       "      <th>purchase</th>\n",
       "      <td>833</td>\n",
       "      <td>249</td>\n",
       "    </tr>\n",
       "  </tbody>\n",
       "</table>\n",
       "</div>"
      ],
      "text/plain": [
       "group            A     B\n",
       "event_name              \n",
       "registered    3634  2717\n",
       "login         2604   877\n",
       "product_page  1685   493\n",
       "product_cart   782   244\n",
       "purchase       833   249"
      ]
     },
     "execution_count": 117,
     "metadata": {},
     "output_type": "execute_result"
    }
   ],
   "source": [
    "funnel.loc['registered'] = user_data.groupby('group')['first_date'].count()\n",
    "funnel = funnel.loc[['registered','login','product_page','product_cart','purchase']]\n",
    "funnel"
   ]
  },
  {
   "cell_type": "markdown",
   "id": "bfe291a5",
   "metadata": {},
   "source": [
    "The same data in percents."
   ]
  },
  {
   "cell_type": "code",
   "execution_count": 118,
   "id": "13840abd",
   "metadata": {
    "scrolled": false
   },
   "outputs": [
    {
     "data": {
      "text/html": [
       "<div>\n",
       "<style scoped>\n",
       "    .dataframe tbody tr th:only-of-type {\n",
       "        vertical-align: middle;\n",
       "    }\n",
       "\n",
       "    .dataframe tbody tr th {\n",
       "        vertical-align: top;\n",
       "    }\n",
       "\n",
       "    .dataframe thead th {\n",
       "        text-align: right;\n",
       "    }\n",
       "</style>\n",
       "<table border=\"1\" class=\"dataframe\">\n",
       "  <thead>\n",
       "    <tr style=\"text-align: right;\">\n",
       "      <th>group</th>\n",
       "      <th>A</th>\n",
       "      <th>B</th>\n",
       "    </tr>\n",
       "    <tr>\n",
       "      <th>event_name</th>\n",
       "      <th></th>\n",
       "      <th></th>\n",
       "    </tr>\n",
       "  </thead>\n",
       "  <tbody>\n",
       "    <tr>\n",
       "      <th>registered</th>\n",
       "      <td>1.000000</td>\n",
       "      <td>1.000000</td>\n",
       "    </tr>\n",
       "    <tr>\n",
       "      <th>login</th>\n",
       "      <td>0.716566</td>\n",
       "      <td>0.322782</td>\n",
       "    </tr>\n",
       "    <tr>\n",
       "      <th>product_page</th>\n",
       "      <td>0.463676</td>\n",
       "      <td>0.181450</td>\n",
       "    </tr>\n",
       "    <tr>\n",
       "      <th>product_cart</th>\n",
       "      <td>0.215190</td>\n",
       "      <td>0.089805</td>\n",
       "    </tr>\n",
       "    <tr>\n",
       "      <th>purchase</th>\n",
       "      <td>0.229224</td>\n",
       "      <td>0.091645</td>\n",
       "    </tr>\n",
       "  </tbody>\n",
       "</table>\n",
       "</div>"
      ],
      "text/plain": [
       "group                A         B\n",
       "event_name                      \n",
       "registered    1.000000  1.000000\n",
       "login         0.716566  0.322782\n",
       "product_page  0.463676  0.181450\n",
       "product_cart  0.215190  0.089805\n",
       "purchase      0.229224  0.091645"
      ]
     },
     "execution_count": 118,
     "metadata": {},
     "output_type": "execute_result"
    }
   ],
   "source": [
    "funnel/funnel.loc['registered']"
   ]
  },
  {
   "cell_type": "code",
   "execution_count": 119,
   "id": "db8e96f9",
   "metadata": {
    "scrolled": true
   },
   "outputs": [
    {
     "data": {
      "text/html": [
       "<div>\n",
       "<style scoped>\n",
       "    .dataframe tbody tr th:only-of-type {\n",
       "        vertical-align: middle;\n",
       "    }\n",
       "\n",
       "    .dataframe tbody tr th {\n",
       "        vertical-align: top;\n",
       "    }\n",
       "\n",
       "    .dataframe thead th {\n",
       "        text-align: right;\n",
       "    }\n",
       "</style>\n",
       "<table border=\"1\" class=\"dataframe\">\n",
       "  <thead>\n",
       "    <tr style=\"text-align: right;\">\n",
       "      <th>group</th>\n",
       "      <th>A</th>\n",
       "      <th>B</th>\n",
       "    </tr>\n",
       "    <tr>\n",
       "      <th>event_name</th>\n",
       "      <th></th>\n",
       "      <th></th>\n",
       "    </tr>\n",
       "  </thead>\n",
       "  <tbody>\n",
       "    <tr>\n",
       "      <th>registered</th>\n",
       "      <td>1.395545</td>\n",
       "      <td>3.098062</td>\n",
       "    </tr>\n",
       "    <tr>\n",
       "      <th>login</th>\n",
       "      <td>1.000000</td>\n",
       "      <td>1.000000</td>\n",
       "    </tr>\n",
       "    <tr>\n",
       "      <th>product_page</th>\n",
       "      <td>0.647081</td>\n",
       "      <td>0.562144</td>\n",
       "    </tr>\n",
       "    <tr>\n",
       "      <th>product_cart</th>\n",
       "      <td>0.300307</td>\n",
       "      <td>0.278221</td>\n",
       "    </tr>\n",
       "    <tr>\n",
       "      <th>purchase</th>\n",
       "      <td>0.319892</td>\n",
       "      <td>0.283922</td>\n",
       "    </tr>\n",
       "  </tbody>\n",
       "</table>\n",
       "</div>"
      ],
      "text/plain": [
       "group                A         B\n",
       "event_name                      \n",
       "registered    1.395545  3.098062\n",
       "login         1.000000  1.000000\n",
       "product_page  0.647081  0.562144\n",
       "product_cart  0.300307  0.278221\n",
       "purchase      0.319892  0.283922"
      ]
     },
     "execution_count": 119,
     "metadata": {},
     "output_type": "execute_result"
    }
   ],
   "source": [
    "funnel/funnel.loc['login']"
   ]
  },
  {
   "cell_type": "markdown",
   "id": "074d56ea",
   "metadata": {},
   "source": [
    "Let's also build a funnel for users who participated in only one of our tests, to check if there is any influence of the parallel test on the results."
   ]
  },
  {
   "cell_type": "code",
   "execution_count": 120,
   "id": "b50c1a65",
   "metadata": {},
   "outputs": [],
   "source": [
    "funnel =  events.query(\"user_id not in @another_test_users.user_id\")\\\n",
    "                  .pivot_table(columns='group',\n",
    "                               index='event_name',\n",
    "                               values='user_id', \n",
    "                               aggfunc='nunique')\n",
    "                  "
   ]
  },
  {
   "cell_type": "code",
   "execution_count": 121,
   "id": "d640a417",
   "metadata": {},
   "outputs": [
    {
     "data": {
      "text/html": [
       "<div>\n",
       "<style scoped>\n",
       "    .dataframe tbody tr th:only-of-type {\n",
       "        vertical-align: middle;\n",
       "    }\n",
       "\n",
       "    .dataframe tbody tr th {\n",
       "        vertical-align: top;\n",
       "    }\n",
       "\n",
       "    .dataframe thead th {\n",
       "        text-align: right;\n",
       "    }\n",
       "</style>\n",
       "<table border=\"1\" class=\"dataframe\">\n",
       "  <thead>\n",
       "    <tr style=\"text-align: right;\">\n",
       "      <th></th>\n",
       "      <th>first_date</th>\n",
       "    </tr>\n",
       "    <tr>\n",
       "      <th>group</th>\n",
       "      <th></th>\n",
       "    </tr>\n",
       "  </thead>\n",
       "  <tbody>\n",
       "    <tr>\n",
       "      <th>A</th>\n",
       "      <td>3634</td>\n",
       "    </tr>\n",
       "    <tr>\n",
       "      <th>B</th>\n",
       "      <td>2717</td>\n",
       "    </tr>\n",
       "  </tbody>\n",
       "</table>\n",
       "</div>"
      ],
      "text/plain": [
       "       first_date\n",
       "group            \n",
       "A            3634\n",
       "B            2717"
      ]
     },
     "execution_count": 121,
     "metadata": {},
     "output_type": "execute_result"
    }
   ],
   "source": [
    "user_data.groupby('group')['first_date'].count().to_frame()"
   ]
  },
  {
   "cell_type": "code",
   "execution_count": 122,
   "id": "cae44b14",
   "metadata": {
    "scrolled": true
   },
   "outputs": [
    {
     "data": {
      "text/html": [
       "<div>\n",
       "<style scoped>\n",
       "    .dataframe tbody tr th:only-of-type {\n",
       "        vertical-align: middle;\n",
       "    }\n",
       "\n",
       "    .dataframe tbody tr th {\n",
       "        vertical-align: top;\n",
       "    }\n",
       "\n",
       "    .dataframe thead th {\n",
       "        text-align: right;\n",
       "    }\n",
       "</style>\n",
       "<table border=\"1\" class=\"dataframe\">\n",
       "  <thead>\n",
       "    <tr style=\"text-align: right;\">\n",
       "      <th>group</th>\n",
       "      <th>A</th>\n",
       "      <th>B</th>\n",
       "    </tr>\n",
       "    <tr>\n",
       "      <th>event_name</th>\n",
       "      <th></th>\n",
       "      <th></th>\n",
       "    </tr>\n",
       "  </thead>\n",
       "  <tbody>\n",
       "    <tr>\n",
       "      <th>registered</th>\n",
       "      <td>2713</td>\n",
       "      <td>2036</td>\n",
       "    </tr>\n",
       "    <tr>\n",
       "      <th>login</th>\n",
       "      <td>1939</td>\n",
       "      <td>655</td>\n",
       "    </tr>\n",
       "    <tr>\n",
       "      <th>product_page</th>\n",
       "      <td>1265</td>\n",
       "      <td>367</td>\n",
       "    </tr>\n",
       "    <tr>\n",
       "      <th>product_cart</th>\n",
       "      <td>589</td>\n",
       "      <td>184</td>\n",
       "    </tr>\n",
       "    <tr>\n",
       "      <th>purchase</th>\n",
       "      <td>613</td>\n",
       "      <td>191</td>\n",
       "    </tr>\n",
       "  </tbody>\n",
       "</table>\n",
       "</div>"
      ],
      "text/plain": [
       "group            A     B\n",
       "event_name              \n",
       "registered    2713  2036\n",
       "login         1939   655\n",
       "product_page  1265   367\n",
       "product_cart   589   184\n",
       "purchase       613   191"
      ]
     },
     "execution_count": 122,
     "metadata": {},
     "output_type": "execute_result"
    }
   ],
   "source": [
    "funnel.loc['registered'] = user_data.query(\"user_id not in @another_test_users.user_id\").groupby('group')['first_date'].count()\n",
    "funnel = funnel.loc[['registered','login','product_page','product_cart','purchase']]\n",
    "funnel"
   ]
  },
  {
   "cell_type": "code",
   "execution_count": 123,
   "id": "ac057d65",
   "metadata": {
    "scrolled": false
   },
   "outputs": [
    {
     "data": {
      "text/html": [
       "<div>\n",
       "<style scoped>\n",
       "    .dataframe tbody tr th:only-of-type {\n",
       "        vertical-align: middle;\n",
       "    }\n",
       "\n",
       "    .dataframe tbody tr th {\n",
       "        vertical-align: top;\n",
       "    }\n",
       "\n",
       "    .dataframe thead th {\n",
       "        text-align: right;\n",
       "    }\n",
       "</style>\n",
       "<table border=\"1\" class=\"dataframe\">\n",
       "  <thead>\n",
       "    <tr style=\"text-align: right;\">\n",
       "      <th>group</th>\n",
       "      <th>A</th>\n",
       "      <th>B</th>\n",
       "    </tr>\n",
       "    <tr>\n",
       "      <th>event_name</th>\n",
       "      <th></th>\n",
       "      <th></th>\n",
       "    </tr>\n",
       "  </thead>\n",
       "  <tbody>\n",
       "    <tr>\n",
       "      <th>registered</th>\n",
       "      <td>1.000000</td>\n",
       "      <td>1.000000</td>\n",
       "    </tr>\n",
       "    <tr>\n",
       "      <th>login</th>\n",
       "      <td>0.714707</td>\n",
       "      <td>0.321709</td>\n",
       "    </tr>\n",
       "    <tr>\n",
       "      <th>product_page</th>\n",
       "      <td>0.466273</td>\n",
       "      <td>0.180255</td>\n",
       "    </tr>\n",
       "    <tr>\n",
       "      <th>product_cart</th>\n",
       "      <td>0.217103</td>\n",
       "      <td>0.090373</td>\n",
       "    </tr>\n",
       "    <tr>\n",
       "      <th>purchase</th>\n",
       "      <td>0.225949</td>\n",
       "      <td>0.093811</td>\n",
       "    </tr>\n",
       "  </tbody>\n",
       "</table>\n",
       "</div>"
      ],
      "text/plain": [
       "group                A         B\n",
       "event_name                      \n",
       "registered    1.000000  1.000000\n",
       "login         0.714707  0.321709\n",
       "product_page  0.466273  0.180255\n",
       "product_cart  0.217103  0.090373\n",
       "purchase      0.225949  0.093811"
      ]
     },
     "execution_count": 123,
     "metadata": {},
     "output_type": "execute_result"
    }
   ],
   "source": [
    "funnel/funnel.loc['registered']"
   ]
  },
  {
   "cell_type": "code",
   "execution_count": 124,
   "id": "c8b1185a",
   "metadata": {},
   "outputs": [
    {
     "data": {
      "text/html": [
       "<div>\n",
       "<style scoped>\n",
       "    .dataframe tbody tr th:only-of-type {\n",
       "        vertical-align: middle;\n",
       "    }\n",
       "\n",
       "    .dataframe tbody tr th {\n",
       "        vertical-align: top;\n",
       "    }\n",
       "\n",
       "    .dataframe thead th {\n",
       "        text-align: right;\n",
       "    }\n",
       "</style>\n",
       "<table border=\"1\" class=\"dataframe\">\n",
       "  <thead>\n",
       "    <tr style=\"text-align: right;\">\n",
       "      <th>group</th>\n",
       "      <th>A</th>\n",
       "      <th>B</th>\n",
       "    </tr>\n",
       "    <tr>\n",
       "      <th>event_name</th>\n",
       "      <th></th>\n",
       "      <th></th>\n",
       "    </tr>\n",
       "  </thead>\n",
       "  <tbody>\n",
       "    <tr>\n",
       "      <th>registered</th>\n",
       "      <td>1.399175</td>\n",
       "      <td>3.108397</td>\n",
       "    </tr>\n",
       "    <tr>\n",
       "      <th>login</th>\n",
       "      <td>1.000000</td>\n",
       "      <td>1.000000</td>\n",
       "    </tr>\n",
       "    <tr>\n",
       "      <th>product_page</th>\n",
       "      <td>0.652398</td>\n",
       "      <td>0.560305</td>\n",
       "    </tr>\n",
       "    <tr>\n",
       "      <th>product_cart</th>\n",
       "      <td>0.303765</td>\n",
       "      <td>0.280916</td>\n",
       "    </tr>\n",
       "    <tr>\n",
       "      <th>purchase</th>\n",
       "      <td>0.316142</td>\n",
       "      <td>0.291603</td>\n",
       "    </tr>\n",
       "  </tbody>\n",
       "</table>\n",
       "</div>"
      ],
      "text/plain": [
       "group                A         B\n",
       "event_name                      \n",
       "registered    1.399175  3.108397\n",
       "login         1.000000  1.000000\n",
       "product_page  0.652398  0.560305\n",
       "product_cart  0.303765  0.280916\n",
       "purchase      0.316142  0.291603"
      ]
     },
     "execution_count": 124,
     "metadata": {},
     "output_type": "execute_result"
    }
   ],
   "source": [
    "funnel/funnel.loc['login']"
   ]
  },
  {
   "cell_type": "markdown",
   "id": "0022bfea",
   "metadata": {},
   "source": [
    "### Conclusion"
   ]
  },
  {
   "cell_type": "markdown",
   "id": "18e3e2d4",
   "metadata": {},
   "source": [
    "* A very significant drop in conversion in the test group between registration and login. There is clearly a problem with logins - perhaps users don't receive an email with registration confirmation and forget about our site, or the site with a new interface has a bug with login for new users. We need to inform the development team about it.\n",
    "    * In connection with the problem described above, in the future we will analyse two types of funnels - those starting with registration and those starting with login.\n",
    "* Conducting the second test at the same time did not affect user conversion."
   ]
  },
  {
   "cell_type": "markdown",
   "id": "b4971745",
   "metadata": {},
   "source": [
    "## A/B test results analysis "
   ]
  },
  {
   "cell_type": "markdown",
   "id": "5ec26ef0",
   "metadata": {},
   "source": [
    "### Number of orders by group"
   ]
  },
  {
   "cell_type": "code",
   "execution_count": 125,
   "id": "310a4094",
   "metadata": {},
   "outputs": [
    {
     "data": {
      "image/png": "[encoded data removed]",
      "text/plain": [
       "<Figure size 864x432 with 1 Axes>"
      ]
     },
     "metadata": {
      "needs_background": "light"
     },
     "output_type": "display_data"
    }
   ],
   "source": [
    "purchases_pivot.plot()\n",
    "plt.xlabel('Date')\n",
    "plt.ylabel('Number of orders')\n",
    "plt.title('Number of orders by date')\n",
    "plt.show();"
   ]
  },
  {
   "cell_type": "markdown",
   "id": "19c40afe",
   "metadata": {},
   "source": [
    "**Cumulative number of orders by group**"
   ]
  },
  {
   "cell_type": "code",
   "execution_count": 126,
   "id": "8df16132",
   "metadata": {},
   "outputs": [
    {
     "data": {
      "image/png": "[encoded data removed]",
      "text/plain": [
       "<Figure size 864x432 with 1 Axes>"
      ]
     },
     "metadata": {
      "needs_background": "light"
     },
     "output_type": "display_data"
    }
   ],
   "source": [
    "purchases_pivot.cumsum().plot()\n",
    "plt.xlabel('Date')\n",
    "plt.ylabel('Cumulative number of orders')\n",
    "plt.title('Cumulative number of orders by group')\n",
    "plt.show();"
   ]
  },
  {
   "cell_type": "markdown",
   "id": "0ab422f5",
   "metadata": {},
   "source": [
    "The chart shows that something happened on the 13th of December and users from the control group started buying many times more. However, since there were no promotions on that day, it is worth checking the activity of users who participated in the parallel test. Perhaps it will help to clarify the situation."
   ]
  },
  {
   "cell_type": "markdown",
   "id": "12393b45",
   "metadata": {},
   "source": [
    "**Number of orders by group in the second test**"
   ]
  },
  {
   "cell_type": "code",
   "execution_count": 127,
   "id": "b0a2c0bf",
   "metadata": {},
   "outputs": [],
   "source": [
    "another_test_events = another_test_events.merge(another_test_users, on='user_id', how='inner')\n",
    "another_test_events_pivot = another_test_events.pivot_table(columns='group', values='event_name', index='event_date',aggfunc='count').fillna(0)\n"
   ]
  },
  {
   "cell_type": "code",
   "execution_count": 130,
   "id": "04921879",
   "metadata": {
    "scrolled": false
   },
   "outputs": [
    {
     "data": {
      "image/png": "[encoded data removed]",
      "text/plain": [
       "<Figure size 864x432 with 1 Axes>"
      ]
     },
     "metadata": {
      "needs_background": "light"
     },
     "output_type": "display_data"
    }
   ],
   "source": [
    "another_test_events_pivot.plot()\n",
    "plt.xlabel('Date')\n",
    "plt.ylabel('Number of orders')\n",
    "plt.title('Number of orders by group in the second test')\n",
    "plt.show();"
   ]
  },
  {
   "cell_type": "code",
   "execution_count": 129,
   "id": "fecd39aa",
   "metadata": {},
   "outputs": [
    {
     "data": {
      "image/png": "[encoded data removed]",
      "text/plain": [
       "<Figure size 864x432 with 1 Axes>"
      ]
     },
     "metadata": {
      "needs_background": "light"
     },
     "output_type": "display_data"
    }
   ],
   "source": [
    "another_test_events_pivot.cumsum().plot()\n",
    "plt.xlabel('Date')\n",
    "plt.ylabel('Cumulative number of orders ')\n",
    "plt.title('Cumulative number of orders by group in the second A/B test')\n",
    "plt.show();"
   ]
  },
  {
   "cell_type": "markdown",
   "id": "3cdb1af1",
   "metadata": {},
   "source": [
    "The behaviour of both groups of the parallel test coincides with the behaviour of the control group of the recommendation test. It means that the new recommendation system affected the users from the test group in a negative way."
   ]
  },
  {
   "cell_type": "markdown",
   "id": "867ebff5",
   "metadata": {},
   "source": [
    "#### Conclusion"
   ]
  },
  {
   "cell_type": "markdown",
   "id": "63bf96ce",
   "metadata": {},
   "source": [
    "* The chart shows a strong difference in the number of orders between the test and control groups. \n",
    "* The control group has a sharp increase in the number of purchases around 13-14 December, while the test group does not have such a jump and the number of purchases remains relatively stable throughout the test period.\n",
    "* The sudden increase in user activity on 13-14 December is not an anomaly in the control group of the recommendation test, as it is also present in the second test in both groups.\n",
    "* No influence of the advertising campaign conducted from 25.12 to 3.01 was observed."
   ]
  },
  {
   "cell_type": "markdown",
   "id": "5aafe3f9",
   "metadata": {},
   "source": [
    "###  Cumulative average transaction value by group"
   ]
  },
  {
   "cell_type": "code",
   "execution_count": 133,
   "id": "cb8b0e69",
   "metadata": {
    "scrolled": false
   },
   "outputs": [
    {
     "data": {
      "image/png": "[encoded data removed]",
      "text/plain": [
       "<Figure size 864x432 with 1 Axes>"
      ]
     },
     "metadata": {
      "needs_background": "light"
     },
     "output_type": "display_data"
    }
   ],
   "source": [
    "mean_spend_pivot.cumsum().plot()\n",
    "plt.xlabel('Date')\n",
    "plt.ylabel('Cumulative average transaction value ')\n",
    "plt.title('Cumulative average transaction value by group')\n",
    "plt.show();"
   ]
  },
  {
   "cell_type": "markdown",
   "id": "fbc37e42",
   "metadata": {},
   "source": [
    "#### Conclusion"
   ]
  },
  {
   "cell_type": "markdown",
   "id": "9f38c895",
   "metadata": {},
   "source": [
    "* Unlike the number of purchases, there is no difference in the average transaction value between the test and control groups."
   ]
  },
  {
   "cell_type": "markdown",
   "id": "1e837677",
   "metadata": {},
   "source": [
    "### Transaction values"
   ]
  },
  {
   "cell_type": "code",
   "execution_count": 134,
   "id": "664666dd",
   "metadata": {
    "scrolled": false
   },
   "outputs": [
    {
     "data": {
      "image/png": "[encoded data removed]",
      "text/plain": [
       "<Figure size 864x432 with 1 Axes>"
      ]
     },
     "metadata": {
      "needs_background": "light"
     },
     "output_type": "display_data"
    }
   ],
   "source": [
    "revenue_pivot.plot()\n",
    "plt.xlabel('Date')\n",
    "plt.ylabel('Transaction values')\n",
    "plt.title('Transaction values by group')\n",
    "plt.show();"
   ]
  },
  {
   "cell_type": "markdown",
   "id": "153dff26",
   "metadata": {},
   "source": [
    "#### Conclusion"
   ]
  },
  {
   "cell_type": "markdown",
   "id": "9409b600",
   "metadata": {},
   "source": [
    "* Along with the number of orders in the control group from 13-14 December, the total revenue is also increasing.\n",
    "* There is a small peak around the 21st of December, possibly caused by the advertising campaign. However, this effect is insignificant within the entire test."
   ]
  },
  {
   "cell_type": "markdown",
   "id": "8f39d66d",
   "metadata": {},
   "source": [
    "### Relative change in cumulative average transaction value"
   ]
  },
  {
   "cell_type": "code",
   "execution_count": 135,
   "id": "c12d3394",
   "metadata": {},
   "outputs": [
    {
     "data": {
      "image/png": "[encoded data removed]",
      "text/plain": [
       "<Figure size 864x432 with 1 Axes>"
      ]
     },
     "metadata": {
      "needs_background": "light"
     },
     "output_type": "display_data"
    }
   ],
   "source": [
    "(mean_spend_pivot['B'] / mean_spend_pivot['A'] - 1).plot()\n",
    "plt.xlabel('Date')\n",
    "plt.ylabel('Relative change')\n",
    "plt.title('Relative change in cumulative average transaction value')\n",
    "plt.show();"
   ]
  },
  {
   "cell_type": "markdown",
   "id": "75cb58b2",
   "metadata": {},
   "source": [
    "#### Conclusion"
   ]
  },
  {
   "cell_type": "markdown",
   "id": "9f58eb88",
   "metadata": {},
   "source": [
    "* The average transaction value between the test and control groups is not significantly different.\n",
    "* There is only one noticeable outlier around the 13th of December.\n",
    "* There is a small outlier after 25 December, possibly caused by an advertising campaign."
   ]
  },
  {
   "cell_type": "markdown",
   "id": "77596e9f",
   "metadata": {},
   "source": [
    "###  Cumulative conversion by group"
   ]
  },
  {
   "cell_type": "code",
   "execution_count": 137,
   "id": "bd6f587f",
   "metadata": {},
   "outputs": [
    {
     "data": {
      "image/png": "[encoded data removed]",
      "text/plain": [
       "<Figure size 864x432 with 1 Axes>"
      ]
     },
     "metadata": {
      "needs_background": "light"
     },
     "output_type": "display_data"
    }
   ],
   "source": [
    "cum_conv = (purchases_pivot.cumsum() / logins_pivot.cumsum())\n",
    "(purchases_pivot.cumsum() / logins_pivot.cumsum()).plot()\n",
    "plt.xlabel('Date')\n",
    "plt.ylabel('Cumulative conversion ')\n",
    "plt.title('Cumulative conversion by group')\n",
    "plt.show()"
   ]
  },
  {
   "cell_type": "markdown",
   "id": "19779f17",
   "metadata": {},
   "source": [
    "#### Conclusion"
   ]
  },
  {
   "cell_type": "markdown",
   "id": "df11b5cd",
   "metadata": {},
   "source": [
    "* There is a drastic drop in the cumulative conversion rate of the test group during the first week of the test. This is probably due to the above-mentioned problem of low level of users returning to the site after registration.\n",
    "* After the 13th of December the cumulative conversion rate of the test group remains relatively constant.\n",
    "* The control group also shows a relatively insignificant decrease in conversion at the beginning of the test period.\n",
    "* After 13 December, the cumulative conversion rate of the control group is steadily increasing.\n",
    "* The influence of the New Year advertising campaign on the conversion rate is not noticeable."
   ]
  },
  {
   "cell_type": "markdown",
   "id": "4eb9cbe8",
   "metadata": {},
   "source": [
    "### Relative change in cumulative conversion of group B to group A"
   ]
  },
  {
   "cell_type": "code",
   "execution_count": 75,
   "id": "7b0883ee",
   "metadata": {},
   "outputs": [
    {
     "data": {
      "image/png": "[encoded data removed]",
      "text/plain": [
       "<Figure size 864x432 with 1 Axes>"
      ]
     },
     "metadata": {
      "needs_background": "light"
     },
     "output_type": "display_data"
    }
   ],
   "source": [
    "(cum_conv['B'] / cum_conv['A'] - 1).plot()\n",
    "plt.axhline(0, c='red')\n",
    "plt.xlabel('Date')\n",
    "plt.ylabel('Relative change ')\n",
    "plt.title('Relative change in cumulative conversion of group B to group A')\n",
    "plt.show();"
   ]
  },
  {
   "cell_type": "markdown",
   "id": "668e1d30",
   "metadata": {},
   "source": [
    "#### Conclusion"
   ]
  },
  {
   "cell_type": "markdown",
   "id": "dad127c6",
   "metadata": {},
   "source": [
    "* The difference between groups changes from positive to negative over the time period.\n",
    "* At the beginning of the test period, the cumulative conversion rate in the test group was higher than in the control group. \n",
    "* After about 16 December, the cumulative conversion of the control group exceeded the test group."
   ]
  },
  {
   "cell_type": "markdown",
   "id": "04a5339e",
   "metadata": {},
   "source": [
    "### Statistical significance"
   ]
  },
  {
   "cell_type": "markdown",
   "id": "63867d2e",
   "metadata": {},
   "source": [
    "Create a function for z-test."
   ]
  },
  {
   "cell_type": "code",
   "execution_count": 138,
   "id": "3a7c1222",
   "metadata": {},
   "outputs": [],
   "source": [
    "def z_test(data, metric, alpha = .05):\n",
    "\n",
    "    conversionA = data.loc[data.group == 'A', metric].astype('int')\n",
    "    conversionB = data.loc[data.group == 'B', metric].astype('int')\n",
    "\n",
    "    successes = np.array([conversionA.sum(), conversionB.sum()])\n",
    "    trials = np.array([conversionA.count(), conversionB.count()])\n",
    "\n",
    "    # success ratio of the first group\n",
    "    p1 = successes[0]/trials[0]\n",
    "\n",
    "    # success ratio of the second group\n",
    "    p2 = successes[1]/trials[1]\n",
    "\n",
    "    # success ratio of the first group in the combined dataset:\n",
    "    p_combined = (successes[0] + successes[1]) / (trials[0] + trials[1])\n",
    "\n",
    "    # success ratio difference\n",
    "    difference = p1 - p2 \n",
    "\n",
    "    # count statistics in standard deviations of the standard normal distribution\n",
    "    z_value = difference / mth.sqrt(p_combined * (1 - p_combined) * (1/trials[0] + 1/trials[1]))\n",
    "\n",
    "    # set standard normal distribution (mean 0, standard deviation 1)\n",
    "    distr = stats.norm(0, 1)  \n",
    "\n",
    "\n",
    "    # count statistics in standard deviations of the standard normal distribution\n",
    "    z_value = difference / mth.sqrt(\n",
    "        p_combined * (1 - p_combined) * (1 / trials[0] + 1 / trials[1])\n",
    "    )\n",
    "\n",
    "    # standard normal distribution (mean 0, standard deviation 1)\n",
    "    distr = stats.norm(0, 1)\n",
    "\n",
    "    p_value = (1 - distr.cdf(abs(z_value))) * 2\n",
    "\n",
    "    print('p-value: ', p_value)\n",
    "\n",
    "    if p_value < alpha:\n",
    "        print('Reject the null hypothesis: there is a significant difference between the shares')\n",
    "    else:\n",
    "        print(\n",
    "            'Failed to reject the null hypothesis, there is no reason to consider the fractions to be different'\n",
    "        ) \n",
    "\n",
    "    print('relative change in B to A = {0:.3f}'.format(\n",
    "        conversionB.mean() / \n",
    "        conversionA.mean() - 1))    "
   ]
  },
  {
   "cell_type": "markdown",
   "id": "a569883f",
   "metadata": {},
   "source": [
    "#### Conversion to viewing product cards"
   ]
  },
  {
   "cell_type": "markdown",
   "id": "b7c68d78",
   "metadata": {},
   "source": [
    "$H_0$: There is no difference in conversion to product browsing between test and control groups\n",
    "\n",
    "$H_1$: Conversion to product browsing in control group is at least +10% higher than the test group with the new feature."
   ]
  },
  {
   "cell_type": "markdown",
   "id": "a89d1841",
   "metadata": {},
   "source": [
    "For users with a lifetime of 14 days "
   ]
  },
  {
   "cell_type": "markdown",
   "id": "49bf1705",
   "metadata": {},
   "source": [
    "Registration as the beginning of a funnel"
   ]
  },
  {
   "cell_type": "code",
   "execution_count": 143,
   "id": "05015bc4",
   "metadata": {
    "scrolled": true
   },
   "outputs": [
    {
     "name": "stdout",
     "output_type": "stream",
     "text": [
      "p-value:  0.0\n",
      "Reject the null hypothesis: there is a significant difference between the shares\n",
      "relative change in B to A = -0.439\n"
     ]
    }
   ],
   "source": [
    "z_test(user_data_d14, 'product_page')"
   ]
  },
  {
   "cell_type": "markdown",
   "id": "fe14e9c6",
   "metadata": {},
   "source": [
    "Login as the beginning of a funnel"
   ]
  },
  {
   "cell_type": "code",
   "execution_count": 144,
   "id": "8abb99fe",
   "metadata": {
    "scrolled": true
   },
   "outputs": [
    {
     "name": "stdout",
     "output_type": "stream",
     "text": [
      "p-value:  0.01736522155918485\n",
      "Reject the null hypothesis: there is a significant difference between the shares\n",
      "relative change in B to A = -0.091\n"
     ]
    }
   ],
   "source": [
    "z_test(user_data_d14.query(\"login == 1\"), 'product_page')"
   ]
  },
  {
   "cell_type": "markdown",
   "id": "71eaf9c8",
   "metadata": {},
   "source": [
    "For users with a lifetime of 7 days "
   ]
  },
  {
   "cell_type": "markdown",
   "id": "e36514d8",
   "metadata": {},
   "source": [
    "Registration as the beginning of a funnel"
   ]
  },
  {
   "cell_type": "code",
   "execution_count": 145,
   "id": "f4b9449a",
   "metadata": {
    "scrolled": false
   },
   "outputs": [
    {
     "name": "stdout",
     "output_type": "stream",
     "text": [
      "p-value:  0.0\n",
      "Reject the null hypothesis: there is a significant difference between the shares\n",
      "relative change in B to A = -0.609\n"
     ]
    }
   ],
   "source": [
    "z_test(user_data_d7, 'product_page')"
   ]
  },
  {
   "cell_type": "markdown",
   "id": "dcf62367",
   "metadata": {},
   "source": [
    "Login as the beginning of a funnel"
   ]
  },
  {
   "cell_type": "code",
   "execution_count": 146,
   "id": "6e3b2128",
   "metadata": {
    "scrolled": false
   },
   "outputs": [
    {
     "name": "stdout",
     "output_type": "stream",
     "text": [
      "p-value:  7.31671814202528e-06\n",
      "Reject the null hypothesis: there is a significant difference between the shares\n",
      "relative change in B to A = -0.131\n"
     ]
    }
   ],
   "source": [
    "z_test(user_data_d7.query(\"login == 1\"), 'product_page')"
   ]
  },
  {
   "cell_type": "markdown",
   "id": "99168776",
   "metadata": {},
   "source": [
    "##### Conclusion"
   ]
  },
  {
   "cell_type": "markdown",
   "id": "65e86c57",
   "metadata": {},
   "source": [
    "* User conversion between registration and product browsing is different between groups by 43% in favour of the control group for users with a lifetime of 14 days and 60% for 7 days.\n",
    "* The probability of making a mistake when rejecting the null hypothesis is close to zero.\n",
    "    * The control group showed better conversion results with the new recommendation feature than the test group.\n",
    "* In case of counting the conversion from the stage of user login to the site, the difference between the conversions of the two groups is strongly reduced and amounts to 9% for users with 14 days of lifetime and 13% with 7 days in favour of the control group.\n",
    "    * However, this difference is still large and does not give any reason to consider the groups the same.\n",
    "* There was no expected improvement in conversions when the new feature was added to the site."
   ]
  },
  {
   "cell_type": "markdown",
   "id": "0e117b09",
   "metadata": {},
   "source": [
    "#### Conversion to basket view"
   ]
  },
  {
   "cell_type": "markdown",
   "id": "bed16e8a",
   "metadata": {},
   "source": [
    "$H_0$: There is no difference in conversion to basket view between test and control groups\n",
    "\n",
    "$H_1$: Conversion to  basket view in control group is at least +10% higher than the test group with the new feature."
   ]
  },
  {
   "cell_type": "markdown",
   "id": "b3b28200",
   "metadata": {},
   "source": [
    "For users with a lifetime of 14 days "
   ]
  },
  {
   "cell_type": "markdown",
   "id": "825bce2c",
   "metadata": {},
   "source": [
    "Registration as the beginning of a funnel"
   ]
  },
  {
   "cell_type": "code",
   "execution_count": 147,
   "id": "d84559fb",
   "metadata": {
    "scrolled": true
   },
   "outputs": [
    {
     "name": "stdout",
     "output_type": "stream",
     "text": [
      "p-value:  8.22533152700089e-11\n",
      "Reject the null hypothesis: there is a significant difference between the shares\n",
      "relative change in B to A = -0.422\n"
     ]
    }
   ],
   "source": [
    "z_test(user_data_d14, 'product_cart')"
   ]
  },
  {
   "cell_type": "markdown",
   "id": "038f0bd1",
   "metadata": {},
   "source": [
    "Login as the beginning of a funnel"
   ]
  },
  {
   "cell_type": "code",
   "execution_count": 148,
   "id": "fb9074e5",
   "metadata": {
    "scrolled": true
   },
   "outputs": [
    {
     "name": "stdout",
     "output_type": "stream",
     "text": [
      "p-value:  0.39503207429426856\n",
      "Failed to reject the null hypothesis, there is no reason to consider the fractions to be different\n",
      "relative change in B to A = -0.064\n"
     ]
    }
   ],
   "source": [
    "z_test(user_data_d14.query(\"login == 1\"), 'product_cart')"
   ]
  },
  {
   "cell_type": "markdown",
   "id": "89175d23",
   "metadata": {},
   "source": [
    "For users with a lifetime of 7 days "
   ]
  },
  {
   "cell_type": "markdown",
   "id": "6efc9a27",
   "metadata": {},
   "source": [
    "Registration as the beginning of a funnel"
   ]
  },
  {
   "cell_type": "code",
   "execution_count": 149,
   "id": "2ba59ccd",
   "metadata": {
    "scrolled": false
   },
   "outputs": [
    {
     "name": "stdout",
     "output_type": "stream",
     "text": [
      "p-value:  0.0\n",
      "Reject the null hypothesis: there is a significant difference between the shares\n",
      "relative change in B to A = -0.583\n"
     ]
    }
   ],
   "source": [
    "z_test(user_data_d7, 'product_cart')"
   ]
  },
  {
   "cell_type": "markdown",
   "id": "f2c7c1e2",
   "metadata": {},
   "source": [
    "Login as the beginning of a funnel"
   ]
  },
  {
   "cell_type": "code",
   "execution_count": 150,
   "id": "783dec3e",
   "metadata": {
    "scrolled": false
   },
   "outputs": [
    {
     "name": "stdout",
     "output_type": "stream",
     "text": [
      "p-value:  0.22866282948887662\n",
      "Failed to reject the null hypothesis, there is no reason to consider the fractions to be different\n",
      "relative change in B to A = -0.071\n"
     ]
    }
   ],
   "source": [
    "z_test(user_data_d7.query(\"login == 1\"), 'product_cart')"
   ]
  },
  {
   "cell_type": "markdown",
   "id": "1cfdae5e",
   "metadata": {},
   "source": [
    "##### Conclusion"
   ]
  },
  {
   "cell_type": "markdown",
   "id": "fe19716a",
   "metadata": {},
   "source": [
    "* Conversion from registration to cart browsing of the control group is higher by 42% for users with a lifetime of 14 days and 58% for 7 days. \n",
    "    * In this case, when the null hypothesis is rejected, the chance of making a mistake tends to zero.\n",
    "    * Hence the control group performed better than the group with the new recommendation engine.\n",
    "* When taking the login stage as the starting point, the difference in conversion is greatly reduced. \n",
    "    * The conversion of the control group is only 6.4% higher than the test group for users with a lifetime of 14 days and 7.1% for 7 days.\n",
    "    * In this case, the difference between the groups is insignificant and there is no reason to reject the null hypothesis.\n",
    "    * This suggests that the new recommendation engine had a negative effect on users at the stage between registration and login. At further stages its impact is not significant."
   ]
  },
  {
   "cell_type": "markdown",
   "id": "c1ce2f75",
   "metadata": {},
   "source": [
    "#### Conversion to purchases "
   ]
  },
  {
   "cell_type": "markdown",
   "id": "63cc80fa",
   "metadata": {},
   "source": [
    "$H_0$: There is no difference in conversion to purchases between test and control groups\n",
    "\n",
    "$H_1$: Conversion to purchases in control group is at least +10% higher than the test group with the new feature."
   ]
  },
  {
   "cell_type": "markdown",
   "id": "9d0aa5c3",
   "metadata": {},
   "source": [
    "For users with a lifetime of 14 days"
   ]
  },
  {
   "cell_type": "markdown",
   "id": "04775de6",
   "metadata": {},
   "source": [
    "Registration as the beginning of the funnel"
   ]
  },
  {
   "cell_type": "code",
   "execution_count": 151,
   "id": "d3ea2b5d",
   "metadata": {
    "scrolled": false
   },
   "outputs": [
    {
     "name": "stdout",
     "output_type": "stream",
     "text": [
      "p-value:  8.83967343767722e-10\n",
      "Reject the null hypothesis: there is a significant difference between the shares\n",
      "relative change in B to A = -0.402\n"
     ]
    }
   ],
   "source": [
    "z_test(user_data_d14, 'purchase')"
   ]
  },
  {
   "cell_type": "markdown",
   "id": "890bbc43",
   "metadata": {},
   "source": [
    "Login as the beginning of a funnel"
   ]
  },
  {
   "cell_type": "code",
   "execution_count": 152,
   "id": "55240dc8",
   "metadata": {
    "scrolled": true
   },
   "outputs": [
    {
     "name": "stdout",
     "output_type": "stream",
     "text": [
      "p-value:  0.6222750186056665\n",
      "Failed to reject the null hypothesis, there is no reason to consider the fractions to be different\n",
      "relative change in B to A = -0.037\n"
     ]
    }
   ],
   "source": [
    "z_test(user_data_d14.query(\"login == 1\"), 'purchase')"
   ]
  },
  {
   "cell_type": "markdown",
   "id": "76b6e551",
   "metadata": {},
   "source": [
    "For users with a lifetime of 7 days"
   ]
  },
  {
   "cell_type": "markdown",
   "id": "457cdd00",
   "metadata": {},
   "source": [
    "Registration as the beginning of a funnel"
   ]
  },
  {
   "cell_type": "code",
   "execution_count": 153,
   "id": "83debbeb",
   "metadata": {
    "scrolled": false
   },
   "outputs": [
    {
     "name": "stdout",
     "output_type": "stream",
     "text": [
      "p-value:  0.0\n",
      "Reject the null hypothesis: there is a significant difference between the shares\n",
      "relative change in B to A = -0.600\n"
     ]
    }
   ],
   "source": [
    "z_test(user_data_d7, 'purchase')"
   ]
  },
  {
   "cell_type": "markdown",
   "id": "77123c75",
   "metadata": {},
   "source": [
    "Login as the beginning of a funnel"
   ]
  },
  {
   "cell_type": "code",
   "execution_count": 154,
   "id": "2b0d99f0",
   "metadata": {
    "scrolled": true
   },
   "outputs": [
    {
     "name": "stdout",
     "output_type": "stream",
     "text": [
      "p-value:  0.04375780525660189\n",
      "Reject the null hypothesis: there is a significant difference between the shares\n",
      "relative change in B to A = -0.114\n"
     ]
    }
   ],
   "source": [
    "z_test(user_data_d7.query(\"login == 1\"), 'purchase')"
   ]
  },
  {
   "cell_type": "markdown",
   "id": "4da386d4",
   "metadata": {},
   "source": [
    "##### Conclusion"
   ]
  },
  {
   "cell_type": "markdown",
   "id": "c50397bf",
   "metadata": {},
   "source": [
    "* Conversion of registrations to purchases is 40% higher for the control group of users with a 14-day lifespan and 60% with a 7-day lifespan.\n",
    "    * There is no reason to consider the test and control groups the same.\n",
    "* In the case of counting conversion from the login stage, for users with a Lifetime of 14 days, the new feature had no significant impact on the conversion of registrations into purchases.\n",
    "    * The control group is only 3% higher than the test group. This difference is not significant. There is no reason to reject the null hypothesis.\n",
    "    * Whereas for users with a 7-day lifespan, the difference was slightly greater - 11% in favour of the control group.\n",
    "* The introduction of the new feature on the site did not show any improvement in the conversion of registrations into purchases."
   ]
  },
  {
   "cell_type": "markdown",
   "id": "4e867c6f",
   "metadata": {},
   "source": [
    "## Final conclusion"
   ]
  },
  {
   "cell_type": "markdown",
   "id": "a172238d",
   "metadata": {},
   "source": [
    "1. The following steps were performed while preparing for the analysis:\n",
    "* User and event records about the new recommendation feature test were extracted from the data.\n",
    "    * Test participants that do not belong to the EU region specified in the ToR were also filtered out.\n",
    "    * Verified that each user is a member of only one group.\n",
    "    * It was discovered that users' activity records were cut off on 30 December, almost a week earlier than planned (4 January).\n",
    "        * Therefore, not all users had a planned event horizon of 14 days.\n",
    "        * To solve this problem, the metrics were calculated twice - for users with an event horizon of 7 and 14 days.\n",
    "    * Some of the users were also participants in the other A/B test:\n",
    "        * 74% of users from the test and control groups of the recommendation test did not participate in other tests.\n",
    "        * 26% of users also participated in another test. But the distribution of participants of the control and test groups of both tests is uniform, so the influence of the second test on both groups is the same.\n",
    "     * Also at the end of the testing period there was a New Year's Eve advertising campaign:\n",
    "        * Period: from 25 December to 3 January. \n",
    "        * It can be assumed that the promotion didn't have an significant effect on the average transaction value.\n",
    "        * No effect of the promotion on conversions was found either.\n",
    "    * Tables with target and cumulative metrics by day were compiled for each group for the further analysis.\n",
    "      \n",
    "      \n",
    "2. The preliminary analysis highlighted the following:\n",
    "    * The number of new users who participated in the test - 6701, of which:\n",
    "        * In the control group - 3824\n",
    "        * In the test group - 2877\n",
    "        * Only 3675 registered users entered the site and performed any actions afterwards. \n",
    "        * The largest part of users who churn after registration belongs to the test group. That gives reason to assume a negative impact of the new recommendation feature - perhaps they didn't receive an email with registration confirmation and forgot about our site, or the site with a new interface has an issue with the logging in of new users. * We should report this to the development team.\n",
    "        * Due to this problem, metrics were calculated for two scenarios - both registration and login to the site were taken as a starting point.\n",
    "    * The control group had on average 7 events per user, while the test group had 5.8 events per user.\n",
    "    * Users in the test group perform on average 213 actions per day, whereas in the control group there are about 769 actions per day.\n",
    "    * The activity of users from the control group increases after 13 December and reaches its peak on 20 December.\n",
    "       \n",
    "       \n",
    "       \n",
    "3. The A/B test results analysis showed that:\n",
    "    * The observed drastic increase in the number of purchases in the control group around the 13th-14th December is not an anomaly in the recommendation test control group, as it was also present in the second test in both groups.\n",
    "   * The test group does not show similar abrupt change and the number of purchases remains relatively stable throughout the entire testing period.\n",
    "   * Unlike the number of purchases in the average order, there was no difference between the test and control groups.\n",
    "   * Along with the number of orders in the control group from the 13-14th of December the total revenue also increased, which is not observed in the test group.\n",
    "   * There is a small spike in the transaction value in the control group around the 25th of December, possibly caused by the advertising campaign. However, this didn't impact the whole test significantly.\n",
    "    * The average transaction value between the test and control groups is not significantly different.\n",
    "        * There is only one noticeable outlier around the 13th of December.\n",
    "        * There is a small outlier after the 25th of December, possibly caused by the advertising campaign.                   \n",
    "         \n",
    "         \n",
    "* **Registration-to-product-views conversion analysis:**\n",
    "    * There was no expected conversion improvement after the new feature was added to the site.\n",
    "    * User conversion of the control group is 43% higher for users with a 14 day lifetime and 60% for 7 days.\n",
    "        * The control group had better conversion than the test group with the new recommendation feature.\n",
    "    * When the user login is considered as the beginning of the funnel, the difference between the control and test groups is strongly reduced and is 9% for users with 14 days of lifetime and 13% with 7 days in favour of the control group.        \n",
    "    \n",
    "    \n",
    "* **Registration-to-basket-views conversion analysis:**\n",
    "    * The new recommendation feature had a negative impact on users between registration and login. Its influence on further stages is insignificant.\n",
    "    * Registration -> cart view conversion rate of the control group is 42% higher than for the test group for users with a 14 day lifespan and 58% for the 7 day lifespan. \n",
    "        * Hence the control group performed better than the test group with the new recommendation feature.\n",
    "    * The difference in conversion is greatly reduced  when taking the login as the funnel's starting point. \n",
    "        * The conversion rate of the control group is only 6.4% higher than the test group for 14-day and 7.1% for 7-day users.   \n",
    "        \n",
    "        \n",
    "* **Registrations-to-purchases conversion analysis:**\n",
    "    * The control group conversion is 40% higher for users with a  lifetime of 14 days and 60% with a lifetime of 7 days.\n",
    "    * Perhaps the critically low sales in the pre-Christmas period in the test group were the reason for stopping the A/B test a week earlier than planned.\n",
    "    * When the login is considered as the starting point of conversion, the new feature did not significantly affect the registrations-to-purchases conversion rate for 14-day users.\n",
    "        * Conversion for the control group of users is only 3% higher than the test group. This difference is not significant.\n",
    "        * Whereas for users with a 7-day lifetime, the difference was slightly higher - 11% more in the control group. \n",
    "    * The implementation of the new feature on the site did not show any improvement in the conversion of registrations into purchases.\n",
    "\n",
    "\n",
    "**Summary**.      \n",
    "* The A/B analysis showed that the implementation of the new recommendation feature had a significant negative impact on user behaviour. This was probably noticed while the test was still in progress, which is why it was stopped earlier than planned.     \n",
    "* In case of a decision to finalise the recommendation feature, the development team should pay special attention to the problem of low conversion of registrations to logins. "
   ]
  }
 ],
 "metadata": {
  "kernelspec": {
   "display_name": "Python 3 (ipykernel)",
   "language": "python",
   "name": "python3"
  },
  "language_info": {
   "codemirror_mode": {
    "name": "ipython",
    "version": 3
   },
   "file_extension": ".py",
   "mimetype": "text/x-python",
   "name": "python",
   "nbconvert_exporter": "python",
   "pygments_lexer": "ipython3",
   "version": "3.9.12"
  },
  "toc": {
   "base_numbering": 1,
   "nav_menu": {},
   "number_sections": true,
   "sideBar": true,
   "skip_h1_title": true,
   "title_cell": "Table of Contents",
   "title_sidebar": "Contents",
   "toc_cell": false,
   "toc_position": {
    "height": "calc(100% - 180px)",
    "left": "10px",
    "top": "150px",
    "width": "254.47px"
   },
   "toc_section_display": true,
   "toc_window_display": true
  }
 },
 "nbformat": 4,
 "nbformat_minor": 5
}
