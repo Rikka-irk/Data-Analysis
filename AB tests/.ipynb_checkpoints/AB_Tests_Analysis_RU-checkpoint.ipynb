{
 "cells": [
  {
   "cell_type": "markdown",
   "id": "a1ff54c6",
   "metadata": {},
   "source": [
    "# Проведение и анализ результатов A/B-тестирования"
   ]
  },
  {
   "cell_type": "markdown",
   "id": "1da3ceb9",
   "metadata": {},
   "source": [
    "**Цель исследования**   \n",
    "\n",
    "Проанализировать результаты А/В-тестирования и составить рекомендации для увеличения выручки интернет-магазина. "
   ]
  },
  {
   "cell_type": "markdown",
   "id": "1ec1c983",
   "metadata": {},
   "source": [
    "**Ход исследования**    \n",
    " \n",
    "1. Предобработка данных\n",
    "1. Проверка корректности проведенного теста\n",
    "1. Создание дополнительных датафреймов с целевыми и кумулятивными метриками\n",
    "1. Исследовательский анализ данных\n",
    "1. Анализ результатов А/В теста\n",
    "1. Подсчет статистической значимости"
   ]
  },
  {
   "cell_type": "markdown",
   "id": "ac696efe",
   "metadata": {},
   "source": [
    "## Описание данных "
   ]
  },
  {
   "cell_type": "markdown",
   "id": "e6792d31",
   "metadata": {},
   "source": [
    "Подгружаем необходимые для работы библиотеки."
   ]
  },
  {
   "cell_type": "code",
   "execution_count": 1,
   "id": "db80d2a0",
   "metadata": {},
   "outputs": [],
   "source": [
    "import pandas as pd\n",
    "import os\n",
    "import numpy as np\n",
    "from datetime import datetime, timedelta\n",
    "import matplotlib.pyplot as plt\n",
    "import scipy.stats as stats\n",
    "import math as mth\n",
    "from IPython.display import display, Markdown\n",
    "import warnings \n",
    "warnings.filterwarnings('ignore')\n",
    "plt.rcParams['figure.figsize'] = [12, 6]"
   ]
  },
  {
   "cell_type": "markdown",
   "id": "b2e2d72d",
   "metadata": {},
   "source": [
    "Загружаем имеющиеся данные в датафреймы"
   ]
  },
  {
   "cell_type": "markdown",
   "id": "91ed7276",
   "metadata": {},
   "source": [
    "**Tаблица участников тестов**\n",
    "   \n",
    "      \n",
    "- `user_id` — идентификатор пользователя;\n",
    "- `ab_test` — название теста;\n",
    "- `group` — группа пользователя.     "
   ]
  },
  {
   "cell_type": "code",
   "execution_count": 2,
   "id": "4af0833a",
   "metadata": {
    "scrolled": false
   },
   "outputs": [
    {
     "data": {
      "text/html": [
       "<div>\n",
       "<style scoped>\n",
       "    .dataframe tbody tr th:only-of-type {\n",
       "        vertical-align: middle;\n",
       "    }\n",
       "\n",
       "    .dataframe tbody tr th {\n",
       "        vertical-align: top;\n",
       "    }\n",
       "\n",
       "    .dataframe thead th {\n",
       "        text-align: right;\n",
       "    }\n",
       "</style>\n",
       "<table border=\"1\" class=\"dataframe\">\n",
       "  <thead>\n",
       "    <tr style=\"text-align: right;\">\n",
       "      <th></th>\n",
       "      <th>user_id</th>\n",
       "      <th>group</th>\n",
       "      <th>ab_test</th>\n",
       "    </tr>\n",
       "  </thead>\n",
       "  <tbody>\n",
       "    <tr>\n",
       "      <th>4843</th>\n",
       "      <td>2D34B51085716C26</td>\n",
       "      <td>B</td>\n",
       "      <td>recommender_system_test</td>\n",
       "    </tr>\n",
       "    <tr>\n",
       "      <th>12145</th>\n",
       "      <td>62D292818038E1B8</td>\n",
       "      <td>B</td>\n",
       "      <td>interface_eu_test</td>\n",
       "    </tr>\n",
       "    <tr>\n",
       "      <th>16266</th>\n",
       "      <td>F8DA0A9045877881</td>\n",
       "      <td>B</td>\n",
       "      <td>interface_eu_test</td>\n",
       "    </tr>\n",
       "    <tr>\n",
       "      <th>6736</th>\n",
       "      <td>10C69C788ADBDC9A</td>\n",
       "      <td>A</td>\n",
       "      <td>interface_eu_test</td>\n",
       "    </tr>\n",
       "    <tr>\n",
       "      <th>15321</th>\n",
       "      <td>8EDDB0CA2FBA6BE4</td>\n",
       "      <td>A</td>\n",
       "      <td>interface_eu_test</td>\n",
       "    </tr>\n",
       "    <tr>\n",
       "      <th>17359</th>\n",
       "      <td>AA734F805C898448</td>\n",
       "      <td>A</td>\n",
       "      <td>interface_eu_test</td>\n",
       "    </tr>\n",
       "    <tr>\n",
       "      <th>16468</th>\n",
       "      <td>9424487EC5359533</td>\n",
       "      <td>B</td>\n",
       "      <td>interface_eu_test</td>\n",
       "    </tr>\n",
       "    <tr>\n",
       "      <th>18158</th>\n",
       "      <td>B099DCD4984E4130</td>\n",
       "      <td>A</td>\n",
       "      <td>interface_eu_test</td>\n",
       "    </tr>\n",
       "    <tr>\n",
       "      <th>13145</th>\n",
       "      <td>9AC6641A8467E5BF</td>\n",
       "      <td>A</td>\n",
       "      <td>interface_eu_test</td>\n",
       "    </tr>\n",
       "    <tr>\n",
       "      <th>14027</th>\n",
       "      <td>F4BEF7B9C8172E36</td>\n",
       "      <td>B</td>\n",
       "      <td>interface_eu_test</td>\n",
       "    </tr>\n",
       "  </tbody>\n",
       "</table>\n",
       "</div>"
      ],
      "text/plain": [
       "                user_id group                  ab_test\n",
       "4843   2D34B51085716C26     B  recommender_system_test\n",
       "12145  62D292818038E1B8     B        interface_eu_test\n",
       "16266  F8DA0A9045877881     B        interface_eu_test\n",
       "6736   10C69C788ADBDC9A     A        interface_eu_test\n",
       "15321  8EDDB0CA2FBA6BE4     A        interface_eu_test\n",
       "17359  AA734F805C898448     A        interface_eu_test\n",
       "16468  9424487EC5359533     B        interface_eu_test\n",
       "18158  B099DCD4984E4130     A        interface_eu_test\n",
       "13145  9AC6641A8467E5BF     A        interface_eu_test\n",
       "14027  F4BEF7B9C8172E36     B        interface_eu_test"
      ]
     },
     "metadata": {},
     "output_type": "display_data"
    },
    {
     "name": "stdout",
     "output_type": "stream",
     "text": [
      "<class 'pandas.core.frame.DataFrame'>\n",
      "RangeIndex: 18268 entries, 0 to 18267\n",
      "Data columns (total 3 columns):\n",
      " #   Column   Non-Null Count  Dtype \n",
      "---  ------   --------------  ----- \n",
      " 0   user_id  18268 non-null  object\n",
      " 1   group    18268 non-null  object\n",
      " 2   ab_test  18268 non-null  object\n",
      "dtypes: object(3)\n",
      "memory usage: 428.3+ KB\n"
     ]
    },
    {
     "data": {
      "text/plain": [
       "None"
      ]
     },
     "metadata": {},
     "output_type": "display_data"
    }
   ],
   "source": [
    "try: \n",
    "    final_ab_participants = pd.read_csv('https://raw.githubusercontent.com/Rikka-irk/Data-Analysis/main/AB%20tests/final_ab_participants.csv')\n",
    "except: \n",
    "    print('File reading error. Check the URL')\n",
    "\n",
    "display(final_ab_participants.sample(10))\n",
    "display(final_ab_participants.info())"
   ]
  },
  {
   "cell_type": "code",
   "execution_count": 3,
   "id": "639a1b96",
   "metadata": {},
   "outputs": [
    {
     "data": {
      "text/plain": [
       "interface_eu_test          11567\n",
       "recommender_system_test     6701\n",
       "Name: ab_test, dtype: int64"
      ]
     },
     "execution_count": 3,
     "metadata": {},
     "output_type": "execute_result"
    }
   ],
   "source": [
    "final_ab_participants['ab_test'].value_counts()"
   ]
  },
  {
   "cell_type": "markdown",
   "id": "bd1a4692",
   "metadata": {},
   "source": [
    "В таблице содержатся данные не только о пользователях, участвоваших в интересующем нас А/В тесте. Нужно будет отфильтровать лишние данные."
   ]
  },
  {
   "cell_type": "markdown",
   "id": "dd0a1d8d",
   "metadata": {},
   "source": [
    "**Новые пользователи**     \n",
    "    \n",
    "Зарегистрировавшиеся с 7 по 21 декабря 2020 года.   \n",
    "   \n",
    "      \n",
    "      \n",
    "- `user_id` — идентификатор пользователя;\n",
    "- `first_date` — дата регистрации;\n",
    "- `region` — регион пользователя;\n",
    "- `device` — устройство, с которого происходила регистрация."
   ]
  },
  {
   "cell_type": "code",
   "execution_count": 4,
   "id": "5c5057b4",
   "metadata": {
    "scrolled": false
   },
   "outputs": [
    {
     "data": {
      "text/html": [
       "<div>\n",
       "<style scoped>\n",
       "    .dataframe tbody tr th:only-of-type {\n",
       "        vertical-align: middle;\n",
       "    }\n",
       "\n",
       "    .dataframe tbody tr th {\n",
       "        vertical-align: top;\n",
       "    }\n",
       "\n",
       "    .dataframe thead th {\n",
       "        text-align: right;\n",
       "    }\n",
       "</style>\n",
       "<table border=\"1\" class=\"dataframe\">\n",
       "  <thead>\n",
       "    <tr style=\"text-align: right;\">\n",
       "      <th></th>\n",
       "      <th>user_id</th>\n",
       "      <th>first_date</th>\n",
       "      <th>region</th>\n",
       "      <th>device</th>\n",
       "    </tr>\n",
       "  </thead>\n",
       "  <tbody>\n",
       "    <tr>\n",
       "      <th>25924</th>\n",
       "      <td>53224B246BD99FEA</td>\n",
       "      <td>2020-12-22</td>\n",
       "      <td>CIS</td>\n",
       "      <td>Android</td>\n",
       "    </tr>\n",
       "    <tr>\n",
       "      <th>44700</th>\n",
       "      <td>FB91DB91F34A07CA</td>\n",
       "      <td>2020-12-18</td>\n",
       "      <td>EU</td>\n",
       "      <td>PC</td>\n",
       "    </tr>\n",
       "    <tr>\n",
       "      <th>20010</th>\n",
       "      <td>4EE1D5F88AAA52AF</td>\n",
       "      <td>2020-12-08</td>\n",
       "      <td>EU</td>\n",
       "      <td>Android</td>\n",
       "    </tr>\n",
       "    <tr>\n",
       "      <th>31470</th>\n",
       "      <td>67DD56D9B574C812</td>\n",
       "      <td>2020-12-23</td>\n",
       "      <td>N.America</td>\n",
       "      <td>Android</td>\n",
       "    </tr>\n",
       "    <tr>\n",
       "      <th>52605</th>\n",
       "      <td>1315F98135214B72</td>\n",
       "      <td>2020-12-19</td>\n",
       "      <td>EU</td>\n",
       "      <td>PC</td>\n",
       "    </tr>\n",
       "    <tr>\n",
       "      <th>43797</th>\n",
       "      <td>37D92AB5C31FFF2C</td>\n",
       "      <td>2020-12-18</td>\n",
       "      <td>EU</td>\n",
       "      <td>Mac</td>\n",
       "    </tr>\n",
       "    <tr>\n",
       "      <th>50126</th>\n",
       "      <td>8EBCDE41501D7929</td>\n",
       "      <td>2020-12-19</td>\n",
       "      <td>N.America</td>\n",
       "      <td>iPhone</td>\n",
       "    </tr>\n",
       "    <tr>\n",
       "      <th>41016</th>\n",
       "      <td>7973392F3587AACA</td>\n",
       "      <td>2020-12-11</td>\n",
       "      <td>EU</td>\n",
       "      <td>iPhone</td>\n",
       "    </tr>\n",
       "    <tr>\n",
       "      <th>46795</th>\n",
       "      <td>454D5715CB186FBD</td>\n",
       "      <td>2020-12-12</td>\n",
       "      <td>N.America</td>\n",
       "      <td>Android</td>\n",
       "    </tr>\n",
       "    <tr>\n",
       "      <th>51748</th>\n",
       "      <td>2170273C14EBF131</td>\n",
       "      <td>2020-12-19</td>\n",
       "      <td>EU</td>\n",
       "      <td>Android</td>\n",
       "    </tr>\n",
       "  </tbody>\n",
       "</table>\n",
       "</div>"
      ],
      "text/plain": [
       "                user_id  first_date     region   device\n",
       "25924  53224B246BD99FEA  2020-12-22        CIS  Android\n",
       "44700  FB91DB91F34A07CA  2020-12-18         EU       PC\n",
       "20010  4EE1D5F88AAA52AF  2020-12-08         EU  Android\n",
       "31470  67DD56D9B574C812  2020-12-23  N.America  Android\n",
       "52605  1315F98135214B72  2020-12-19         EU       PC\n",
       "43797  37D92AB5C31FFF2C  2020-12-18         EU      Mac\n",
       "50126  8EBCDE41501D7929  2020-12-19  N.America   iPhone\n",
       "41016  7973392F3587AACA  2020-12-11         EU   iPhone\n",
       "46795  454D5715CB186FBD  2020-12-12  N.America  Android\n",
       "51748  2170273C14EBF131  2020-12-19         EU  Android"
      ]
     },
     "metadata": {},
     "output_type": "display_data"
    },
    {
     "name": "stdout",
     "output_type": "stream",
     "text": [
      "<class 'pandas.core.frame.DataFrame'>\n",
      "RangeIndex: 61733 entries, 0 to 61732\n",
      "Data columns (total 4 columns):\n",
      " #   Column      Non-Null Count  Dtype \n",
      "---  ------      --------------  ----- \n",
      " 0   user_id     61733 non-null  object\n",
      " 1   first_date  61733 non-null  object\n",
      " 2   region      61733 non-null  object\n",
      " 3   device      61733 non-null  object\n",
      "dtypes: object(4)\n",
      "memory usage: 1.9+ MB\n"
     ]
    },
    {
     "data": {
      "text/plain": [
       "None"
      ]
     },
     "metadata": {},
     "output_type": "display_data"
    }
   ],
   "source": [
    "try:\n",
    "    final_ab_new_users = pd.read_csv('https://raw.githubusercontent.com/Rikka-irk/Data-Analysis/main/AB%20tests/final_ab_new_users.csv')\n",
    "except: \n",
    "    print('File reading error. Check the URL')\n",
    "display(final_ab_new_users.sample(10))\n",
    "display(final_ab_new_users.info())"
   ]
  },
  {
   "cell_type": "markdown",
   "id": "fd31a5c0",
   "metadata": {},
   "source": [
    "То же самое и здесь, в таблице содержатся данные о пользователях не только из нужного для исследования региона."
   ]
  },
  {
   "cell_type": "markdown",
   "id": "7a716ae0",
   "metadata": {},
   "source": [
    "**Действия новых пользователей**  \n",
    "   \n",
    "Согласно ТЗ действия пользователей записывались в период с 7 декабря 2020 по 4 января 2021 года.   \n",
    "    \n",
    "- `user_id` — идентификатор пользователя;\n",
    "- `event_dt` — дата и время события;\n",
    "- `event_name` — тип события;\n",
    "- `details` — дополнительные данные о событии. Например, для покупок, `purchase,` в этом поле хранится стоимость покупки в долларах."
   ]
  },
  {
   "cell_type": "code",
   "execution_count": 5,
   "id": "19a981f8",
   "metadata": {
    "scrolled": false
   },
   "outputs": [
    {
     "data": {
      "text/html": [
       "<div>\n",
       "<style scoped>\n",
       "    .dataframe tbody tr th:only-of-type {\n",
       "        vertical-align: middle;\n",
       "    }\n",
       "\n",
       "    .dataframe tbody tr th {\n",
       "        vertical-align: top;\n",
       "    }\n",
       "\n",
       "    .dataframe thead th {\n",
       "        text-align: right;\n",
       "    }\n",
       "</style>\n",
       "<table border=\"1\" class=\"dataframe\">\n",
       "  <thead>\n",
       "    <tr style=\"text-align: right;\">\n",
       "      <th></th>\n",
       "      <th>user_id</th>\n",
       "      <th>event_dt</th>\n",
       "      <th>event_name</th>\n",
       "      <th>details</th>\n",
       "    </tr>\n",
       "  </thead>\n",
       "  <tbody>\n",
       "    <tr>\n",
       "      <th>360429</th>\n",
       "      <td>10C930FFDBE91BBF</td>\n",
       "      <td>2020-12-20 08:07:20</td>\n",
       "      <td>login</td>\n",
       "      <td>NaN</td>\n",
       "    </tr>\n",
       "    <tr>\n",
       "      <th>300423</th>\n",
       "      <td>CBB5DD7D577AD8A2</td>\n",
       "      <td>2020-12-14 07:45:28</td>\n",
       "      <td>login</td>\n",
       "      <td>NaN</td>\n",
       "    </tr>\n",
       "    <tr>\n",
       "      <th>427294</th>\n",
       "      <td>C68A124C91E59F64</td>\n",
       "      <td>2020-12-27 03:03:49</td>\n",
       "      <td>login</td>\n",
       "      <td>NaN</td>\n",
       "    </tr>\n",
       "    <tr>\n",
       "      <th>188112</th>\n",
       "      <td>58FA8F097AEA1D7D</td>\n",
       "      <td>2020-12-19 11:09:07</td>\n",
       "      <td>product_page</td>\n",
       "      <td>NaN</td>\n",
       "    </tr>\n",
       "    <tr>\n",
       "      <th>90372</th>\n",
       "      <td>C15AAAA7948A0C46</td>\n",
       "      <td>2020-12-18 16:45:43</td>\n",
       "      <td>product_cart</td>\n",
       "      <td>NaN</td>\n",
       "    </tr>\n",
       "    <tr>\n",
       "      <th>133267</th>\n",
       "      <td>A80019F8E57C73E4</td>\n",
       "      <td>2020-12-09 19:00:46</td>\n",
       "      <td>product_page</td>\n",
       "      <td>NaN</td>\n",
       "    </tr>\n",
       "    <tr>\n",
       "      <th>365520</th>\n",
       "      <td>A0F3F33AC273C032</td>\n",
       "      <td>2020-12-20 09:32:40</td>\n",
       "      <td>login</td>\n",
       "      <td>NaN</td>\n",
       "    </tr>\n",
       "    <tr>\n",
       "      <th>419413</th>\n",
       "      <td>D9591025E42B3983</td>\n",
       "      <td>2020-12-25 07:01:27</td>\n",
       "      <td>login</td>\n",
       "      <td>NaN</td>\n",
       "    </tr>\n",
       "    <tr>\n",
       "      <th>176024</th>\n",
       "      <td>21CB95910E836B87</td>\n",
       "      <td>2020-12-17 19:09:06</td>\n",
       "      <td>product_page</td>\n",
       "      <td>NaN</td>\n",
       "    </tr>\n",
       "    <tr>\n",
       "      <th>421506</th>\n",
       "      <td>2B5403862D9AA58C</td>\n",
       "      <td>2020-12-26 21:46:06</td>\n",
       "      <td>login</td>\n",
       "      <td>NaN</td>\n",
       "    </tr>\n",
       "  </tbody>\n",
       "</table>\n",
       "</div>"
      ],
      "text/plain": [
       "                 user_id             event_dt    event_name  details\n",
       "360429  10C930FFDBE91BBF  2020-12-20 08:07:20         login      NaN\n",
       "300423  CBB5DD7D577AD8A2  2020-12-14 07:45:28         login      NaN\n",
       "427294  C68A124C91E59F64  2020-12-27 03:03:49         login      NaN\n",
       "188112  58FA8F097AEA1D7D  2020-12-19 11:09:07  product_page      NaN\n",
       "90372   C15AAAA7948A0C46  2020-12-18 16:45:43  product_cart      NaN\n",
       "133267  A80019F8E57C73E4  2020-12-09 19:00:46  product_page      NaN\n",
       "365520  A0F3F33AC273C032  2020-12-20 09:32:40         login      NaN\n",
       "419413  D9591025E42B3983  2020-12-25 07:01:27         login      NaN\n",
       "176024  21CB95910E836B87  2020-12-17 19:09:06  product_page      NaN\n",
       "421506  2B5403862D9AA58C  2020-12-26 21:46:06         login      NaN"
      ]
     },
     "metadata": {},
     "output_type": "display_data"
    },
    {
     "name": "stdout",
     "output_type": "stream",
     "text": [
      "<class 'pandas.core.frame.DataFrame'>\n",
      "RangeIndex: 440317 entries, 0 to 440316\n",
      "Data columns (total 4 columns):\n",
      " #   Column      Non-Null Count   Dtype  \n",
      "---  ------      --------------   -----  \n",
      " 0   user_id     440317 non-null  object \n",
      " 1   event_dt    440317 non-null  object \n",
      " 2   event_name  440317 non-null  object \n",
      " 3   details     62740 non-null   float64\n",
      "dtypes: float64(1), object(3)\n",
      "memory usage: 13.4+ MB\n"
     ]
    },
    {
     "data": {
      "text/plain": [
       "None"
      ]
     },
     "metadata": {},
     "output_type": "display_data"
    }
   ],
   "source": [
    "try:\n",
    "    final_ab_events = pd.read_csv('https://raw.githubusercontent.com/Rikka-irk/Data-Analysis/main/AB%20tests/final_ab_events.csv')\n",
    "except: \n",
    "    print('File reading error. Check the URL')\n",
    "    \n",
    "display(final_ab_events.sample(10))\n",
    "display(final_ab_events.info())"
   ]
  },
  {
   "cell_type": "markdown",
   "id": "aa3aa6ac",
   "metadata": {},
   "source": [
    "**Календарь маркетинговых событий на 2020 год**    \n",
    "    \n",
    "- `name` — название маркетингового события;\n",
    "- `regions` — регионы, в которых будет проводиться рекламная кампания;\n",
    "- `start_dt` — дата начала кампании;\n",
    "- `finish_dt` — дата завершения кампании.    "
   ]
  },
  {
   "cell_type": "code",
   "execution_count": 6,
   "id": "dd2e5561",
   "metadata": {},
   "outputs": [
    {
     "data": {
      "text/html": [
       "<div>\n",
       "<style scoped>\n",
       "    .dataframe tbody tr th:only-of-type {\n",
       "        vertical-align: middle;\n",
       "    }\n",
       "\n",
       "    .dataframe tbody tr th {\n",
       "        vertical-align: top;\n",
       "    }\n",
       "\n",
       "    .dataframe thead th {\n",
       "        text-align: right;\n",
       "    }\n",
       "</style>\n",
       "<table border=\"1\" class=\"dataframe\">\n",
       "  <thead>\n",
       "    <tr style=\"text-align: right;\">\n",
       "      <th></th>\n",
       "      <th>name</th>\n",
       "      <th>regions</th>\n",
       "      <th>start_dt</th>\n",
       "      <th>finish_dt</th>\n",
       "    </tr>\n",
       "  </thead>\n",
       "  <tbody>\n",
       "    <tr>\n",
       "      <th>6</th>\n",
       "      <td>Chinese New Year Promo</td>\n",
       "      <td>APAC</td>\n",
       "      <td>2020-01-25</td>\n",
       "      <td>2020-02-07</td>\n",
       "    </tr>\n",
       "    <tr>\n",
       "      <th>1</th>\n",
       "      <td>St. Valentine's Day Giveaway</td>\n",
       "      <td>EU, CIS, APAC, N.America</td>\n",
       "      <td>2020-02-14</td>\n",
       "      <td>2020-02-16</td>\n",
       "    </tr>\n",
       "    <tr>\n",
       "      <th>8</th>\n",
       "      <td>International Women's Day Promo</td>\n",
       "      <td>EU, CIS, APAC</td>\n",
       "      <td>2020-03-08</td>\n",
       "      <td>2020-03-10</td>\n",
       "    </tr>\n",
       "    <tr>\n",
       "      <th>2</th>\n",
       "      <td>St. Patric's Day Promo</td>\n",
       "      <td>EU, N.America</td>\n",
       "      <td>2020-03-17</td>\n",
       "      <td>2020-03-19</td>\n",
       "    </tr>\n",
       "    <tr>\n",
       "      <th>3</th>\n",
       "      <td>Easter Promo</td>\n",
       "      <td>EU, CIS, APAC, N.America</td>\n",
       "      <td>2020-04-12</td>\n",
       "      <td>2020-04-19</td>\n",
       "    </tr>\n",
       "    <tr>\n",
       "      <th>7</th>\n",
       "      <td>Labor day (May 1st) Ads Campaign</td>\n",
       "      <td>EU, CIS, APAC</td>\n",
       "      <td>2020-05-01</td>\n",
       "      <td>2020-05-03</td>\n",
       "    </tr>\n",
       "    <tr>\n",
       "      <th>9</th>\n",
       "      <td>Victory Day CIS (May 9th) Event</td>\n",
       "      <td>CIS</td>\n",
       "      <td>2020-05-09</td>\n",
       "      <td>2020-05-11</td>\n",
       "    </tr>\n",
       "    <tr>\n",
       "      <th>11</th>\n",
       "      <td>Dragon Boat Festival Giveaway</td>\n",
       "      <td>APAC</td>\n",
       "      <td>2020-06-25</td>\n",
       "      <td>2020-07-01</td>\n",
       "    </tr>\n",
       "    <tr>\n",
       "      <th>4</th>\n",
       "      <td>4th of July Promo</td>\n",
       "      <td>N.America</td>\n",
       "      <td>2020-07-04</td>\n",
       "      <td>2020-07-11</td>\n",
       "    </tr>\n",
       "    <tr>\n",
       "      <th>13</th>\n",
       "      <td>Chinese Moon Festival</td>\n",
       "      <td>APAC</td>\n",
       "      <td>2020-10-01</td>\n",
       "      <td>2020-10-07</td>\n",
       "    </tr>\n",
       "    <tr>\n",
       "      <th>12</th>\n",
       "      <td>Single's Day Gift Promo</td>\n",
       "      <td>APAC</td>\n",
       "      <td>2020-11-11</td>\n",
       "      <td>2020-11-12</td>\n",
       "    </tr>\n",
       "    <tr>\n",
       "      <th>5</th>\n",
       "      <td>Black Friday Ads Campaign</td>\n",
       "      <td>EU, CIS, APAC, N.America</td>\n",
       "      <td>2020-11-26</td>\n",
       "      <td>2020-12-01</td>\n",
       "    </tr>\n",
       "    <tr>\n",
       "      <th>0</th>\n",
       "      <td>Christmas&amp;New Year Promo</td>\n",
       "      <td>EU, N.America</td>\n",
       "      <td>2020-12-25</td>\n",
       "      <td>2021-01-03</td>\n",
       "    </tr>\n",
       "    <tr>\n",
       "      <th>10</th>\n",
       "      <td>CIS New Year Gift Lottery</td>\n",
       "      <td>CIS</td>\n",
       "      <td>2020-12-30</td>\n",
       "      <td>2021-01-07</td>\n",
       "    </tr>\n",
       "  </tbody>\n",
       "</table>\n",
       "</div>"
      ],
      "text/plain": [
       "                                name                   regions    start_dt  \\\n",
       "6             Chinese New Year Promo                      APAC  2020-01-25   \n",
       "1       St. Valentine's Day Giveaway  EU, CIS, APAC, N.America  2020-02-14   \n",
       "8    International Women's Day Promo             EU, CIS, APAC  2020-03-08   \n",
       "2             St. Patric's Day Promo             EU, N.America  2020-03-17   \n",
       "3                       Easter Promo  EU, CIS, APAC, N.America  2020-04-12   \n",
       "7   Labor day (May 1st) Ads Campaign             EU, CIS, APAC  2020-05-01   \n",
       "9    Victory Day CIS (May 9th) Event                       CIS  2020-05-09   \n",
       "11     Dragon Boat Festival Giveaway                      APAC  2020-06-25   \n",
       "4                  4th of July Promo                 N.America  2020-07-04   \n",
       "13             Chinese Moon Festival                      APAC  2020-10-01   \n",
       "12           Single's Day Gift Promo                      APAC  2020-11-11   \n",
       "5          Black Friday Ads Campaign  EU, CIS, APAC, N.America  2020-11-26   \n",
       "0           Christmas&New Year Promo             EU, N.America  2020-12-25   \n",
       "10         CIS New Year Gift Lottery                       CIS  2020-12-30   \n",
       "\n",
       "     finish_dt  \n",
       "6   2020-02-07  \n",
       "1   2020-02-16  \n",
       "8   2020-03-10  \n",
       "2   2020-03-19  \n",
       "3   2020-04-19  \n",
       "7   2020-05-03  \n",
       "9   2020-05-11  \n",
       "11  2020-07-01  \n",
       "4   2020-07-11  \n",
       "13  2020-10-07  \n",
       "12  2020-11-12  \n",
       "5   2020-12-01  \n",
       "0   2021-01-03  \n",
       "10  2021-01-07  "
      ]
     },
     "metadata": {},
     "output_type": "display_data"
    },
    {
     "name": "stdout",
     "output_type": "stream",
     "text": [
      "<class 'pandas.core.frame.DataFrame'>\n",
      "RangeIndex: 14 entries, 0 to 13\n",
      "Data columns (total 4 columns):\n",
      " #   Column     Non-Null Count  Dtype \n",
      "---  ------     --------------  ----- \n",
      " 0   name       14 non-null     object\n",
      " 1   regions    14 non-null     object\n",
      " 2   start_dt   14 non-null     object\n",
      " 3   finish_dt  14 non-null     object\n",
      "dtypes: object(4)\n",
      "memory usage: 576.0+ bytes\n"
     ]
    },
    {
     "data": {
      "text/plain": [
       "None"
      ]
     },
     "metadata": {},
     "output_type": "display_data"
    }
   ],
   "source": [
    "try:\n",
    "    ab_project_marketing_events = pd.read_csv('https://raw.githubusercontent.com/Rikka-irk/Data-Analysis/main/AB%20tests/ab_project_marketing_events.csv')\n",
    "except: \n",
    "    print('File reading error. Check the URL')\n",
    "\n",
    "display(ab_project_marketing_events.sort_values(by='start_dt'))\n",
    "display(ab_project_marketing_events.info())"
   ]
  },
  {
   "cell_type": "markdown",
   "id": "4e39a66d",
   "metadata": {},
   "source": [
    "## Предобработка данных"
   ]
  },
  {
   "cell_type": "markdown",
   "id": "c3eb0cfc",
   "metadata": {},
   "source": [
    "### Извлечение необходимых данных"
   ]
  },
  {
   "cell_type": "markdown",
   "id": "3749bbbe",
   "metadata": {},
   "source": [
    "#### Участники теста"
   ]
  },
  {
   "cell_type": "markdown",
   "id": "22bea359",
   "metadata": {},
   "source": [
    "Проверим наличие пропусков."
   ]
  },
  {
   "cell_type": "code",
   "execution_count": 7,
   "id": "2de5f175",
   "metadata": {
    "scrolled": true
   },
   "outputs": [
    {
     "data": {
      "text/plain": [
       "user_id    0\n",
       "group      0\n",
       "ab_test    0\n",
       "dtype: int64"
      ]
     },
     "execution_count": 7,
     "metadata": {},
     "output_type": "execute_result"
    }
   ],
   "source": [
    "final_ab_participants.isna().sum()"
   ]
  },
  {
   "cell_type": "markdown",
   "id": "2840a7e5",
   "metadata": {},
   "source": [
    "Выберем из таблицы `final_ab_participants` участников интересующего нас теста"
   ]
  },
  {
   "cell_type": "code",
   "execution_count": 8,
   "id": "bbdbdfe8",
   "metadata": {
    "scrolled": true
   },
   "outputs": [
    {
     "data": {
      "text/html": [
       "<div>\n",
       "<style scoped>\n",
       "    .dataframe tbody tr th:only-of-type {\n",
       "        vertical-align: middle;\n",
       "    }\n",
       "\n",
       "    .dataframe tbody tr th {\n",
       "        vertical-align: top;\n",
       "    }\n",
       "\n",
       "    .dataframe thead th {\n",
       "        text-align: right;\n",
       "    }\n",
       "</style>\n",
       "<table border=\"1\" class=\"dataframe\">\n",
       "  <thead>\n",
       "    <tr style=\"text-align: right;\">\n",
       "      <th></th>\n",
       "      <th>user_id</th>\n",
       "      <th>group</th>\n",
       "      <th>ab_test</th>\n",
       "    </tr>\n",
       "  </thead>\n",
       "  <tbody>\n",
       "    <tr>\n",
       "      <th>4428</th>\n",
       "      <td>D1C856B2FF888582</td>\n",
       "      <td>B</td>\n",
       "      <td>recommender_system_test</td>\n",
       "    </tr>\n",
       "    <tr>\n",
       "      <th>1668</th>\n",
       "      <td>662306E701932E5F</td>\n",
       "      <td>A</td>\n",
       "      <td>recommender_system_test</td>\n",
       "    </tr>\n",
       "    <tr>\n",
       "      <th>933</th>\n",
       "      <td>D8AFF954A8C85814</td>\n",
       "      <td>A</td>\n",
       "      <td>recommender_system_test</td>\n",
       "    </tr>\n",
       "    <tr>\n",
       "      <th>3036</th>\n",
       "      <td>8F0B9821C7F88E4D</td>\n",
       "      <td>B</td>\n",
       "      <td>recommender_system_test</td>\n",
       "    </tr>\n",
       "    <tr>\n",
       "      <th>4177</th>\n",
       "      <td>1875C100F60592B8</td>\n",
       "      <td>B</td>\n",
       "      <td>recommender_system_test</td>\n",
       "    </tr>\n",
       "  </tbody>\n",
       "</table>\n",
       "</div>"
      ],
      "text/plain": [
       "               user_id group                  ab_test\n",
       "4428  D1C856B2FF888582     B  recommender_system_test\n",
       "1668  662306E701932E5F     A  recommender_system_test\n",
       "933   D8AFF954A8C85814     A  recommender_system_test\n",
       "3036  8F0B9821C7F88E4D     B  recommender_system_test\n",
       "4177  1875C100F60592B8     B  recommender_system_test"
      ]
     },
     "metadata": {},
     "output_type": "display_data"
    }
   ],
   "source": [
    "test_participants = final_ab_participants\\\n",
    "      .loc[final_ab_participants\\\n",
    "      .ab_test == 'recommender_system_test']\n",
    "\n",
    "display(test_participants.sample(5))\n",
    "\n",
    "# соберем в отдельную таблицу пользователей-участников другого теста\n",
    "another_test_users = final_ab_participants.query(\"ab_test == 'interface_eu_test'\")"
   ]
  },
  {
   "cell_type": "code",
   "execution_count": 9,
   "id": "ed3decd0",
   "metadata": {
    "scrolled": false
   },
   "outputs": [
    {
     "data": {
      "text/markdown": [
       "**Количество уникальных пользователей:**"
      ],
      "text/plain": [
       "<IPython.core.display.Markdown object>"
      ]
     },
     "metadata": {},
     "output_type": "display_data"
    },
    {
     "data": {
      "text/plain": [
       "6701"
      ]
     },
     "metadata": {},
     "output_type": "display_data"
    },
    {
     "data": {
      "text/markdown": [
       "**Количество тестовых групп:**"
      ],
      "text/plain": [
       "<IPython.core.display.Markdown object>"
      ]
     },
     "metadata": {},
     "output_type": "display_data"
    },
    {
     "data": {
      "text/plain": [
       "2"
      ]
     },
     "metadata": {},
     "output_type": "display_data"
    },
    {
     "data": {
      "text/markdown": [
       "**Тестовые группы:**"
      ],
      "text/plain": [
       "<IPython.core.display.Markdown object>"
      ]
     },
     "metadata": {},
     "output_type": "display_data"
    },
    {
     "data": {
      "text/plain": [
       "['A', 'B']"
      ]
     },
     "metadata": {},
     "output_type": "display_data"
    },
    {
     "data": {
      "text/markdown": [
       "**Количество пользователей в тестовых группах:**"
      ],
      "text/plain": [
       "<IPython.core.display.Markdown object>"
      ]
     },
     "metadata": {},
     "output_type": "display_data"
    },
    {
     "data": {
      "text/html": [
       "<div>\n",
       "<style scoped>\n",
       "    .dataframe tbody tr th:only-of-type {\n",
       "        vertical-align: middle;\n",
       "    }\n",
       "\n",
       "    .dataframe tbody tr th {\n",
       "        vertical-align: top;\n",
       "    }\n",
       "\n",
       "    .dataframe thead th {\n",
       "        text-align: right;\n",
       "    }\n",
       "</style>\n",
       "<table border=\"1\" class=\"dataframe\">\n",
       "  <thead>\n",
       "    <tr style=\"text-align: right;\">\n",
       "      <th></th>\n",
       "      <th>user_id</th>\n",
       "    </tr>\n",
       "    <tr>\n",
       "      <th>group</th>\n",
       "      <th></th>\n",
       "    </tr>\n",
       "  </thead>\n",
       "  <tbody>\n",
       "    <tr>\n",
       "      <th>A</th>\n",
       "      <td>3824</td>\n",
       "    </tr>\n",
       "    <tr>\n",
       "      <th>B</th>\n",
       "      <td>2877</td>\n",
       "    </tr>\n",
       "  </tbody>\n",
       "</table>\n",
       "</div>"
      ],
      "text/plain": [
       "       user_id\n",
       "group         \n",
       "A         3824\n",
       "B         2877"
      ]
     },
     "metadata": {},
     "output_type": "display_data"
    }
   ],
   "source": [
    "display(Markdown('**Количество уникальных пользователей:**'), \n",
    "        test_participants['user_id'].nunique()     \n",
    "       )\n",
    "\n",
    "display(Markdown('**Количество тестовых групп:**'), test_participants['group'].nunique()\n",
    "     )\n",
    "\n",
    "display(Markdown('**Тестовые группы:**') ,\n",
    "      test_participants['group'].unique().tolist()\n",
    "     )\n",
    "display(Markdown('**Количество пользователей в тестовых группах:**'))\n",
    "display( test_participants[['user_id','group']].groupby('group').nunique())\n",
    "\n"
   ]
  },
  {
   "cell_type": "markdown",
   "id": "2181b3ef",
   "metadata": {},
   "source": [
    "#### Зарегистрировавшиеся пользователи"
   ]
  },
  {
   "cell_type": "markdown",
   "id": "e1587e51",
   "metadata": {},
   "source": [
    "Проверим наличие пропусков."
   ]
  },
  {
   "cell_type": "code",
   "execution_count": 10,
   "id": "4f7df611",
   "metadata": {
    "scrolled": false
   },
   "outputs": [
    {
     "data": {
      "text/plain": [
       "user_id       0\n",
       "first_date    0\n",
       "region        0\n",
       "device        0\n",
       "dtype: int64"
      ]
     },
     "execution_count": 10,
     "metadata": {},
     "output_type": "execute_result"
    }
   ],
   "source": [
    "final_ab_new_users.isna().sum()"
   ]
  },
  {
   "cell_type": "markdown",
   "id": "754840e4",
   "metadata": {},
   "source": [
    "Выберем из таблицы `final_ab_new_users` участвовавших в А/В тесте пользователей из EU региона."
   ]
  },
  {
   "cell_type": "code",
   "execution_count": 11,
   "id": "dbe6eefc",
   "metadata": {
    "scrolled": false
   },
   "outputs": [
    {
     "data": {
      "text/html": [
       "<div>\n",
       "<style scoped>\n",
       "    .dataframe tbody tr th:only-of-type {\n",
       "        vertical-align: middle;\n",
       "    }\n",
       "\n",
       "    .dataframe tbody tr th {\n",
       "        vertical-align: top;\n",
       "    }\n",
       "\n",
       "    .dataframe thead th {\n",
       "        text-align: right;\n",
       "    }\n",
       "</style>\n",
       "<table border=\"1\" class=\"dataframe\">\n",
       "  <thead>\n",
       "    <tr style=\"text-align: right;\">\n",
       "      <th></th>\n",
       "      <th>user_id</th>\n",
       "      <th>first_date</th>\n",
       "      <th>region</th>\n",
       "      <th>device</th>\n",
       "    </tr>\n",
       "  </thead>\n",
       "  <tbody>\n",
       "    <tr>\n",
       "      <th>2453</th>\n",
       "      <td>CE8C105058FC5455</td>\n",
       "      <td>2020-12-07</td>\n",
       "      <td>EU</td>\n",
       "      <td>Android</td>\n",
       "    </tr>\n",
       "    <tr>\n",
       "      <th>12748</th>\n",
       "      <td>83494296AF7C33A2</td>\n",
       "      <td>2020-12-21</td>\n",
       "      <td>EU</td>\n",
       "      <td>Android</td>\n",
       "    </tr>\n",
       "    <tr>\n",
       "      <th>16642</th>\n",
       "      <td>7EC3FB42DF92ED50</td>\n",
       "      <td>2020-12-21</td>\n",
       "      <td>EU</td>\n",
       "      <td>iPhone</td>\n",
       "    </tr>\n",
       "    <tr>\n",
       "      <th>29563</th>\n",
       "      <td>16CA73BA0182898D</td>\n",
       "      <td>2020-12-16</td>\n",
       "      <td>EU</td>\n",
       "      <td>iPhone</td>\n",
       "    </tr>\n",
       "    <tr>\n",
       "      <th>52065</th>\n",
       "      <td>C25EBE27E314D5AE</td>\n",
       "      <td>2020-12-19</td>\n",
       "      <td>EU</td>\n",
       "      <td>Android</td>\n",
       "    </tr>\n",
       "  </tbody>\n",
       "</table>\n",
       "</div>"
      ],
      "text/plain": [
       "                user_id first_date region   device\n",
       "2453   CE8C105058FC5455 2020-12-07     EU  Android\n",
       "12748  83494296AF7C33A2 2020-12-21     EU  Android\n",
       "16642  7EC3FB42DF92ED50 2020-12-21     EU   iPhone\n",
       "29563  16CA73BA0182898D 2020-12-16     EU   iPhone\n",
       "52065  C25EBE27E314D5AE 2020-12-19     EU  Android"
      ]
     },
     "metadata": {},
     "output_type": "display_data"
    }
   ],
   "source": [
    "new_users = final_ab_new_users.query(\"user_id in @test_participants.user_id and region == 'EU'\").copy()\n",
    "\n",
    "#приведем дату к типу данных \"дата\", для дальнейших операций сравнения\n",
    "new_users['first_date'] = new_users['first_date'].astype('datetime64[ns]')\n",
    "\n",
    "display(new_users.sample(5))"
   ]
  },
  {
   "cell_type": "markdown",
   "id": "8ec27013",
   "metadata": {},
   "source": [
    "Запишем в переменные временные рамки теста."
   ]
  },
  {
   "cell_type": "code",
   "execution_count": 12,
   "id": "a95ae592",
   "metadata": {},
   "outputs": [
    {
     "data": {
      "text/markdown": [
       "**Начало регистрации пользователей и проведения тестирования:**"
      ],
      "text/plain": [
       "<IPython.core.display.Markdown object>"
      ]
     },
     "metadata": {},
     "output_type": "display_data"
    },
    {
     "data": {
      "text/plain": [
       "Timestamp('2020-12-07 00:00:00')"
      ]
     },
     "metadata": {},
     "output_type": "display_data"
    },
    {
     "data": {
      "text/markdown": [
       "**Окончание регистрации новых пользователей:**"
      ],
      "text/plain": [
       "<IPython.core.display.Markdown object>"
      ]
     },
     "metadata": {},
     "output_type": "display_data"
    },
    {
     "data": {
      "text/plain": [
       "Timestamp('2020-12-21 00:00:00')"
      ]
     },
     "metadata": {},
     "output_type": "display_data"
    },
    {
     "data": {
      "text/markdown": [
       "**Плановое окончание тестирования**"
      ],
      "text/plain": [
       "<IPython.core.display.Markdown object>"
      ]
     },
     "metadata": {},
     "output_type": "display_data"
    },
    {
     "data": {
      "text/plain": [
       "datetime.date(2021, 1, 4)"
      ]
     },
     "metadata": {},
     "output_type": "display_data"
    },
    {
     "data": {
      "text/markdown": [
       "**Количество уникальных пользователей:**"
      ],
      "text/plain": [
       "<IPython.core.display.Markdown object>"
      ]
     },
     "metadata": {},
     "output_type": "display_data"
    },
    {
     "data": {
      "text/plain": [
       "6351"
      ]
     },
     "metadata": {},
     "output_type": "display_data"
    },
    {
     "data": {
      "text/markdown": [
       "**Виды девайсов:**"
      ],
      "text/plain": [
       "<IPython.core.display.Markdown object>"
      ]
     },
     "metadata": {},
     "output_type": "display_data"
    },
    {
     "data": {
      "text/plain": [
       "array(['PC', 'Android', 'iPhone', 'Mac'], dtype=object)"
      ]
     },
     "metadata": {},
     "output_type": "display_data"
    }
   ],
   "source": [
    "ab_test_start = new_users['first_date'].min()\n",
    "display(Markdown('**Начало регистрации пользователей и проведения тестирования:**'), ab_test_start)\n",
    "\n",
    "\n",
    "new_users_register_fin = new_users['first_date'].max()\n",
    "display(Markdown('**Окончание регистрации новых пользователей:**'), new_users_register_fin)\n",
    "        \n",
    "ab_test_fin = pd.to_datetime('2021-01-04').date()\n",
    "display(Markdown('**Плановое окончание тестирования**'),ab_test_fin)\n",
    "\n",
    "display(Markdown('**Количество уникальных пользователей:**'),\n",
    "      new_users['user_id'].nunique()\n",
    "     )\n",
    "\n",
    "display(Markdown('**Виды девайсов:**'),        \n",
    "      new_users['device'].unique()\n",
    "     )\n"
   ]
  },
  {
   "cell_type": "markdown",
   "id": "c0612dc4",
   "metadata": {},
   "source": [
    "Пользователей оказалось меньше, чем в списке участников теста. Возможно, в список участников теста `final_ab_participants` попали в том числе пользователи, зарегистрировавшиеся после остановки набора новых пользователей или из других регионов.      \n",
    "Проверим эту гипотезу."
   ]
  },
  {
   "cell_type": "code",
   "execution_count": 13,
   "id": "adf3e19e",
   "metadata": {
    "scrolled": false
   },
   "outputs": [
    {
     "data": {
      "text/html": [
       "<div>\n",
       "<style scoped>\n",
       "    .dataframe tbody tr th:only-of-type {\n",
       "        vertical-align: middle;\n",
       "    }\n",
       "\n",
       "    .dataframe tbody tr th {\n",
       "        vertical-align: top;\n",
       "    }\n",
       "\n",
       "    .dataframe thead th {\n",
       "        text-align: right;\n",
       "    }\n",
       "</style>\n",
       "<table border=\"1\" class=\"dataframe\">\n",
       "  <thead>\n",
       "    <tr style=\"text-align: right;\">\n",
       "      <th></th>\n",
       "      <th>user_id</th>\n",
       "      <th>group</th>\n",
       "      <th>ab_test</th>\n",
       "    </tr>\n",
       "  </thead>\n",
       "  <tbody>\n",
       "    <tr>\n",
       "      <th>6351</th>\n",
       "      <td>800AF45A68291849</td>\n",
       "      <td>A</td>\n",
       "      <td>recommender_system_test</td>\n",
       "    </tr>\n",
       "    <tr>\n",
       "      <th>6352</th>\n",
       "      <td>8CB01194A7A8B2C6</td>\n",
       "      <td>B</td>\n",
       "      <td>recommender_system_test</td>\n",
       "    </tr>\n",
       "    <tr>\n",
       "      <th>6353</th>\n",
       "      <td>E93E75B64A774E02</td>\n",
       "      <td>B</td>\n",
       "      <td>recommender_system_test</td>\n",
       "    </tr>\n",
       "    <tr>\n",
       "      <th>6354</th>\n",
       "      <td>ECE67C0C773DCA8F</td>\n",
       "      <td>B</td>\n",
       "      <td>recommender_system_test</td>\n",
       "    </tr>\n",
       "    <tr>\n",
       "      <th>6355</th>\n",
       "      <td>01E9662F25EE4560</td>\n",
       "      <td>B</td>\n",
       "      <td>recommender_system_test</td>\n",
       "    </tr>\n",
       "    <tr>\n",
       "      <th>...</th>\n",
       "      <td>...</td>\n",
       "      <td>...</td>\n",
       "      <td>...</td>\n",
       "    </tr>\n",
       "    <tr>\n",
       "      <th>6696</th>\n",
       "      <td>053FB26D6D49EDDC</td>\n",
       "      <td>A</td>\n",
       "      <td>recommender_system_test</td>\n",
       "    </tr>\n",
       "    <tr>\n",
       "      <th>6697</th>\n",
       "      <td>9D263B8EF15CF188</td>\n",
       "      <td>B</td>\n",
       "      <td>recommender_system_test</td>\n",
       "    </tr>\n",
       "    <tr>\n",
       "      <th>6698</th>\n",
       "      <td>F2FBBA33F37DEC46</td>\n",
       "      <td>A</td>\n",
       "      <td>recommender_system_test</td>\n",
       "    </tr>\n",
       "    <tr>\n",
       "      <th>6699</th>\n",
       "      <td>29C92313A98B1176</td>\n",
       "      <td>B</td>\n",
       "      <td>recommender_system_test</td>\n",
       "    </tr>\n",
       "    <tr>\n",
       "      <th>6700</th>\n",
       "      <td>6715343AFBA285AE</td>\n",
       "      <td>B</td>\n",
       "      <td>recommender_system_test</td>\n",
       "    </tr>\n",
       "  </tbody>\n",
       "</table>\n",
       "<p>350 rows × 3 columns</p>\n",
       "</div>"
      ],
      "text/plain": [
       "               user_id group                  ab_test\n",
       "6351  800AF45A68291849     A  recommender_system_test\n",
       "6352  8CB01194A7A8B2C6     B  recommender_system_test\n",
       "6353  E93E75B64A774E02     B  recommender_system_test\n",
       "6354  ECE67C0C773DCA8F     B  recommender_system_test\n",
       "6355  01E9662F25EE4560     B  recommender_system_test\n",
       "...                ...   ...                      ...\n",
       "6696  053FB26D6D49EDDC     A  recommender_system_test\n",
       "6697  9D263B8EF15CF188     B  recommender_system_test\n",
       "6698  F2FBBA33F37DEC46     A  recommender_system_test\n",
       "6699  29C92313A98B1176     B  recommender_system_test\n",
       "6700  6715343AFBA285AE     B  recommender_system_test\n",
       "\n",
       "[350 rows x 3 columns]"
      ]
     },
     "metadata": {},
     "output_type": "display_data"
    }
   ],
   "source": [
    "#вытащим юзеров, не попавших в таблицу new_users\n",
    "missed_users = test_participants.query('user_id not in @new_users.user_id')#['user_id']\n",
    "display(missed_users)\n",
    "#display(new_users.query('user_id not in @missed_users'))\n",
    "#display(new_users.query('user_id not in @missed_users')['first_date'].max())"
   ]
  },
  {
   "cell_type": "code",
   "execution_count": 14,
   "id": "4629e436",
   "metadata": {},
   "outputs": [
    {
     "data": {
      "text/html": [
       "<div>\n",
       "<style scoped>\n",
       "    .dataframe tbody tr th:only-of-type {\n",
       "        vertical-align: middle;\n",
       "    }\n",
       "\n",
       "    .dataframe tbody tr th {\n",
       "        vertical-align: top;\n",
       "    }\n",
       "\n",
       "    .dataframe thead th {\n",
       "        text-align: right;\n",
       "    }\n",
       "</style>\n",
       "<table border=\"1\" class=\"dataframe\">\n",
       "  <thead>\n",
       "    <tr style=\"text-align: right;\">\n",
       "      <th></th>\n",
       "      <th>region</th>\n",
       "    </tr>\n",
       "  </thead>\n",
       "  <tbody>\n",
       "    <tr>\n",
       "      <th>N.America</th>\n",
       "      <td>223</td>\n",
       "    </tr>\n",
       "    <tr>\n",
       "      <th>APAC</th>\n",
       "      <td>72</td>\n",
       "    </tr>\n",
       "    <tr>\n",
       "      <th>CIS</th>\n",
       "      <td>55</td>\n",
       "    </tr>\n",
       "  </tbody>\n",
       "</table>\n",
       "</div>"
      ],
      "text/plain": [
       "           region\n",
       "N.America     223\n",
       "APAC           72\n",
       "CIS            55"
      ]
     },
     "execution_count": 14,
     "metadata": {},
     "output_type": "execute_result"
    }
   ],
   "source": [
    "final_ab_new_users.query('user_id in @missed_users.user_id')['region'].value_counts().to_frame()"
   ]
  },
  {
   "cell_type": "markdown",
   "id": "2cd0f355",
   "metadata": {},
   "source": [
    "Действительно, в списке участников теста так же оказались пользователи не из EU региона."
   ]
  },
  {
   "cell_type": "markdown",
   "id": "de04c807",
   "metadata": {},
   "source": [
    "#### Действия участников теста"
   ]
  },
  {
   "cell_type": "markdown",
   "id": "40f37df2",
   "metadata": {},
   "source": [
    "Проверим наличие пропусков."
   ]
  },
  {
   "cell_type": "code",
   "execution_count": 15,
   "id": "6eea5667",
   "metadata": {
    "scrolled": false
   },
   "outputs": [
    {
     "data": {
      "text/html": [
       "<div>\n",
       "<style scoped>\n",
       "    .dataframe tbody tr th:only-of-type {\n",
       "        vertical-align: middle;\n",
       "    }\n",
       "\n",
       "    .dataframe tbody tr th {\n",
       "        vertical-align: top;\n",
       "    }\n",
       "\n",
       "    .dataframe thead th {\n",
       "        text-align: right;\n",
       "    }\n",
       "</style>\n",
       "<table border=\"1\" class=\"dataframe\">\n",
       "  <thead>\n",
       "    <tr style=\"text-align: right;\">\n",
       "      <th></th>\n",
       "      <th>0</th>\n",
       "    </tr>\n",
       "  </thead>\n",
       "  <tbody>\n",
       "    <tr>\n",
       "      <th>user_id</th>\n",
       "      <td>0</td>\n",
       "    </tr>\n",
       "    <tr>\n",
       "      <th>event_dt</th>\n",
       "      <td>0</td>\n",
       "    </tr>\n",
       "    <tr>\n",
       "      <th>event_name</th>\n",
       "      <td>0</td>\n",
       "    </tr>\n",
       "    <tr>\n",
       "      <th>details</th>\n",
       "      <td>377577</td>\n",
       "    </tr>\n",
       "  </tbody>\n",
       "</table>\n",
       "</div>"
      ],
      "text/plain": [
       "                 0\n",
       "user_id          0\n",
       "event_dt         0\n",
       "event_name       0\n",
       "details     377577"
      ]
     },
     "execution_count": 15,
     "metadata": {},
     "output_type": "execute_result"
    }
   ],
   "source": [
    "final_ab_events.isna().sum().to_frame()"
   ]
  },
  {
   "cell_type": "markdown",
   "id": "9c422e45",
   "metadata": {},
   "source": [
    "Согласно описанию данных, параметр `details` есть не у всех записей и сообщает о сумме покупки."
   ]
  },
  {
   "cell_type": "markdown",
   "id": "6b604c2c",
   "metadata": {},
   "source": [
    "Выберем из таблицы `final_ab_events` действия участвовавших в А/В тесте пользователей за период проведения теста."
   ]
  },
  {
   "cell_type": "code",
   "execution_count": 16,
   "id": "d87a91de",
   "metadata": {
    "scrolled": false
   },
   "outputs": [],
   "source": [
    "#приведем дату к типу данных \"дата\", для дальнейших операций сравнения\n",
    "final_ab_events['event_dt'] = final_ab_events['event_dt'].astype('datetime64[ns]')\n",
    "\n",
    "events = final_ab_events.query(\"(@ab_test_start <= event_dt <= @ab_test_fin) \\\n",
    "                and user_id in @test_participants.user_id\").copy()\n",
    "\n",
    "#так же соберем в отдельню таблицу действия пользователей-участников другого теста\n",
    "another_test_events = final_ab_events.query(\"(@ab_test_start <= event_dt <= @ab_test_fin) \\\n",
    "                and user_id in @another_test_users.user_id\").copy()"
   ]
  },
  {
   "cell_type": "code",
   "execution_count": 17,
   "id": "8c03000b",
   "metadata": {
    "scrolled": true
   },
   "outputs": [
    {
     "data": {
      "text/markdown": [
       "**Пользователей:**"
      ],
      "text/plain": [
       "<IPython.core.display.Markdown object>"
      ]
     },
     "metadata": {},
     "output_type": "display_data"
    },
    {
     "data": {
      "text/plain": [
       "3675"
      ]
     },
     "metadata": {},
     "output_type": "display_data"
    },
    {
     "data": {
      "text/markdown": [
       "**Событий в период А/В теста:**"
      ],
      "text/plain": [
       "<IPython.core.display.Markdown object>"
      ]
     },
     "metadata": {},
     "output_type": "display_data"
    },
    {
     "data": {
      "text/plain": [
       "24698"
      ]
     },
     "metadata": {},
     "output_type": "display_data"
    },
    {
     "data": {
      "text/markdown": [
       "**Виды событий:**"
      ],
      "text/plain": [
       "<IPython.core.display.Markdown object>"
      ]
     },
     "metadata": {},
     "output_type": "display_data"
    },
    {
     "data": {
      "text/plain": [
       "array(['purchase', 'product_cart', 'product_page', 'login'], dtype=object)"
      ]
     },
     "metadata": {},
     "output_type": "display_data"
    }
   ],
   "source": [
    "display(Markdown('**Пользователей:**'),\n",
    "   events['user_id'].nunique()\n",
    "      )\n",
    "\n",
    "display(Markdown('**Событий в период А/В теста:**'),\n",
    "       events.shape[0]\n",
    "      )\n",
    "\n",
    "display(Markdown('**Виды событий:**'),\n",
    "   events['event_name'].unique()\n",
    "      )"
   ]
  },
  {
   "cell_type": "markdown",
   "id": "3b08c8e8",
   "metadata": {},
   "source": [
    "Здесь пользователей стало еще меньше. Далеко не все зарегистрировавшиеся заходили потом на сайт и совершали покупки."
   ]
  },
  {
   "cell_type": "markdown",
   "id": "e0b0246f",
   "metadata": {},
   "source": [
    "Приведем даты событий к типу данных \"дата\""
   ]
  },
  {
   "cell_type": "code",
   "execution_count": 18,
   "id": "2b7115be",
   "metadata": {
    "scrolled": false
   },
   "outputs": [
    {
     "data": {
      "text/html": [
       "<div>\n",
       "<style scoped>\n",
       "    .dataframe tbody tr th:only-of-type {\n",
       "        vertical-align: middle;\n",
       "    }\n",
       "\n",
       "    .dataframe tbody tr th {\n",
       "        vertical-align: top;\n",
       "    }\n",
       "\n",
       "    .dataframe thead th {\n",
       "        text-align: right;\n",
       "    }\n",
       "</style>\n",
       "<table border=\"1\" class=\"dataframe\">\n",
       "  <thead>\n",
       "    <tr style=\"text-align: right;\">\n",
       "      <th></th>\n",
       "      <th>user_id</th>\n",
       "      <th>event_dt</th>\n",
       "      <th>event_name</th>\n",
       "      <th>details</th>\n",
       "      <th>event_date</th>\n",
       "    </tr>\n",
       "  </thead>\n",
       "  <tbody>\n",
       "    <tr>\n",
       "      <th>5</th>\n",
       "      <td>831887FE7F2D6CBA</td>\n",
       "      <td>2020-12-07 06:50:29</td>\n",
       "      <td>purchase</td>\n",
       "      <td>4.99</td>\n",
       "      <td>2020-12-07</td>\n",
       "    </tr>\n",
       "    <tr>\n",
       "      <th>17</th>\n",
       "      <td>3C5DD0288AC4FE23</td>\n",
       "      <td>2020-12-07 19:42:40</td>\n",
       "      <td>purchase</td>\n",
       "      <td>4.99</td>\n",
       "      <td>2020-12-07</td>\n",
       "    </tr>\n",
       "    <tr>\n",
       "      <th>58</th>\n",
       "      <td>49EA242586C87836</td>\n",
       "      <td>2020-12-07 06:31:24</td>\n",
       "      <td>purchase</td>\n",
       "      <td>99.99</td>\n",
       "      <td>2020-12-07</td>\n",
       "    </tr>\n",
       "    <tr>\n",
       "      <th>71</th>\n",
       "      <td>2B06EB547B7AAD08</td>\n",
       "      <td>2020-12-07 21:36:38</td>\n",
       "      <td>purchase</td>\n",
       "      <td>4.99</td>\n",
       "      <td>2020-12-07</td>\n",
       "    </tr>\n",
       "    <tr>\n",
       "      <th>74</th>\n",
       "      <td>A640F31CAC7823A6</td>\n",
       "      <td>2020-12-07 18:48:26</td>\n",
       "      <td>purchase</td>\n",
       "      <td>4.99</td>\n",
       "      <td>2020-12-07</td>\n",
       "    </tr>\n",
       "    <tr>\n",
       "      <th>...</th>\n",
       "      <td>...</td>\n",
       "      <td>...</td>\n",
       "      <td>...</td>\n",
       "      <td>...</td>\n",
       "      <td>...</td>\n",
       "    </tr>\n",
       "    <tr>\n",
       "      <th>440239</th>\n",
       "      <td>D21F0D4FDCD82DB2</td>\n",
       "      <td>2020-12-29 02:17:00</td>\n",
       "      <td>login</td>\n",
       "      <td>NaN</td>\n",
       "      <td>2020-12-29</td>\n",
       "    </tr>\n",
       "    <tr>\n",
       "      <th>440258</th>\n",
       "      <td>96BDD55846D1F7F6</td>\n",
       "      <td>2020-12-29 16:53:42</td>\n",
       "      <td>login</td>\n",
       "      <td>NaN</td>\n",
       "      <td>2020-12-29</td>\n",
       "    </tr>\n",
       "    <tr>\n",
       "      <th>440267</th>\n",
       "      <td>553BAE96C6EB6240</td>\n",
       "      <td>2020-12-29 14:09:14</td>\n",
       "      <td>login</td>\n",
       "      <td>NaN</td>\n",
       "      <td>2020-12-29</td>\n",
       "    </tr>\n",
       "    <tr>\n",
       "      <th>440281</th>\n",
       "      <td>DD4352CDCF8C3D57</td>\n",
       "      <td>2020-12-30 12:42:56</td>\n",
       "      <td>login</td>\n",
       "      <td>NaN</td>\n",
       "      <td>2020-12-30</td>\n",
       "    </tr>\n",
       "    <tr>\n",
       "      <th>440289</th>\n",
       "      <td>75845C83258FBF73</td>\n",
       "      <td>2020-12-30 06:42:52</td>\n",
       "      <td>login</td>\n",
       "      <td>NaN</td>\n",
       "      <td>2020-12-30</td>\n",
       "    </tr>\n",
       "  </tbody>\n",
       "</table>\n",
       "<p>24698 rows × 5 columns</p>\n",
       "</div>"
      ],
      "text/plain": [
       "                 user_id            event_dt event_name  details  event_date\n",
       "5       831887FE7F2D6CBA 2020-12-07 06:50:29   purchase     4.99  2020-12-07\n",
       "17      3C5DD0288AC4FE23 2020-12-07 19:42:40   purchase     4.99  2020-12-07\n",
       "58      49EA242586C87836 2020-12-07 06:31:24   purchase    99.99  2020-12-07\n",
       "71      2B06EB547B7AAD08 2020-12-07 21:36:38   purchase     4.99  2020-12-07\n",
       "74      A640F31CAC7823A6 2020-12-07 18:48:26   purchase     4.99  2020-12-07\n",
       "...                  ...                 ...        ...      ...         ...\n",
       "440239  D21F0D4FDCD82DB2 2020-12-29 02:17:00      login      NaN  2020-12-29\n",
       "440258  96BDD55846D1F7F6 2020-12-29 16:53:42      login      NaN  2020-12-29\n",
       "440267  553BAE96C6EB6240 2020-12-29 14:09:14      login      NaN  2020-12-29\n",
       "440281  DD4352CDCF8C3D57 2020-12-30 12:42:56      login      NaN  2020-12-30\n",
       "440289  75845C83258FBF73 2020-12-30 06:42:52      login      NaN  2020-12-30\n",
       "\n",
       "[24698 rows x 5 columns]"
      ]
     },
     "execution_count": 18,
     "metadata": {},
     "output_type": "execute_result"
    }
   ],
   "source": [
    "events['event_date'] = events['event_dt'].dt.date\n",
    "events"
   ]
  },
  {
   "cell_type": "markdown",
   "id": "786f214b",
   "metadata": {},
   "source": [
    "#### Вывод"
   ]
  },
  {
   "cell_type": "markdown",
   "id": "49a28dbd",
   "metadata": {},
   "source": [
    "* Количество новых пользователей, принявших участие в тестировании — 6701, из них:\n",
    "    * В контрольной группе — 3824\n",
    "    * В тестовой — 2877\n",
    "    *  только 3675 пользователей потом заходили на сайт и совершали какие-либо действия\n",
    "* В данных содержится информация не только об интересующем нас тесте."
   ]
  },
  {
   "cell_type": "markdown",
   "id": "9bbe670c",
   "metadata": {},
   "source": [
    "### Проверка данных на аномалии"
   ]
  },
  {
   "cell_type": "markdown",
   "id": "e32a66fb",
   "metadata": {},
   "source": [
    "Распределение сумм заказов"
   ]
  },
  {
   "cell_type": "code",
   "execution_count": 19,
   "id": "ac9c1645",
   "metadata": {
    "scrolled": true
   },
   "outputs": [
    {
     "data": {
      "text/html": [
       "<div>\n",
       "<style scoped>\n",
       "    .dataframe tbody tr th:only-of-type {\n",
       "        vertical-align: middle;\n",
       "    }\n",
       "\n",
       "    .dataframe tbody tr th {\n",
       "        vertical-align: top;\n",
       "    }\n",
       "\n",
       "    .dataframe thead th {\n",
       "        text-align: right;\n",
       "    }\n",
       "</style>\n",
       "<table border=\"1\" class=\"dataframe\">\n",
       "  <thead>\n",
       "    <tr style=\"text-align: right;\">\n",
       "      <th></th>\n",
       "      <th>details</th>\n",
       "    </tr>\n",
       "  </thead>\n",
       "  <tbody>\n",
       "    <tr>\n",
       "      <th>count</th>\n",
       "      <td>3331.0</td>\n",
       "    </tr>\n",
       "    <tr>\n",
       "      <th>mean</th>\n",
       "      <td>23.0</td>\n",
       "    </tr>\n",
       "    <tr>\n",
       "      <th>std</th>\n",
       "      <td>71.0</td>\n",
       "    </tr>\n",
       "    <tr>\n",
       "      <th>min</th>\n",
       "      <td>5.0</td>\n",
       "    </tr>\n",
       "    <tr>\n",
       "      <th>50%</th>\n",
       "      <td>5.0</td>\n",
       "    </tr>\n",
       "    <tr>\n",
       "      <th>97%</th>\n",
       "      <td>100.0</td>\n",
       "    </tr>\n",
       "    <tr>\n",
       "      <th>98%</th>\n",
       "      <td>100.0</td>\n",
       "    </tr>\n",
       "    <tr>\n",
       "      <th>99%</th>\n",
       "      <td>500.0</td>\n",
       "    </tr>\n",
       "    <tr>\n",
       "      <th>max</th>\n",
       "      <td>500.0</td>\n",
       "    </tr>\n",
       "  </tbody>\n",
       "</table>\n",
       "</div>"
      ],
      "text/plain": [
       "       details\n",
       "count   3331.0\n",
       "mean      23.0\n",
       "std       71.0\n",
       "min        5.0\n",
       "50%        5.0\n",
       "97%      100.0\n",
       "98%      100.0\n",
       "99%      500.0\n",
       "max      500.0"
      ]
     },
     "execution_count": 19,
     "metadata": {},
     "output_type": "execute_result"
    }
   ],
   "source": [
    "np.round(events[['details']].describe(percentiles=[0.97,0.98,0.99]))"
   ]
  },
  {
   "cell_type": "markdown",
   "id": "c3c1723e",
   "metadata": {},
   "source": [
    "В данных присутствуют редкие крупные заказы. Так как в данном исследовании нас интересует конверсия, а не выручка, нет необходимости от них избавляться."
   ]
  },
  {
   "cell_type": "code",
   "execution_count": 20,
   "id": "c979a948",
   "metadata": {},
   "outputs": [
    {
     "data": {
      "text/html": [
       "<div>\n",
       "<style scoped>\n",
       "    .dataframe tbody tr th:only-of-type {\n",
       "        vertical-align: middle;\n",
       "    }\n",
       "\n",
       "    .dataframe tbody tr th {\n",
       "        vertical-align: top;\n",
       "    }\n",
       "\n",
       "    .dataframe thead th {\n",
       "        text-align: right;\n",
       "    }\n",
       "</style>\n",
       "<table border=\"1\" class=\"dataframe\">\n",
       "  <thead>\n",
       "    <tr style=\"text-align: right;\">\n",
       "      <th></th>\n",
       "      <th>user_id</th>\n",
       "      <th>group</th>\n",
       "      <th>ab_test</th>\n",
       "    </tr>\n",
       "  </thead>\n",
       "  <tbody>\n",
       "    <tr>\n",
       "      <th>1903</th>\n",
       "      <td>23B71FAAF4A89964</td>\n",
       "      <td>A</td>\n",
       "      <td>recommender_system_test</td>\n",
       "    </tr>\n",
       "    <tr>\n",
       "      <th>5237</th>\n",
       "      <td>F4A782449E8D6F42</td>\n",
       "      <td>A</td>\n",
       "      <td>recommender_system_test</td>\n",
       "    </tr>\n",
       "    <tr>\n",
       "      <th>605</th>\n",
       "      <td>4DE9D524EB5F4659</td>\n",
       "      <td>B</td>\n",
       "      <td>recommender_system_test</td>\n",
       "    </tr>\n",
       "    <tr>\n",
       "      <th>5316</th>\n",
       "      <td>139519F1ADB40E0D</td>\n",
       "      <td>B</td>\n",
       "      <td>recommender_system_test</td>\n",
       "    </tr>\n",
       "    <tr>\n",
       "      <th>6006</th>\n",
       "      <td>082FD237282D884E</td>\n",
       "      <td>B</td>\n",
       "      <td>recommender_system_test</td>\n",
       "    </tr>\n",
       "  </tbody>\n",
       "</table>\n",
       "</div>"
      ],
      "text/plain": [
       "               user_id group                  ab_test\n",
       "1903  23B71FAAF4A89964     A  recommender_system_test\n",
       "5237  F4A782449E8D6F42     A  recommender_system_test\n",
       "605   4DE9D524EB5F4659     B  recommender_system_test\n",
       "5316  139519F1ADB40E0D     B  recommender_system_test\n",
       "6006  082FD237282D884E     B  recommender_system_test"
      ]
     },
     "execution_count": 20,
     "metadata": {},
     "output_type": "execute_result"
    }
   ],
   "source": [
    "test_participants.sample(5)"
   ]
  },
  {
   "cell_type": "code",
   "execution_count": 21,
   "id": "0d1be6f6",
   "metadata": {},
   "outputs": [
    {
     "data": {
      "text/html": [
       "<div>\n",
       "<style scoped>\n",
       "    .dataframe tbody tr th:only-of-type {\n",
       "        vertical-align: middle;\n",
       "    }\n",
       "\n",
       "    .dataframe tbody tr th {\n",
       "        vertical-align: top;\n",
       "    }\n",
       "\n",
       "    .dataframe thead th {\n",
       "        text-align: right;\n",
       "    }\n",
       "</style>\n",
       "<table border=\"1\" class=\"dataframe\">\n",
       "  <thead>\n",
       "    <tr style=\"text-align: right;\">\n",
       "      <th></th>\n",
       "      <th>user_id</th>\n",
       "      <th>first_date</th>\n",
       "      <th>region</th>\n",
       "      <th>device</th>\n",
       "    </tr>\n",
       "  </thead>\n",
       "  <tbody>\n",
       "    <tr>\n",
       "      <th>15139</th>\n",
       "      <td>3D4DD1C648B64D5F</td>\n",
       "      <td>2020-12-21</td>\n",
       "      <td>EU</td>\n",
       "      <td>PC</td>\n",
       "    </tr>\n",
       "    <tr>\n",
       "      <th>52533</th>\n",
       "      <td>D2B0920BEBA4E75F</td>\n",
       "      <td>2020-12-19</td>\n",
       "      <td>EU</td>\n",
       "      <td>Android</td>\n",
       "    </tr>\n",
       "    <tr>\n",
       "      <th>1532</th>\n",
       "      <td>3B6ABE8E7872977E</td>\n",
       "      <td>2020-12-07</td>\n",
       "      <td>EU</td>\n",
       "      <td>Android</td>\n",
       "    </tr>\n",
       "    <tr>\n",
       "      <th>55367</th>\n",
       "      <td>8715A5E40434D662</td>\n",
       "      <td>2020-12-13</td>\n",
       "      <td>EU</td>\n",
       "      <td>iPhone</td>\n",
       "    </tr>\n",
       "    <tr>\n",
       "      <th>33500</th>\n",
       "      <td>626021392C056CD0</td>\n",
       "      <td>2020-12-10</td>\n",
       "      <td>EU</td>\n",
       "      <td>PC</td>\n",
       "    </tr>\n",
       "  </tbody>\n",
       "</table>\n",
       "</div>"
      ],
      "text/plain": [
       "                user_id first_date region   device\n",
       "15139  3D4DD1C648B64D5F 2020-12-21     EU       PC\n",
       "52533  D2B0920BEBA4E75F 2020-12-19     EU  Android\n",
       "1532   3B6ABE8E7872977E 2020-12-07     EU  Android\n",
       "55367  8715A5E40434D662 2020-12-13     EU   iPhone\n",
       "33500  626021392C056CD0 2020-12-10     EU       PC"
      ]
     },
     "execution_count": 21,
     "metadata": {},
     "output_type": "execute_result"
    }
   ],
   "source": [
    "new_users.sample(5)"
   ]
  },
  {
   "cell_type": "code",
   "execution_count": 22,
   "id": "92f81769",
   "metadata": {},
   "outputs": [
    {
     "data": {
      "text/html": [
       "<div>\n",
       "<style scoped>\n",
       "    .dataframe tbody tr th:only-of-type {\n",
       "        vertical-align: middle;\n",
       "    }\n",
       "\n",
       "    .dataframe tbody tr th {\n",
       "        vertical-align: top;\n",
       "    }\n",
       "\n",
       "    .dataframe thead th {\n",
       "        text-align: right;\n",
       "    }\n",
       "</style>\n",
       "<table border=\"1\" class=\"dataframe\">\n",
       "  <thead>\n",
       "    <tr style=\"text-align: right;\">\n",
       "      <th></th>\n",
       "      <th>user_id</th>\n",
       "      <th>event_dt</th>\n",
       "      <th>event_name</th>\n",
       "      <th>details</th>\n",
       "      <th>event_date</th>\n",
       "    </tr>\n",
       "  </thead>\n",
       "  <tbody>\n",
       "    <tr>\n",
       "      <th>343002</th>\n",
       "      <td>18E7E50874577C8B</td>\n",
       "      <td>2020-12-18 00:24:09</td>\n",
       "      <td>login</td>\n",
       "      <td>NaN</td>\n",
       "      <td>2020-12-18</td>\n",
       "    </tr>\n",
       "    <tr>\n",
       "      <th>203593</th>\n",
       "      <td>00C1F5175586DFCF</td>\n",
       "      <td>2020-12-21 16:12:32</td>\n",
       "      <td>product_page</td>\n",
       "      <td>NaN</td>\n",
       "      <td>2020-12-21</td>\n",
       "    </tr>\n",
       "    <tr>\n",
       "      <th>105057</th>\n",
       "      <td>01553AABC481F26C</td>\n",
       "      <td>2020-12-21 10:10:02</td>\n",
       "      <td>product_cart</td>\n",
       "      <td>NaN</td>\n",
       "      <td>2020-12-21</td>\n",
       "    </tr>\n",
       "    <tr>\n",
       "      <th>189104</th>\n",
       "      <td>BED36A285031FE70</td>\n",
       "      <td>2020-12-19 00:30:30</td>\n",
       "      <td>product_page</td>\n",
       "      <td>NaN</td>\n",
       "      <td>2020-12-19</td>\n",
       "    </tr>\n",
       "    <tr>\n",
       "      <th>65679</th>\n",
       "      <td>7E4B0D11D179F4EC</td>\n",
       "      <td>2020-12-08 10:12:44</td>\n",
       "      <td>product_cart</td>\n",
       "      <td>NaN</td>\n",
       "      <td>2020-12-08</td>\n",
       "    </tr>\n",
       "  </tbody>\n",
       "</table>\n",
       "</div>"
      ],
      "text/plain": [
       "                 user_id            event_dt    event_name  details  \\\n",
       "343002  18E7E50874577C8B 2020-12-18 00:24:09         login      NaN   \n",
       "203593  00C1F5175586DFCF 2020-12-21 16:12:32  product_page      NaN   \n",
       "105057  01553AABC481F26C 2020-12-21 10:10:02  product_cart      NaN   \n",
       "189104  BED36A285031FE70 2020-12-19 00:30:30  product_page      NaN   \n",
       "65679   7E4B0D11D179F4EC 2020-12-08 10:12:44  product_cart      NaN   \n",
       "\n",
       "        event_date  \n",
       "343002  2020-12-18  \n",
       "203593  2020-12-21  \n",
       "105057  2020-12-21  \n",
       "189104  2020-12-19  \n",
       "65679   2020-12-08  "
      ]
     },
     "execution_count": 22,
     "metadata": {},
     "output_type": "execute_result"
    }
   ],
   "source": [
    "events.sample(5)"
   ]
  },
  {
   "cell_type": "markdown",
   "id": "e10c7f57",
   "metadata": {},
   "source": [
    "Остальные данные не требуют проверки на аномалии."
   ]
  },
  {
   "cell_type": "markdown",
   "id": "e76272bc",
   "metadata": {},
   "source": [
    "### Обработка дубликатов"
   ]
  },
  {
   "cell_type": "markdown",
   "id": "6cc7ca4e",
   "metadata": {},
   "source": [
    "Проверим, что каждый пользователь входит только в одну тестовую группу"
   ]
  },
  {
   "cell_type": "code",
   "execution_count": 23,
   "id": "a24f5096",
   "metadata": {},
   "outputs": [
    {
     "data": {
      "text/plain": [
       "group    0\n",
       "dtype: int64"
      ]
     },
     "execution_count": 23,
     "metadata": {},
     "output_type": "execute_result"
    }
   ],
   "source": [
    "test_participants.groupby('user_id')['group'].nunique().to_frame().query('group > 1 ').count()"
   ]
  },
  {
   "cell_type": "code",
   "execution_count": 24,
   "id": "373148c4",
   "metadata": {},
   "outputs": [
    {
     "data": {
      "text/plain": [
       "0"
      ]
     },
     "execution_count": 24,
     "metadata": {},
     "output_type": "execute_result"
    }
   ],
   "source": [
    "new_users['user_id'].duplicated().sum()"
   ]
  },
  {
   "cell_type": "markdown",
   "id": "883496c9",
   "metadata": {},
   "source": [
    "Проверим дубликаты событий"
   ]
  },
  {
   "cell_type": "code",
   "execution_count": 25,
   "id": "d9bf6ea7",
   "metadata": {},
   "outputs": [
    {
     "data": {
      "text/plain": [
       "0"
      ]
     },
     "execution_count": 25,
     "metadata": {},
     "output_type": "execute_result"
    }
   ],
   "source": [
    "events.duplicated().sum()"
   ]
  },
  {
   "cell_type": "markdown",
   "id": "3fb185dd",
   "metadata": {},
   "source": [
    "Дубликатов не обнаружено."
   ]
  },
  {
   "cell_type": "markdown",
   "id": "0f7c65ec",
   "metadata": {},
   "source": [
    "### Проверка корректности проведенного теста"
   ]
  },
  {
   "cell_type": "markdown",
   "id": "c7404761",
   "metadata": {},
   "source": [
    "#### Сроки проведения теста"
   ]
  },
  {
   "cell_type": "markdown",
   "id": "96a2360b",
   "metadata": {},
   "source": [
    "Проверим, что в таблице событий есть данные за период, указанный в ТЗ"
   ]
  },
  {
   "cell_type": "code",
   "execution_count": 26,
   "id": "aa3d31d9",
   "metadata": {},
   "outputs": [
    {
     "name": "stdout",
     "output_type": "stream",
     "text": [
      "Первое событие: 2020-12-07 00:05:57\n",
      "Последнее событие: 2020-12-30 12:42:57\n"
     ]
    }
   ],
   "source": [
    "first_event_date = (final_ab_events.query(\"user_id in @test_participants.user_id\")['event_dt'].min())\n",
    "last_event_date = (final_ab_events.query(\"user_id in @test_participants.user_id\")['event_dt'].max())\n",
    "\n",
    "print('Первое событие:',first_event_date)\n",
    "print('Последнее событие:',last_event_date)"
   ]
  },
  {
   "cell_type": "markdown",
   "id": "34dba80c",
   "metadata": {},
   "source": [
    "Записи событий заканчиваются раньше запланированного окончания теста. Это может сказаться на результатах анализа. Согласно ТЗ, мы анализируем поведение пользователей в течение 14 дней после их регистрации. Значит у пользователей, зарегистрированных после 15 декабря будет меньший горизонт событий."
   ]
  },
  {
   "cell_type": "markdown",
   "id": "e9318f38",
   "metadata": {},
   "source": [
    "#### Пересечение пользователей с другими тестами"
   ]
  },
  {
   "cell_type": "code",
   "execution_count": 27,
   "id": "a285bac9",
   "metadata": {
    "scrolled": true
   },
   "outputs": [
    {
     "name": "stdout",
     "output_type": "stream",
     "text": [
      "Второй А/В тест проходил в период с 2020-12-07 00:05:57 по 2020-12-30 12:42:57\n"
     ]
    }
   ],
   "source": [
    "another_test_events = events.query(\"user_id in @another_test_users.user_id\")\n",
    "print('Второй А/В тест проходил в период с',\n",
    "      another_test_events.event_dt.min(),\n",
    "      'по',another_test_events.event_dt.max())\n"
   ]
  },
  {
   "cell_type": "markdown",
   "id": "b5ea4838",
   "metadata": {},
   "source": [
    "Проверим также, участвуют ли отобранные пользователи в других тестах"
   ]
  },
  {
   "cell_type": "code",
   "execution_count": 28,
   "id": "64867573",
   "metadata": {},
   "outputs": [],
   "source": [
    "test_participants.set_index('user_id', drop=True, inplace=True)\n",
    "new_users.set_index('user_id', drop=True, inplace=True)"
   ]
  },
  {
   "cell_type": "code",
   "execution_count": 29,
   "id": "7cc57cf5",
   "metadata": {},
   "outputs": [
    {
     "data": {
      "text/html": [
       "<div>\n",
       "<style scoped>\n",
       "    .dataframe tbody tr th:only-of-type {\n",
       "        vertical-align: middle;\n",
       "    }\n",
       "\n",
       "    .dataframe tbody tr th {\n",
       "        vertical-align: top;\n",
       "    }\n",
       "\n",
       "    .dataframe thead th {\n",
       "        text-align: right;\n",
       "    }\n",
       "</style>\n",
       "<table border=\"1\" class=\"dataframe\">\n",
       "  <thead>\n",
       "    <tr style=\"text-align: right;\">\n",
       "      <th></th>\n",
       "      <th>first_date</th>\n",
       "      <th>region</th>\n",
       "      <th>device</th>\n",
       "      <th>group</th>\n",
       "      <th>ab_test</th>\n",
       "    </tr>\n",
       "    <tr>\n",
       "      <th>user_id</th>\n",
       "      <th></th>\n",
       "      <th></th>\n",
       "      <th></th>\n",
       "      <th></th>\n",
       "      <th></th>\n",
       "    </tr>\n",
       "  </thead>\n",
       "  <tbody>\n",
       "    <tr>\n",
       "      <th>D72A72121175D8BE</th>\n",
       "      <td>2020-12-07</td>\n",
       "      <td>EU</td>\n",
       "      <td>PC</td>\n",
       "      <td>A</td>\n",
       "      <td>recommender_system_test</td>\n",
       "    </tr>\n",
       "    <tr>\n",
       "      <th>E6DE857AFBDC6102</th>\n",
       "      <td>2020-12-07</td>\n",
       "      <td>EU</td>\n",
       "      <td>PC</td>\n",
       "      <td>B</td>\n",
       "      <td>recommender_system_test</td>\n",
       "    </tr>\n",
       "    <tr>\n",
       "      <th>DD4352CDCF8C3D57</th>\n",
       "      <td>2020-12-07</td>\n",
       "      <td>EU</td>\n",
       "      <td>Android</td>\n",
       "      <td>B</td>\n",
       "      <td>recommender_system_test</td>\n",
       "    </tr>\n",
       "    <tr>\n",
       "      <th>831887FE7F2D6CBA</th>\n",
       "      <td>2020-12-07</td>\n",
       "      <td>EU</td>\n",
       "      <td>Android</td>\n",
       "      <td>A</td>\n",
       "      <td>recommender_system_test</td>\n",
       "    </tr>\n",
       "    <tr>\n",
       "      <th>4CB179C7F847320B</th>\n",
       "      <td>2020-12-07</td>\n",
       "      <td>EU</td>\n",
       "      <td>iPhone</td>\n",
       "      <td>B</td>\n",
       "      <td>recommender_system_test</td>\n",
       "    </tr>\n",
       "    <tr>\n",
       "      <th>...</th>\n",
       "      <td>...</td>\n",
       "      <td>...</td>\n",
       "      <td>...</td>\n",
       "      <td>...</td>\n",
       "      <td>...</td>\n",
       "    </tr>\n",
       "    <tr>\n",
       "      <th>A09DFE27D4CFF8E8</th>\n",
       "      <td>2020-12-20</td>\n",
       "      <td>EU</td>\n",
       "      <td>Android</td>\n",
       "      <td>B</td>\n",
       "      <td>recommender_system_test</td>\n",
       "    </tr>\n",
       "    <tr>\n",
       "      <th>0F7D49FC184EDCDE</th>\n",
       "      <td>2020-12-20</td>\n",
       "      <td>EU</td>\n",
       "      <td>PC</td>\n",
       "      <td>A</td>\n",
       "      <td>recommender_system_test</td>\n",
       "    </tr>\n",
       "    <tr>\n",
       "      <th>574ACBC674BC385D</th>\n",
       "      <td>2020-12-20</td>\n",
       "      <td>EU</td>\n",
       "      <td>Mac</td>\n",
       "      <td>A</td>\n",
       "      <td>recommender_system_test</td>\n",
       "    </tr>\n",
       "    <tr>\n",
       "      <th>0416B34D35C8C8B8</th>\n",
       "      <td>2020-12-20</td>\n",
       "      <td>EU</td>\n",
       "      <td>Android</td>\n",
       "      <td>A</td>\n",
       "      <td>recommender_system_test</td>\n",
       "    </tr>\n",
       "    <tr>\n",
       "      <th>89CB0BFBC3F35126</th>\n",
       "      <td>2020-12-20</td>\n",
       "      <td>EU</td>\n",
       "      <td>PC</td>\n",
       "      <td>B</td>\n",
       "      <td>recommender_system_test</td>\n",
       "    </tr>\n",
       "  </tbody>\n",
       "</table>\n",
       "<p>6351 rows × 5 columns</p>\n",
       "</div>"
      ],
      "text/plain": [
       "                 first_date region   device group                  ab_test\n",
       "user_id                                                                   \n",
       "D72A72121175D8BE 2020-12-07     EU       PC     A  recommender_system_test\n",
       "E6DE857AFBDC6102 2020-12-07     EU       PC     B  recommender_system_test\n",
       "DD4352CDCF8C3D57 2020-12-07     EU  Android     B  recommender_system_test\n",
       "831887FE7F2D6CBA 2020-12-07     EU  Android     A  recommender_system_test\n",
       "4CB179C7F847320B 2020-12-07     EU   iPhone     B  recommender_system_test\n",
       "...                     ...    ...      ...   ...                      ...\n",
       "A09DFE27D4CFF8E8 2020-12-20     EU  Android     B  recommender_system_test\n",
       "0F7D49FC184EDCDE 2020-12-20     EU       PC     A  recommender_system_test\n",
       "574ACBC674BC385D 2020-12-20     EU      Mac     A  recommender_system_test\n",
       "0416B34D35C8C8B8 2020-12-20     EU  Android     A  recommender_system_test\n",
       "89CB0BFBC3F35126 2020-12-20     EU       PC     B  recommender_system_test\n",
       "\n",
       "[6351 rows x 5 columns]"
      ]
     },
     "metadata": {},
     "output_type": "display_data"
    }
   ],
   "source": [
    "user_data = new_users.join(test_participants,  how='inner')\n",
    "display(user_data )"
   ]
  },
  {
   "cell_type": "code",
   "execution_count": 30,
   "id": "82c41d87",
   "metadata": {},
   "outputs": [
    {
     "data": {
      "text/markdown": [
       "**Пользователей, участвующих в нескольких тестах:**"
      ],
      "text/plain": [
       "<IPython.core.display.Markdown object>"
      ]
     },
     "metadata": {},
     "output_type": "display_data"
    },
    {
     "data": {
      "text/plain": [
       "1602"
      ]
     },
     "metadata": {},
     "output_type": "display_data"
    }
   ],
   "source": [
    "display(Markdown('**Пользователей, участвующих в нескольких тестах:**'), \n",
    "      final_ab_participants.query(\"user_id in @user_data.index \")\n",
    "      .groupby('user_id')['ab_test'].nunique().to_frame()\n",
    "      .query('ab_test > 1 ').count()[0]\n",
    "     )"
   ]
  },
  {
   "cell_type": "markdown",
   "id": "ef8b5d07",
   "metadata": {},
   "source": [
    "Выделим id пользователей, участвующих в нескольких тестах одноременно, в отдельную таблицу"
   ]
  },
  {
   "cell_type": "code",
   "execution_count": 31,
   "id": "b19c3ab1",
   "metadata": {},
   "outputs": [],
   "source": [
    "users_in_two_tests = (final_ab_participants.query(\"user_id in @user_data.index \")\n",
    "      .groupby('user_id')['ab_test'].nunique().to_frame()\n",
    "      .query('ab_test > 1 ').sort_values('ab_test').index)"
   ]
  },
  {
   "cell_type": "markdown",
   "id": "849ddbfe",
   "metadata": {},
   "source": [
    "Посмотрим количество пользователей в обоих тестах по группам"
   ]
  },
  {
   "cell_type": "code",
   "execution_count": 32,
   "id": "8da0b8af",
   "metadata": {},
   "outputs": [
    {
     "data": {
      "text/html": [
       "<div>\n",
       "<style scoped>\n",
       "    .dataframe tbody tr th:only-of-type {\n",
       "        vertical-align: middle;\n",
       "    }\n",
       "\n",
       "    .dataframe tbody tr th {\n",
       "        vertical-align: top;\n",
       "    }\n",
       "\n",
       "    .dataframe thead th {\n",
       "        text-align: right;\n",
       "    }\n",
       "</style>\n",
       "<table border=\"1\" class=\"dataframe\">\n",
       "  <thead>\n",
       "    <tr style=\"text-align: right;\">\n",
       "      <th></th>\n",
       "      <th></th>\n",
       "      <th>user_id</th>\n",
       "    </tr>\n",
       "    <tr>\n",
       "      <th>ab_test</th>\n",
       "      <th>group</th>\n",
       "      <th></th>\n",
       "    </tr>\n",
       "  </thead>\n",
       "  <tbody>\n",
       "    <tr>\n",
       "      <th rowspan=\"2\" valign=\"top\">interface_eu_test</th>\n",
       "      <th>A</th>\n",
       "      <td>5831</td>\n",
       "    </tr>\n",
       "    <tr>\n",
       "      <th>B</th>\n",
       "      <td>5736</td>\n",
       "    </tr>\n",
       "    <tr>\n",
       "      <th rowspan=\"2\" valign=\"top\">recommender_system_test</th>\n",
       "      <th>A</th>\n",
       "      <td>3824</td>\n",
       "    </tr>\n",
       "    <tr>\n",
       "      <th>B</th>\n",
       "      <td>2877</td>\n",
       "    </tr>\n",
       "  </tbody>\n",
       "</table>\n",
       "</div>"
      ],
      "text/plain": [
       "                               user_id\n",
       "ab_test                 group         \n",
       "interface_eu_test       A         5831\n",
       "                        B         5736\n",
       "recommender_system_test A         3824\n",
       "                        B         2877"
      ]
     },
     "execution_count": 32,
     "metadata": {},
     "output_type": "execute_result"
    }
   ],
   "source": [
    "final_ab_participants.groupby(['ab_test','group']).count()"
   ]
  },
  {
   "cell_type": "code",
   "execution_count": 33,
   "id": "c872dd3f",
   "metadata": {},
   "outputs": [
    {
     "data": {
      "text/html": [
       "<div>\n",
       "<style scoped>\n",
       "    .dataframe tbody tr th:only-of-type {\n",
       "        vertical-align: middle;\n",
       "    }\n",
       "\n",
       "    .dataframe tbody tr th {\n",
       "        vertical-align: top;\n",
       "    }\n",
       "\n",
       "    .dataframe thead th {\n",
       "        text-align: right;\n",
       "    }\n",
       "</style>\n",
       "<table border=\"1\" class=\"dataframe\">\n",
       "  <thead>\n",
       "    <tr style=\"text-align: right;\">\n",
       "      <th></th>\n",
       "      <th>first_date</th>\n",
       "    </tr>\n",
       "    <tr>\n",
       "      <th>group</th>\n",
       "      <th></th>\n",
       "    </tr>\n",
       "  </thead>\n",
       "  <tbody>\n",
       "    <tr>\n",
       "      <th>A</th>\n",
       "      <td>3634</td>\n",
       "    </tr>\n",
       "    <tr>\n",
       "      <th>B</th>\n",
       "      <td>2717</td>\n",
       "    </tr>\n",
       "  </tbody>\n",
       "</table>\n",
       "</div>"
      ],
      "text/plain": [
       "       first_date\n",
       "group            \n",
       "A            3634\n",
       "B            2717"
      ]
     },
     "metadata": {},
     "output_type": "display_data"
    }
   ],
   "source": [
    "display(user_data.groupby('group')['first_date'].count().to_frame())"
   ]
  },
  {
   "cell_type": "markdown",
   "id": "cc2d983f",
   "metadata": {},
   "source": [
    "Выделим из списка пользователей всех, кто участвовал во втором тесте."
   ]
  },
  {
   "cell_type": "code",
   "execution_count": 34,
   "id": "aa5bd5b4",
   "metadata": {
    "scrolled": false
   },
   "outputs": [
    {
     "data": {
      "text/html": [
       "<div>\n",
       "<style scoped>\n",
       "    .dataframe tbody tr th:only-of-type {\n",
       "        vertical-align: middle;\n",
       "    }\n",
       "\n",
       "    .dataframe tbody tr th {\n",
       "        vertical-align: top;\n",
       "    }\n",
       "\n",
       "    .dataframe thead th {\n",
       "        text-align: right;\n",
       "    }\n",
       "</style>\n",
       "<table border=\"1\" class=\"dataframe\">\n",
       "  <thead>\n",
       "    <tr style=\"text-align: right;\">\n",
       "      <th></th>\n",
       "      <th>group2</th>\n",
       "      <th>test2</th>\n",
       "    </tr>\n",
       "    <tr>\n",
       "      <th>user_id</th>\n",
       "      <th></th>\n",
       "      <th></th>\n",
       "    </tr>\n",
       "  </thead>\n",
       "  <tbody>\n",
       "    <tr>\n",
       "      <th>D4E530F6595A05A3</th>\n",
       "      <td>A</td>\n",
       "      <td>interface_eu_test</td>\n",
       "    </tr>\n",
       "    <tr>\n",
       "      <th>773ECB64E45DEBAB</th>\n",
       "      <td>A</td>\n",
       "      <td>interface_eu_test</td>\n",
       "    </tr>\n",
       "    <tr>\n",
       "      <th>6BCB0F33D3BAB8C2</th>\n",
       "      <td>A</td>\n",
       "      <td>interface_eu_test</td>\n",
       "    </tr>\n",
       "    <tr>\n",
       "      <th>AABA4219186465C9</th>\n",
       "      <td>A</td>\n",
       "      <td>interface_eu_test</td>\n",
       "    </tr>\n",
       "    <tr>\n",
       "      <th>2BA8FA8754D1FE50</th>\n",
       "      <td>B</td>\n",
       "      <td>interface_eu_test</td>\n",
       "    </tr>\n",
       "    <tr>\n",
       "      <th>...</th>\n",
       "      <td>...</td>\n",
       "      <td>...</td>\n",
       "    </tr>\n",
       "    <tr>\n",
       "      <th>1D302F8688B91781</th>\n",
       "      <td>B</td>\n",
       "      <td>interface_eu_test</td>\n",
       "    </tr>\n",
       "    <tr>\n",
       "      <th>3DE51B726983B657</th>\n",
       "      <td>A</td>\n",
       "      <td>interface_eu_test</td>\n",
       "    </tr>\n",
       "    <tr>\n",
       "      <th>F501F79D332BE86C</th>\n",
       "      <td>A</td>\n",
       "      <td>interface_eu_test</td>\n",
       "    </tr>\n",
       "    <tr>\n",
       "      <th>63FBE257B05F2245</th>\n",
       "      <td>A</td>\n",
       "      <td>interface_eu_test</td>\n",
       "    </tr>\n",
       "    <tr>\n",
       "      <th>79F9ABFB029CF724</th>\n",
       "      <td>B</td>\n",
       "      <td>interface_eu_test</td>\n",
       "    </tr>\n",
       "  </tbody>\n",
       "</table>\n",
       "<p>11567 rows × 2 columns</p>\n",
       "</div>"
      ],
      "text/plain": [
       "                 group2              test2\n",
       "user_id                                   \n",
       "D4E530F6595A05A3      A  interface_eu_test\n",
       "773ECB64E45DEBAB      A  interface_eu_test\n",
       "6BCB0F33D3BAB8C2      A  interface_eu_test\n",
       "AABA4219186465C9      A  interface_eu_test\n",
       "2BA8FA8754D1FE50      B  interface_eu_test\n",
       "...                 ...                ...\n",
       "1D302F8688B91781      B  interface_eu_test\n",
       "3DE51B726983B657      A  interface_eu_test\n",
       "F501F79D332BE86C      A  interface_eu_test\n",
       "63FBE257B05F2245      A  interface_eu_test\n",
       "79F9ABFB029CF724      B  interface_eu_test\n",
       "\n",
       "[11567 rows x 2 columns]"
      ]
     },
     "metadata": {},
     "output_type": "display_data"
    }
   ],
   "source": [
    "other_test_users = final_ab_participants.query(\"ab_test == 'interface_eu_test'\").set_index('user_id')\n",
    "other_test_users.columns = ['group2','test2']\n",
    "\n",
    "display(other_test_users)"
   ]
  },
  {
   "cell_type": "markdown",
   "id": "fe0f900e",
   "metadata": {},
   "source": [
    "Добавим эту информацию к таблице с интересующими нас пользователями."
   ]
  },
  {
   "cell_type": "code",
   "execution_count": 35,
   "id": "37d0e6ff",
   "metadata": {},
   "outputs": [
    {
     "data": {
      "text/html": [
       "<div>\n",
       "<style scoped>\n",
       "    .dataframe tbody tr th:only-of-type {\n",
       "        vertical-align: middle;\n",
       "    }\n",
       "\n",
       "    .dataframe tbody tr th {\n",
       "        vertical-align: top;\n",
       "    }\n",
       "\n",
       "    .dataframe thead th {\n",
       "        text-align: right;\n",
       "    }\n",
       "</style>\n",
       "<table border=\"1\" class=\"dataframe\">\n",
       "  <thead>\n",
       "    <tr style=\"text-align: right;\">\n",
       "      <th></th>\n",
       "      <th>first_date</th>\n",
       "      <th>region</th>\n",
       "      <th>device</th>\n",
       "      <th>group</th>\n",
       "      <th>ab_test</th>\n",
       "      <th>group2</th>\n",
       "      <th>test2</th>\n",
       "    </tr>\n",
       "    <tr>\n",
       "      <th>user_id</th>\n",
       "      <th></th>\n",
       "      <th></th>\n",
       "      <th></th>\n",
       "      <th></th>\n",
       "      <th></th>\n",
       "      <th></th>\n",
       "      <th></th>\n",
       "    </tr>\n",
       "  </thead>\n",
       "  <tbody>\n",
       "    <tr>\n",
       "      <th>D72A72121175D8BE</th>\n",
       "      <td>2020-12-07</td>\n",
       "      <td>EU</td>\n",
       "      <td>PC</td>\n",
       "      <td>A</td>\n",
       "      <td>recommender_system_test</td>\n",
       "      <td>no_data</td>\n",
       "      <td>no_data</td>\n",
       "    </tr>\n",
       "    <tr>\n",
       "      <th>E6DE857AFBDC6102</th>\n",
       "      <td>2020-12-07</td>\n",
       "      <td>EU</td>\n",
       "      <td>PC</td>\n",
       "      <td>B</td>\n",
       "      <td>recommender_system_test</td>\n",
       "      <td>B</td>\n",
       "      <td>interface_eu_test</td>\n",
       "    </tr>\n",
       "    <tr>\n",
       "      <th>DD4352CDCF8C3D57</th>\n",
       "      <td>2020-12-07</td>\n",
       "      <td>EU</td>\n",
       "      <td>Android</td>\n",
       "      <td>B</td>\n",
       "      <td>recommender_system_test</td>\n",
       "      <td>A</td>\n",
       "      <td>interface_eu_test</td>\n",
       "    </tr>\n",
       "    <tr>\n",
       "      <th>831887FE7F2D6CBA</th>\n",
       "      <td>2020-12-07</td>\n",
       "      <td>EU</td>\n",
       "      <td>Android</td>\n",
       "      <td>A</td>\n",
       "      <td>recommender_system_test</td>\n",
       "      <td>no_data</td>\n",
       "      <td>no_data</td>\n",
       "    </tr>\n",
       "    <tr>\n",
       "      <th>4CB179C7F847320B</th>\n",
       "      <td>2020-12-07</td>\n",
       "      <td>EU</td>\n",
       "      <td>iPhone</td>\n",
       "      <td>B</td>\n",
       "      <td>recommender_system_test</td>\n",
       "      <td>no_data</td>\n",
       "      <td>no_data</td>\n",
       "    </tr>\n",
       "    <tr>\n",
       "      <th>...</th>\n",
       "      <td>...</td>\n",
       "      <td>...</td>\n",
       "      <td>...</td>\n",
       "      <td>...</td>\n",
       "      <td>...</td>\n",
       "      <td>...</td>\n",
       "      <td>...</td>\n",
       "    </tr>\n",
       "    <tr>\n",
       "      <th>A09DFE27D4CFF8E8</th>\n",
       "      <td>2020-12-20</td>\n",
       "      <td>EU</td>\n",
       "      <td>Android</td>\n",
       "      <td>B</td>\n",
       "      <td>recommender_system_test</td>\n",
       "      <td>B</td>\n",
       "      <td>interface_eu_test</td>\n",
       "    </tr>\n",
       "    <tr>\n",
       "      <th>0F7D49FC184EDCDE</th>\n",
       "      <td>2020-12-20</td>\n",
       "      <td>EU</td>\n",
       "      <td>PC</td>\n",
       "      <td>A</td>\n",
       "      <td>recommender_system_test</td>\n",
       "      <td>no_data</td>\n",
       "      <td>no_data</td>\n",
       "    </tr>\n",
       "    <tr>\n",
       "      <th>574ACBC674BC385D</th>\n",
       "      <td>2020-12-20</td>\n",
       "      <td>EU</td>\n",
       "      <td>Mac</td>\n",
       "      <td>A</td>\n",
       "      <td>recommender_system_test</td>\n",
       "      <td>no_data</td>\n",
       "      <td>no_data</td>\n",
       "    </tr>\n",
       "    <tr>\n",
       "      <th>0416B34D35C8C8B8</th>\n",
       "      <td>2020-12-20</td>\n",
       "      <td>EU</td>\n",
       "      <td>Android</td>\n",
       "      <td>A</td>\n",
       "      <td>recommender_system_test</td>\n",
       "      <td>no_data</td>\n",
       "      <td>no_data</td>\n",
       "    </tr>\n",
       "    <tr>\n",
       "      <th>89CB0BFBC3F35126</th>\n",
       "      <td>2020-12-20</td>\n",
       "      <td>EU</td>\n",
       "      <td>PC</td>\n",
       "      <td>B</td>\n",
       "      <td>recommender_system_test</td>\n",
       "      <td>no_data</td>\n",
       "      <td>no_data</td>\n",
       "    </tr>\n",
       "  </tbody>\n",
       "</table>\n",
       "<p>6351 rows × 7 columns</p>\n",
       "</div>"
      ],
      "text/plain": [
       "                 first_date region   device group                  ab_test  \\\n",
       "user_id                                                                      \n",
       "D72A72121175D8BE 2020-12-07     EU       PC     A  recommender_system_test   \n",
       "E6DE857AFBDC6102 2020-12-07     EU       PC     B  recommender_system_test   \n",
       "DD4352CDCF8C3D57 2020-12-07     EU  Android     B  recommender_system_test   \n",
       "831887FE7F2D6CBA 2020-12-07     EU  Android     A  recommender_system_test   \n",
       "4CB179C7F847320B 2020-12-07     EU   iPhone     B  recommender_system_test   \n",
       "...                     ...    ...      ...   ...                      ...   \n",
       "A09DFE27D4CFF8E8 2020-12-20     EU  Android     B  recommender_system_test   \n",
       "0F7D49FC184EDCDE 2020-12-20     EU       PC     A  recommender_system_test   \n",
       "574ACBC674BC385D 2020-12-20     EU      Mac     A  recommender_system_test   \n",
       "0416B34D35C8C8B8 2020-12-20     EU  Android     A  recommender_system_test   \n",
       "89CB0BFBC3F35126 2020-12-20     EU       PC     B  recommender_system_test   \n",
       "\n",
       "                   group2              test2  \n",
       "user_id                                       \n",
       "D72A72121175D8BE  no_data            no_data  \n",
       "E6DE857AFBDC6102        B  interface_eu_test  \n",
       "DD4352CDCF8C3D57        A  interface_eu_test  \n",
       "831887FE7F2D6CBA  no_data            no_data  \n",
       "4CB179C7F847320B  no_data            no_data  \n",
       "...                   ...                ...  \n",
       "A09DFE27D4CFF8E8        B  interface_eu_test  \n",
       "0F7D49FC184EDCDE  no_data            no_data  \n",
       "574ACBC674BC385D  no_data            no_data  \n",
       "0416B34D35C8C8B8  no_data            no_data  \n",
       "89CB0BFBC3F35126  no_data            no_data  \n",
       "\n",
       "[6351 rows x 7 columns]"
      ]
     },
     "metadata": {},
     "output_type": "display_data"
    }
   ],
   "source": [
    "user_data = user_data.join(other_test_users, how = 'left')\n",
    "user_data = user_data.fillna('no_data')\n",
    "\n",
    "display(user_data)"
   ]
  },
  {
   "cell_type": "markdown",
   "id": "207622c8",
   "metadata": {},
   "source": [
    "Выведем сводную таблицу с количеством пользователей, участвовавших в двух тестах."
   ]
  },
  {
   "cell_type": "code",
   "execution_count": 36,
   "id": "4da90b2a",
   "metadata": {},
   "outputs": [
    {
     "data": {
      "text/html": [
       "<div>\n",
       "<style scoped>\n",
       "    .dataframe tbody tr th:only-of-type {\n",
       "        vertical-align: middle;\n",
       "    }\n",
       "\n",
       "    .dataframe tbody tr th {\n",
       "        vertical-align: top;\n",
       "    }\n",
       "\n",
       "    .dataframe thead th {\n",
       "        text-align: right;\n",
       "    }\n",
       "</style>\n",
       "<table border=\"1\" class=\"dataframe\">\n",
       "  <thead>\n",
       "    <tr style=\"text-align: right;\">\n",
       "      <th>group2</th>\n",
       "      <th>A</th>\n",
       "      <th>B</th>\n",
       "      <th>no_data</th>\n",
       "    </tr>\n",
       "    <tr>\n",
       "      <th>group</th>\n",
       "      <th></th>\n",
       "      <th></th>\n",
       "      <th></th>\n",
       "    </tr>\n",
       "  </thead>\n",
       "  <tbody>\n",
       "    <tr>\n",
       "      <th>A</th>\n",
       "      <td>482</td>\n",
       "      <td>439</td>\n",
       "      <td>2713</td>\n",
       "    </tr>\n",
       "    <tr>\n",
       "      <th>B</th>\n",
       "      <td>337</td>\n",
       "      <td>344</td>\n",
       "      <td>2036</td>\n",
       "    </tr>\n",
       "  </tbody>\n",
       "</table>\n",
       "</div>"
      ],
      "text/plain": [
       "group2    A    B  no_data\n",
       "group                    \n",
       "A       482  439     2713\n",
       "B       337  344     2036"
      ]
     },
     "execution_count": 36,
     "metadata": {},
     "output_type": "execute_result"
    }
   ],
   "source": [
    "tests_dist_pivot =  user_data.reset_index().pivot_table(columns='group2', values='user_id', index='group', aggfunc='nunique')\n",
    "tests_dist_pivot"
   ]
  },
  {
   "cell_type": "markdown",
   "id": "4dd8e754",
   "metadata": {},
   "source": [
    "Переведем в проценты"
   ]
  },
  {
   "cell_type": "code",
   "execution_count": 37,
   "id": "27730cfe",
   "metadata": {},
   "outputs": [
    {
     "data": {
      "text/html": [
       "<div>\n",
       "<style scoped>\n",
       "    .dataframe tbody tr th:only-of-type {\n",
       "        vertical-align: middle;\n",
       "    }\n",
       "\n",
       "    .dataframe tbody tr th {\n",
       "        vertical-align: top;\n",
       "    }\n",
       "\n",
       "    .dataframe thead th {\n",
       "        text-align: right;\n",
       "    }\n",
       "</style>\n",
       "<table border=\"1\" class=\"dataframe\">\n",
       "  <thead>\n",
       "    <tr style=\"text-align: right;\">\n",
       "      <th>group2</th>\n",
       "      <th>A</th>\n",
       "      <th>B</th>\n",
       "      <th>no_data</th>\n",
       "    </tr>\n",
       "    <tr>\n",
       "      <th>group</th>\n",
       "      <th></th>\n",
       "      <th></th>\n",
       "      <th></th>\n",
       "    </tr>\n",
       "  </thead>\n",
       "  <tbody>\n",
       "    <tr>\n",
       "      <th>A</th>\n",
       "      <td>0.132636</td>\n",
       "      <td>0.120804</td>\n",
       "      <td>0.746560</td>\n",
       "    </tr>\n",
       "    <tr>\n",
       "      <th>B</th>\n",
       "      <td>0.124034</td>\n",
       "      <td>0.126610</td>\n",
       "      <td>0.749356</td>\n",
       "    </tr>\n",
       "  </tbody>\n",
       "</table>\n",
       "</div>"
      ],
      "text/plain": [
       "group2         A         B   no_data\n",
       "group                               \n",
       "A       0.132636  0.120804  0.746560\n",
       "B       0.124034  0.126610  0.749356"
      ]
     },
     "execution_count": 37,
     "metadata": {},
     "output_type": "execute_result"
    }
   ],
   "source": [
    "tests_dist_pivot.div(tests_dist_pivot.sum(axis=1), axis=0)"
   ]
  },
  {
   "cell_type": "markdown",
   "id": "1ee8b21e",
   "metadata": {},
   "source": [
    "74% пользователей из тестовой и контрольной групп теста рекомендаций не принимали участие в других тестах.     \n",
    "\n",
    "26% пользователей участвовали так же в другом тесте. Но распределение участников контрольной и тестовой групп обоих тестов равномерно, значит влияние второго теста на обе группы одинаково и не должно создать проблемы. "
   ]
  },
  {
   "cell_type": "markdown",
   "id": "445b6180",
   "metadata": {},
   "source": [
    "#### Рекламные кампании"
   ]
  },
  {
   "cell_type": "code",
   "execution_count": 38,
   "id": "5247fce7",
   "metadata": {},
   "outputs": [
    {
     "name": "stdout",
     "output_type": "stream",
     "text": [
      "\n",
      "Рекламные кампании в период регистрации новых пользователей: 0\n",
      "\n",
      "Рекламные кампании в период всего проведения A/B теста: 1\n"
     ]
    },
    {
     "data": {
      "text/html": [
       "<div>\n",
       "<style scoped>\n",
       "    .dataframe tbody tr th:only-of-type {\n",
       "        vertical-align: middle;\n",
       "    }\n",
       "\n",
       "    .dataframe tbody tr th {\n",
       "        vertical-align: top;\n",
       "    }\n",
       "\n",
       "    .dataframe thead th {\n",
       "        text-align: right;\n",
       "    }\n",
       "</style>\n",
       "<table border=\"1\" class=\"dataframe\">\n",
       "  <thead>\n",
       "    <tr style=\"text-align: right;\">\n",
       "      <th></th>\n",
       "      <th>name</th>\n",
       "      <th>regions</th>\n",
       "      <th>start_dt</th>\n",
       "      <th>finish_dt</th>\n",
       "    </tr>\n",
       "  </thead>\n",
       "  <tbody>\n",
       "    <tr>\n",
       "      <th>0</th>\n",
       "      <td>Christmas&amp;New Year Promo</td>\n",
       "      <td>EU, N.America</td>\n",
       "      <td>2020-12-25</td>\n",
       "      <td>2021-01-03</td>\n",
       "    </tr>\n",
       "  </tbody>\n",
       "</table>\n",
       "</div>"
      ],
      "text/plain": [
       "                       name        regions    start_dt   finish_dt\n",
       "0  Christmas&New Year Promo  EU, N.America  2020-12-25  2021-01-03"
      ]
     },
     "metadata": {},
     "output_type": "display_data"
    }
   ],
   "source": [
    "#приведем дату к типу данных \"дата\", для дальнейших операций сравнения\n",
    "ab_project_marketing_events['start_dt'] = ab_project_marketing_events['start_dt'].astype('datetime64[ns]').dt.date\n",
    "ab_project_marketing_events['finish_dt'] = ab_project_marketing_events['finish_dt'].astype('datetime64[ns]').dt.date\n",
    "\n",
    "campaigns = ab_project_marketing_events.loc[ab_project_marketing_events.regions.str.contains('EU')].copy()\n",
    "\n",
    "print('')\n",
    "print('Рекламные кампании в период регистрации новых пользователей:',\n",
    "       campaigns\n",
    "          .query(\" (@ab_test_start< start_dt < @new_users_register_fin) \\\n",
    "                 and  (@ab_test_start< finish_dt < @new_users_register_fin) \")\n",
    "          .shape[0]\n",
    "     )\n",
    "\n",
    "print('')\n",
    "print('Рекламные кампании в период всего проведения A/B теста:', \n",
    "      campaigns\n",
    "       .query(\" (@ab_test_start< start_dt < @ab_test_fin)\\\n",
    "       and  (@ab_test_start< finish_dt < @ab_test_fin) \")\n",
    "      .shape[0]\n",
    "     )\n",
    "display(campaigns\n",
    "       .query(\" (@ab_test_start< start_dt < @ab_test_fin)\\\n",
    "       and  (@ab_test_start< finish_dt < @ab_test_fin) \")\n",
    "        )"
   ]
  },
  {
   "cell_type": "markdown",
   "id": "ee799cea",
   "metadata": {},
   "source": [
    "Во время привлечения новых пользователей рекламные кампании не проводились. Но после набора пользователей, во время проведения тестирования, была одна Новогодняя промо-кампания в период с 25 Декабря по 3 Января.\n",
    "Стоит обратить внимание на активности пользователей в этот период."
   ]
  },
  {
   "cell_type": "markdown",
   "id": "4df5abee",
   "metadata": {},
   "source": [
    "#### Вывод"
   ]
  },
  {
   "cell_type": "markdown",
   "id": "aac0583e",
   "metadata": {},
   "source": [
    "* Записи событий заканчиваются раньше запланированного окончания теста — 30.12 вместо 4.01. Соответственно не все пользователи имеют лайфтайм 14 дней, как указано в ТЗ.\n",
    "    * Для решения этой проблемы будем считать метрики за 14 дней, для тех, у кого можно, и 7 для остальных.\n",
    "    * Такой подход поможет оценить результаты АВ теста с большим числом пользователей, отвечающих требованиям ТЗ.\n",
    "* Также на конец периода тестирования попадает предновогодняя рекламная кампания, которая тоже могла повлиять на активности пользователей.\n",
    "    * Обратим внимание на действие пользователей в этот период на предмет наличия выбросов и аномалий.\n",
    "* Кроме того, часть зарегистрированных для участия в тестировании пользователей так же принимали участие в параллельном A/B тестировании другой фичи.\n",
    "    * Пользователи между тестами распределены равномерно и перекоса в пользу одной из контрольных или тестовых групп нет. "
   ]
  },
  {
   "cell_type": "markdown",
   "id": "440d7b97",
   "metadata": {},
   "source": [
    "### Создание дополнительных датафреймов"
   ]
  },
  {
   "cell_type": "markdown",
   "id": "ced6a2de",
   "metadata": {},
   "source": [
    "####  Целевые метрики пользователей в сроки 7 и 14 дней"
   ]
  },
  {
   "cell_type": "code",
   "execution_count": 39,
   "id": "afdbc960",
   "metadata": {},
   "outputs": [
    {
     "data": {
      "text/html": [
       "<div>\n",
       "<style scoped>\n",
       "    .dataframe tbody tr th:only-of-type {\n",
       "        vertical-align: middle;\n",
       "    }\n",
       "\n",
       "    .dataframe tbody tr th {\n",
       "        vertical-align: top;\n",
       "    }\n",
       "\n",
       "    .dataframe thead th {\n",
       "        text-align: right;\n",
       "    }\n",
       "</style>\n",
       "<table border=\"1\" class=\"dataframe\">\n",
       "  <thead>\n",
       "    <tr style=\"text-align: right;\">\n",
       "      <th></th>\n",
       "      <th>user_id</th>\n",
       "      <th>event_dt</th>\n",
       "      <th>event_name</th>\n",
       "      <th>revenue</th>\n",
       "      <th>event_date</th>\n",
       "      <th>first_date</th>\n",
       "      <th>region</th>\n",
       "      <th>device</th>\n",
       "      <th>group</th>\n",
       "      <th>ab_test</th>\n",
       "      <th>group2</th>\n",
       "      <th>test2</th>\n",
       "    </tr>\n",
       "  </thead>\n",
       "  <tbody>\n",
       "    <tr>\n",
       "      <th>22896</th>\n",
       "      <td>FA86D8DFAD3ADADE</td>\n",
       "      <td>2020-12-15 06:56:40</td>\n",
       "      <td>login</td>\n",
       "      <td>NaN</td>\n",
       "      <td>2020-12-15</td>\n",
       "      <td>2020-12-14</td>\n",
       "      <td>EU</td>\n",
       "      <td>iPhone</td>\n",
       "      <td>A</td>\n",
       "      <td>recommender_system_test</td>\n",
       "      <td>A</td>\n",
       "      <td>interface_eu_test</td>\n",
       "    </tr>\n",
       "    <tr>\n",
       "      <th>9192</th>\n",
       "      <td>64CD9350DEEE01B6</td>\n",
       "      <td>2020-12-22 19:52:13</td>\n",
       "      <td>product_page</td>\n",
       "      <td>NaN</td>\n",
       "      <td>2020-12-22</td>\n",
       "      <td>2020-12-21</td>\n",
       "      <td>EU</td>\n",
       "      <td>Android</td>\n",
       "      <td>A</td>\n",
       "      <td>recommender_system_test</td>\n",
       "      <td>B</td>\n",
       "      <td>interface_eu_test</td>\n",
       "    </tr>\n",
       "    <tr>\n",
       "      <th>22362</th>\n",
       "      <td>F4502564DB470382</td>\n",
       "      <td>2020-12-20 07:11:15</td>\n",
       "      <td>product_page</td>\n",
       "      <td>NaN</td>\n",
       "      <td>2020-12-20</td>\n",
       "      <td>2020-12-19</td>\n",
       "      <td>EU</td>\n",
       "      <td>iPhone</td>\n",
       "      <td>A</td>\n",
       "      <td>recommender_system_test</td>\n",
       "      <td>no_data</td>\n",
       "      <td>no_data</td>\n",
       "    </tr>\n",
       "    <tr>\n",
       "      <th>16706</th>\n",
       "      <td>B582D211C1BE1FFD</td>\n",
       "      <td>2020-12-15 11:35:22</td>\n",
       "      <td>purchase</td>\n",
       "      <td>4.99</td>\n",
       "      <td>2020-12-15</td>\n",
       "      <td>2020-12-07</td>\n",
       "      <td>EU</td>\n",
       "      <td>Android</td>\n",
       "      <td>B</td>\n",
       "      <td>recommender_system_test</td>\n",
       "      <td>A</td>\n",
       "      <td>interface_eu_test</td>\n",
       "    </tr>\n",
       "    <tr>\n",
       "      <th>17458</th>\n",
       "      <td>BD990A8F9EB71A21</td>\n",
       "      <td>2020-12-21 06:29:38</td>\n",
       "      <td>product_page</td>\n",
       "      <td>NaN</td>\n",
       "      <td>2020-12-21</td>\n",
       "      <td>2020-12-19</td>\n",
       "      <td>EU</td>\n",
       "      <td>PC</td>\n",
       "      <td>A</td>\n",
       "      <td>recommender_system_test</td>\n",
       "      <td>no_data</td>\n",
       "      <td>no_data</td>\n",
       "    </tr>\n",
       "  </tbody>\n",
       "</table>\n",
       "</div>"
      ],
      "text/plain": [
       "                user_id            event_dt    event_name  revenue  \\\n",
       "22896  FA86D8DFAD3ADADE 2020-12-15 06:56:40         login      NaN   \n",
       "9192   64CD9350DEEE01B6 2020-12-22 19:52:13  product_page      NaN   \n",
       "22362  F4502564DB470382 2020-12-20 07:11:15  product_page      NaN   \n",
       "16706  B582D211C1BE1FFD 2020-12-15 11:35:22      purchase     4.99   \n",
       "17458  BD990A8F9EB71A21 2020-12-21 06:29:38  product_page      NaN   \n",
       "\n",
       "       event_date first_date region   device group                  ab_test  \\\n",
       "22896  2020-12-15 2020-12-14     EU   iPhone     A  recommender_system_test   \n",
       "9192   2020-12-22 2020-12-21     EU  Android     A  recommender_system_test   \n",
       "22362  2020-12-20 2020-12-19     EU   iPhone     A  recommender_system_test   \n",
       "16706  2020-12-15 2020-12-07     EU  Android     B  recommender_system_test   \n",
       "17458  2020-12-21 2020-12-19     EU       PC     A  recommender_system_test   \n",
       "\n",
       "        group2              test2  \n",
       "22896        A  interface_eu_test  \n",
       "9192         B  interface_eu_test  \n",
       "22362  no_data            no_data  \n",
       "16706        A  interface_eu_test  \n",
       "17458  no_data            no_data  "
      ]
     },
     "metadata": {},
     "output_type": "display_data"
    }
   ],
   "source": [
    "events = events.set_index('user_id').join(user_data, how='inner').reset_index()\n",
    "events = events.rename(columns={'details':'revenue'})\n",
    "\n",
    "display(events.sample(5))"
   ]
  },
  {
   "cell_type": "markdown",
   "id": "43893aae",
   "metadata": {},
   "source": [
    "Создаем датафрейм по юзерам с колонками +14 и +7 дней от даты регистрации для дальнейшей оценки горизонта событий пользователей."
   ]
  },
  {
   "cell_type": "code",
   "execution_count": 40,
   "id": "1b62a91f",
   "metadata": {},
   "outputs": [
    {
     "data": {
      "text/html": [
       "<div>\n",
       "<style scoped>\n",
       "    .dataframe tbody tr th:only-of-type {\n",
       "        vertical-align: middle;\n",
       "    }\n",
       "\n",
       "    .dataframe tbody tr th {\n",
       "        vertical-align: top;\n",
       "    }\n",
       "\n",
       "    .dataframe thead th {\n",
       "        text-align: right;\n",
       "    }\n",
       "</style>\n",
       "<table border=\"1\" class=\"dataframe\">\n",
       "  <thead>\n",
       "    <tr style=\"text-align: right;\">\n",
       "      <th></th>\n",
       "      <th>user_id</th>\n",
       "      <th>event_dt</th>\n",
       "      <th>event_name</th>\n",
       "      <th>revenue</th>\n",
       "      <th>event_date</th>\n",
       "      <th>first_date</th>\n",
       "      <th>region</th>\n",
       "      <th>device</th>\n",
       "      <th>group</th>\n",
       "      <th>ab_test</th>\n",
       "      <th>group2</th>\n",
       "      <th>test2</th>\n",
       "      <th>day_14</th>\n",
       "      <th>day_7</th>\n",
       "    </tr>\n",
       "  </thead>\n",
       "  <tbody>\n",
       "    <tr>\n",
       "      <th>9545</th>\n",
       "      <td>68AF1584357D955D</td>\n",
       "      <td>2020-12-24 18:58:31</td>\n",
       "      <td>purchase</td>\n",
       "      <td>9.99</td>\n",
       "      <td>2020-12-24</td>\n",
       "      <td>2020-12-14</td>\n",
       "      <td>EU</td>\n",
       "      <td>Android</td>\n",
       "      <td>A</td>\n",
       "      <td>recommender_system_test</td>\n",
       "      <td>no_data</td>\n",
       "      <td>no_data</td>\n",
       "      <td>2020-12-28</td>\n",
       "      <td>2020-12-21</td>\n",
       "    </tr>\n",
       "    <tr>\n",
       "      <th>13551</th>\n",
       "      <td>9745CE1D5B111CB1</td>\n",
       "      <td>2020-12-29 19:10:57</td>\n",
       "      <td>login</td>\n",
       "      <td>NaN</td>\n",
       "      <td>2020-12-29</td>\n",
       "      <td>2020-12-14</td>\n",
       "      <td>EU</td>\n",
       "      <td>iPhone</td>\n",
       "      <td>A</td>\n",
       "      <td>recommender_system_test</td>\n",
       "      <td>no_data</td>\n",
       "      <td>no_data</td>\n",
       "      <td>2020-12-28</td>\n",
       "      <td>2020-12-21</td>\n",
       "    </tr>\n",
       "    <tr>\n",
       "      <th>16957</th>\n",
       "      <td>B83CF8CFD3575F8B</td>\n",
       "      <td>2020-12-24 10:24:47</td>\n",
       "      <td>product_page</td>\n",
       "      <td>NaN</td>\n",
       "      <td>2020-12-24</td>\n",
       "      <td>2020-12-14</td>\n",
       "      <td>EU</td>\n",
       "      <td>iPhone</td>\n",
       "      <td>A</td>\n",
       "      <td>recommender_system_test</td>\n",
       "      <td>A</td>\n",
       "      <td>interface_eu_test</td>\n",
       "      <td>2020-12-28</td>\n",
       "      <td>2020-12-21</td>\n",
       "    </tr>\n",
       "    <tr>\n",
       "      <th>11293</th>\n",
       "      <td>7E1AF6C5FC07021E</td>\n",
       "      <td>2020-12-16 10:26:45</td>\n",
       "      <td>product_page</td>\n",
       "      <td>NaN</td>\n",
       "      <td>2020-12-16</td>\n",
       "      <td>2020-12-14</td>\n",
       "      <td>EU</td>\n",
       "      <td>Android</td>\n",
       "      <td>A</td>\n",
       "      <td>recommender_system_test</td>\n",
       "      <td>no_data</td>\n",
       "      <td>no_data</td>\n",
       "      <td>2020-12-28</td>\n",
       "      <td>2020-12-21</td>\n",
       "    </tr>\n",
       "    <tr>\n",
       "      <th>1619</th>\n",
       "      <td>12296270AAFCB36A</td>\n",
       "      <td>2020-12-15 20:02:06</td>\n",
       "      <td>login</td>\n",
       "      <td>NaN</td>\n",
       "      <td>2020-12-15</td>\n",
       "      <td>2020-12-14</td>\n",
       "      <td>EU</td>\n",
       "      <td>Android</td>\n",
       "      <td>A</td>\n",
       "      <td>recommender_system_test</td>\n",
       "      <td>no_data</td>\n",
       "      <td>no_data</td>\n",
       "      <td>2020-12-28</td>\n",
       "      <td>2020-12-21</td>\n",
       "    </tr>\n",
       "  </tbody>\n",
       "</table>\n",
       "</div>"
      ],
      "text/plain": [
       "                user_id            event_dt    event_name  revenue  \\\n",
       "9545   68AF1584357D955D 2020-12-24 18:58:31      purchase     9.99   \n",
       "13551  9745CE1D5B111CB1 2020-12-29 19:10:57         login      NaN   \n",
       "16957  B83CF8CFD3575F8B 2020-12-24 10:24:47  product_page      NaN   \n",
       "11293  7E1AF6C5FC07021E 2020-12-16 10:26:45  product_page      NaN   \n",
       "1619   12296270AAFCB36A 2020-12-15 20:02:06         login      NaN   \n",
       "\n",
       "       event_date first_date region   device group                  ab_test  \\\n",
       "9545   2020-12-24 2020-12-14     EU  Android     A  recommender_system_test   \n",
       "13551  2020-12-29 2020-12-14     EU   iPhone     A  recommender_system_test   \n",
       "16957  2020-12-24 2020-12-14     EU   iPhone     A  recommender_system_test   \n",
       "11293  2020-12-16 2020-12-14     EU  Android     A  recommender_system_test   \n",
       "1619   2020-12-15 2020-12-14     EU  Android     A  recommender_system_test   \n",
       "\n",
       "        group2              test2     day_14      day_7  \n",
       "9545   no_data            no_data 2020-12-28 2020-12-21  \n",
       "13551  no_data            no_data 2020-12-28 2020-12-21  \n",
       "16957        A  interface_eu_test 2020-12-28 2020-12-21  \n",
       "11293  no_data            no_data 2020-12-28 2020-12-21  \n",
       "1619   no_data            no_data 2020-12-28 2020-12-21  "
      ]
     },
     "metadata": {},
     "output_type": "display_data"
    }
   ],
   "source": [
    "#создаем колонки:\n",
    "\n",
    "#    с датой \"+14 дней от даты регистрации\"\n",
    "events['day_14'] = events['first_date'] + pd.Timedelta(days=14)\n",
    "\n",
    "#    с датой \"+7 дней от даты регистрации\"\n",
    "events['day_7'] = events['first_date'] + pd.Timedelta(days=7)\n",
    "display(events.sample(5))"
   ]
  },
  {
   "cell_type": "code",
   "execution_count": 41,
   "id": "70e11a6b",
   "metadata": {},
   "outputs": [
    {
     "data": {
      "text/html": [
       "<div>\n",
       "<style scoped>\n",
       "    .dataframe tbody tr th:only-of-type {\n",
       "        vertical-align: middle;\n",
       "    }\n",
       "\n",
       "    .dataframe tbody tr th {\n",
       "        vertical-align: top;\n",
       "    }\n",
       "\n",
       "    .dataframe thead th {\n",
       "        text-align: right;\n",
       "    }\n",
       "</style>\n",
       "<table border=\"1\" class=\"dataframe\">\n",
       "  <thead>\n",
       "    <tr style=\"text-align: right;\">\n",
       "      <th>event_name</th>\n",
       "      <th>login</th>\n",
       "      <th>product_cart</th>\n",
       "      <th>product_page</th>\n",
       "      <th>purchase</th>\n",
       "    </tr>\n",
       "    <tr>\n",
       "      <th>user_id</th>\n",
       "      <th></th>\n",
       "      <th></th>\n",
       "      <th></th>\n",
       "      <th></th>\n",
       "    </tr>\n",
       "  </thead>\n",
       "  <tbody>\n",
       "    <tr>\n",
       "      <th>60E68A4F33951169</th>\n",
       "      <td>1</td>\n",
       "      <td>0</td>\n",
       "      <td>1</td>\n",
       "      <td>1</td>\n",
       "    </tr>\n",
       "    <tr>\n",
       "      <th>8DE56E6BDA5F54AC</th>\n",
       "      <td>1</td>\n",
       "      <td>1</td>\n",
       "      <td>1</td>\n",
       "      <td>1</td>\n",
       "    </tr>\n",
       "    <tr>\n",
       "      <th>700E7D23A9A81AE3</th>\n",
       "      <td>1</td>\n",
       "      <td>1</td>\n",
       "      <td>0</td>\n",
       "      <td>0</td>\n",
       "    </tr>\n",
       "    <tr>\n",
       "      <th>F8383EBB9F73148A</th>\n",
       "      <td>1</td>\n",
       "      <td>1</td>\n",
       "      <td>1</td>\n",
       "      <td>0</td>\n",
       "    </tr>\n",
       "    <tr>\n",
       "      <th>5E9E80BADEA372AB</th>\n",
       "      <td>1</td>\n",
       "      <td>0</td>\n",
       "      <td>0</td>\n",
       "      <td>0</td>\n",
       "    </tr>\n",
       "  </tbody>\n",
       "</table>\n",
       "</div>"
      ],
      "text/plain": [
       "event_name        login  product_cart  product_page  purchase\n",
       "user_id                                                      \n",
       "60E68A4F33951169      1             0             1         1\n",
       "8DE56E6BDA5F54AC      1             1             1         1\n",
       "700E7D23A9A81AE3      1             1             0         0\n",
       "F8383EBB9F73148A      1             1             1         0\n",
       "5E9E80BADEA372AB      1             0             0         0"
      ]
     },
     "metadata": {},
     "output_type": "display_data"
    }
   ],
   "source": [
    "#добавляем каждому пользователю флаг, было ли совершено событие каждого типа в промежуток 14 дней\n",
    "#\n",
    "#\n",
    "users_events_d14 = (events.query(\"event_date <= day_14\")\n",
    "                    .groupby(['user_id','event_name'])['event_date']\n",
    "                    .min().unstack())\n",
    "\n",
    "users_events_d14 = users_events_d14.where(users_events_d14.isnull(), 1).fillna(0)\n",
    "display(users_events_d14.sample(5))"
   ]
  },
  {
   "cell_type": "code",
   "execution_count": 42,
   "id": "b8677644",
   "metadata": {},
   "outputs": [
    {
     "data": {
      "text/html": [
       "<div>\n",
       "<style scoped>\n",
       "    .dataframe tbody tr th:only-of-type {\n",
       "        vertical-align: middle;\n",
       "    }\n",
       "\n",
       "    .dataframe tbody tr th {\n",
       "        vertical-align: top;\n",
       "    }\n",
       "\n",
       "    .dataframe thead th {\n",
       "        text-align: right;\n",
       "    }\n",
       "</style>\n",
       "<table border=\"1\" class=\"dataframe\">\n",
       "  <thead>\n",
       "    <tr style=\"text-align: right;\">\n",
       "      <th>event_name</th>\n",
       "      <th>login</th>\n",
       "      <th>product_cart</th>\n",
       "      <th>product_page</th>\n",
       "      <th>purchase</th>\n",
       "    </tr>\n",
       "    <tr>\n",
       "      <th>user_id</th>\n",
       "      <th></th>\n",
       "      <th></th>\n",
       "      <th></th>\n",
       "      <th></th>\n",
       "    </tr>\n",
       "  </thead>\n",
       "  <tbody>\n",
       "    <tr>\n",
       "      <th>96E3D5B7F9DCB17B</th>\n",
       "      <td>1</td>\n",
       "      <td>1</td>\n",
       "      <td>1</td>\n",
       "      <td>0</td>\n",
       "    </tr>\n",
       "    <tr>\n",
       "      <th>AC07099C53E86F19</th>\n",
       "      <td>1</td>\n",
       "      <td>0</td>\n",
       "      <td>1</td>\n",
       "      <td>0</td>\n",
       "    </tr>\n",
       "    <tr>\n",
       "      <th>7D8B4A3F6C824DC0</th>\n",
       "      <td>1</td>\n",
       "      <td>1</td>\n",
       "      <td>1</td>\n",
       "      <td>0</td>\n",
       "    </tr>\n",
       "    <tr>\n",
       "      <th>4B159898DE46AC3A</th>\n",
       "      <td>1</td>\n",
       "      <td>1</td>\n",
       "      <td>1</td>\n",
       "      <td>1</td>\n",
       "    </tr>\n",
       "    <tr>\n",
       "      <th>F3A48B69A671AE30</th>\n",
       "      <td>1</td>\n",
       "      <td>1</td>\n",
       "      <td>1</td>\n",
       "      <td>1</td>\n",
       "    </tr>\n",
       "  </tbody>\n",
       "</table>\n",
       "</div>"
      ],
      "text/plain": [
       "event_name        login  product_cart  product_page  purchase\n",
       "user_id                                                      \n",
       "96E3D5B7F9DCB17B      1             1             1         0\n",
       "AC07099C53E86F19      1             0             1         0\n",
       "7D8B4A3F6C824DC0      1             1             1         0\n",
       "4B159898DE46AC3A      1             1             1         1\n",
       "F3A48B69A671AE30      1             1             1         1"
      ]
     },
     "metadata": {},
     "output_type": "display_data"
    }
   ],
   "source": [
    "#добавляем каждому пользователю флаг, было ли совершено событие каждого типа в промежуток 7 дней\n",
    "\n",
    "users_events_d7 = (events.query(\"event_date <= day_7\")\n",
    "                    .groupby(['user_id','event_name'])['event_date']\n",
    "                    .min().unstack())\n",
    "\n",
    "users_events_d7 = users_events_d7.where(users_events_d7.isnull(), 1).fillna(0)\n",
    "display(users_events_d7.sample(5))"
   ]
  },
  {
   "cell_type": "code",
   "execution_count": 43,
   "id": "76490db5",
   "metadata": {},
   "outputs": [
    {
     "data": {
      "text/html": [
       "<div>\n",
       "<style scoped>\n",
       "    .dataframe tbody tr th:only-of-type {\n",
       "        vertical-align: middle;\n",
       "    }\n",
       "\n",
       "    .dataframe tbody tr th {\n",
       "        vertical-align: top;\n",
       "    }\n",
       "\n",
       "    .dataframe thead th {\n",
       "        text-align: right;\n",
       "    }\n",
       "</style>\n",
       "<table border=\"1\" class=\"dataframe\">\n",
       "  <thead>\n",
       "    <tr style=\"text-align: right;\">\n",
       "      <th></th>\n",
       "      <th>first_date</th>\n",
       "      <th>region</th>\n",
       "      <th>device</th>\n",
       "      <th>group</th>\n",
       "      <th>ab_test</th>\n",
       "      <th>group2</th>\n",
       "      <th>test2</th>\n",
       "    </tr>\n",
       "    <tr>\n",
       "      <th>user_id</th>\n",
       "      <th></th>\n",
       "      <th></th>\n",
       "      <th></th>\n",
       "      <th></th>\n",
       "      <th></th>\n",
       "      <th></th>\n",
       "      <th></th>\n",
       "    </tr>\n",
       "  </thead>\n",
       "  <tbody>\n",
       "    <tr>\n",
       "      <th>AF083F28C31C613A</th>\n",
       "      <td>2020-12-11</td>\n",
       "      <td>EU</td>\n",
       "      <td>iPhone</td>\n",
       "      <td>B</td>\n",
       "      <td>recommender_system_test</td>\n",
       "      <td>no_data</td>\n",
       "      <td>no_data</td>\n",
       "    </tr>\n",
       "    <tr>\n",
       "      <th>97AC5C3818E5CB25</th>\n",
       "      <td>2020-12-10</td>\n",
       "      <td>EU</td>\n",
       "      <td>PC</td>\n",
       "      <td>A</td>\n",
       "      <td>recommender_system_test</td>\n",
       "      <td>B</td>\n",
       "      <td>interface_eu_test</td>\n",
       "    </tr>\n",
       "    <tr>\n",
       "      <th>3F7B5B27ABC292F3</th>\n",
       "      <td>2020-12-15</td>\n",
       "      <td>EU</td>\n",
       "      <td>Android</td>\n",
       "      <td>A</td>\n",
       "      <td>recommender_system_test</td>\n",
       "      <td>no_data</td>\n",
       "      <td>no_data</td>\n",
       "    </tr>\n",
       "    <tr>\n",
       "      <th>5660CEB5D971E30C</th>\n",
       "      <td>2020-12-10</td>\n",
       "      <td>EU</td>\n",
       "      <td>Android</td>\n",
       "      <td>B</td>\n",
       "      <td>recommender_system_test</td>\n",
       "      <td>no_data</td>\n",
       "      <td>no_data</td>\n",
       "    </tr>\n",
       "    <tr>\n",
       "      <th>E02E9EA00519B0CA</th>\n",
       "      <td>2020-12-15</td>\n",
       "      <td>EU</td>\n",
       "      <td>Mac</td>\n",
       "      <td>A</td>\n",
       "      <td>recommender_system_test</td>\n",
       "      <td>no_data</td>\n",
       "      <td>no_data</td>\n",
       "    </tr>\n",
       "  </tbody>\n",
       "</table>\n",
       "</div>"
      ],
      "text/plain": [
       "                 first_date region   device group                  ab_test  \\\n",
       "user_id                                                                      \n",
       "AF083F28C31C613A 2020-12-11     EU   iPhone     B  recommender_system_test   \n",
       "97AC5C3818E5CB25 2020-12-10     EU       PC     A  recommender_system_test   \n",
       "3F7B5B27ABC292F3 2020-12-15     EU  Android     A  recommender_system_test   \n",
       "5660CEB5D971E30C 2020-12-10     EU  Android     B  recommender_system_test   \n",
       "E02E9EA00519B0CA 2020-12-15     EU      Mac     A  recommender_system_test   \n",
       "\n",
       "                   group2              test2  \n",
       "user_id                                       \n",
       "AF083F28C31C613A  no_data            no_data  \n",
       "97AC5C3818E5CB25        B  interface_eu_test  \n",
       "3F7B5B27ABC292F3  no_data            no_data  \n",
       "5660CEB5D971E30C  no_data            no_data  \n",
       "E02E9EA00519B0CA  no_data            no_data  "
      ]
     },
     "metadata": {},
     "output_type": "display_data"
    },
    {
     "data": {
      "text/html": [
       "<div>\n",
       "<style scoped>\n",
       "    .dataframe tbody tr th:only-of-type {\n",
       "        vertical-align: middle;\n",
       "    }\n",
       "\n",
       "    .dataframe tbody tr th {\n",
       "        vertical-align: top;\n",
       "    }\n",
       "\n",
       "    .dataframe thead th {\n",
       "        text-align: right;\n",
       "    }\n",
       "</style>\n",
       "<table border=\"1\" class=\"dataframe\">\n",
       "  <thead>\n",
       "    <tr style=\"text-align: right;\">\n",
       "      <th></th>\n",
       "      <th>first_date</th>\n",
       "      <th>region</th>\n",
       "      <th>device</th>\n",
       "      <th>group</th>\n",
       "      <th>ab_test</th>\n",
       "      <th>group2</th>\n",
       "      <th>test2</th>\n",
       "    </tr>\n",
       "    <tr>\n",
       "      <th>user_id</th>\n",
       "      <th></th>\n",
       "      <th></th>\n",
       "      <th></th>\n",
       "      <th></th>\n",
       "      <th></th>\n",
       "      <th></th>\n",
       "      <th></th>\n",
       "    </tr>\n",
       "  </thead>\n",
       "  <tbody>\n",
       "    <tr>\n",
       "      <th>9D47724C214C18E0</th>\n",
       "      <td>2020-12-13</td>\n",
       "      <td>EU</td>\n",
       "      <td>iPhone</td>\n",
       "      <td>B</td>\n",
       "      <td>recommender_system_test</td>\n",
       "      <td>no_data</td>\n",
       "      <td>no_data</td>\n",
       "    </tr>\n",
       "    <tr>\n",
       "      <th>7DD97D3E8E2C5E85</th>\n",
       "      <td>2020-12-12</td>\n",
       "      <td>EU</td>\n",
       "      <td>PC</td>\n",
       "      <td>A</td>\n",
       "      <td>recommender_system_test</td>\n",
       "      <td>no_data</td>\n",
       "      <td>no_data</td>\n",
       "    </tr>\n",
       "    <tr>\n",
       "      <th>92346DD48605AE62</th>\n",
       "      <td>2020-12-10</td>\n",
       "      <td>EU</td>\n",
       "      <td>PC</td>\n",
       "      <td>B</td>\n",
       "      <td>recommender_system_test</td>\n",
       "      <td>no_data</td>\n",
       "      <td>no_data</td>\n",
       "    </tr>\n",
       "    <tr>\n",
       "      <th>5E752F03C34836F6</th>\n",
       "      <td>2020-12-20</td>\n",
       "      <td>EU</td>\n",
       "      <td>Mac</td>\n",
       "      <td>B</td>\n",
       "      <td>recommender_system_test</td>\n",
       "      <td>A</td>\n",
       "      <td>interface_eu_test</td>\n",
       "    </tr>\n",
       "    <tr>\n",
       "      <th>5AD2A85FFA7D7EBE</th>\n",
       "      <td>2020-12-08</td>\n",
       "      <td>EU</td>\n",
       "      <td>Mac</td>\n",
       "      <td>A</td>\n",
       "      <td>recommender_system_test</td>\n",
       "      <td>B</td>\n",
       "      <td>interface_eu_test</td>\n",
       "    </tr>\n",
       "  </tbody>\n",
       "</table>\n",
       "</div>"
      ],
      "text/plain": [
       "                 first_date region  device group                  ab_test  \\\n",
       "user_id                                                                     \n",
       "9D47724C214C18E0 2020-12-13     EU  iPhone     B  recommender_system_test   \n",
       "7DD97D3E8E2C5E85 2020-12-12     EU      PC     A  recommender_system_test   \n",
       "92346DD48605AE62 2020-12-10     EU      PC     B  recommender_system_test   \n",
       "5E752F03C34836F6 2020-12-20     EU     Mac     B  recommender_system_test   \n",
       "5AD2A85FFA7D7EBE 2020-12-08     EU     Mac     A  recommender_system_test   \n",
       "\n",
       "                   group2              test2  \n",
       "user_id                                       \n",
       "9D47724C214C18E0  no_data            no_data  \n",
       "7DD97D3E8E2C5E85  no_data            no_data  \n",
       "92346DD48605AE62  no_data            no_data  \n",
       "5E752F03C34836F6        A  interface_eu_test  \n",
       "5AD2A85FFA7D7EBE        B  interface_eu_test  "
      ]
     },
     "metadata": {},
     "output_type": "display_data"
    }
   ],
   "source": [
    "#создаем таблицы с пользователями:\n",
    "\n",
    "    #чей лайфтайм не менее 14 дней\n",
    "user_data_d14 = user_data.loc[(last_event_date - user_data['first_date']).dt.days >= 14]\n",
    "\n",
    "    #чей лайфтайм не менее 7 дней\n",
    "user_data_d7 = user_data.loc[(last_event_date - user_data['first_date']).dt.days >= 7]\n",
    "display(user_data_d14.sample(5))   \n",
    "display(user_data_d7.sample(5))"
   ]
  },
  {
   "cell_type": "code",
   "execution_count": 44,
   "id": "27e41526",
   "metadata": {},
   "outputs": [
    {
     "data": {
      "text/html": [
       "<div>\n",
       "<style scoped>\n",
       "    .dataframe tbody tr th:only-of-type {\n",
       "        vertical-align: middle;\n",
       "    }\n",
       "\n",
       "    .dataframe tbody tr th {\n",
       "        vertical-align: top;\n",
       "    }\n",
       "\n",
       "    .dataframe thead th {\n",
       "        text-align: right;\n",
       "    }\n",
       "</style>\n",
       "<table border=\"1\" class=\"dataframe\">\n",
       "  <thead>\n",
       "    <tr style=\"text-align: right;\">\n",
       "      <th></th>\n",
       "      <th>first_date</th>\n",
       "      <th>region</th>\n",
       "      <th>device</th>\n",
       "      <th>group</th>\n",
       "      <th>ab_test</th>\n",
       "      <th>group2</th>\n",
       "      <th>test2</th>\n",
       "      <th>login</th>\n",
       "      <th>product_cart</th>\n",
       "      <th>product_page</th>\n",
       "      <th>purchase</th>\n",
       "    </tr>\n",
       "    <tr>\n",
       "      <th>user_id</th>\n",
       "      <th></th>\n",
       "      <th></th>\n",
       "      <th></th>\n",
       "      <th></th>\n",
       "      <th></th>\n",
       "      <th></th>\n",
       "      <th></th>\n",
       "      <th></th>\n",
       "      <th></th>\n",
       "      <th></th>\n",
       "      <th></th>\n",
       "    </tr>\n",
       "  </thead>\n",
       "  <tbody>\n",
       "    <tr>\n",
       "      <th>8F5D7DE5A7B06249</th>\n",
       "      <td>2020-12-10</td>\n",
       "      <td>EU</td>\n",
       "      <td>Android</td>\n",
       "      <td>A</td>\n",
       "      <td>recommender_system_test</td>\n",
       "      <td>B</td>\n",
       "      <td>interface_eu_test</td>\n",
       "      <td>1.0</td>\n",
       "      <td>0.0</td>\n",
       "      <td>0.0</td>\n",
       "      <td>1.0</td>\n",
       "    </tr>\n",
       "    <tr>\n",
       "      <th>FA98254969FF4762</th>\n",
       "      <td>2020-12-07</td>\n",
       "      <td>EU</td>\n",
       "      <td>PC</td>\n",
       "      <td>A</td>\n",
       "      <td>recommender_system_test</td>\n",
       "      <td>no_data</td>\n",
       "      <td>no_data</td>\n",
       "      <td>1.0</td>\n",
       "      <td>0.0</td>\n",
       "      <td>1.0</td>\n",
       "      <td>0.0</td>\n",
       "    </tr>\n",
       "    <tr>\n",
       "      <th>104ADD963241CF6F</th>\n",
       "      <td>2020-12-12</td>\n",
       "      <td>EU</td>\n",
       "      <td>iPhone</td>\n",
       "      <td>B</td>\n",
       "      <td>recommender_system_test</td>\n",
       "      <td>no_data</td>\n",
       "      <td>no_data</td>\n",
       "      <td>0.0</td>\n",
       "      <td>0.0</td>\n",
       "      <td>0.0</td>\n",
       "      <td>0.0</td>\n",
       "    </tr>\n",
       "    <tr>\n",
       "      <th>F9B39A46A299971D</th>\n",
       "      <td>2020-12-07</td>\n",
       "      <td>EU</td>\n",
       "      <td>PC</td>\n",
       "      <td>A</td>\n",
       "      <td>recommender_system_test</td>\n",
       "      <td>B</td>\n",
       "      <td>interface_eu_test</td>\n",
       "      <td>1.0</td>\n",
       "      <td>1.0</td>\n",
       "      <td>0.0</td>\n",
       "      <td>0.0</td>\n",
       "    </tr>\n",
       "    <tr>\n",
       "      <th>C17F5055D9281233</th>\n",
       "      <td>2020-12-13</td>\n",
       "      <td>EU</td>\n",
       "      <td>PC</td>\n",
       "      <td>A</td>\n",
       "      <td>recommender_system_test</td>\n",
       "      <td>no_data</td>\n",
       "      <td>no_data</td>\n",
       "      <td>0.0</td>\n",
       "      <td>0.0</td>\n",
       "      <td>0.0</td>\n",
       "      <td>0.0</td>\n",
       "    </tr>\n",
       "  </tbody>\n",
       "</table>\n",
       "</div>"
      ],
      "text/plain": [
       "                 first_date region   device group                  ab_test  \\\n",
       "user_id                                                                      \n",
       "8F5D7DE5A7B06249 2020-12-10     EU  Android     A  recommender_system_test   \n",
       "FA98254969FF4762 2020-12-07     EU       PC     A  recommender_system_test   \n",
       "104ADD963241CF6F 2020-12-12     EU   iPhone     B  recommender_system_test   \n",
       "F9B39A46A299971D 2020-12-07     EU       PC     A  recommender_system_test   \n",
       "C17F5055D9281233 2020-12-13     EU       PC     A  recommender_system_test   \n",
       "\n",
       "                   group2              test2  login  product_cart  \\\n",
       "user_id                                                             \n",
       "8F5D7DE5A7B06249        B  interface_eu_test    1.0           0.0   \n",
       "FA98254969FF4762  no_data            no_data    1.0           0.0   \n",
       "104ADD963241CF6F  no_data            no_data    0.0           0.0   \n",
       "F9B39A46A299971D        B  interface_eu_test    1.0           1.0   \n",
       "C17F5055D9281233  no_data            no_data    0.0           0.0   \n",
       "\n",
       "                  product_page  purchase  \n",
       "user_id                                   \n",
       "8F5D7DE5A7B06249           0.0       1.0  \n",
       "FA98254969FF4762           1.0       0.0  \n",
       "104ADD963241CF6F           0.0       0.0  \n",
       "F9B39A46A299971D           0.0       0.0  \n",
       "C17F5055D9281233           0.0       0.0  "
      ]
     },
     "metadata": {},
     "output_type": "display_data"
    },
    {
     "data": {
      "text/html": [
       "<div>\n",
       "<style scoped>\n",
       "    .dataframe tbody tr th:only-of-type {\n",
       "        vertical-align: middle;\n",
       "    }\n",
       "\n",
       "    .dataframe tbody tr th {\n",
       "        vertical-align: top;\n",
       "    }\n",
       "\n",
       "    .dataframe thead th {\n",
       "        text-align: right;\n",
       "    }\n",
       "</style>\n",
       "<table border=\"1\" class=\"dataframe\">\n",
       "  <thead>\n",
       "    <tr style=\"text-align: right;\">\n",
       "      <th></th>\n",
       "      <th>first_date</th>\n",
       "      <th>region</th>\n",
       "      <th>device</th>\n",
       "      <th>group</th>\n",
       "      <th>ab_test</th>\n",
       "      <th>group2</th>\n",
       "      <th>test2</th>\n",
       "      <th>login</th>\n",
       "      <th>product_cart</th>\n",
       "      <th>product_page</th>\n",
       "      <th>purchase</th>\n",
       "    </tr>\n",
       "    <tr>\n",
       "      <th>user_id</th>\n",
       "      <th></th>\n",
       "      <th></th>\n",
       "      <th></th>\n",
       "      <th></th>\n",
       "      <th></th>\n",
       "      <th></th>\n",
       "      <th></th>\n",
       "      <th></th>\n",
       "      <th></th>\n",
       "      <th></th>\n",
       "      <th></th>\n",
       "    </tr>\n",
       "  </thead>\n",
       "  <tbody>\n",
       "    <tr>\n",
       "      <th>5CA4A1CD95B82E02</th>\n",
       "      <td>2020-12-11</td>\n",
       "      <td>EU</td>\n",
       "      <td>Android</td>\n",
       "      <td>B</td>\n",
       "      <td>recommender_system_test</td>\n",
       "      <td>no_data</td>\n",
       "      <td>no_data</td>\n",
       "      <td>1.0</td>\n",
       "      <td>0.0</td>\n",
       "      <td>1.0</td>\n",
       "      <td>1.0</td>\n",
       "    </tr>\n",
       "    <tr>\n",
       "      <th>9BD1B40F24C47D75</th>\n",
       "      <td>2020-12-13</td>\n",
       "      <td>EU</td>\n",
       "      <td>Android</td>\n",
       "      <td>A</td>\n",
       "      <td>recommender_system_test</td>\n",
       "      <td>no_data</td>\n",
       "      <td>no_data</td>\n",
       "      <td>0.0</td>\n",
       "      <td>0.0</td>\n",
       "      <td>0.0</td>\n",
       "      <td>0.0</td>\n",
       "    </tr>\n",
       "    <tr>\n",
       "      <th>42FC1295136570BA</th>\n",
       "      <td>2020-12-14</td>\n",
       "      <td>EU</td>\n",
       "      <td>iPhone</td>\n",
       "      <td>B</td>\n",
       "      <td>recommender_system_test</td>\n",
       "      <td>no_data</td>\n",
       "      <td>no_data</td>\n",
       "      <td>1.0</td>\n",
       "      <td>0.0</td>\n",
       "      <td>0.0</td>\n",
       "      <td>0.0</td>\n",
       "    </tr>\n",
       "    <tr>\n",
       "      <th>B2D4801BB8972E30</th>\n",
       "      <td>2020-12-21</td>\n",
       "      <td>EU</td>\n",
       "      <td>Android</td>\n",
       "      <td>A</td>\n",
       "      <td>recommender_system_test</td>\n",
       "      <td>no_data</td>\n",
       "      <td>no_data</td>\n",
       "      <td>1.0</td>\n",
       "      <td>0.0</td>\n",
       "      <td>1.0</td>\n",
       "      <td>0.0</td>\n",
       "    </tr>\n",
       "    <tr>\n",
       "      <th>5F8134ACF9295C80</th>\n",
       "      <td>2020-12-12</td>\n",
       "      <td>EU</td>\n",
       "      <td>PC</td>\n",
       "      <td>A</td>\n",
       "      <td>recommender_system_test</td>\n",
       "      <td>B</td>\n",
       "      <td>interface_eu_test</td>\n",
       "      <td>0.0</td>\n",
       "      <td>0.0</td>\n",
       "      <td>0.0</td>\n",
       "      <td>0.0</td>\n",
       "    </tr>\n",
       "  </tbody>\n",
       "</table>\n",
       "</div>"
      ],
      "text/plain": [
       "                 first_date region   device group                  ab_test  \\\n",
       "user_id                                                                      \n",
       "5CA4A1CD95B82E02 2020-12-11     EU  Android     B  recommender_system_test   \n",
       "9BD1B40F24C47D75 2020-12-13     EU  Android     A  recommender_system_test   \n",
       "42FC1295136570BA 2020-12-14     EU   iPhone     B  recommender_system_test   \n",
       "B2D4801BB8972E30 2020-12-21     EU  Android     A  recommender_system_test   \n",
       "5F8134ACF9295C80 2020-12-12     EU       PC     A  recommender_system_test   \n",
       "\n",
       "                   group2              test2  login  product_cart  \\\n",
       "user_id                                                             \n",
       "5CA4A1CD95B82E02  no_data            no_data    1.0           0.0   \n",
       "9BD1B40F24C47D75  no_data            no_data    0.0           0.0   \n",
       "42FC1295136570BA  no_data            no_data    1.0           0.0   \n",
       "B2D4801BB8972E30  no_data            no_data    1.0           0.0   \n",
       "5F8134ACF9295C80        B  interface_eu_test    0.0           0.0   \n",
       "\n",
       "                  product_page  purchase  \n",
       "user_id                                   \n",
       "5CA4A1CD95B82E02           1.0       1.0  \n",
       "9BD1B40F24C47D75           0.0       0.0  \n",
       "42FC1295136570BA           0.0       0.0  \n",
       "B2D4801BB8972E30           1.0       0.0  \n",
       "5F8134ACF9295C80           0.0       0.0  "
      ]
     },
     "metadata": {},
     "output_type": "display_data"
    }
   ],
   "source": [
    "#добавляем в таблицы пользователей флаги событий\n",
    "#пользователям, не совершившим никаких действий, проставляем флаг 0\n",
    "user_data_d14 = user_data_d14.join(users_events_d14, how='left').fillna(0)\n",
    "user_data_d7 = user_data_d7.join(users_events_d7, how='left').fillna(0)\n",
    "display(user_data_d14.sample(5))\n",
    "display(user_data_d7.sample(5))"
   ]
  },
  {
   "cell_type": "markdown",
   "id": "cbe96c2f",
   "metadata": {},
   "source": [
    "#### Кумулятивные метрики по группам по дням"
   ]
  },
  {
   "cell_type": "markdown",
   "id": "d126187c",
   "metadata": {},
   "source": [
    "##### Логины"
   ]
  },
  {
   "cell_type": "markdown",
   "id": "0ffc640e",
   "metadata": {},
   "source": [
    "Создадим сводную таблицу с количеством зашедших на сайт пользователей по дням."
   ]
  },
  {
   "cell_type": "code",
   "execution_count": 45,
   "id": "a788c2d7",
   "metadata": {},
   "outputs": [
    {
     "data": {
      "text/html": [
       "<div>\n",
       "<style scoped>\n",
       "    .dataframe tbody tr th:only-of-type {\n",
       "        vertical-align: middle;\n",
       "    }\n",
       "\n",
       "    .dataframe tbody tr th {\n",
       "        vertical-align: top;\n",
       "    }\n",
       "\n",
       "    .dataframe thead th {\n",
       "        text-align: right;\n",
       "    }\n",
       "</style>\n",
       "<table border=\"1\" class=\"dataframe\">\n",
       "  <thead>\n",
       "    <tr style=\"text-align: right;\">\n",
       "      <th>group</th>\n",
       "      <th>A</th>\n",
       "      <th>B</th>\n",
       "    </tr>\n",
       "    <tr>\n",
       "      <th>event_date</th>\n",
       "      <th></th>\n",
       "      <th></th>\n",
       "    </tr>\n",
       "  </thead>\n",
       "  <tbody>\n",
       "    <tr>\n",
       "      <th>2020-12-07</th>\n",
       "      <td>148.0</td>\n",
       "      <td>155.0</td>\n",
       "    </tr>\n",
       "    <tr>\n",
       "      <th>2020-12-08</th>\n",
       "      <td>146.0</td>\n",
       "      <td>113.0</td>\n",
       "    </tr>\n",
       "    <tr>\n",
       "      <th>2020-12-09</th>\n",
       "      <td>171.0</td>\n",
       "      <td>161.0</td>\n",
       "    </tr>\n",
       "    <tr>\n",
       "      <th>2020-12-10</th>\n",
       "      <td>156.0</td>\n",
       "      <td>124.0</td>\n",
       "    </tr>\n",
       "    <tr>\n",
       "      <th>2020-12-11</th>\n",
       "      <td>176.0</td>\n",
       "      <td>84.0</td>\n",
       "    </tr>\n",
       "    <tr>\n",
       "      <th>2020-12-12</th>\n",
       "      <td>168.0</td>\n",
       "      <td>102.0</td>\n",
       "    </tr>\n",
       "    <tr>\n",
       "      <th>2020-12-13</th>\n",
       "      <td>154.0</td>\n",
       "      <td>81.0</td>\n",
       "    </tr>\n",
       "    <tr>\n",
       "      <th>2020-12-14</th>\n",
       "      <td>461.0</td>\n",
       "      <td>120.0</td>\n",
       "    </tr>\n",
       "    <tr>\n",
       "      <th>2020-12-15</th>\n",
       "      <td>452.0</td>\n",
       "      <td>109.0</td>\n",
       "    </tr>\n",
       "    <tr>\n",
       "      <th>2020-12-16</th>\n",
       "      <td>442.0</td>\n",
       "      <td>165.0</td>\n",
       "    </tr>\n",
       "    <tr>\n",
       "      <th>2020-12-17</th>\n",
       "      <td>520.0</td>\n",
       "      <td>125.0</td>\n",
       "    </tr>\n",
       "    <tr>\n",
       "      <th>2020-12-18</th>\n",
       "      <td>543.0</td>\n",
       "      <td>127.0</td>\n",
       "    </tr>\n",
       "    <tr>\n",
       "      <th>2020-12-19</th>\n",
       "      <td>617.0</td>\n",
       "      <td>139.0</td>\n",
       "    </tr>\n",
       "    <tr>\n",
       "      <th>2020-12-20</th>\n",
       "      <td>627.0</td>\n",
       "      <td>155.0</td>\n",
       "    </tr>\n",
       "    <tr>\n",
       "      <th>2020-12-21</th>\n",
       "      <td>837.0</td>\n",
       "      <td>190.0</td>\n",
       "    </tr>\n",
       "    <tr>\n",
       "      <th>2020-12-22</th>\n",
       "      <td>554.0</td>\n",
       "      <td>96.0</td>\n",
       "    </tr>\n",
       "    <tr>\n",
       "      <th>2020-12-23</th>\n",
       "      <td>426.0</td>\n",
       "      <td>95.0</td>\n",
       "    </tr>\n",
       "    <tr>\n",
       "      <th>2020-12-24</th>\n",
       "      <td>362.0</td>\n",
       "      <td>72.0</td>\n",
       "    </tr>\n",
       "    <tr>\n",
       "      <th>2020-12-25</th>\n",
       "      <td>278.0</td>\n",
       "      <td>56.0</td>\n",
       "    </tr>\n",
       "    <tr>\n",
       "      <th>2020-12-26</th>\n",
       "      <td>249.0</td>\n",
       "      <td>55.0</td>\n",
       "    </tr>\n",
       "    <tr>\n",
       "      <th>2020-12-27</th>\n",
       "      <td>238.0</td>\n",
       "      <td>56.0</td>\n",
       "    </tr>\n",
       "    <tr>\n",
       "      <th>2020-12-28</th>\n",
       "      <td>206.0</td>\n",
       "      <td>53.0</td>\n",
       "    </tr>\n",
       "    <tr>\n",
       "      <th>2020-12-29</th>\n",
       "      <td>193.0</td>\n",
       "      <td>36.0</td>\n",
       "    </tr>\n",
       "    <tr>\n",
       "      <th>2020-12-30</th>\n",
       "      <td>NaN</td>\n",
       "      <td>2.0</td>\n",
       "    </tr>\n",
       "  </tbody>\n",
       "</table>\n",
       "</div>"
      ],
      "text/plain": [
       "group           A      B\n",
       "event_date              \n",
       "2020-12-07  148.0  155.0\n",
       "2020-12-08  146.0  113.0\n",
       "2020-12-09  171.0  161.0\n",
       "2020-12-10  156.0  124.0\n",
       "2020-12-11  176.0   84.0\n",
       "2020-12-12  168.0  102.0\n",
       "2020-12-13  154.0   81.0\n",
       "2020-12-14  461.0  120.0\n",
       "2020-12-15  452.0  109.0\n",
       "2020-12-16  442.0  165.0\n",
       "2020-12-17  520.0  125.0\n",
       "2020-12-18  543.0  127.0\n",
       "2020-12-19  617.0  139.0\n",
       "2020-12-20  627.0  155.0\n",
       "2020-12-21  837.0  190.0\n",
       "2020-12-22  554.0   96.0\n",
       "2020-12-23  426.0   95.0\n",
       "2020-12-24  362.0   72.0\n",
       "2020-12-25  278.0   56.0\n",
       "2020-12-26  249.0   55.0\n",
       "2020-12-27  238.0   56.0\n",
       "2020-12-28  206.0   53.0\n",
       "2020-12-29  193.0   36.0\n",
       "2020-12-30    NaN    2.0"
      ]
     },
     "metadata": {},
     "output_type": "display_data"
    }
   ],
   "source": [
    "logins  = events.query(\"event_name =='login'\")\n",
    "logins_pivot = logins.pivot_table(columns='group', values='event_name', index='event_date',aggfunc='count')\n",
    "display(logins_pivot)"
   ]
  },
  {
   "cell_type": "markdown",
   "id": "bbd2e18b",
   "metadata": {},
   "source": [
    "##### Просмотры товаров"
   ]
  },
  {
   "cell_type": "markdown",
   "id": "b947602b",
   "metadata": {},
   "source": [
    "Создадим сводную таблицу с просмотрами карточек товаров по дням."
   ]
  },
  {
   "cell_type": "code",
   "execution_count": 46,
   "id": "06ad6f8e",
   "metadata": {},
   "outputs": [
    {
     "data": {
      "text/html": [
       "<div>\n",
       "<style scoped>\n",
       "    .dataframe tbody tr th:only-of-type {\n",
       "        vertical-align: middle;\n",
       "    }\n",
       "\n",
       "    .dataframe tbody tr th {\n",
       "        vertical-align: top;\n",
       "    }\n",
       "\n",
       "    .dataframe thead th {\n",
       "        text-align: right;\n",
       "    }\n",
       "</style>\n",
       "<table border=\"1\" class=\"dataframe\">\n",
       "  <thead>\n",
       "    <tr style=\"text-align: right;\">\n",
       "      <th>group</th>\n",
       "      <th>A</th>\n",
       "      <th>B</th>\n",
       "    </tr>\n",
       "    <tr>\n",
       "      <th>event_date</th>\n",
       "      <th></th>\n",
       "      <th></th>\n",
       "    </tr>\n",
       "  </thead>\n",
       "  <tbody>\n",
       "    <tr>\n",
       "      <th>2020-12-07</th>\n",
       "      <td>92.0</td>\n",
       "      <td>101.0</td>\n",
       "    </tr>\n",
       "    <tr>\n",
       "      <th>2020-12-08</th>\n",
       "      <td>98.0</td>\n",
       "      <td>61.0</td>\n",
       "    </tr>\n",
       "    <tr>\n",
       "      <th>2020-12-09</th>\n",
       "      <td>103.0</td>\n",
       "      <td>99.0</td>\n",
       "    </tr>\n",
       "    <tr>\n",
       "      <th>2020-12-10</th>\n",
       "      <td>88.0</td>\n",
       "      <td>67.0</td>\n",
       "    </tr>\n",
       "    <tr>\n",
       "      <th>2020-12-11</th>\n",
       "      <td>96.0</td>\n",
       "      <td>45.0</td>\n",
       "    </tr>\n",
       "    <tr>\n",
       "      <th>2020-12-12</th>\n",
       "      <td>93.0</td>\n",
       "      <td>51.0</td>\n",
       "    </tr>\n",
       "    <tr>\n",
       "      <th>2020-12-13</th>\n",
       "      <td>88.0</td>\n",
       "      <td>41.0</td>\n",
       "    </tr>\n",
       "    <tr>\n",
       "      <th>2020-12-14</th>\n",
       "      <td>285.0</td>\n",
       "      <td>59.0</td>\n",
       "    </tr>\n",
       "    <tr>\n",
       "      <th>2020-12-15</th>\n",
       "      <td>286.0</td>\n",
       "      <td>52.0</td>\n",
       "    </tr>\n",
       "    <tr>\n",
       "      <th>2020-12-16</th>\n",
       "      <td>285.0</td>\n",
       "      <td>96.0</td>\n",
       "    </tr>\n",
       "    <tr>\n",
       "      <th>2020-12-17</th>\n",
       "      <td>334.0</td>\n",
       "      <td>72.0</td>\n",
       "    </tr>\n",
       "    <tr>\n",
       "      <th>2020-12-18</th>\n",
       "      <td>370.0</td>\n",
       "      <td>63.0</td>\n",
       "    </tr>\n",
       "    <tr>\n",
       "      <th>2020-12-19</th>\n",
       "      <td>405.0</td>\n",
       "      <td>74.0</td>\n",
       "    </tr>\n",
       "    <tr>\n",
       "      <th>2020-12-20</th>\n",
       "      <td>402.0</td>\n",
       "      <td>83.0</td>\n",
       "    </tr>\n",
       "    <tr>\n",
       "      <th>2020-12-21</th>\n",
       "      <td>549.0</td>\n",
       "      <td>102.0</td>\n",
       "    </tr>\n",
       "    <tr>\n",
       "      <th>2020-12-22</th>\n",
       "      <td>362.0</td>\n",
       "      <td>44.0</td>\n",
       "    </tr>\n",
       "    <tr>\n",
       "      <th>2020-12-23</th>\n",
       "      <td>274.0</td>\n",
       "      <td>48.0</td>\n",
       "    </tr>\n",
       "    <tr>\n",
       "      <th>2020-12-24</th>\n",
       "      <td>250.0</td>\n",
       "      <td>35.0</td>\n",
       "    </tr>\n",
       "    <tr>\n",
       "      <th>2020-12-25</th>\n",
       "      <td>184.0</td>\n",
       "      <td>30.0</td>\n",
       "    </tr>\n",
       "    <tr>\n",
       "      <th>2020-12-26</th>\n",
       "      <td>167.0</td>\n",
       "      <td>34.0</td>\n",
       "    </tr>\n",
       "    <tr>\n",
       "      <th>2020-12-27</th>\n",
       "      <td>157.0</td>\n",
       "      <td>24.0</td>\n",
       "    </tr>\n",
       "    <tr>\n",
       "      <th>2020-12-28</th>\n",
       "      <td>134.0</td>\n",
       "      <td>26.0</td>\n",
       "    </tr>\n",
       "    <tr>\n",
       "      <th>2020-12-29</th>\n",
       "      <td>125.0</td>\n",
       "      <td>19.0</td>\n",
       "    </tr>\n",
       "    <tr>\n",
       "      <th>2020-12-30</th>\n",
       "      <td>0.0</td>\n",
       "      <td>1.0</td>\n",
       "    </tr>\n",
       "  </tbody>\n",
       "</table>\n",
       "</div>"
      ],
      "text/plain": [
       "group           A      B\n",
       "event_date              \n",
       "2020-12-07   92.0  101.0\n",
       "2020-12-08   98.0   61.0\n",
       "2020-12-09  103.0   99.0\n",
       "2020-12-10   88.0   67.0\n",
       "2020-12-11   96.0   45.0\n",
       "2020-12-12   93.0   51.0\n",
       "2020-12-13   88.0   41.0\n",
       "2020-12-14  285.0   59.0\n",
       "2020-12-15  286.0   52.0\n",
       "2020-12-16  285.0   96.0\n",
       "2020-12-17  334.0   72.0\n",
       "2020-12-18  370.0   63.0\n",
       "2020-12-19  405.0   74.0\n",
       "2020-12-20  402.0   83.0\n",
       "2020-12-21  549.0  102.0\n",
       "2020-12-22  362.0   44.0\n",
       "2020-12-23  274.0   48.0\n",
       "2020-12-24  250.0   35.0\n",
       "2020-12-25  184.0   30.0\n",
       "2020-12-26  167.0   34.0\n",
       "2020-12-27  157.0   24.0\n",
       "2020-12-28  134.0   26.0\n",
       "2020-12-29  125.0   19.0\n",
       "2020-12-30    0.0    1.0"
      ]
     },
     "metadata": {},
     "output_type": "display_data"
    }
   ],
   "source": [
    "product_views = events.query(\"event_name =='product_page'\")\n",
    "product_views_pivot = product_views.pivot_table(columns='group', \n",
    "                                                values='event_name', \n",
    "                                                index='event_date',\n",
    "                                                aggfunc='count').fillna(0)\n",
    "display(product_views_pivot)"
   ]
  },
  {
   "cell_type": "markdown",
   "id": "51691569",
   "metadata": {},
   "source": [
    "##### Промотры корзины"
   ]
  },
  {
   "cell_type": "markdown",
   "id": "3d2e0d9a",
   "metadata": {},
   "source": [
    "Создадим сводную таблицу с просмотрами корзины по дням."
   ]
  },
  {
   "cell_type": "code",
   "execution_count": 47,
   "id": "975e7523",
   "metadata": {},
   "outputs": [
    {
     "data": {
      "text/html": [
       "<div>\n",
       "<style scoped>\n",
       "    .dataframe tbody tr th:only-of-type {\n",
       "        vertical-align: middle;\n",
       "    }\n",
       "\n",
       "    .dataframe tbody tr th {\n",
       "        vertical-align: top;\n",
       "    }\n",
       "\n",
       "    .dataframe thead th {\n",
       "        text-align: right;\n",
       "    }\n",
       "</style>\n",
       "<table border=\"1\" class=\"dataframe\">\n",
       "  <thead>\n",
       "    <tr style=\"text-align: right;\">\n",
       "      <th>group</th>\n",
       "      <th>A</th>\n",
       "      <th>B</th>\n",
       "    </tr>\n",
       "    <tr>\n",
       "      <th>event_date</th>\n",
       "      <th></th>\n",
       "      <th></th>\n",
       "    </tr>\n",
       "  </thead>\n",
       "  <tbody>\n",
       "    <tr>\n",
       "      <th>2020-12-07</th>\n",
       "      <td>35.0</td>\n",
       "      <td>41.0</td>\n",
       "    </tr>\n",
       "    <tr>\n",
       "      <th>2020-12-08</th>\n",
       "      <td>36.0</td>\n",
       "      <td>31.0</td>\n",
       "    </tr>\n",
       "    <tr>\n",
       "      <th>2020-12-09</th>\n",
       "      <td>50.0</td>\n",
       "      <td>39.0</td>\n",
       "    </tr>\n",
       "    <tr>\n",
       "      <th>2020-12-10</th>\n",
       "      <td>45.0</td>\n",
       "      <td>32.0</td>\n",
       "    </tr>\n",
       "    <tr>\n",
       "      <th>2020-12-11</th>\n",
       "      <td>44.0</td>\n",
       "      <td>16.0</td>\n",
       "    </tr>\n",
       "    <tr>\n",
       "      <th>2020-12-12</th>\n",
       "      <td>47.0</td>\n",
       "      <td>21.0</td>\n",
       "    </tr>\n",
       "    <tr>\n",
       "      <th>2020-12-13</th>\n",
       "      <td>34.0</td>\n",
       "      <td>16.0</td>\n",
       "    </tr>\n",
       "    <tr>\n",
       "      <th>2020-12-14</th>\n",
       "      <td>136.0</td>\n",
       "      <td>37.0</td>\n",
       "    </tr>\n",
       "    <tr>\n",
       "      <th>2020-12-15</th>\n",
       "      <td>155.0</td>\n",
       "      <td>29.0</td>\n",
       "    </tr>\n",
       "    <tr>\n",
       "      <th>2020-12-16</th>\n",
       "      <td>138.0</td>\n",
       "      <td>58.0</td>\n",
       "    </tr>\n",
       "    <tr>\n",
       "      <th>2020-12-17</th>\n",
       "      <td>177.0</td>\n",
       "      <td>48.0</td>\n",
       "    </tr>\n",
       "    <tr>\n",
       "      <th>2020-12-18</th>\n",
       "      <td>166.0</td>\n",
       "      <td>40.0</td>\n",
       "    </tr>\n",
       "    <tr>\n",
       "      <th>2020-12-19</th>\n",
       "      <td>200.0</td>\n",
       "      <td>41.0</td>\n",
       "    </tr>\n",
       "    <tr>\n",
       "      <th>2020-12-20</th>\n",
       "      <td>194.0</td>\n",
       "      <td>34.0</td>\n",
       "    </tr>\n",
       "    <tr>\n",
       "      <th>2020-12-21</th>\n",
       "      <td>235.0</td>\n",
       "      <td>57.0</td>\n",
       "    </tr>\n",
       "    <tr>\n",
       "      <th>2020-12-22</th>\n",
       "      <td>156.0</td>\n",
       "      <td>18.0</td>\n",
       "    </tr>\n",
       "    <tr>\n",
       "      <th>2020-12-23</th>\n",
       "      <td>123.0</td>\n",
       "      <td>23.0</td>\n",
       "    </tr>\n",
       "    <tr>\n",
       "      <th>2020-12-24</th>\n",
       "      <td>116.0</td>\n",
       "      <td>23.0</td>\n",
       "    </tr>\n",
       "    <tr>\n",
       "      <th>2020-12-25</th>\n",
       "      <td>71.0</td>\n",
       "      <td>10.0</td>\n",
       "    </tr>\n",
       "    <tr>\n",
       "      <th>2020-12-26</th>\n",
       "      <td>72.0</td>\n",
       "      <td>11.0</td>\n",
       "    </tr>\n",
       "    <tr>\n",
       "      <th>2020-12-27</th>\n",
       "      <td>70.0</td>\n",
       "      <td>15.0</td>\n",
       "    </tr>\n",
       "    <tr>\n",
       "      <th>2020-12-28</th>\n",
       "      <td>70.0</td>\n",
       "      <td>6.0</td>\n",
       "    </tr>\n",
       "    <tr>\n",
       "      <th>2020-12-29</th>\n",
       "      <td>52.0</td>\n",
       "      <td>6.0</td>\n",
       "    </tr>\n",
       "    <tr>\n",
       "      <th>2020-12-30</th>\n",
       "      <td>NaN</td>\n",
       "      <td>1.0</td>\n",
       "    </tr>\n",
       "  </tbody>\n",
       "</table>\n",
       "</div>"
      ],
      "text/plain": [
       "group           A     B\n",
       "event_date             \n",
       "2020-12-07   35.0  41.0\n",
       "2020-12-08   36.0  31.0\n",
       "2020-12-09   50.0  39.0\n",
       "2020-12-10   45.0  32.0\n",
       "2020-12-11   44.0  16.0\n",
       "2020-12-12   47.0  21.0\n",
       "2020-12-13   34.0  16.0\n",
       "2020-12-14  136.0  37.0\n",
       "2020-12-15  155.0  29.0\n",
       "2020-12-16  138.0  58.0\n",
       "2020-12-17  177.0  48.0\n",
       "2020-12-18  166.0  40.0\n",
       "2020-12-19  200.0  41.0\n",
       "2020-12-20  194.0  34.0\n",
       "2020-12-21  235.0  57.0\n",
       "2020-12-22  156.0  18.0\n",
       "2020-12-23  123.0  23.0\n",
       "2020-12-24  116.0  23.0\n",
       "2020-12-25   71.0  10.0\n",
       "2020-12-26   72.0  11.0\n",
       "2020-12-27   70.0  15.0\n",
       "2020-12-28   70.0   6.0\n",
       "2020-12-29   52.0   6.0\n",
       "2020-12-30    NaN   1.0"
      ]
     },
     "metadata": {},
     "output_type": "display_data"
    }
   ],
   "source": [
    "cart_views = events.query(\"event_name =='product_cart'\")\n",
    "cart_views_pivot = cart_views.pivot_table(columns='group', \n",
    "                                          values='event_name', \n",
    "                                          index='event_date',\n",
    "                                          aggfunc='count')\n",
    "display(cart_views_pivot)"
   ]
  },
  {
   "cell_type": "markdown",
   "id": "be5e46b2",
   "metadata": {},
   "source": [
    "##### Покупки"
   ]
  },
  {
   "cell_type": "markdown",
   "id": "68306fe0",
   "metadata": {},
   "source": [
    "Создадим сводную таблицу с количеством покупок по дням."
   ]
  },
  {
   "cell_type": "code",
   "execution_count": 48,
   "id": "980279a3",
   "metadata": {},
   "outputs": [
    {
     "data": {
      "text/html": [
       "<div>\n",
       "<style scoped>\n",
       "    .dataframe tbody tr th:only-of-type {\n",
       "        vertical-align: middle;\n",
       "    }\n",
       "\n",
       "    .dataframe tbody tr th {\n",
       "        vertical-align: top;\n",
       "    }\n",
       "\n",
       "    .dataframe thead th {\n",
       "        text-align: right;\n",
       "    }\n",
       "</style>\n",
       "<table border=\"1\" class=\"dataframe\">\n",
       "  <thead>\n",
       "    <tr style=\"text-align: right;\">\n",
       "      <th>group</th>\n",
       "      <th>A</th>\n",
       "      <th>B</th>\n",
       "    </tr>\n",
       "    <tr>\n",
       "      <th>event_date</th>\n",
       "      <th></th>\n",
       "      <th></th>\n",
       "    </tr>\n",
       "  </thead>\n",
       "  <tbody>\n",
       "    <tr>\n",
       "      <th>2020-12-07</th>\n",
       "      <td>43</td>\n",
       "      <td>59</td>\n",
       "    </tr>\n",
       "    <tr>\n",
       "      <th>2020-12-08</th>\n",
       "      <td>33</td>\n",
       "      <td>33</td>\n",
       "    </tr>\n",
       "    <tr>\n",
       "      <th>2020-12-09</th>\n",
       "      <td>47</td>\n",
       "      <td>39</td>\n",
       "    </tr>\n",
       "    <tr>\n",
       "      <th>2020-12-10</th>\n",
       "      <td>42</td>\n",
       "      <td>26</td>\n",
       "    </tr>\n",
       "    <tr>\n",
       "      <th>2020-12-11</th>\n",
       "      <td>40</td>\n",
       "      <td>16</td>\n",
       "    </tr>\n",
       "    <tr>\n",
       "      <th>2020-12-12</th>\n",
       "      <td>38</td>\n",
       "      <td>25</td>\n",
       "    </tr>\n",
       "    <tr>\n",
       "      <th>2020-12-13</th>\n",
       "      <td>32</td>\n",
       "      <td>26</td>\n",
       "    </tr>\n",
       "    <tr>\n",
       "      <th>2020-12-14</th>\n",
       "      <td>133</td>\n",
       "      <td>32</td>\n",
       "    </tr>\n",
       "    <tr>\n",
       "      <th>2020-12-15</th>\n",
       "      <td>137</td>\n",
       "      <td>32</td>\n",
       "    </tr>\n",
       "    <tr>\n",
       "      <th>2020-12-16</th>\n",
       "      <td>142</td>\n",
       "      <td>50</td>\n",
       "    </tr>\n",
       "    <tr>\n",
       "      <th>2020-12-17</th>\n",
       "      <td>169</td>\n",
       "      <td>36</td>\n",
       "    </tr>\n",
       "    <tr>\n",
       "      <th>2020-12-18</th>\n",
       "      <td>165</td>\n",
       "      <td>29</td>\n",
       "    </tr>\n",
       "    <tr>\n",
       "      <th>2020-12-19</th>\n",
       "      <td>208</td>\n",
       "      <td>34</td>\n",
       "    </tr>\n",
       "    <tr>\n",
       "      <th>2020-12-20</th>\n",
       "      <td>211</td>\n",
       "      <td>37</td>\n",
       "    </tr>\n",
       "    <tr>\n",
       "      <th>2020-12-21</th>\n",
       "      <td>282</td>\n",
       "      <td>52</td>\n",
       "    </tr>\n",
       "    <tr>\n",
       "      <th>2020-12-22</th>\n",
       "      <td>164</td>\n",
       "      <td>27</td>\n",
       "    </tr>\n",
       "    <tr>\n",
       "      <th>2020-12-23</th>\n",
       "      <td>136</td>\n",
       "      <td>23</td>\n",
       "    </tr>\n",
       "    <tr>\n",
       "      <th>2020-12-24</th>\n",
       "      <td>122</td>\n",
       "      <td>19</td>\n",
       "    </tr>\n",
       "    <tr>\n",
       "      <th>2020-12-25</th>\n",
       "      <td>106</td>\n",
       "      <td>11</td>\n",
       "    </tr>\n",
       "    <tr>\n",
       "      <th>2020-12-26</th>\n",
       "      <td>92</td>\n",
       "      <td>13</td>\n",
       "    </tr>\n",
       "    <tr>\n",
       "      <th>2020-12-27</th>\n",
       "      <td>82</td>\n",
       "      <td>19</td>\n",
       "    </tr>\n",
       "    <tr>\n",
       "      <th>2020-12-28</th>\n",
       "      <td>69</td>\n",
       "      <td>10</td>\n",
       "    </tr>\n",
       "    <tr>\n",
       "      <th>2020-12-29</th>\n",
       "      <td>43</td>\n",
       "      <td>12</td>\n",
       "    </tr>\n",
       "  </tbody>\n",
       "</table>\n",
       "</div>"
      ],
      "text/plain": [
       "group         A   B\n",
       "event_date         \n",
       "2020-12-07   43  59\n",
       "2020-12-08   33  33\n",
       "2020-12-09   47  39\n",
       "2020-12-10   42  26\n",
       "2020-12-11   40  16\n",
       "2020-12-12   38  25\n",
       "2020-12-13   32  26\n",
       "2020-12-14  133  32\n",
       "2020-12-15  137  32\n",
       "2020-12-16  142  50\n",
       "2020-12-17  169  36\n",
       "2020-12-18  165  29\n",
       "2020-12-19  208  34\n",
       "2020-12-20  211  37\n",
       "2020-12-21  282  52\n",
       "2020-12-22  164  27\n",
       "2020-12-23  136  23\n",
       "2020-12-24  122  19\n",
       "2020-12-25  106  11\n",
       "2020-12-26   92  13\n",
       "2020-12-27   82  19\n",
       "2020-12-28   69  10\n",
       "2020-12-29   43  12"
      ]
     },
     "metadata": {},
     "output_type": "display_data"
    }
   ],
   "source": [
    "purchases = events.query(\"event_name =='purchase'\")\n",
    "purchases_pivot = purchases.pivot_table(columns='group', \n",
    "                                        values='event_name', \n",
    "                                        index='event_date',\n",
    "                                        aggfunc='count')\n",
    "display(purchases_pivot)"
   ]
  },
  {
   "cell_type": "markdown",
   "id": "45d69d6c",
   "metadata": {},
   "source": [
    "##### Выручка"
   ]
  },
  {
   "cell_type": "markdown",
   "id": "e3bf0ccd",
   "metadata": {},
   "source": [
    "Создадим сводную таблицу с суммарной выручкой по дням."
   ]
  },
  {
   "cell_type": "code",
   "execution_count": 49,
   "id": "dbb1e809",
   "metadata": {},
   "outputs": [
    {
     "data": {
      "text/html": [
       "<div>\n",
       "<style scoped>\n",
       "    .dataframe tbody tr th:only-of-type {\n",
       "        vertical-align: middle;\n",
       "    }\n",
       "\n",
       "    .dataframe tbody tr th {\n",
       "        vertical-align: top;\n",
       "    }\n",
       "\n",
       "    .dataframe thead th {\n",
       "        text-align: right;\n",
       "    }\n",
       "</style>\n",
       "<table border=\"1\" class=\"dataframe\">\n",
       "  <thead>\n",
       "    <tr style=\"text-align: right;\">\n",
       "      <th>group</th>\n",
       "      <th>A</th>\n",
       "      <th>B</th>\n",
       "    </tr>\n",
       "    <tr>\n",
       "      <th>event_date</th>\n",
       "      <th></th>\n",
       "      <th></th>\n",
       "    </tr>\n",
       "  </thead>\n",
       "  <tbody>\n",
       "    <tr>\n",
       "      <th>2020-12-07</th>\n",
       "      <td>1104.57</td>\n",
       "      <td>704.41</td>\n",
       "    </tr>\n",
       "    <tr>\n",
       "      <th>2020-12-08</th>\n",
       "      <td>754.67</td>\n",
       "      <td>484.67</td>\n",
       "    </tr>\n",
       "    <tr>\n",
       "      <th>2020-12-09</th>\n",
       "      <td>759.53</td>\n",
       "      <td>414.61</td>\n",
       "    </tr>\n",
       "    <tr>\n",
       "      <th>2020-12-10</th>\n",
       "      <td>809.58</td>\n",
       "      <td>639.74</td>\n",
       "    </tr>\n",
       "    <tr>\n",
       "      <th>2020-12-11</th>\n",
       "      <td>1089.60</td>\n",
       "      <td>94.84</td>\n",
       "    </tr>\n",
       "    <tr>\n",
       "      <th>2020-12-12</th>\n",
       "      <td>879.62</td>\n",
       "      <td>324.75</td>\n",
       "    </tr>\n",
       "    <tr>\n",
       "      <th>2020-12-13</th>\n",
       "      <td>289.68</td>\n",
       "      <td>1424.74</td>\n",
       "    </tr>\n",
       "    <tr>\n",
       "      <th>2020-12-14</th>\n",
       "      <td>3273.67</td>\n",
       "      <td>769.68</td>\n",
       "    </tr>\n",
       "    <tr>\n",
       "      <th>2020-12-15</th>\n",
       "      <td>3288.63</td>\n",
       "      <td>1459.68</td>\n",
       "    </tr>\n",
       "    <tr>\n",
       "      <th>2020-12-16</th>\n",
       "      <td>4353.58</td>\n",
       "      <td>1054.50</td>\n",
       "    </tr>\n",
       "    <tr>\n",
       "      <th>2020-12-17</th>\n",
       "      <td>2783.31</td>\n",
       "      <td>984.64</td>\n",
       "    </tr>\n",
       "    <tr>\n",
       "      <th>2020-12-18</th>\n",
       "      <td>3363.35</td>\n",
       "      <td>264.71</td>\n",
       "    </tr>\n",
       "    <tr>\n",
       "      <th>2020-12-19</th>\n",
       "      <td>4547.92</td>\n",
       "      <td>399.66</td>\n",
       "    </tr>\n",
       "    <tr>\n",
       "      <th>2020-12-20</th>\n",
       "      <td>5112.89</td>\n",
       "      <td>809.63</td>\n",
       "    </tr>\n",
       "    <tr>\n",
       "      <th>2020-12-21</th>\n",
       "      <td>7972.18</td>\n",
       "      <td>2234.48</td>\n",
       "    </tr>\n",
       "    <tr>\n",
       "      <th>2020-12-22</th>\n",
       "      <td>4408.36</td>\n",
       "      <td>339.73</td>\n",
       "    </tr>\n",
       "    <tr>\n",
       "      <th>2020-12-23</th>\n",
       "      <td>1663.64</td>\n",
       "      <td>319.77</td>\n",
       "    </tr>\n",
       "    <tr>\n",
       "      <th>2020-12-24</th>\n",
       "      <td>3653.78</td>\n",
       "      <td>109.81</td>\n",
       "    </tr>\n",
       "    <tr>\n",
       "      <th>2020-12-25</th>\n",
       "      <td>3458.94</td>\n",
       "      <td>249.89</td>\n",
       "    </tr>\n",
       "    <tr>\n",
       "      <th>2020-12-26</th>\n",
       "      <td>1884.08</td>\n",
       "      <td>164.87</td>\n",
       "    </tr>\n",
       "    <tr>\n",
       "      <th>2020-12-27</th>\n",
       "      <td>1614.18</td>\n",
       "      <td>1284.81</td>\n",
       "    </tr>\n",
       "    <tr>\n",
       "      <th>2020-12-28</th>\n",
       "      <td>1184.31</td>\n",
       "      <td>164.90</td>\n",
       "    </tr>\n",
       "    <tr>\n",
       "      <th>2020-12-29</th>\n",
       "      <td>614.57</td>\n",
       "      <td>64.88</td>\n",
       "    </tr>\n",
       "  </tbody>\n",
       "</table>\n",
       "</div>"
      ],
      "text/plain": [
       "group             A        B\n",
       "event_date                  \n",
       "2020-12-07  1104.57   704.41\n",
       "2020-12-08   754.67   484.67\n",
       "2020-12-09   759.53   414.61\n",
       "2020-12-10   809.58   639.74\n",
       "2020-12-11  1089.60    94.84\n",
       "2020-12-12   879.62   324.75\n",
       "2020-12-13   289.68  1424.74\n",
       "2020-12-14  3273.67   769.68\n",
       "2020-12-15  3288.63  1459.68\n",
       "2020-12-16  4353.58  1054.50\n",
       "2020-12-17  2783.31   984.64\n",
       "2020-12-18  3363.35   264.71\n",
       "2020-12-19  4547.92   399.66\n",
       "2020-12-20  5112.89   809.63\n",
       "2020-12-21  7972.18  2234.48\n",
       "2020-12-22  4408.36   339.73\n",
       "2020-12-23  1663.64   319.77\n",
       "2020-12-24  3653.78   109.81\n",
       "2020-12-25  3458.94   249.89\n",
       "2020-12-26  1884.08   164.87\n",
       "2020-12-27  1614.18  1284.81\n",
       "2020-12-28  1184.31   164.90\n",
       "2020-12-29   614.57    64.88"
      ]
     },
     "metadata": {},
     "output_type": "display_data"
    }
   ],
   "source": [
    "revenue_pivot = purchases.pivot_table(columns='group', \n",
    "                                      values='revenue', \n",
    "                                      index='event_date',\n",
    "                                      aggfunc='sum')\n",
    "display(revenue_pivot)"
   ]
  },
  {
   "cell_type": "markdown",
   "id": "9e34ccc6",
   "metadata": {},
   "source": [
    "##### Средний чек"
   ]
  },
  {
   "cell_type": "markdown",
   "id": "9dcae355",
   "metadata": {},
   "source": [
    "Создадим сводную таблицу с дневным средним чеком."
   ]
  },
  {
   "cell_type": "code",
   "execution_count": 50,
   "id": "f38698da",
   "metadata": {},
   "outputs": [
    {
     "data": {
      "text/html": [
       "<div>\n",
       "<style scoped>\n",
       "    .dataframe tbody tr th:only-of-type {\n",
       "        vertical-align: middle;\n",
       "    }\n",
       "\n",
       "    .dataframe tbody tr th {\n",
       "        vertical-align: top;\n",
       "    }\n",
       "\n",
       "    .dataframe thead th {\n",
       "        text-align: right;\n",
       "    }\n",
       "</style>\n",
       "<table border=\"1\" class=\"dataframe\">\n",
       "  <thead>\n",
       "    <tr style=\"text-align: right;\">\n",
       "      <th>group</th>\n",
       "      <th>A</th>\n",
       "      <th>B</th>\n",
       "    </tr>\n",
       "    <tr>\n",
       "      <th>event_date</th>\n",
       "      <th></th>\n",
       "      <th></th>\n",
       "    </tr>\n",
       "  </thead>\n",
       "  <tbody>\n",
       "    <tr>\n",
       "      <th>2020-12-07</th>\n",
       "      <td>25.687674</td>\n",
       "      <td>11.939153</td>\n",
       "    </tr>\n",
       "    <tr>\n",
       "      <th>2020-12-08</th>\n",
       "      <td>22.868788</td>\n",
       "      <td>14.686970</td>\n",
       "    </tr>\n",
       "    <tr>\n",
       "      <th>2020-12-09</th>\n",
       "      <td>16.160213</td>\n",
       "      <td>10.631026</td>\n",
       "    </tr>\n",
       "    <tr>\n",
       "      <th>2020-12-10</th>\n",
       "      <td>19.275714</td>\n",
       "      <td>24.605385</td>\n",
       "    </tr>\n",
       "    <tr>\n",
       "      <th>2020-12-11</th>\n",
       "      <td>27.240000</td>\n",
       "      <td>5.927500</td>\n",
       "    </tr>\n",
       "    <tr>\n",
       "      <th>2020-12-12</th>\n",
       "      <td>23.147895</td>\n",
       "      <td>12.990000</td>\n",
       "    </tr>\n",
       "    <tr>\n",
       "      <th>2020-12-13</th>\n",
       "      <td>9.052500</td>\n",
       "      <td>54.797692</td>\n",
       "    </tr>\n",
       "    <tr>\n",
       "      <th>2020-12-14</th>\n",
       "      <td>24.614060</td>\n",
       "      <td>24.052500</td>\n",
       "    </tr>\n",
       "    <tr>\n",
       "      <th>2020-12-15</th>\n",
       "      <td>24.004599</td>\n",
       "      <td>45.615000</td>\n",
       "    </tr>\n",
       "    <tr>\n",
       "      <th>2020-12-16</th>\n",
       "      <td>30.659014</td>\n",
       "      <td>21.090000</td>\n",
       "    </tr>\n",
       "    <tr>\n",
       "      <th>2020-12-17</th>\n",
       "      <td>16.469290</td>\n",
       "      <td>27.351111</td>\n",
       "    </tr>\n",
       "    <tr>\n",
       "      <th>2020-12-18</th>\n",
       "      <td>20.383939</td>\n",
       "      <td>9.127931</td>\n",
       "    </tr>\n",
       "    <tr>\n",
       "      <th>2020-12-19</th>\n",
       "      <td>21.865000</td>\n",
       "      <td>11.754706</td>\n",
       "    </tr>\n",
       "    <tr>\n",
       "      <th>2020-12-20</th>\n",
       "      <td>24.231706</td>\n",
       "      <td>21.881892</td>\n",
       "    </tr>\n",
       "    <tr>\n",
       "      <th>2020-12-21</th>\n",
       "      <td>28.270142</td>\n",
       "      <td>42.970769</td>\n",
       "    </tr>\n",
       "    <tr>\n",
       "      <th>2020-12-22</th>\n",
       "      <td>26.880244</td>\n",
       "      <td>12.582593</td>\n",
       "    </tr>\n",
       "    <tr>\n",
       "      <th>2020-12-23</th>\n",
       "      <td>12.232647</td>\n",
       "      <td>13.903043</td>\n",
       "    </tr>\n",
       "    <tr>\n",
       "      <th>2020-12-24</th>\n",
       "      <td>29.949016</td>\n",
       "      <td>5.779474</td>\n",
       "    </tr>\n",
       "    <tr>\n",
       "      <th>2020-12-25</th>\n",
       "      <td>32.631509</td>\n",
       "      <td>22.717273</td>\n",
       "    </tr>\n",
       "    <tr>\n",
       "      <th>2020-12-26</th>\n",
       "      <td>20.479130</td>\n",
       "      <td>12.682308</td>\n",
       "    </tr>\n",
       "    <tr>\n",
       "      <th>2020-12-27</th>\n",
       "      <td>19.685122</td>\n",
       "      <td>67.621579</td>\n",
       "    </tr>\n",
       "    <tr>\n",
       "      <th>2020-12-28</th>\n",
       "      <td>17.163913</td>\n",
       "      <td>16.490000</td>\n",
       "    </tr>\n",
       "    <tr>\n",
       "      <th>2020-12-29</th>\n",
       "      <td>14.292326</td>\n",
       "      <td>5.406667</td>\n",
       "    </tr>\n",
       "  </tbody>\n",
       "</table>\n",
       "</div>"
      ],
      "text/plain": [
       "group               A          B\n",
       "event_date                      \n",
       "2020-12-07  25.687674  11.939153\n",
       "2020-12-08  22.868788  14.686970\n",
       "2020-12-09  16.160213  10.631026\n",
       "2020-12-10  19.275714  24.605385\n",
       "2020-12-11  27.240000   5.927500\n",
       "2020-12-12  23.147895  12.990000\n",
       "2020-12-13   9.052500  54.797692\n",
       "2020-12-14  24.614060  24.052500\n",
       "2020-12-15  24.004599  45.615000\n",
       "2020-12-16  30.659014  21.090000\n",
       "2020-12-17  16.469290  27.351111\n",
       "2020-12-18  20.383939   9.127931\n",
       "2020-12-19  21.865000  11.754706\n",
       "2020-12-20  24.231706  21.881892\n",
       "2020-12-21  28.270142  42.970769\n",
       "2020-12-22  26.880244  12.582593\n",
       "2020-12-23  12.232647  13.903043\n",
       "2020-12-24  29.949016   5.779474\n",
       "2020-12-25  32.631509  22.717273\n",
       "2020-12-26  20.479130  12.682308\n",
       "2020-12-27  19.685122  67.621579\n",
       "2020-12-28  17.163913  16.490000\n",
       "2020-12-29  14.292326   5.406667"
      ]
     },
     "metadata": {},
     "output_type": "display_data"
    }
   ],
   "source": [
    "mean_spend_pivot = purchases.pivot_table(columns='group', \n",
    "                                         values='revenue', \n",
    "                                         index='event_date',\n",
    "                                         aggfunc='mean')\n",
    "display(mean_spend_pivot)"
   ]
  },
  {
   "cell_type": "markdown",
   "id": "6a2fba08",
   "metadata": {},
   "source": [
    "##### Регистрация "
   ]
  },
  {
   "cell_type": "markdown",
   "id": "d52312f3",
   "metadata": {},
   "source": [
    "Создадим сводную таблицу с количеством регистраций новых пользователей по дням."
   ]
  },
  {
   "cell_type": "code",
   "execution_count": 51,
   "id": "dae4f268",
   "metadata": {
    "scrolled": false
   },
   "outputs": [
    {
     "data": {
      "text/html": [
       "<div>\n",
       "<style scoped>\n",
       "    .dataframe tbody tr th:only-of-type {\n",
       "        vertical-align: middle;\n",
       "    }\n",
       "\n",
       "    .dataframe tbody tr th {\n",
       "        vertical-align: top;\n",
       "    }\n",
       "\n",
       "    .dataframe thead th {\n",
       "        text-align: right;\n",
       "    }\n",
       "</style>\n",
       "<table border=\"1\" class=\"dataframe\">\n",
       "  <thead>\n",
       "    <tr style=\"text-align: right;\">\n",
       "      <th>group</th>\n",
       "      <th>A</th>\n",
       "      <th>B</th>\n",
       "    </tr>\n",
       "    <tr>\n",
       "      <th>event_date</th>\n",
       "      <th></th>\n",
       "      <th></th>\n",
       "    </tr>\n",
       "  </thead>\n",
       "  <tbody>\n",
       "    <tr>\n",
       "      <th>2020-12-07</th>\n",
       "      <td>349.0</td>\n",
       "      <td>259.0</td>\n",
       "    </tr>\n",
       "    <tr>\n",
       "      <th>2020-12-08</th>\n",
       "      <td>186.0</td>\n",
       "      <td>149.0</td>\n",
       "    </tr>\n",
       "    <tr>\n",
       "      <th>2020-12-09</th>\n",
       "      <td>143.0</td>\n",
       "      <td>105.0</td>\n",
       "    </tr>\n",
       "    <tr>\n",
       "      <th>2020-12-10</th>\n",
       "      <td>189.0</td>\n",
       "      <td>181.0</td>\n",
       "    </tr>\n",
       "    <tr>\n",
       "      <th>2020-12-11</th>\n",
       "      <td>157.0</td>\n",
       "      <td>106.0</td>\n",
       "    </tr>\n",
       "    <tr>\n",
       "      <th>2020-12-12</th>\n",
       "      <td>268.0</td>\n",
       "      <td>198.0</td>\n",
       "    </tr>\n",
       "    <tr>\n",
       "      <th>2020-12-13</th>\n",
       "      <td>323.0</td>\n",
       "      <td>228.0</td>\n",
       "    </tr>\n",
       "    <tr>\n",
       "      <th>2020-12-14</th>\n",
       "      <td>366.0</td>\n",
       "      <td>262.0</td>\n",
       "    </tr>\n",
       "    <tr>\n",
       "      <th>2020-12-15</th>\n",
       "      <td>202.0</td>\n",
       "      <td>141.0</td>\n",
       "    </tr>\n",
       "    <tr>\n",
       "      <th>2020-12-16</th>\n",
       "      <td>160.0</td>\n",
       "      <td>114.0</td>\n",
       "    </tr>\n",
       "    <tr>\n",
       "      <th>2020-12-17</th>\n",
       "      <td>202.0</td>\n",
       "      <td>138.0</td>\n",
       "    </tr>\n",
       "    <tr>\n",
       "      <th>2020-12-18</th>\n",
       "      <td>210.0</td>\n",
       "      <td>172.0</td>\n",
       "    </tr>\n",
       "    <tr>\n",
       "      <th>2020-12-19</th>\n",
       "      <td>226.0</td>\n",
       "      <td>173.0</td>\n",
       "    </tr>\n",
       "    <tr>\n",
       "      <th>2020-12-20</th>\n",
       "      <td>255.0</td>\n",
       "      <td>206.0</td>\n",
       "    </tr>\n",
       "    <tr>\n",
       "      <th>2020-12-21</th>\n",
       "      <td>398.0</td>\n",
       "      <td>285.0</td>\n",
       "    </tr>\n",
       "    <tr>\n",
       "      <th>2020-12-22</th>\n",
       "      <td>0.0</td>\n",
       "      <td>0.0</td>\n",
       "    </tr>\n",
       "    <tr>\n",
       "      <th>2020-12-23</th>\n",
       "      <td>0.0</td>\n",
       "      <td>0.0</td>\n",
       "    </tr>\n",
       "    <tr>\n",
       "      <th>2020-12-24</th>\n",
       "      <td>0.0</td>\n",
       "      <td>0.0</td>\n",
       "    </tr>\n",
       "    <tr>\n",
       "      <th>2020-12-25</th>\n",
       "      <td>0.0</td>\n",
       "      <td>0.0</td>\n",
       "    </tr>\n",
       "    <tr>\n",
       "      <th>2020-12-26</th>\n",
       "      <td>0.0</td>\n",
       "      <td>0.0</td>\n",
       "    </tr>\n",
       "    <tr>\n",
       "      <th>2020-12-27</th>\n",
       "      <td>0.0</td>\n",
       "      <td>0.0</td>\n",
       "    </tr>\n",
       "    <tr>\n",
       "      <th>2020-12-28</th>\n",
       "      <td>0.0</td>\n",
       "      <td>0.0</td>\n",
       "    </tr>\n",
       "    <tr>\n",
       "      <th>2020-12-29</th>\n",
       "      <td>0.0</td>\n",
       "      <td>0.0</td>\n",
       "    </tr>\n",
       "  </tbody>\n",
       "</table>\n",
       "</div>"
      ],
      "text/plain": [
       "group           A      B\n",
       "event_date              \n",
       "2020-12-07  349.0  259.0\n",
       "2020-12-08  186.0  149.0\n",
       "2020-12-09  143.0  105.0\n",
       "2020-12-10  189.0  181.0\n",
       "2020-12-11  157.0  106.0\n",
       "2020-12-12  268.0  198.0\n",
       "2020-12-13  323.0  228.0\n",
       "2020-12-14  366.0  262.0\n",
       "2020-12-15  202.0  141.0\n",
       "2020-12-16  160.0  114.0\n",
       "2020-12-17  202.0  138.0\n",
       "2020-12-18  210.0  172.0\n",
       "2020-12-19  226.0  173.0\n",
       "2020-12-20  255.0  206.0\n",
       "2020-12-21  398.0  285.0\n",
       "2020-12-22    0.0    0.0\n",
       "2020-12-23    0.0    0.0\n",
       "2020-12-24    0.0    0.0\n",
       "2020-12-25    0.0    0.0\n",
       "2020-12-26    0.0    0.0\n",
       "2020-12-27    0.0    0.0\n",
       "2020-12-28    0.0    0.0\n",
       "2020-12-29    0.0    0.0"
      ]
     },
     "metadata": {},
     "output_type": "display_data"
    }
   ],
   "source": [
    "users_join_daily = user_data.pivot_table(columns='group',\n",
    "                                         values='ab_test',\n",
    "                                         index='first_date',\n",
    "                                         aggfunc='count')\n",
    "users_join_daily = revenue_pivot.drop(['A', 'B'], axis=1).join(users_join_daily).fillna(0)\n",
    "display(users_join_daily)"
   ]
  },
  {
   "cell_type": "markdown",
   "id": "efff6184",
   "metadata": {},
   "source": [
    "Псле 21 Декабря набор новых пользователей был остановлен."
   ]
  },
  {
   "cell_type": "markdown",
   "id": "dfb5ea05",
   "metadata": {},
   "source": [
    "## Исследовательский анализ данных"
   ]
  },
  {
   "cell_type": "markdown",
   "id": "0c151208",
   "metadata": {},
   "source": [
    "### Распределение событий на пользователя по выборкам"
   ]
  },
  {
   "cell_type": "code",
   "execution_count": 52,
   "id": "cb54a290",
   "metadata": {},
   "outputs": [
    {
     "data": {
      "text/html": [
       "<div>\n",
       "<style scoped>\n",
       "    .dataframe tbody tr th:only-of-type {\n",
       "        vertical-align: middle;\n",
       "    }\n",
       "\n",
       "    .dataframe tbody tr th {\n",
       "        vertical-align: top;\n",
       "    }\n",
       "\n",
       "    .dataframe thead th {\n",
       "        text-align: right;\n",
       "    }\n",
       "</style>\n",
       "<table border=\"1\" class=\"dataframe\">\n",
       "  <thead>\n",
       "    <tr style=\"text-align: right;\">\n",
       "      <th></th>\n",
       "      <th>event_date</th>\n",
       "    </tr>\n",
       "    <tr>\n",
       "      <th>group</th>\n",
       "      <th></th>\n",
       "    </tr>\n",
       "  </thead>\n",
       "  <tbody>\n",
       "    <tr>\n",
       "      <th>A</th>\n",
       "      <td>7.031106</td>\n",
       "    </tr>\n",
       "    <tr>\n",
       "      <th>B</th>\n",
       "      <td>5.827822</td>\n",
       "    </tr>\n",
       "  </tbody>\n",
       "</table>\n",
       "</div>"
      ],
      "text/plain": [
       "       event_date\n",
       "group            \n",
       "A        7.031106\n",
       "B        5.827822"
      ]
     },
     "execution_count": 52,
     "metadata": {},
     "output_type": "execute_result"
    }
   ],
   "source": [
    "events.groupby(['user_id','group'])['event_date'].count().reset_index()\\\n",
    "      .groupby('group')['event_date'].mean().to_frame()"
   ]
  },
  {
   "cell_type": "markdown",
   "id": "7fd69a81",
   "metadata": {},
   "source": [
    "В среднем в контрольной группе 7 событий на пользователя, тогда как в тестовой их 5.8"
   ]
  },
  {
   "cell_type": "markdown",
   "id": "7843f17e",
   "metadata": {},
   "source": [
    "### Распределение событий в выборках по дням"
   ]
  },
  {
   "cell_type": "code",
   "execution_count": 53,
   "id": "acbf37b3",
   "metadata": {},
   "outputs": [
    {
     "data": {
      "text/html": [
       "<div>\n",
       "<style scoped>\n",
       "    .dataframe tbody tr th:only-of-type {\n",
       "        vertical-align: middle;\n",
       "    }\n",
       "\n",
       "    .dataframe tbody tr th {\n",
       "        vertical-align: top;\n",
       "    }\n",
       "\n",
       "    .dataframe thead th {\n",
       "        text-align: right;\n",
       "    }\n",
       "</style>\n",
       "<table border=\"1\" class=\"dataframe\">\n",
       "  <thead>\n",
       "    <tr style=\"text-align: right;\">\n",
       "      <th>group</th>\n",
       "      <th>A</th>\n",
       "      <th>B</th>\n",
       "    </tr>\n",
       "    <tr>\n",
       "      <th>event_date</th>\n",
       "      <th></th>\n",
       "      <th></th>\n",
       "    </tr>\n",
       "  </thead>\n",
       "  <tbody>\n",
       "    <tr>\n",
       "      <th>2020-12-07</th>\n",
       "      <td>318.0</td>\n",
       "      <td>356.0</td>\n",
       "    </tr>\n",
       "    <tr>\n",
       "      <th>2020-12-08</th>\n",
       "      <td>313.0</td>\n",
       "      <td>238.0</td>\n",
       "    </tr>\n",
       "    <tr>\n",
       "      <th>2020-12-09</th>\n",
       "      <td>371.0</td>\n",
       "      <td>338.0</td>\n",
       "    </tr>\n",
       "    <tr>\n",
       "      <th>2020-12-10</th>\n",
       "      <td>331.0</td>\n",
       "      <td>249.0</td>\n",
       "    </tr>\n",
       "    <tr>\n",
       "      <th>2020-12-11</th>\n",
       "      <td>356.0</td>\n",
       "      <td>161.0</td>\n",
       "    </tr>\n",
       "    <tr>\n",
       "      <th>2020-12-12</th>\n",
       "      <td>346.0</td>\n",
       "      <td>199.0</td>\n",
       "    </tr>\n",
       "    <tr>\n",
       "      <th>2020-12-13</th>\n",
       "      <td>308.0</td>\n",
       "      <td>164.0</td>\n",
       "    </tr>\n",
       "    <tr>\n",
       "      <th>2020-12-14</th>\n",
       "      <td>1015.0</td>\n",
       "      <td>248.0</td>\n",
       "    </tr>\n",
       "    <tr>\n",
       "      <th>2020-12-15</th>\n",
       "      <td>1030.0</td>\n",
       "      <td>222.0</td>\n",
       "    </tr>\n",
       "    <tr>\n",
       "      <th>2020-12-16</th>\n",
       "      <td>1007.0</td>\n",
       "      <td>369.0</td>\n",
       "    </tr>\n",
       "    <tr>\n",
       "      <th>2020-12-17</th>\n",
       "      <td>1200.0</td>\n",
       "      <td>281.0</td>\n",
       "    </tr>\n",
       "    <tr>\n",
       "      <th>2020-12-18</th>\n",
       "      <td>1244.0</td>\n",
       "      <td>259.0</td>\n",
       "    </tr>\n",
       "    <tr>\n",
       "      <th>2020-12-19</th>\n",
       "      <td>1430.0</td>\n",
       "      <td>288.0</td>\n",
       "    </tr>\n",
       "    <tr>\n",
       "      <th>2020-12-20</th>\n",
       "      <td>1434.0</td>\n",
       "      <td>309.0</td>\n",
       "    </tr>\n",
       "    <tr>\n",
       "      <th>2020-12-21</th>\n",
       "      <td>1903.0</td>\n",
       "      <td>401.0</td>\n",
       "    </tr>\n",
       "    <tr>\n",
       "      <th>2020-12-22</th>\n",
       "      <td>1236.0</td>\n",
       "      <td>185.0</td>\n",
       "    </tr>\n",
       "    <tr>\n",
       "      <th>2020-12-23</th>\n",
       "      <td>959.0</td>\n",
       "      <td>189.0</td>\n",
       "    </tr>\n",
       "    <tr>\n",
       "      <th>2020-12-24</th>\n",
       "      <td>850.0</td>\n",
       "      <td>149.0</td>\n",
       "    </tr>\n",
       "    <tr>\n",
       "      <th>2020-12-25</th>\n",
       "      <td>639.0</td>\n",
       "      <td>107.0</td>\n",
       "    </tr>\n",
       "    <tr>\n",
       "      <th>2020-12-26</th>\n",
       "      <td>580.0</td>\n",
       "      <td>113.0</td>\n",
       "    </tr>\n",
       "    <tr>\n",
       "      <th>2020-12-27</th>\n",
       "      <td>547.0</td>\n",
       "      <td>114.0</td>\n",
       "    </tr>\n",
       "    <tr>\n",
       "      <th>2020-12-28</th>\n",
       "      <td>479.0</td>\n",
       "      <td>95.0</td>\n",
       "    </tr>\n",
       "    <tr>\n",
       "      <th>2020-12-29</th>\n",
       "      <td>413.0</td>\n",
       "      <td>73.0</td>\n",
       "    </tr>\n",
       "    <tr>\n",
       "      <th>2020-12-30</th>\n",
       "      <td>0.0</td>\n",
       "      <td>4.0</td>\n",
       "    </tr>\n",
       "  </tbody>\n",
       "</table>\n",
       "</div>"
      ],
      "text/plain": [
       "group            A      B\n",
       "event_date               \n",
       "2020-12-07   318.0  356.0\n",
       "2020-12-08   313.0  238.0\n",
       "2020-12-09   371.0  338.0\n",
       "2020-12-10   331.0  249.0\n",
       "2020-12-11   356.0  161.0\n",
       "2020-12-12   346.0  199.0\n",
       "2020-12-13   308.0  164.0\n",
       "2020-12-14  1015.0  248.0\n",
       "2020-12-15  1030.0  222.0\n",
       "2020-12-16  1007.0  369.0\n",
       "2020-12-17  1200.0  281.0\n",
       "2020-12-18  1244.0  259.0\n",
       "2020-12-19  1430.0  288.0\n",
       "2020-12-20  1434.0  309.0\n",
       "2020-12-21  1903.0  401.0\n",
       "2020-12-22  1236.0  185.0\n",
       "2020-12-23   959.0  189.0\n",
       "2020-12-24   850.0  149.0\n",
       "2020-12-25   639.0  107.0\n",
       "2020-12-26   580.0  113.0\n",
       "2020-12-27   547.0  114.0\n",
       "2020-12-28   479.0   95.0\n",
       "2020-12-29   413.0   73.0\n",
       "2020-12-30     0.0    4.0"
      ]
     },
     "metadata": {},
     "output_type": "display_data"
    }
   ],
   "source": [
    "events_pivot = events.pivot_table(columns='group', values='event_name', index='event_date',aggfunc='count').fillna(0)\n",
    "display(events_pivot)"
   ]
  },
  {
   "cell_type": "code",
   "execution_count": 54,
   "id": "c85192be",
   "metadata": {
    "scrolled": false
   },
   "outputs": [
    {
     "data": {
      "image/png": "[encoded data removed]",
      "text/plain": [
       "<Figure size 864x432 with 1 Axes>"
      ]
     },
     "metadata": {
      "needs_background": "light"
     },
     "output_type": "display_data"
    }
   ],
   "source": [
    "\n",
    "events_pivot.plot()\n",
    "plt.xlabel('Дата')\n",
    "plt.ylabel('Количество событий')\n",
    "plt.title('Распределение событий в выборках по дням')\n",
    "plt.show();"
   ]
  },
  {
   "cell_type": "code",
   "execution_count": 55,
   "id": "9bc4932a",
   "metadata": {
    "scrolled": true
   },
   "outputs": [
    {
     "data": {
      "text/html": [
       "<div>\n",
       "<style scoped>\n",
       "    .dataframe tbody tr th:only-of-type {\n",
       "        vertical-align: middle;\n",
       "    }\n",
       "\n",
       "    .dataframe tbody tr th {\n",
       "        vertical-align: top;\n",
       "    }\n",
       "\n",
       "    .dataframe thead th {\n",
       "        text-align: right;\n",
       "    }\n",
       "</style>\n",
       "<table border=\"1\" class=\"dataframe\">\n",
       "  <thead>\n",
       "    <tr style=\"text-align: right;\">\n",
       "      <th></th>\n",
       "      <th>0</th>\n",
       "    </tr>\n",
       "    <tr>\n",
       "      <th>group</th>\n",
       "      <th></th>\n",
       "    </tr>\n",
       "  </thead>\n",
       "  <tbody>\n",
       "    <tr>\n",
       "      <th>A</th>\n",
       "      <td>762.875000</td>\n",
       "    </tr>\n",
       "    <tr>\n",
       "      <th>B</th>\n",
       "      <td>212.958333</td>\n",
       "    </tr>\n",
       "  </tbody>\n",
       "</table>\n",
       "</div>"
      ],
      "text/plain": [
       "                0\n",
       "group            \n",
       "A      762.875000\n",
       "B      212.958333"
      ]
     },
     "execution_count": 55,
     "metadata": {},
     "output_type": "execute_result"
    }
   ],
   "source": [
    "events_pivot.mean().to_frame()"
   ]
  },
  {
   "cell_type": "markdown",
   "id": "212e4870",
   "metadata": {},
   "source": [
    "* В среднем в день пользователи тестовой группы совершают 213 действий, тогда как в контрольной группе около 769 действий в день.\n",
    "* Активность пользователей из контрольной группы растет после 13 Декабря и достигает своего пика 20го.\n",
    "* Активность пользователей тестовой группы значительно не изменется в течение всего срока проведения теста."
   ]
  },
  {
   "cell_type": "markdown",
   "id": "5128358b",
   "metadata": {},
   "source": [
    "### Изменение конверсии в воронке по выборкам"
   ]
  },
  {
   "cell_type": "code",
   "execution_count": 56,
   "id": "2c136f28",
   "metadata": {},
   "outputs": [],
   "source": [
    "funnel =  events.pivot_table(columns='group',\n",
    "                   index='event_name',\n",
    "                   values='user_id', \n",
    "                   aggfunc='nunique')                  "
   ]
  },
  {
   "cell_type": "code",
   "execution_count": 57,
   "id": "835280b1",
   "metadata": {},
   "outputs": [
    {
     "data": {
      "text/html": [
       "<div>\n",
       "<style scoped>\n",
       "    .dataframe tbody tr th:only-of-type {\n",
       "        vertical-align: middle;\n",
       "    }\n",
       "\n",
       "    .dataframe tbody tr th {\n",
       "        vertical-align: top;\n",
       "    }\n",
       "\n",
       "    .dataframe thead th {\n",
       "        text-align: right;\n",
       "    }\n",
       "</style>\n",
       "<table border=\"1\" class=\"dataframe\">\n",
       "  <thead>\n",
       "    <tr style=\"text-align: right;\">\n",
       "      <th></th>\n",
       "      <th>first_date</th>\n",
       "    </tr>\n",
       "    <tr>\n",
       "      <th>group</th>\n",
       "      <th></th>\n",
       "    </tr>\n",
       "  </thead>\n",
       "  <tbody>\n",
       "    <tr>\n",
       "      <th>A</th>\n",
       "      <td>3634</td>\n",
       "    </tr>\n",
       "    <tr>\n",
       "      <th>B</th>\n",
       "      <td>2717</td>\n",
       "    </tr>\n",
       "  </tbody>\n",
       "</table>\n",
       "</div>"
      ],
      "text/plain": [
       "       first_date\n",
       "group            \n",
       "A            3634\n",
       "B            2717"
      ]
     },
     "execution_count": 57,
     "metadata": {},
     "output_type": "execute_result"
    }
   ],
   "source": [
    "user_data.groupby('group')['first_date'].count().to_frame()"
   ]
  },
  {
   "cell_type": "markdown",
   "id": "9579ba73",
   "metadata": {},
   "source": [
    "Построим воронку конверсии пользователей"
   ]
  },
  {
   "cell_type": "code",
   "execution_count": 58,
   "id": "5b6900b6",
   "metadata": {
    "scrolled": true
   },
   "outputs": [
    {
     "data": {
      "text/html": [
       "<div>\n",
       "<style scoped>\n",
       "    .dataframe tbody tr th:only-of-type {\n",
       "        vertical-align: middle;\n",
       "    }\n",
       "\n",
       "    .dataframe tbody tr th {\n",
       "        vertical-align: top;\n",
       "    }\n",
       "\n",
       "    .dataframe thead th {\n",
       "        text-align: right;\n",
       "    }\n",
       "</style>\n",
       "<table border=\"1\" class=\"dataframe\">\n",
       "  <thead>\n",
       "    <tr style=\"text-align: right;\">\n",
       "      <th>group</th>\n",
       "      <th>A</th>\n",
       "      <th>B</th>\n",
       "    </tr>\n",
       "    <tr>\n",
       "      <th>event_name</th>\n",
       "      <th></th>\n",
       "      <th></th>\n",
       "    </tr>\n",
       "  </thead>\n",
       "  <tbody>\n",
       "    <tr>\n",
       "      <th>registered</th>\n",
       "      <td>3634</td>\n",
       "      <td>2717</td>\n",
       "    </tr>\n",
       "    <tr>\n",
       "      <th>login</th>\n",
       "      <td>2604</td>\n",
       "      <td>877</td>\n",
       "    </tr>\n",
       "    <tr>\n",
       "      <th>product_page</th>\n",
       "      <td>1685</td>\n",
       "      <td>493</td>\n",
       "    </tr>\n",
       "    <tr>\n",
       "      <th>product_cart</th>\n",
       "      <td>782</td>\n",
       "      <td>244</td>\n",
       "    </tr>\n",
       "    <tr>\n",
       "      <th>purchase</th>\n",
       "      <td>833</td>\n",
       "      <td>249</td>\n",
       "    </tr>\n",
       "  </tbody>\n",
       "</table>\n",
       "</div>"
      ],
      "text/plain": [
       "group            A     B\n",
       "event_name              \n",
       "registered    3634  2717\n",
       "login         2604   877\n",
       "product_page  1685   493\n",
       "product_cart   782   244\n",
       "purchase       833   249"
      ]
     },
     "execution_count": 58,
     "metadata": {},
     "output_type": "execute_result"
    }
   ],
   "source": [
    "funnel.loc['registered'] = user_data.groupby('group')['first_date'].count()\n",
    "funnel = funnel.loc[['registered','login','product_page','product_cart','purchase']]\n",
    "funnel"
   ]
  },
  {
   "cell_type": "markdown",
   "id": "bfe291a5",
   "metadata": {},
   "source": [
    "То же в процентах"
   ]
  },
  {
   "cell_type": "code",
   "execution_count": 59,
   "id": "13840abd",
   "metadata": {
    "scrolled": false
   },
   "outputs": [
    {
     "data": {
      "text/html": [
       "<div>\n",
       "<style scoped>\n",
       "    .dataframe tbody tr th:only-of-type {\n",
       "        vertical-align: middle;\n",
       "    }\n",
       "\n",
       "    .dataframe tbody tr th {\n",
       "        vertical-align: top;\n",
       "    }\n",
       "\n",
       "    .dataframe thead th {\n",
       "        text-align: right;\n",
       "    }\n",
       "</style>\n",
       "<table border=\"1\" class=\"dataframe\">\n",
       "  <thead>\n",
       "    <tr style=\"text-align: right;\">\n",
       "      <th>group</th>\n",
       "      <th>A</th>\n",
       "      <th>B</th>\n",
       "    </tr>\n",
       "    <tr>\n",
       "      <th>event_name</th>\n",
       "      <th></th>\n",
       "      <th></th>\n",
       "    </tr>\n",
       "  </thead>\n",
       "  <tbody>\n",
       "    <tr>\n",
       "      <th>registered</th>\n",
       "      <td>1.000000</td>\n",
       "      <td>1.000000</td>\n",
       "    </tr>\n",
       "    <tr>\n",
       "      <th>login</th>\n",
       "      <td>0.716566</td>\n",
       "      <td>0.322782</td>\n",
       "    </tr>\n",
       "    <tr>\n",
       "      <th>product_page</th>\n",
       "      <td>0.463676</td>\n",
       "      <td>0.181450</td>\n",
       "    </tr>\n",
       "    <tr>\n",
       "      <th>product_cart</th>\n",
       "      <td>0.215190</td>\n",
       "      <td>0.089805</td>\n",
       "    </tr>\n",
       "    <tr>\n",
       "      <th>purchase</th>\n",
       "      <td>0.229224</td>\n",
       "      <td>0.091645</td>\n",
       "    </tr>\n",
       "  </tbody>\n",
       "</table>\n",
       "</div>"
      ],
      "text/plain": [
       "group                A         B\n",
       "event_name                      \n",
       "registered    1.000000  1.000000\n",
       "login         0.716566  0.322782\n",
       "product_page  0.463676  0.181450\n",
       "product_cart  0.215190  0.089805\n",
       "purchase      0.229224  0.091645"
      ]
     },
     "execution_count": 59,
     "metadata": {},
     "output_type": "execute_result"
    }
   ],
   "source": [
    "funnel/funnel.loc['registered']"
   ]
  },
  {
   "cell_type": "code",
   "execution_count": 60,
   "id": "db8e96f9",
   "metadata": {
    "scrolled": true
   },
   "outputs": [
    {
     "data": {
      "text/html": [
       "<div>\n",
       "<style scoped>\n",
       "    .dataframe tbody tr th:only-of-type {\n",
       "        vertical-align: middle;\n",
       "    }\n",
       "\n",
       "    .dataframe tbody tr th {\n",
       "        vertical-align: top;\n",
       "    }\n",
       "\n",
       "    .dataframe thead th {\n",
       "        text-align: right;\n",
       "    }\n",
       "</style>\n",
       "<table border=\"1\" class=\"dataframe\">\n",
       "  <thead>\n",
       "    <tr style=\"text-align: right;\">\n",
       "      <th>group</th>\n",
       "      <th>A</th>\n",
       "      <th>B</th>\n",
       "    </tr>\n",
       "    <tr>\n",
       "      <th>event_name</th>\n",
       "      <th></th>\n",
       "      <th></th>\n",
       "    </tr>\n",
       "  </thead>\n",
       "  <tbody>\n",
       "    <tr>\n",
       "      <th>registered</th>\n",
       "      <td>1.395545</td>\n",
       "      <td>3.098062</td>\n",
       "    </tr>\n",
       "    <tr>\n",
       "      <th>login</th>\n",
       "      <td>1.000000</td>\n",
       "      <td>1.000000</td>\n",
       "    </tr>\n",
       "    <tr>\n",
       "      <th>product_page</th>\n",
       "      <td>0.647081</td>\n",
       "      <td>0.562144</td>\n",
       "    </tr>\n",
       "    <tr>\n",
       "      <th>product_cart</th>\n",
       "      <td>0.300307</td>\n",
       "      <td>0.278221</td>\n",
       "    </tr>\n",
       "    <tr>\n",
       "      <th>purchase</th>\n",
       "      <td>0.319892</td>\n",
       "      <td>0.283922</td>\n",
       "    </tr>\n",
       "  </tbody>\n",
       "</table>\n",
       "</div>"
      ],
      "text/plain": [
       "group                A         B\n",
       "event_name                      \n",
       "registered    1.395545  3.098062\n",
       "login         1.000000  1.000000\n",
       "product_page  0.647081  0.562144\n",
       "product_cart  0.300307  0.278221\n",
       "purchase      0.319892  0.283922"
      ]
     },
     "execution_count": 60,
     "metadata": {},
     "output_type": "execute_result"
    }
   ],
   "source": [
    "funnel/funnel.loc['login']"
   ]
  },
  {
   "cell_type": "markdown",
   "id": "074d56ea",
   "metadata": {},
   "source": [
    "Построим так же воронку для пользователей, участвовавших только в одном нашем тесте, чтобы проверить наличие влияния соседнего теста на результат."
   ]
  },
  {
   "cell_type": "code",
   "execution_count": 61,
   "id": "b50c1a65",
   "metadata": {},
   "outputs": [],
   "source": [
    "funnel =  events.query(\"user_id not in @another_test_users.user_id\")\\\n",
    "                  .pivot_table(columns='group',\n",
    "                               index='event_name',\n",
    "                               values='user_id', \n",
    "                               aggfunc='nunique')\n",
    "                  "
   ]
  },
  {
   "cell_type": "code",
   "execution_count": 62,
   "id": "d640a417",
   "metadata": {},
   "outputs": [
    {
     "data": {
      "text/html": [
       "<div>\n",
       "<style scoped>\n",
       "    .dataframe tbody tr th:only-of-type {\n",
       "        vertical-align: middle;\n",
       "    }\n",
       "\n",
       "    .dataframe tbody tr th {\n",
       "        vertical-align: top;\n",
       "    }\n",
       "\n",
       "    .dataframe thead th {\n",
       "        text-align: right;\n",
       "    }\n",
       "</style>\n",
       "<table border=\"1\" class=\"dataframe\">\n",
       "  <thead>\n",
       "    <tr style=\"text-align: right;\">\n",
       "      <th></th>\n",
       "      <th>first_date</th>\n",
       "    </tr>\n",
       "    <tr>\n",
       "      <th>group</th>\n",
       "      <th></th>\n",
       "    </tr>\n",
       "  </thead>\n",
       "  <tbody>\n",
       "    <tr>\n",
       "      <th>A</th>\n",
       "      <td>3634</td>\n",
       "    </tr>\n",
       "    <tr>\n",
       "      <th>B</th>\n",
       "      <td>2717</td>\n",
       "    </tr>\n",
       "  </tbody>\n",
       "</table>\n",
       "</div>"
      ],
      "text/plain": [
       "       first_date\n",
       "group            \n",
       "A            3634\n",
       "B            2717"
      ]
     },
     "execution_count": 62,
     "metadata": {},
     "output_type": "execute_result"
    }
   ],
   "source": [
    "user_data.groupby('group')['first_date'].count().to_frame()"
   ]
  },
  {
   "cell_type": "code",
   "execution_count": 63,
   "id": "cae44b14",
   "metadata": {
    "scrolled": true
   },
   "outputs": [
    {
     "data": {
      "text/html": [
       "<div>\n",
       "<style scoped>\n",
       "    .dataframe tbody tr th:only-of-type {\n",
       "        vertical-align: middle;\n",
       "    }\n",
       "\n",
       "    .dataframe tbody tr th {\n",
       "        vertical-align: top;\n",
       "    }\n",
       "\n",
       "    .dataframe thead th {\n",
       "        text-align: right;\n",
       "    }\n",
       "</style>\n",
       "<table border=\"1\" class=\"dataframe\">\n",
       "  <thead>\n",
       "    <tr style=\"text-align: right;\">\n",
       "      <th>group</th>\n",
       "      <th>A</th>\n",
       "      <th>B</th>\n",
       "    </tr>\n",
       "    <tr>\n",
       "      <th>event_name</th>\n",
       "      <th></th>\n",
       "      <th></th>\n",
       "    </tr>\n",
       "  </thead>\n",
       "  <tbody>\n",
       "    <tr>\n",
       "      <th>registered</th>\n",
       "      <td>2713</td>\n",
       "      <td>2036</td>\n",
       "    </tr>\n",
       "    <tr>\n",
       "      <th>login</th>\n",
       "      <td>1939</td>\n",
       "      <td>655</td>\n",
       "    </tr>\n",
       "    <tr>\n",
       "      <th>product_page</th>\n",
       "      <td>1265</td>\n",
       "      <td>367</td>\n",
       "    </tr>\n",
       "    <tr>\n",
       "      <th>product_cart</th>\n",
       "      <td>589</td>\n",
       "      <td>184</td>\n",
       "    </tr>\n",
       "    <tr>\n",
       "      <th>purchase</th>\n",
       "      <td>613</td>\n",
       "      <td>191</td>\n",
       "    </tr>\n",
       "  </tbody>\n",
       "</table>\n",
       "</div>"
      ],
      "text/plain": [
       "group            A     B\n",
       "event_name              \n",
       "registered    2713  2036\n",
       "login         1939   655\n",
       "product_page  1265   367\n",
       "product_cart   589   184\n",
       "purchase       613   191"
      ]
     },
     "execution_count": 63,
     "metadata": {},
     "output_type": "execute_result"
    }
   ],
   "source": [
    "funnel.loc['registered'] = user_data.query(\"user_id not in @another_test_users.user_id\").groupby('group')['first_date'].count()\n",
    "funnel = funnel.loc[['registered','login','product_page','product_cart','purchase']]\n",
    "funnel"
   ]
  },
  {
   "cell_type": "code",
   "execution_count": 64,
   "id": "ac057d65",
   "metadata": {
    "scrolled": false
   },
   "outputs": [
    {
     "data": {
      "text/html": [
       "<div>\n",
       "<style scoped>\n",
       "    .dataframe tbody tr th:only-of-type {\n",
       "        vertical-align: middle;\n",
       "    }\n",
       "\n",
       "    .dataframe tbody tr th {\n",
       "        vertical-align: top;\n",
       "    }\n",
       "\n",
       "    .dataframe thead th {\n",
       "        text-align: right;\n",
       "    }\n",
       "</style>\n",
       "<table border=\"1\" class=\"dataframe\">\n",
       "  <thead>\n",
       "    <tr style=\"text-align: right;\">\n",
       "      <th>group</th>\n",
       "      <th>A</th>\n",
       "      <th>B</th>\n",
       "    </tr>\n",
       "    <tr>\n",
       "      <th>event_name</th>\n",
       "      <th></th>\n",
       "      <th></th>\n",
       "    </tr>\n",
       "  </thead>\n",
       "  <tbody>\n",
       "    <tr>\n",
       "      <th>registered</th>\n",
       "      <td>1.000000</td>\n",
       "      <td>1.000000</td>\n",
       "    </tr>\n",
       "    <tr>\n",
       "      <th>login</th>\n",
       "      <td>0.714707</td>\n",
       "      <td>0.321709</td>\n",
       "    </tr>\n",
       "    <tr>\n",
       "      <th>product_page</th>\n",
       "      <td>0.466273</td>\n",
       "      <td>0.180255</td>\n",
       "    </tr>\n",
       "    <tr>\n",
       "      <th>product_cart</th>\n",
       "      <td>0.217103</td>\n",
       "      <td>0.090373</td>\n",
       "    </tr>\n",
       "    <tr>\n",
       "      <th>purchase</th>\n",
       "      <td>0.225949</td>\n",
       "      <td>0.093811</td>\n",
       "    </tr>\n",
       "  </tbody>\n",
       "</table>\n",
       "</div>"
      ],
      "text/plain": [
       "group                A         B\n",
       "event_name                      \n",
       "registered    1.000000  1.000000\n",
       "login         0.714707  0.321709\n",
       "product_page  0.466273  0.180255\n",
       "product_cart  0.217103  0.090373\n",
       "purchase      0.225949  0.093811"
      ]
     },
     "execution_count": 64,
     "metadata": {},
     "output_type": "execute_result"
    }
   ],
   "source": [
    "funnel/funnel.loc['registered']"
   ]
  },
  {
   "cell_type": "code",
   "execution_count": 65,
   "id": "c8b1185a",
   "metadata": {},
   "outputs": [
    {
     "data": {
      "text/html": [
       "<div>\n",
       "<style scoped>\n",
       "    .dataframe tbody tr th:only-of-type {\n",
       "        vertical-align: middle;\n",
       "    }\n",
       "\n",
       "    .dataframe tbody tr th {\n",
       "        vertical-align: top;\n",
       "    }\n",
       "\n",
       "    .dataframe thead th {\n",
       "        text-align: right;\n",
       "    }\n",
       "</style>\n",
       "<table border=\"1\" class=\"dataframe\">\n",
       "  <thead>\n",
       "    <tr style=\"text-align: right;\">\n",
       "      <th>group</th>\n",
       "      <th>A</th>\n",
       "      <th>B</th>\n",
       "    </tr>\n",
       "    <tr>\n",
       "      <th>event_name</th>\n",
       "      <th></th>\n",
       "      <th></th>\n",
       "    </tr>\n",
       "  </thead>\n",
       "  <tbody>\n",
       "    <tr>\n",
       "      <th>registered</th>\n",
       "      <td>1.399175</td>\n",
       "      <td>3.108397</td>\n",
       "    </tr>\n",
       "    <tr>\n",
       "      <th>login</th>\n",
       "      <td>1.000000</td>\n",
       "      <td>1.000000</td>\n",
       "    </tr>\n",
       "    <tr>\n",
       "      <th>product_page</th>\n",
       "      <td>0.652398</td>\n",
       "      <td>0.560305</td>\n",
       "    </tr>\n",
       "    <tr>\n",
       "      <th>product_cart</th>\n",
       "      <td>0.303765</td>\n",
       "      <td>0.280916</td>\n",
       "    </tr>\n",
       "    <tr>\n",
       "      <th>purchase</th>\n",
       "      <td>0.316142</td>\n",
       "      <td>0.291603</td>\n",
       "    </tr>\n",
       "  </tbody>\n",
       "</table>\n",
       "</div>"
      ],
      "text/plain": [
       "group                A         B\n",
       "event_name                      \n",
       "registered    1.399175  3.108397\n",
       "login         1.000000  1.000000\n",
       "product_page  0.652398  0.560305\n",
       "product_cart  0.303765  0.280916\n",
       "purchase      0.316142  0.291603"
      ]
     },
     "execution_count": 65,
     "metadata": {},
     "output_type": "execute_result"
    }
   ],
   "source": [
    "funnel/funnel.loc['login']"
   ]
  },
  {
   "cell_type": "markdown",
   "id": "0022bfea",
   "metadata": {},
   "source": [
    "### Вывод"
   ]
  },
  {
   "cell_type": "markdown",
   "id": "18e3e2d4",
   "metadata": {},
   "source": [
    "* Очень сильное падение конверсии в тестовой группе между регистрацией и логином. Здесь явно присутствует проблема с логином у пользователей — возможно им не приходит письмо с подтверждением регистрации и они забывают про наш сайт, либо на сайте с новым интерфейсом есть баг с логином новых пользователей. Нужно сообщить об этом команде разработки.\n",
    "    * В связи с описанной выше проблемой, в дальшейшем, проведем анализ двух типов воронок — начинающихся с регистрации и начинающихся с логина.\n",
    "* Проведение одновременно второго теста не повлияло на конверсию пользователей."
   ]
  },
  {
   "cell_type": "markdown",
   "id": "b4971745",
   "metadata": {},
   "source": [
    "## Анализ результатов А/В теста"
   ]
  },
  {
   "cell_type": "markdown",
   "id": "5ec26ef0",
   "metadata": {},
   "source": [
    "### Количество заказов по группам"
   ]
  },
  {
   "cell_type": "code",
   "execution_count": 66,
   "id": "310a4094",
   "metadata": {},
   "outputs": [
    {
     "data": {
      "image/png": "[encoded data removed]",
      "text/plain": [
       "<Figure size 864x432 with 1 Axes>"
      ]
     },
     "metadata": {
      "needs_background": "light"
     },
     "output_type": "display_data"
    }
   ],
   "source": [
    "purchases_pivot.plot()\n",
    "plt.xlabel('Дата')\n",
    "plt.ylabel('Количество заказов')\n",
    "plt.title('Количество заказов по группам')\n",
    "plt.show();"
   ]
  },
  {
   "cell_type": "markdown",
   "id": "19c40afe",
   "metadata": {},
   "source": [
    "**Кумулятивное количество заказов по группам**"
   ]
  },
  {
   "cell_type": "code",
   "execution_count": 67,
   "id": "8df16132",
   "metadata": {},
   "outputs": [
    {
     "data": {
      "image/png": "[encoded data removed]",
      "text/plain": [
       "<Figure size 864x432 with 1 Axes>"
      ]
     },
     "metadata": {
      "needs_background": "light"
     },
     "output_type": "display_data"
    }
   ],
   "source": [
    "purchases_pivot.cumsum().plot()\n",
    "plt.xlabel('Дата')\n",
    "plt.ylabel('Кумулятивное количество заказов')\n",
    "plt.title('Кумулятивное количество заказов по группам')\n",
    "plt.show();"
   ]
  },
  {
   "cell_type": "markdown",
   "id": "0ab422f5",
   "metadata": {},
   "source": [
    "На графике видно, что что-то случилось 13 Декабря и пользователи из контрольной группы стали покупать в разы больше. Но, так как никаких акций в этот день не проводилось, стоит проверить так же активноть пользователей, участвовавших в соседнем тесте. Возможно, это поможет прояснить ситуацию."
   ]
  },
  {
   "cell_type": "markdown",
   "id": "12393b45",
   "metadata": {},
   "source": [
    "**Количество заказов по группам во втором тесте**"
   ]
  },
  {
   "cell_type": "code",
   "execution_count": 68,
   "id": "b0a2c0bf",
   "metadata": {},
   "outputs": [],
   "source": [
    "another_test_events = another_test_events.merge(another_test_users, on='user_id', how='inner')\n",
    "another_test_events_pivot = another_test_events.pivot_table(columns='group', values='event_name', index='event_date',aggfunc='count').fillna(0)\n"
   ]
  },
  {
   "cell_type": "code",
   "execution_count": 69,
   "id": "04921879",
   "metadata": {
    "scrolled": false
   },
   "outputs": [
    {
     "data": {
      "image/png": "[encoded data removed]",
      "text/plain": [
       "<Figure size 864x432 with 1 Axes>"
      ]
     },
     "metadata": {
      "needs_background": "light"
     },
     "output_type": "display_data"
    }
   ],
   "source": [
    "another_test_events_pivot.plot()\n",
    "plt.xlabel('Дата')\n",
    "plt.ylabel('Количество заказов')\n",
    "plt.title('Количество заказов по группам во втором тесте')\n",
    "plt.show();"
   ]
  },
  {
   "cell_type": "code",
   "execution_count": 70,
   "id": "fecd39aa",
   "metadata": {},
   "outputs": [
    {
     "data": {
      "image/png": "[encoded data removed]",
      "text/plain": [
       "<Figure size 864x432 with 1 Axes>"
      ]
     },
     "metadata": {
      "needs_background": "light"
     },
     "output_type": "display_data"
    }
   ],
   "source": [
    "another_test_events_pivot.cumsum().plot()\n",
    "plt.xlabel('Дата')\n",
    "plt.ylabel('Кумулятивное количество заказов')\n",
    "plt.title('Кумулятивное количество заказов по группам во втором тесте')\n",
    "plt.show();"
   ]
  },
  {
   "cell_type": "markdown",
   "id": "3cdb1af1",
   "metadata": {},
   "source": [
    "Поведение пользователей обеих групп соседнего теста совпадает с поведением контролькой группы теста рекомендаций. Значит, что это введение новой рекомендательной системы повлияло на пользователей из тестовой группы в худшую сторону."
   ]
  },
  {
   "cell_type": "markdown",
   "id": "867ebff5",
   "metadata": {},
   "source": [
    "#### Вывод"
   ]
  },
  {
   "cell_type": "markdown",
   "id": "63bf96ce",
   "metadata": {},
   "source": [
    "* На графике видна сильная разница в количестве заказов между тестовой и контрольной группами. \n",
    "* У контрольной группы возникает резкое повышение количества покупок в районе 13-14 декабря, тогда как у тестовой группы такое резкое изменение не наблюдается и количество покупк остается относительно стабильным на всем сроке тестирования.\n",
    "* Резкое повышение активности пользователей 13-14 декабря не является аномалией контрольной группы теста рекомендаций, так как присутствует так же во втором тесте в обеих группах.\n",
    "* Влияния рекламной кампании, проводившейся с 25.12 по 3.01, не обнаружено."
   ]
  },
  {
   "cell_type": "markdown",
   "id": "5aafe3f9",
   "metadata": {},
   "source": [
    "###  Кумулятивный средний чек по группам"
   ]
  },
  {
   "cell_type": "code",
   "execution_count": 71,
   "id": "cb8b0e69",
   "metadata": {
    "scrolled": false
   },
   "outputs": [
    {
     "data": {
      "image/png": "[encoded data removed]",
      "text/plain": [
       "<Figure size 864x432 with 1 Axes>"
      ]
     },
     "metadata": {
      "needs_background": "light"
     },
     "output_type": "display_data"
    }
   ],
   "source": [
    "mean_spend_pivot.cumsum().plot()\n",
    "plt.xlabel('Дата')\n",
    "plt.ylabel('Кумулятивный средний чек')\n",
    "plt.title('Кумулятивный средний чек по группам')\n",
    "plt.show();"
   ]
  },
  {
   "cell_type": "markdown",
   "id": "fbc37e42",
   "metadata": {},
   "source": [
    "#### Вывод"
   ]
  },
  {
   "cell_type": "markdown",
   "id": "9f38c895",
   "metadata": {},
   "source": [
    "* В отличии от количества покупок, в среднем чеке нет разницы между тестовой и контрольной группами."
   ]
  },
  {
   "cell_type": "markdown",
   "id": "1e837677",
   "metadata": {},
   "source": [
    "### Стоимости заказов"
   ]
  },
  {
   "cell_type": "code",
   "execution_count": 72,
   "id": "664666dd",
   "metadata": {
    "scrolled": false
   },
   "outputs": [
    {
     "data": {
      "image/png": "[encoded data removed]",
      "text/plain": [
       "<Figure size 864x432 with 1 Axes>"
      ]
     },
     "metadata": {
      "needs_background": "light"
     },
     "output_type": "display_data"
    }
   ],
   "source": [
    "revenue_pivot.plot()\n",
    "plt.xlabel('Дата')\n",
    "plt.ylabel('Стоимости заказов')\n",
    "plt.title('Стоимости заказов по группам')\n",
    "plt.show();"
   ]
  },
  {
   "cell_type": "markdown",
   "id": "153dff26",
   "metadata": {},
   "source": [
    "#### Вывод"
   ]
  },
  {
   "cell_type": "markdown",
   "id": "9409b600",
   "metadata": {},
   "source": [
    "* Вместе с количеством заказов у контрольной группы с 13-14 декабря растет так же и суммарная выручка.\n",
    "* Есть небольшой пик в районе 21 Декабря, возможно вызванный проведением рекламной кампании. Однако в рамках всего теста это влияние незначительное."
   ]
  },
  {
   "cell_type": "markdown",
   "id": "8f39d66d",
   "metadata": {},
   "source": [
    "### Относительное изменение кумулятивного среднего чека"
   ]
  },
  {
   "cell_type": "code",
   "execution_count": 73,
   "id": "c12d3394",
   "metadata": {},
   "outputs": [
    {
     "data": {
      "image/png": "[encoded data removed]",
      "text/plain": [
       "<Figure size 864x432 with 1 Axes>"
      ]
     },
     "metadata": {
      "needs_background": "light"
     },
     "output_type": "display_data"
    }
   ],
   "source": [
    "(mean_spend_pivot['B'] / mean_spend_pivot['A'] - 1).plot()\n",
    "plt.xlabel('Дата')\n",
    "plt.ylabel('Относительное изменение ')\n",
    "plt.title('Относительное изменение кумулятивного среднего чека')\n",
    "plt.show();"
   ]
  },
  {
   "cell_type": "markdown",
   "id": "75cb58b2",
   "metadata": {},
   "source": [
    "#### Вывод"
   ]
  },
  {
   "cell_type": "markdown",
   "id": "9f58eb88",
   "metadata": {},
   "source": [
    "* Средничй чек между тестовой и контрольнйо группами отличается не сильно.\n",
    "* Заметен только один выброс в районе 13 декабря.\n",
    "* Есть небольшой выброс после 25 Декабря, возможно вызванный проведением рекламной кампании. "
   ]
  },
  {
   "cell_type": "markdown",
   "id": "77596e9f",
   "metadata": {},
   "source": [
    "###  Кумулятивная конверсия по группам"
   ]
  },
  {
   "cell_type": "code",
   "execution_count": 74,
   "id": "bd6f587f",
   "metadata": {},
   "outputs": [
    {
     "data": {
      "image/png": "[encoded data removed]",
      "text/plain": [
       "<Figure size 864x432 with 1 Axes>"
      ]
     },
     "metadata": {
      "needs_background": "light"
     },
     "output_type": "display_data"
    }
   ],
   "source": [
    "cum_conv = (purchases_pivot.cumsum() / logins_pivot.cumsum())\n",
    "(purchases_pivot.cumsum() / logins_pivot.cumsum()).plot()\n",
    "plt.xlabel('Дата')\n",
    "plt.ylabel('Кумулятивная конверсия')\n",
    "plt.title('Кумулятивная конверсия по группам')\n",
    "plt.show()"
   ]
  },
  {
   "cell_type": "markdown",
   "id": "19779f17",
   "metadata": {},
   "source": [
    "#### Вывод"
   ]
  },
  {
   "cell_type": "markdown",
   "id": "df11b5cd",
   "metadata": {},
   "source": [
    "* Наблюдается резкое падение кумулятивной конверсия тестовой группы за первую неделю проведения теста. Вероятно, это связано с озвученной выше проблемой нихким уровнем возвращения пользователей на сайт после регистрации.\n",
    "* После 13 декабря кумулятивная конверсия тестовой группы остается относительно стабильной.\n",
    "* У контрольной группы так же наблюдается относительно незначительное снижение конверсии в начале тестового периода.\n",
    "* После 13 декабря кумулятивная конверсия контрольной группы стабильно растет.\n",
    "* Влияние предновогодней рекламной кампании на конверсию не заметно."
   ]
  },
  {
   "cell_type": "markdown",
   "id": "4eb9cbe8",
   "metadata": {},
   "source": [
    "### Относительное изменение кумулятивной конверсии группы B к группе A"
   ]
  },
  {
   "cell_type": "code",
   "execution_count": 75,
   "id": "7b0883ee",
   "metadata": {},
   "outputs": [
    {
     "data": {
      "image/png": "[encoded data removed]",
      "text/plain": [
       "<Figure size 864x432 with 1 Axes>"
      ]
     },
     "metadata": {
      "needs_background": "light"
     },
     "output_type": "display_data"
    }
   ],
   "source": [
    "(cum_conv['B'] / cum_conv['A'] - 1).plot()\n",
    "plt.axhline(0, c='red')\n",
    "plt.xlabel('Дата')\n",
    "plt.ylabel('Относительное изменение ')\n",
    "plt.title('Относительное изменение кумулятивной конверсии группы B к группе A')\n",
    "plt.show();"
   ]
  },
  {
   "cell_type": "markdown",
   "id": "668e1d30",
   "metadata": {},
   "source": [
    "#### Вывод"
   ]
  },
  {
   "cell_type": "markdown",
   "id": "dad127c6",
   "metadata": {},
   "source": [
    "* Разница между группами с течением времени меняется с положительной на отрицательную.\n",
    "* В начале тестового периода кумулятивная конверсия тестовой группы была выше контрольной. \n",
    "* Примерно после 16 декабря кумулятивная конверсия контрольнйо группы превысила тестовую."
   ]
  },
  {
   "cell_type": "markdown",
   "id": "04a5339e",
   "metadata": {},
   "source": [
    "### Статистическая значимость"
   ]
  },
  {
   "cell_type": "markdown",
   "id": "63867d2e",
   "metadata": {},
   "source": [
    "Создадим функцию z-теста."
   ]
  },
  {
   "cell_type": "code",
   "execution_count": 76,
   "id": "3a7c1222",
   "metadata": {},
   "outputs": [],
   "source": [
    "def z_test(data, metric, alpha = .05):\n",
    "\n",
    "    conversionA = data.loc[data.group == 'A', metric].astype('int')\n",
    "    conversionB = data.loc[data.group == 'B', metric].astype('int')\n",
    "\n",
    "    successes = np.array([conversionA.sum(), conversionB.sum()])\n",
    "    trials = np.array([conversionA.count(), conversionB.count()])\n",
    "\n",
    "    # пропорция успехов в первой группе:\n",
    "    p1 = successes[0]/trials[0]\n",
    "\n",
    "    # пропорция успехов во второй группе:\n",
    "    p2 = successes[1]/trials[1]\n",
    "\n",
    "    # пропорция успехов в комбинированном датасете:\n",
    "    p_combined = (successes[0] + successes[1]) / (trials[0] + trials[1])\n",
    "\n",
    "    # разница пропорций в датасетах\n",
    "    difference = p1 - p2 \n",
    "\n",
    "    # считаем статистику в ст.отклонениях стандартного нормального распределения\n",
    "    z_value = difference / mth.sqrt(p_combined * (1 - p_combined) * (1/trials[0] + 1/trials[1]))\n",
    "\n",
    "    # задаем стандартное нормальное распределение (среднее 0, ст.отклонение 1)\n",
    "    distr = stats.norm(0, 1)  \n",
    "\n",
    "\n",
    "    # считаем статистику в ст.отклонениях стандартного нормального распределения\n",
    "    z_value = difference / mth.sqrt(\n",
    "        p_combined * (1 - p_combined) * (1 / trials[0] + 1 / trials[1])\n",
    "    )\n",
    "\n",
    "    # задаем стандартное нормальное распределение (среднее 0, ст.отклонение 1)\n",
    "    distr = stats.norm(0, 1)\n",
    "\n",
    "    p_value = (1 - distr.cdf(abs(z_value))) * 2\n",
    "\n",
    "    print('p-значение: ', p_value)\n",
    "\n",
    "    if p_value < alpha:\n",
    "        print('Отвергаем нулевую гипотезу: между долями есть значимая разница')\n",
    "    else:\n",
    "        print(\n",
    "            'Не получилось отвергнуть нулевую гипотезу, нет оснований считать доли разными'\n",
    "        ) \n",
    "\n",
    "    print('относительное изменение В к А = {0:.3f}'.format(\n",
    "        conversionB.mean() / \n",
    "        conversionA.mean() - 1))    "
   ]
  },
  {
   "cell_type": "markdown",
   "id": "a569883f",
   "metadata": {},
   "source": [
    "#### Конверсия в просмотр карточек товаров"
   ]
  },
  {
   "cell_type": "markdown",
   "id": "b7c68d78",
   "metadata": {},
   "source": [
    "$H_0$: Различий в конверсии в просмотр товаров между тестовой и контрольной группами нет\n",
    "\n",
    "$H_1$: Разница в конверсии в просмотр товаров между тестовой и контрольной группами не менее +10% в пользу тестовой группы с новой функцей."
   ]
  },
  {
   "cell_type": "markdown",
   "id": "a89d1841",
   "metadata": {},
   "source": [
    "Для пользователей с лайфтаймом от 14 дней"
   ]
  },
  {
   "cell_type": "markdown",
   "id": "57700130",
   "metadata": {},
   "source": [
    "Отсчет воронки от регистрации"
   ]
  },
  {
   "cell_type": "code",
   "execution_count": 89,
   "id": "05015bc4",
   "metadata": {
    "scrolled": true
   },
   "outputs": [
    {
     "name": "stdout",
     "output_type": "stream",
     "text": [
      "p-значение:  0.0\n",
      "Отвергаем нулевую гипотезу: между долями есть значимая разница\n",
      "относительное изменение В к А = -0.439\n"
     ]
    }
   ],
   "source": [
    "z_test(user_data_d14, 'product_page')"
   ]
  },
  {
   "cell_type": "markdown",
   "id": "0d358946",
   "metadata": {},
   "source": [
    "Отсчет воронки от логина на сайт"
   ]
  },
  {
   "cell_type": "code",
   "execution_count": 90,
   "id": "8abb99fe",
   "metadata": {
    "scrolled": true
   },
   "outputs": [
    {
     "name": "stdout",
     "output_type": "stream",
     "text": [
      "p-значение:  0.01736522155918485\n",
      "Отвергаем нулевую гипотезу: между долями есть значимая разница\n",
      "относительное изменение В к А = -0.091\n"
     ]
    }
   ],
   "source": [
    "z_test(user_data_d14.query(\"login == 1\"), 'product_page')"
   ]
  },
  {
   "cell_type": "markdown",
   "id": "71eaf9c8",
   "metadata": {},
   "source": [
    "Для пользователей с лайфтаймом от 7 дней"
   ]
  },
  {
   "cell_type": "markdown",
   "id": "b304c9c6",
   "metadata": {},
   "source": [
    "Отсчет воронки от регистрации"
   ]
  },
  {
   "cell_type": "code",
   "execution_count": 79,
   "id": "f4b9449a",
   "metadata": {
    "scrolled": true
   },
   "outputs": [
    {
     "name": "stdout",
     "output_type": "stream",
     "text": [
      "p-значение:  0.0\n",
      "Отвергаем нулевую гипотезу: между долями есть значимая разница\n",
      "относительное изменение В к А = -0.609\n"
     ]
    }
   ],
   "source": [
    "z_test(user_data_d7, 'product_page')"
   ]
  },
  {
   "cell_type": "markdown",
   "id": "ac03f0a0",
   "metadata": {},
   "source": [
    "Отсчет воронки от логина на сайт"
   ]
  },
  {
   "cell_type": "code",
   "execution_count": 80,
   "id": "6e3b2128",
   "metadata": {
    "scrolled": true
   },
   "outputs": [
    {
     "name": "stdout",
     "output_type": "stream",
     "text": [
      "p-значение:  7.31671814202528e-06\n",
      "Отвергаем нулевую гипотезу: между долями есть значимая разница\n",
      "относительное изменение В к А = -0.131\n"
     ]
    }
   ],
   "source": [
    "z_test(user_data_d7.query(\"login == 1\"), 'product_page')"
   ]
  },
  {
   "cell_type": "markdown",
   "id": "99168776",
   "metadata": {},
   "source": [
    "##### Вывод"
   ]
  },
  {
   "cell_type": "markdown",
   "id": "65e86c57",
   "metadata": {},
   "source": [
    "* Конверсия пользователей между регистрацией и просмотром товаров отличается между группами на 43% в пользу контрольной группы для пользователей с лайфтаймом 14 дней и 60% для 7 дней.\n",
    "    * Вероятность совершить ошибку при отвержении нулевой гипотезы близка к нулю.\n",
    "    * Контрольная группа показала лучшие результаты конверсии, чем тестовая группа с новой функцией рекомендаций.\n",
    "* В случае отсчета конверсии от этапа логина пользователя на сайт, разница конверсий двух групп сильно снижается и составляет 9% для пользователей с 14 дневным лайфтаймом и 13% с 7 дневным в пользу контрольной группы.\n",
    "    * Однако эта разница все еще велика и не дает оснований считать группы одинаковыми.\n",
    "* Ожидаемого улучшения конверсии при добавлении на сайт новой функции не произошло."
   ]
  },
  {
   "cell_type": "markdown",
   "id": "0e117b09",
   "metadata": {},
   "source": [
    "#### Конверсия в просмотр корзины"
   ]
  },
  {
   "cell_type": "markdown",
   "id": "bed16e8a",
   "metadata": {},
   "source": [
    "$H_0$: Различий в конверсии в просмотр корзины между тестовой и контрольной группами нет\n",
    "\n",
    "$H_1$: Разница в конверсии в просмотр корзины между тестовой и контрольной группами не менее  +10% в пользу тестовой группы с новой функцей."
   ]
  },
  {
   "cell_type": "markdown",
   "id": "cefcd0be",
   "metadata": {},
   "source": [
    "Для пользователей с лайфтаймом от 14 дней"
   ]
  },
  {
   "cell_type": "markdown",
   "id": "7ae028b8",
   "metadata": {},
   "source": [
    "Отсчет воронки от регистрации"
   ]
  },
  {
   "cell_type": "code",
   "execution_count": 81,
   "id": "d84559fb",
   "metadata": {
    "scrolled": true
   },
   "outputs": [
    {
     "name": "stdout",
     "output_type": "stream",
     "text": [
      "p-значение:  8.22533152700089e-11\n",
      "Отвергаем нулевую гипотезу: между долями есть значимая разница\n",
      "относительное изменение В к А = -0.422\n"
     ]
    }
   ],
   "source": [
    "z_test(user_data_d14, 'product_cart')"
   ]
  },
  {
   "cell_type": "markdown",
   "id": "1df2cad1",
   "metadata": {},
   "source": [
    "Отсчет воронки от логина на сайт"
   ]
  },
  {
   "cell_type": "code",
   "execution_count": 82,
   "id": "fb9074e5",
   "metadata": {
    "scrolled": false
   },
   "outputs": [
    {
     "name": "stdout",
     "output_type": "stream",
     "text": [
      "p-значение:  0.39503207429426856\n",
      "Не получилось отвергнуть нулевую гипотезу, нет оснований считать доли разными\n",
      "относительное изменение В к А = -0.064\n"
     ]
    }
   ],
   "source": [
    "z_test(user_data_d14.query(\"login == 1\"), 'product_cart')"
   ]
  },
  {
   "cell_type": "markdown",
   "id": "319bd017",
   "metadata": {},
   "source": [
    "Для пользователей с лайфтаймом от 7 дней"
   ]
  },
  {
   "cell_type": "markdown",
   "id": "8dadff49",
   "metadata": {},
   "source": [
    "Отсчет воронки от регистрации"
   ]
  },
  {
   "cell_type": "code",
   "execution_count": 83,
   "id": "2ba59ccd",
   "metadata": {
    "scrolled": false
   },
   "outputs": [
    {
     "name": "stdout",
     "output_type": "stream",
     "text": [
      "p-значение:  0.0\n",
      "Отвергаем нулевую гипотезу: между долями есть значимая разница\n",
      "относительное изменение В к А = -0.583\n"
     ]
    }
   ],
   "source": [
    "z_test(user_data_d7, 'product_cart')"
   ]
  },
  {
   "cell_type": "markdown",
   "id": "6139e69a",
   "metadata": {},
   "source": [
    "Отсчет воронки от логина на сайт"
   ]
  },
  {
   "cell_type": "code",
   "execution_count": 84,
   "id": "783dec3e",
   "metadata": {
    "scrolled": false
   },
   "outputs": [
    {
     "name": "stdout",
     "output_type": "stream",
     "text": [
      "p-значение:  0.22866282948887662\n",
      "Не получилось отвергнуть нулевую гипотезу, нет оснований считать доли разными\n",
      "относительное изменение В к А = -0.071\n"
     ]
    }
   ],
   "source": [
    "z_test(user_data_d7.query(\"login == 1\"), 'product_cart')"
   ]
  },
  {
   "cell_type": "markdown",
   "id": "1cfdae5e",
   "metadata": {},
   "source": [
    "##### Вывод"
   ]
  },
  {
   "cell_type": "markdown",
   "id": "fe19716a",
   "metadata": {},
   "source": [
    "* Конверсия от регистрации до просмотра корзины отличается между группами в пользу контрольной на 42% для пользователей с лайфтаймом 14 дней и 58% для 7 дней. \n",
    "    * В таком случае, при отвержении нулевой гипотезы, шанс совершить ошибку стремится к нулю.\n",
    "    * Следовательно контрольная группа показала лучшие результаты, чем группа с новой функцией рекомендаций.\n",
    "* При принятии стадии логина за начальную точку разница в конверсии сильно уменьшается. \n",
    "    * Конверсия контрольной группы всего на 6.4% выше тестовой для пользователей с лайфтаймом 14 днй и 7.1% для 7 дней.\n",
    "    * В данном случае разница между группами незначительная и нет оснований отвергать нулевую гипотезу.\n",
    "    * Это дает основания полагать, что новая функция рекомендаций оказала отрицательное влияние на пользователей на стадии между регистрацией и логином. На дальшнйших этапах ее влияние не значительно."
   ]
  },
  {
   "cell_type": "markdown",
   "id": "c1ce2f75",
   "metadata": {},
   "source": [
    "#### Конверсия в покупки"
   ]
  },
  {
   "cell_type": "markdown",
   "id": "63cc80fa",
   "metadata": {},
   "source": [
    "$H_0$: Различий в конверсии в покупки между тестовой и контрольной группами нет\n",
    "\n",
    "$H_1$: Разница в конверсии в покупки между тестовой и контрольной группами не менее  +10% в пользу тестовой группы с новой функцей."
   ]
  },
  {
   "cell_type": "markdown",
   "id": "9d0aa5c3",
   "metadata": {},
   "source": [
    "Для пользователей с лайфтаймом от 14 дней"
   ]
  },
  {
   "cell_type": "markdown",
   "id": "8b35c2b9",
   "metadata": {},
   "source": [
    "Отсчет воронки от регистрации"
   ]
  },
  {
   "cell_type": "code",
   "execution_count": 85,
   "id": "d3ea2b5d",
   "metadata": {
    "scrolled": false
   },
   "outputs": [
    {
     "name": "stdout",
     "output_type": "stream",
     "text": [
      "p-значение:  8.83967343767722e-10\n",
      "Отвергаем нулевую гипотезу: между долями есть значимая разница\n",
      "относительное изменение В к А = -0.402\n"
     ]
    }
   ],
   "source": [
    "z_test(user_data_d14, 'purchase')"
   ]
  },
  {
   "cell_type": "markdown",
   "id": "df0e47c8",
   "metadata": {},
   "source": [
    "Отсчет воронки от логина на сайт"
   ]
  },
  {
   "cell_type": "code",
   "execution_count": 86,
   "id": "55240dc8",
   "metadata": {
    "scrolled": true
   },
   "outputs": [
    {
     "name": "stdout",
     "output_type": "stream",
     "text": [
      "p-значение:  0.6222750186056665\n",
      "Не получилось отвергнуть нулевую гипотезу, нет оснований считать доли разными\n",
      "относительное изменение В к А = -0.037\n"
     ]
    }
   ],
   "source": [
    "z_test(user_data_d14.query(\"login == 1\"), 'purchase')"
   ]
  },
  {
   "cell_type": "markdown",
   "id": "76b6e551",
   "metadata": {},
   "source": [
    "Для пользователей с лайфтаймом от 7 дней"
   ]
  },
  {
   "cell_type": "markdown",
   "id": "ce2ca50c",
   "metadata": {},
   "source": [
    "Отсчет воронки от регистрации"
   ]
  },
  {
   "cell_type": "code",
   "execution_count": 87,
   "id": "83debbeb",
   "metadata": {
    "scrolled": true
   },
   "outputs": [
    {
     "name": "stdout",
     "output_type": "stream",
     "text": [
      "p-значение:  0.0\n",
      "Отвергаем нулевую гипотезу: между долями есть значимая разница\n",
      "относительное изменение В к А = -0.600\n"
     ]
    }
   ],
   "source": [
    "z_test(user_data_d7, 'purchase')"
   ]
  },
  {
   "cell_type": "markdown",
   "id": "8e7dc035",
   "metadata": {},
   "source": [
    "Отсчет воронки от логина на сайт"
   ]
  },
  {
   "cell_type": "code",
   "execution_count": 88,
   "id": "2b0d99f0",
   "metadata": {
    "scrolled": false
   },
   "outputs": [
    {
     "name": "stdout",
     "output_type": "stream",
     "text": [
      "p-значение:  0.04375780525660189\n",
      "Отвергаем нулевую гипотезу: между долями есть значимая разница\n",
      "относительное изменение В к А = -0.114\n"
     ]
    }
   ],
   "source": [
    "z_test(user_data_d7.query(\"login == 1\"), 'purchase')"
   ]
  },
  {
   "cell_type": "markdown",
   "id": "4da386d4",
   "metadata": {},
   "source": [
    "##### Вывод"
   ]
  },
  {
   "cell_type": "markdown",
   "id": "c50397bf",
   "metadata": {},
   "source": [
    "* Конверсия регистраций в покупки на 40% выше у контрольной группы пользователей с лайфтаймом 14 дней и на 60% с лайфтаймом 7 дней.\n",
    "    * Нет оснований считать тестовую и контрольную группы одинаковыми.\n",
    "* В случае отсчета конверсии от этапа логина, для пользователей с лайфтаймом 14 дней новая функция не оказала существенного влияния на конверсию регистраций в покупки.\n",
    "    * Контрольной группы пользователей всего на 3% выше тестовой. Такая разница не является значимой. Нет оснований отвергать нулевую гипотезу.\n",
    "    * Тогда как у пользователей с лайфтаймом 7 дней разница оказалась немного больше — 11% в пользу контрольной группы.\n",
    "* Введение новой функции на сайт не показало улучшений конверсии регистраций в покупки."
   ]
  },
  {
   "cell_type": "markdown",
   "id": "4e867c6f",
   "metadata": {},
   "source": [
    "## Общий вывод"
   ]
  },
  {
   "cell_type": "markdown",
   "id": "a172238d",
   "metadata": {},
   "source": [
    "1. В ходе подготовки к анализу были выполнены следующие шаги:\n",
    "    *  Из полученных данных были извлечены записи пользователей и событий об интересующем нас тесте новой функции рекомендаций.\n",
    "    *  Также были отфильтрованы участники теста, не относящиеся к региону EU, указанному в ТЗ.\n",
    "    *  Проверено, что каждый пользователь входит только в одну группу.\n",
    "    *  Было обнаружено, что записи действий пользователей обрываются 30 Декабря, почти на неделю раньше запланированного срока — 4 Января.\n",
    "        * В связи с чем не все пользователи имели запланированный горизонт событий в 14 дней.\n",
    "        * Для решения этой проблемы метрики были посчитаны дважды — для пользователей с горизонтом событий в 7 и в 14 дней.\n",
    "    *  Некоторые пользователи были так же участниками второго А/В теста:\n",
    "        * 74% пользователей из тестовой и контрольной групп теста рекомендаций не принимали участие в других тестах.\n",
    "        * 26% пользователей участвовали так же в другом тесте. Но распределение участников контрольной и тестовой групп обоих тестов равномерно, значит влияние второго теста на обе группы одинаково.\n",
    "    * Также на конец периода тестирования попала предновогодняя рекламная кампания:\n",
    "        * Период проведения: с 25 Декабря по 3 Января. \n",
    "        * Можно полагать, что акция незначительно повлияла на средний чек.\n",
    "        * Влияния рекламной акции на конверсии не обнаружено.\n",
    "    * Для каждой выборки были составлены таблицы с целевыми и кумулятивными метриками по дням для дальнейшего анализа.\n",
    "      \n",
    "      \n",
    "      \n",
    "2. В рамках предварительного анализа было выделено следующее:\n",
    "    *  Количество новых пользователей, принявших участие в тестировании — 6701, из них:\n",
    "        * В контрольной группе — 3824\n",
    "        * В тестовой — 2877\n",
    "        * только 3675 зарегистрировавшихся пользователей потом заходили на сайт и совершали какие-либо действия. \n",
    "        * Наибольшая часть потарявшихся после регистрации пользователей относится к тестовой группе. Что дает основания предполагать негативное влияние новой функци рекомендаций — возможно им не приходит письмо с подтверждением регистрации и они забывают про наш сайт, либо на сайте с новым интерфейсом есть баг с логином новых пользователей. *Нужно сообщить об этом команде разработки.*\n",
    "        * В связи с данной проблемой метрики были посчитаны для двух случаев — в качестве точки отсчета были взяты как регистрация, так и логин на сайт.\n",
    "    *  В среднем в контрольной группе 7 событий на пользователя, тогда как в тестовой их 5.8\n",
    "    * Пользователи тестовой группы в среднем в день совершают 213 действий, тогда как в контрольной группе около 769 действий в день.\n",
    "    * Активность пользователей из контрольной группы растет после 13 Декабря и достигает своего пика 20 Декабря.\n",
    "       \n",
    "       \n",
    "       \n",
    "3. Анализ результатов А/В теста показал:\n",
    "    * Обнаруженное резкое повышение количества покупок у контрольной группы в районе 13-14 декабря не является аномалией контрольной группы теста рекомендаций, так как присутствует так же во втором тесте в обеих группах.\n",
    "    * У тестовой группы такое резкое изменение не наблюдается и количество покупк остается относительно стабильным на всем сроке тестирования.\n",
    "    * В отличии от количества покупок в среднем чеке нет разницы между тестовой и контрольной группами.\n",
    "    * Вместе с количеством заказов у контрольной группы с 13-14 декабря растет так же и суммарная выручка, чего не наблюдается у тестовой группы.\n",
    "    * Есть небольшой выброс стоимости заказов у контрольной группы в районе 25 Декабря, возможно вызванный проведением рекламной кампании. Однако в рамках всего теста это влияние незначительное.\n",
    "    * Средний чек между тестовой и контрольной группами отличается не сильно.\n",
    "        * Заметен только один выброс в районе 13 декабря.\n",
    "        * Есть небольшой выброс после 25 Декабря, возможно вызванный проведением рекламной кампании.                  \n",
    "         \n",
    "         \n",
    "* **Анализ конверсии регистраций в просмотры товаров:**\n",
    "    * Ожидаемого улучшения конверсии при добавлении на сайт новой функции не произошло.\n",
    "    * Конверсия пользователей отличается между группами на 43% в пользу контрольной группы для пользователей с лайфтаймом 14 дней и 60% для 7 дней.\n",
    "        * Контрольная группа показала лучшие результаты конверсии, чем тестовая группа с новой функцией рекомендаций.\n",
    "    * В случае отсчета конверсии от этапа логина пользователя на сайт, разница конверсий двух групп сильно снижается и составляет 9% для пользователей с 14 дневным лайфтаймом и 13% с 7 дневным в пользу контрольной группы.        \n",
    "    \n",
    "    \n",
    "* **Анализ конверсии регистраций в просмотры корзины:**\n",
    "    * Новая функция рекомендаций оказала отрицательное влияние на пользователей на стадии между регистрацией и логином. На дальшнйших этапах ее влияние незначительно.\n",
    "    * Конверсия от регистрации до просмотра корзины отличается между группами в пользу контрольной на 42% для пользователей с лайфтаймом 14 дней и 58% для 7 дней. \n",
    "        * Следовательно контрольная группа показала лучшие результаты, чем группа с новой функцией рекомендаций.\n",
    "    * При принятии стадии логина за начальную точку разница в конверсии сильно уменьшается.\n",
    "        * Конверсия контрольной группы всего на 6.4% выше тестовой для пользователей с лайфтаймом 14 днй и 7.1% для 7 дней.            \n",
    "        \n",
    "        \n",
    "* **Анализ конверсии регистраций в покупки:**\n",
    "    * Конверсия на 40% выше у контрольной группы пользователей с лайфтаймом 14 дней и на 60% с лайфтаймом 7 дней.\n",
    "    * Возможно, критически низкий уровень продаж в предрождественский период в тестовой группе послужил причиной остановки А/В теста на неделю раньше запланированного.\n",
    "    * В случае отсчета конверсии от этапа логина, для пользователей с лайфтаймом 14 дней новая функция не оказала существенного влияния на конверсию регистраций в покупки.\n",
    "        * Контрольной группы пользователей всего на 3% выше тестовой. Такая разница не является значимой.\n",
    "        * Тогда как у пользователей с лайфтаймом 7 дней разница оказалась немного больше — 11% в пользу контрольной группы.\n",
    "    * Введение новой функции на сайт не показало улучшений конверсии регистраций в покупки.\n",
    "\n",
    "\n",
    "**Итог**      \n",
    "* Анализ А/В показал, что внедрение новой функции рекомендации сказалось на поведении пользователей резко негативно. Вероятно, это было замечено еще в процессе проведения теста, в связи с чем он был остановлен раньше запланированного окончания.     \n",
    "* В случае решения о доработке функции рекомендаций Отделу разработки стоит особенно обратить внимание на проблему низкой концерсии регистраций в логины. "
   ]
  },
  {
   "cell_type": "code",
   "execution_count": null,
   "id": "ade63475",
   "metadata": {},
   "outputs": [],
   "source": []
  }
 ],
 "metadata": {
  "kernelspec": {
   "display_name": "Python 3 (ipykernel)",
   "language": "python",
   "name": "python3"
  },
  "language_info": {
   "codemirror_mode": {
    "name": "ipython",
    "version": 3
   },
   "file_extension": ".py",
   "mimetype": "text/x-python",
   "name": "python",
   "nbconvert_exporter": "python",
   "pygments_lexer": "ipython3",
   "version": "3.9.12"
  },
  "toc": {
   "base_numbering": 1,
   "nav_menu": {},
   "number_sections": true,
   "sideBar": true,
   "skip_h1_title": true,
   "title_cell": "Table of Contents",
   "title_sidebar": "Contents",
   "toc_cell": false,
   "toc_position": {
    "height": "calc(100% - 180px)",
    "left": "10px",
    "top": "150px",
    "width": "239.358px"
   },
   "toc_section_display": true,
   "toc_window_display": true
  }
 },
 "nbformat": 4,
 "nbformat_minor": 5
}
