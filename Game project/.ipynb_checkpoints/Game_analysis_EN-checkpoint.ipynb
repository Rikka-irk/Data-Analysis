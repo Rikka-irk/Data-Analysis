{
 "cells": [
  {
   "cell_type": "markdown",
   "metadata": {},
   "source": [
    "# User behavior analysis"
   ]
  },
  {
   "cell_type": "markdown",
   "metadata": {},
   "source": [
    "**Goal**   \n",
    "Determine the players behavior in the game \"Space brothers\" and the correlation between this behavior and the sources of user engagement in order to plan and optimize an advertising campaign."
   ]
  },
  {
   "cell_type": "markdown",
   "metadata": {},
   "source": [
    "**Plan**   \n",
    "1. Review and descriptive analysis\n",
    "1. Data preprocessing\n",
    "1. Data augmentation\n",
    "1. User portraits\n",
    "1. Hypothesis verification \n",
    "1. Conclusion\n",
    "1. Dashboards\n",
    "1. Presentation of the results"
   ]
  },
  {
   "cell_type": "markdown",
   "metadata": {},
   "source": [
    "## Attached content"
   ]
  },
  {
   "cell_type": "markdown",
   "metadata": {},
   "source": [
    "**[Presentation](https://disk.yandex.ru/i/QKC10xkoieum_w)**"
   ]
  },
  {
   "cell_type": "markdown",
   "metadata": {},
   "source": [
    "## Data review"
   ]
  },
  {
   "cell_type": "markdown",
   "metadata": {},
   "source": [
    "Importing necessary libraries"
   ]
  },
  {
   "cell_type": "code",
   "execution_count": 254,
   "metadata": {},
   "outputs": [],
   "source": [
    "import pandas as pd\n",
    "import seaborn as sns\n",
    "import matplotlib.pyplot as plt\n",
    "from scipy import stats as st\n",
    "import numpy as np\n",
    "import math as mth"
   ]
  },
  {
   "cell_type": "markdown",
   "metadata": {},
   "source": [
    "Reading data from the file"
   ]
  },
  {
   "cell_type": "code",
   "execution_count": null,
   "metadata": {
    "scrolled": true
   },
   "outputs": [],
   "source": [
    "try: \n",
    "    ad_costs = pd.read_csv('https://raw.githubusercontent.com/Rikka-irk/Data-Analysis/main/Game%20project/ad_costs.csv')\n",
    "    game_actions = pd.read_csv('https://raw.githubusercontent.com/Rikka-irk/Data-Analysis/main/Game%20project/game_actions.csv')\n",
    "    user_source = pd.read_csv('https://raw.githubusercontent.com/Rikka-irk/Data-Analysis/main/Game%20project/user_source.csv')\n",
    "    \n",
    "except: \n",
    "    print('File reading error. Check the URLs')"
   ]
  },
  {
   "cell_type": "markdown",
   "metadata": {},
   "source": [
    "### Describing the data"
   ]
  },
  {
   "cell_type": "markdown",
   "metadata": {},
   "source": [
    "**Advertising costs**"
   ]
  },
  {
   "cell_type": "markdown",
   "metadata": {},
   "source": [
    "- `day` - the day when user clicked on the ad\n",
    "- `source` - the source of traffic\n",
    "- `cost` - cost of the clicks"
   ]
  },
  {
   "cell_type": "code",
   "execution_count": null,
   "metadata": {
    "scrolled": true
   },
   "outputs": [],
   "source": [
    "ad_costs.sample(10).sort_values('day')"
   ]
  },
  {
   "cell_type": "code",
   "execution_count": null,
   "metadata": {},
   "outputs": [],
   "source": [
    "ad_costs.info()"
   ]
  },
  {
   "cell_type": "markdown",
   "metadata": {},
   "source": [
    "**Players actions in the game**"
   ]
  },
  {
   "cell_type": "markdown",
   "metadata": {},
   "source": [
    "- `event_datetime` — the time of an action\n",
    "- `event` — one of the three actions:\n",
    "    - `building` — an object was built\n",
    "    - `finished_stage_1` — the first level completed\n",
    "    - `project` — a project completed\n",
    "- `building_type` — one of the three buildings:\n",
    "    - `assembly_shop` — an assembly shop\n",
    "    - `spaceport` — a spaceport\n",
    "    - `research_center` — a research centre\n",
    "- `user_id` — user Identifier\n",
    "- `project_type` — the type of the completed project"
   ]
  },
  {
   "cell_type": "code",
   "execution_count": null,
   "metadata": {
    "scrolled": true
   },
   "outputs": [],
   "source": [
    "game_actions.sample(10).sort_values('event_datetime')"
   ]
  },
  {
   "cell_type": "code",
   "execution_count": null,
   "metadata": {
    "scrolled": false
   },
   "outputs": [],
   "source": [
    "game_actions.info()"
   ]
  },
  {
   "cell_type": "code",
   "execution_count": null,
   "metadata": {},
   "outputs": [],
   "source": [
    "print('Event types')\n",
    "display(game_actions.event.unique().tolist())"
   ]
  },
  {
   "cell_type": "code",
   "execution_count": null,
   "metadata": {},
   "outputs": [],
   "source": [
    "print('Building types')\n",
    "display(game_actions.building_type.unique().tolist())"
   ]
  },
  {
   "cell_type": "code",
   "execution_count": null,
   "metadata": {},
   "outputs": [],
   "source": [
    "print('Project types')\n",
    "display(game_actions.project_type.unique().tolist())"
   ]
  },
  {
   "cell_type": "markdown",
   "metadata": {},
   "source": [
    "**Players by sources**"
   ]
  },
  {
   "cell_type": "markdown",
   "metadata": {},
   "source": [
    "- `user_id` - player identifier\n",
    "- `source` - traffic source of a player"
   ]
  },
  {
   "cell_type": "code",
   "execution_count": null,
   "metadata": {
    "scrolled": true
   },
   "outputs": [],
   "source": [
    "user_source.sample(10)"
   ]
  },
  {
   "cell_type": "code",
   "execution_count": null,
   "metadata": {
    "scrolled": true
   },
   "outputs": [],
   "source": [
    "user_source.info()"
   ]
  },
  {
   "cell_type": "markdown",
   "metadata": {},
   "source": [
    "Let's see the time frame of the data"
   ]
  },
  {
   "cell_type": "code",
   "execution_count": null,
   "metadata": {},
   "outputs": [],
   "source": [
    "print('Events'+' \\n'\n",
    "      +'Start date: '+ game_actions.event_datetime.min()+' \\n' \n",
    "      + 'End date: '+ game_actions.event_datetime.max())"
   ]
  },
  {
   "cell_type": "code",
   "execution_count": null,
   "metadata": {
    "scrolled": true
   },
   "outputs": [],
   "source": [
    "print('Advertising costs'+' \\n'\n",
    "      +'Start date: '+ ad_costs.day.min()+' \\n' \n",
    "      + 'End date: '+ ad_costs.day.max())"
   ]
  },
  {
   "cell_type": "code",
   "execution_count": null,
   "metadata": {},
   "outputs": [],
   "source": [
    "print('Traffic sources')\n",
    "display(user_source.source.unique().tolist())"
   ]
  },
  {
   "cell_type": "markdown",
   "metadata": {},
   "source": [
    "### Conclusion"
   ]
  },
  {
   "cell_type": "markdown",
   "metadata": {},
   "source": [
    "* The table `game_actions` has many missing values. At first glance, this may be due to the game mechanics. Will check it further.\n",
    "* At this point we can say that we have enough data for the analysis and the hypothesis verification.\n",
    "* A summary information about players, their activity and playing style should be written in an additional data frame.\n",
    "* Promotion campaign dates: 03 - 09 May 2020.\n",
    "* First game sessions time frame: 04 - 10 May 2020.\n",
    "* Game activity time frame: 04 May - 05 June 2020.\n",
    "* Traffic source of a player: \n",
    "    * Facebook ads \n",
    "    * Yandex Direct\n",
    "    * YouTube Channel\n",
    "    * Instagram Adverts.\n",
    "    "
   ]
  },
  {
   "cell_type": "markdown",
   "metadata": {},
   "source": [
    "## Data preprocessing"
   ]
  },
  {
   "cell_type": "markdown",
   "metadata": {},
   "source": [
    "### Filling missing values"
   ]
  },
  {
   "cell_type": "markdown",
   "metadata": {},
   "source": [
    "Let's see how many missing values are in the table `game_actions`.    \n",
    "\n",
    "Because there are records of the different types of the events we need to display them separately. "
   ]
  },
  {
   "cell_type": "code",
   "execution_count": null,
   "metadata": {},
   "outputs": [],
   "source": [
    "game_actions.query('event == \"building\" ').info()"
   ]
  },
  {
   "cell_type": "code",
   "execution_count": null,
   "metadata": {},
   "outputs": [],
   "source": [
    "game_actions.query('event == \"finished_stage_1\" ').info()"
   ]
  },
  {
   "cell_type": "code",
   "execution_count": null,
   "metadata": {},
   "outputs": [],
   "source": [
    "game_actions.query('event == \"project\" ').info()"
   ]
  },
  {
   "cell_type": "markdown",
   "metadata": {},
   "source": [
    "The amount of events corresponds the data description."
   ]
  },
  {
   "cell_type": "markdown",
   "metadata": {},
   "source": [
    "### Data types correction"
   ]
  },
  {
   "cell_type": "markdown",
   "metadata": {},
   "source": [
    "Displaying the data types in the table `game_actions`"
   ]
  },
  {
   "cell_type": "code",
   "execution_count": null,
   "metadata": {},
   "outputs": [],
   "source": [
    "game_actions.info()"
   ]
  },
  {
   "cell_type": "markdown",
   "metadata": {},
   "source": [
    "Changing the dates to the corresponding type `datetime64` in the table `game_actions`."
   ]
  },
  {
   "cell_type": "code",
   "execution_count": null,
   "metadata": {},
   "outputs": [],
   "source": [
    "game_actions['event_datetime'] = pd.to_datetime(game_actions['event_datetime'])\n",
    "print(game_actions.info())"
   ]
  },
  {
   "cell_type": "markdown",
   "metadata": {},
   "source": [
    "Doing the same action with the table `ad_costs`."
   ]
  },
  {
   "cell_type": "code",
   "execution_count": null,
   "metadata": {},
   "outputs": [],
   "source": [
    "ad_costs['day'] = pd.to_datetime(ad_costs['day'])\n",
    "print(ad_costs.info())"
   ]
  },
  {
   "cell_type": "markdown",
   "metadata": {},
   "source": [
    "### Checking data for anomalies"
   ]
  },
  {
   "cell_type": "markdown",
   "metadata": {},
   "source": [
    "Displaying percentiles of the user acquisition cost to detect outliers."
   ]
  },
  {
   "cell_type": "code",
   "execution_count": null,
   "metadata": {},
   "outputs": [],
   "source": [
    "ad_costs.describe(percentiles= [.10,.25,.50,.75,.85,.90,.95,.99])"
   ]
  },
  {
   "cell_type": "markdown",
   "metadata": {},
   "source": [
    "Verifying whether the ids in the tables `game_actions` and `user_source` match."
   ]
  },
  {
   "cell_type": "code",
   "execution_count": null,
   "metadata": {},
   "outputs": [],
   "source": [
    "game_actions['user_id'].isin(user_source['user_id']).value_counts()"
   ]
  },
  {
   "cell_type": "markdown",
   "metadata": {},
   "source": [
    "**Conclusion:** \n",
    "No anomalies were detected."
   ]
  },
  {
   "cell_type": "markdown",
   "metadata": {},
   "source": [
    "### Duplicates processing"
   ]
  },
  {
   "cell_type": "markdown",
   "metadata": {},
   "source": [
    "Displaying the amount of duplicates."
   ]
  },
  {
   "cell_type": "code",
   "execution_count": null,
   "metadata": {},
   "outputs": [],
   "source": [
    "game_actions.duplicated().value_counts()"
   ]
  },
  {
   "cell_type": "markdown",
   "metadata": {},
   "source": [
    "Finding that duplicated record."
   ]
  },
  {
   "cell_type": "code",
   "execution_count": null,
   "metadata": {
    "scrolled": true
   },
   "outputs": [],
   "source": [
    "dup_id = game_actions.duplicated().sort_values().tail(1).index\n",
    "display(dup_id)"
   ]
  },
  {
   "cell_type": "code",
   "execution_count": null,
   "metadata": {
    "scrolled": false
   },
   "outputs": [],
   "source": [
    "game_actions.iloc[dup_id]"
   ]
  },
  {
   "cell_type": "code",
   "execution_count": null,
   "metadata": {},
   "outputs": [],
   "source": [
    "dup_user_id = game_actions.iloc[dup_id]['user_id']\n",
    "dup_user_id = dup_user_id.values\n",
    "display(dup_user_id)"
   ]
  },
  {
   "cell_type": "code",
   "execution_count": null,
   "metadata": {
    "scrolled": false
   },
   "outputs": [],
   "source": [
    "#game_actions.loc[game_actions['user_id']==dup_user_id]#['user_id']\n",
    "game_actions.query('user_id == @dup_user_id[0]') #.sort_values('event_datetime')"
   ]
  },
  {
   "cell_type": "markdown",
   "metadata": {},
   "source": [
    "Dropping the duplicate and verifying the result"
   ]
  },
  {
   "cell_type": "code",
   "execution_count": null,
   "metadata": {},
   "outputs": [],
   "source": [
    "game_actions = game_actions.drop_duplicates()"
   ]
  },
  {
   "cell_type": "code",
   "execution_count": null,
   "metadata": {},
   "outputs": [],
   "source": [
    "game_actions.duplicated().value_counts()"
   ]
  },
  {
   "cell_type": "markdown",
   "metadata": {},
   "source": [
    "Checking the duplicates appearance in the other tables.    \n",
    "Let's also the presence of the duplicated `user_id` in the `user_source` table."
   ]
  },
  {
   "cell_type": "code",
   "execution_count": null,
   "metadata": {},
   "outputs": [],
   "source": [
    "ad_costs.duplicated().value_counts()"
   ]
  },
  {
   "cell_type": "code",
   "execution_count": null,
   "metadata": {
    "scrolled": false
   },
   "outputs": [],
   "source": [
    "user_source.duplicated().value_counts()"
   ]
  },
  {
   "cell_type": "code",
   "execution_count": null,
   "metadata": {},
   "outputs": [],
   "source": [
    "user_source['user_id'].duplicated().value_counts()"
   ]
  },
  {
   "cell_type": "markdown",
   "metadata": {},
   "source": [
    "### Creating additional dataframes"
   ]
  },
  {
   "cell_type": "markdown",
   "metadata": {},
   "source": [
    "Copying the `source` table into a new `users` table."
   ]
  },
  {
   "cell_type": "code",
   "execution_count": null,
   "metadata": {},
   "outputs": [],
   "source": [
    "users = user_source.copy().set_index('user_id')\n",
    "display(users.head(10))"
   ]
  },
  {
   "cell_type": "markdown",
   "metadata": {},
   "source": [
    "### Conclusion"
   ]
  },
  {
   "cell_type": "markdown",
   "metadata": {},
   "source": [
    "During the data preprocessing stage the following steps have been done:\n",
    "- Checked the presence of the missing values\n",
    "- Duplicates were deleted\n",
    "- The data is converted to the proper types\n",
    "- Created an additional dataframe containing the list of the users (for the further calculations)"
   ]
  },
  {
   "cell_type": "markdown",
   "metadata": {},
   "source": [
    "## Additional calculations"
   ]
  },
  {
   "cell_type": "markdown",
   "metadata": {},
   "source": [
    "Filling the `users` dataframe with the data about each user:"
   ]
  },
  {
   "cell_type": "markdown",
   "metadata": {},
   "source": [
    "### Overall time spent in the game (in days)"
   ]
  },
  {
   "cell_type": "code",
   "execution_count": null,
   "metadata": {},
   "outputs": [],
   "source": [
    "time_spent = game_actions.groupby('user_id')['event_datetime'].agg([min, max] )\n",
    "time_spent['time'] = (time_spent['max'] - time_spent['min']).dt.days\n",
    "users = users.join(time_spent['time'], how = 'left')\n"
   ]
  },
  {
   "cell_type": "code",
   "execution_count": null,
   "metadata": {},
   "outputs": [],
   "source": [
    "display(users.sort_values('time').sample(15))"
   ]
  },
  {
   "cell_type": "markdown",
   "metadata": {},
   "source": [
    "### Time spent before moving to the next level"
   ]
  },
  {
   "cell_type": "markdown",
   "metadata": {},
   "source": [
    "Selecting the first record and the record about level completion for each user in the table. Then finding the difference (in days). This is the time spent before moving to the next level for users who have completed the first level."
   ]
  },
  {
   "cell_type": "code",
   "execution_count": null,
   "metadata": {},
   "outputs": [],
   "source": [
    "#finished_stage_1\n",
    "time_spent = game_actions.groupby('user_id')['event_datetime'].agg([min] )\n",
    "time_spent['finish'] = game_actions\\\n",
    "                        .query(\"event == 'finished_stage_1'\")\\\n",
    "                        .groupby('user_id')['event_datetime']\\\n",
    "                        .agg([min] )\n",
    "\n",
    "time_spent['fin_level_time'] = (time_spent['finish'] - time_spent['min']).dt.days\n",
    "display(time_spent.sample(10))"
   ]
  },
  {
   "cell_type": "markdown",
   "metadata": {},
   "source": [
    "Adding the last event record for each user in order to find users who have not completed the first level."
   ]
  },
  {
   "cell_type": "code",
   "execution_count": null,
   "metadata": {},
   "outputs": [],
   "source": [
    "time_spent['last_event'] = game_actions.groupby('user_id')['event_datetime'].agg(max )"
   ]
  },
  {
   "cell_type": "markdown",
   "metadata": {},
   "source": [
    "Merging the obtained data with the `users` table."
   ]
  },
  {
   "cell_type": "code",
   "execution_count": null,
   "metadata": {
    "scrolled": true
   },
   "outputs": [],
   "source": [
    "users = users.join(time_spent, how = 'left')\n",
    "display(users.sample(10))"
   ]
  },
  {
   "cell_type": "markdown",
   "metadata": {},
   "source": [
    "### Amount of the buildings before moving to the next level"
   ]
  },
  {
   "cell_type": "markdown",
   "metadata": {},
   "source": [
    "Let's calculate the amount of the completed buildings for each user according to the recorder events and add this information into the `users` table."
   ]
  },
  {
   "cell_type": "code",
   "execution_count": null,
   "metadata": {},
   "outputs": [],
   "source": [
    "building = game_actions.query(\"event == 'building'\").groupby('user_id')['event'].agg('count')\n"
   ]
  },
  {
   "cell_type": "code",
   "execution_count": null,
   "metadata": {},
   "outputs": [],
   "source": [
    "users['buildings'] = building\n",
    "display(users.sample(10))"
   ]
  },
  {
   "cell_type": "markdown",
   "metadata": {},
   "source": [
    "### Type of the first level completing"
   ]
  },
  {
   "cell_type": "markdown",
   "metadata": {},
   "source": [
    "Setting the flag `project` for all users who has finished the satellite orbital assembling project."
   ]
  },
  {
   "cell_type": "code",
   "execution_count": null,
   "metadata": {
    "scrolled": false
   },
   "outputs": [],
   "source": [
    "users['project'] = game_actions\\\n",
    "                    .query(\"project_type == 'satellite_orbital_assembly'\")\\\n",
    "                    .groupby('user_id')['event']\\\n",
    "                    .agg('count').sort_values()\n",
    "display(users.sample(10))"
   ]
  },
  {
   "cell_type": "markdown",
   "metadata": {},
   "source": [
    "Creating a function which will determine the user's type of completing the first level."
   ]
  },
  {
   "cell_type": "code",
   "execution_count": null,
   "metadata": {},
   "outputs": [],
   "source": [
    "# if fin_level_time NaN - incompleted\n",
    "# if fin_level_time Not NaN &  project_type True - project\n",
    "# if fin_level_time Not NaN &  project_type False - fight\n",
    "\n",
    "def level_fin (x):\n",
    "    if pd.isna(x['fin_level_time']):\n",
    "        return 'incomplete'\n",
    "    else:\n",
    "        if x['project'] == 1:\n",
    "            return 'project'\n",
    "        else: \n",
    "            return 'fight'"
   ]
  },
  {
   "cell_type": "code",
   "execution_count": null,
   "metadata": {},
   "outputs": [],
   "source": [
    "users['fin_type'] = users.apply(level_fin, axis=1)\n",
    "display(users.sample(10))"
   ]
  },
  {
   "cell_type": "markdown",
   "metadata": {},
   "source": [
    "Tiding up the `users` table."
   ]
  },
  {
   "cell_type": "code",
   "execution_count": null,
   "metadata": {},
   "outputs": [],
   "source": [
    "users = users[['source','min','last_event','time','buildings','fin_type']]\n",
    "users = users.rename(columns = {'time':'days_spent', 'min':'first_event'})"
   ]
  },
  {
   "cell_type": "code",
   "execution_count": null,
   "metadata": {},
   "outputs": [],
   "source": [
    "users['first_event'] = users.first_event.dt.date\n",
    "users['last_event'] = users.last_event.dt.date\n",
    "display(users.sample(10))"
   ]
  },
  {
   "cell_type": "markdown",
   "metadata": {},
   "source": [
    "### Conclusion"
   ]
  },
  {
   "cell_type": "markdown",
   "metadata": {},
   "source": [
    "During the additional calculations  the following steps have been done:\n",
    "* The users' `id` are now set as indexes\n",
    "* `source` – traffic source\n",
    "* `first_event last_event` – dates of the first and the last user's events\n",
    "* `days_spent` – the amount of days users spent in the game\n",
    "* `buildings` – the amount of buildings created\n",
    "* `fin_type` – the way users finish the first level: \n",
    "    - `project` – the project completed, \n",
    "    - `fight` – the first enemy was killed, \n",
    "    - `incomplete` – the first level was not completed"
   ]
  },
  {
   "cell_type": "markdown",
   "metadata": {},
   "source": [
    "## Player profiles"
   ]
  },
  {
   "cell_type": "code",
   "execution_count": null,
   "metadata": {},
   "outputs": [],
   "source": [
    "print('Unique users: ',users.shape[0])"
   ]
  },
  {
   "cell_type": "markdown",
   "metadata": {},
   "source": [
    "Let's analyse and divide users into subgroups depending on their play style and the type of the first level completing."
   ]
  },
  {
   "cell_type": "markdown",
   "metadata": {},
   "source": [
    "### By traffic source"
   ]
  },
  {
   "cell_type": "markdown",
   "metadata": {},
   "source": [
    "Play style breakdown by traffic source."
   ]
  },
  {
   "cell_type": "markdown",
   "metadata": {},
   "source": [
    "#### Facebook"
   ]
  },
  {
   "cell_type": "code",
   "execution_count": null,
   "metadata": {},
   "outputs": [],
   "source": [
    "fb_users = users.query(\"source == 'facebook_ads'\")"
   ]
  },
  {
   "cell_type": "code",
   "execution_count": null,
   "metadata": {},
   "outputs": [],
   "source": [
    "fb_users.sample(10)"
   ]
  },
  {
   "cell_type": "markdown",
   "metadata": {},
   "source": [
    "Distribution users by days spent in the game."
   ]
  },
  {
   "cell_type": "code",
   "execution_count": null,
   "metadata": {
    "scrolled": false
   },
   "outputs": [],
   "source": [
    "sns.set(rc={'figure.figsize':(15,8)})\n",
    "palette ={ \"fight\": \"C0\",\"incomplete\": \"C1\", \"project\": \"C2\"}\n",
    "f = plt.figure(figsize=(15,8))\n",
    "ax = f.add_subplot(1,1,1)\n",
    "sns.histplot(data=fb_users, ax=ax, stat=\"count\", multiple=\"stack\",\n",
    "             x=\"days_spent\", kde=False,\n",
    "             palette=palette, hue=\"fin_type\",\n",
    "             element=\"bars\", legend=True, bins=30)\n",
    "plt.title('Distribution of users by days spent in game', fontsize=16)\n",
    "plt.xlabel('Days in game')\n",
    "plt.ylabel('Users');"
   ]
  },
  {
   "cell_type": "markdown",
   "metadata": {},
   "source": [
    "Distribution by the amount of completed buildings."
   ]
  },
  {
   "cell_type": "code",
   "execution_count": null,
   "metadata": {
    "scrolled": false
   },
   "outputs": [],
   "source": [
    "f = plt.figure(figsize=(12,6))\n",
    "ax = f.add_subplot(1,1,1)\n",
    "palette ={ \"fight\": \"C0\",\"incomplete\": \"C1\", \"project\": \"C2\"}\n",
    "sns.histplot(data=fb_users, ax=ax, stat=\"count\", multiple=\"stack\",\n",
    "             x=\"buildings\", kde=False,\n",
    "             palette=palette, hue=\"fin_type\",\n",
    "             element=\"bars\", legend=True, bins=20)\n",
    "plt.title('Distribution of users by completed buildings', fontsize=16)\n",
    "plt.xlabel('Buildings')\n",
    "plt.ylabel('Users');"
   ]
  },
  {
   "cell_type": "markdown",
   "metadata": {},
   "source": [
    "Scatter plot showing the amount of the completed buildings by the days spent in the game and the style of the first level completion."
   ]
  },
  {
   "cell_type": "code",
   "execution_count": null,
   "metadata": {},
   "outputs": [],
   "source": [
    "#fb_users.plot.scatter(x='days_spent', y='buildings')\n",
    "sns.set(rc={'figure.figsize':(12,12)})\n",
    "palette ={ \"fight\": \"C0\",\"incomplete\": \"C1\", \"project\": \"C2\"}\n",
    "\n",
    "sns.jointplot(data=fb_users, \n",
    "                x=\"days_spent\", \n",
    "                y=\"buildings\", \n",
    "                #hue=\"fin_type\",\n",
    "                kind='hex',\n",
    "                palette=palette, \n",
    "                height  = 12, alpha=0.3\n",
    "              )\n",
    "plt.title('Buildings amount distribution by days spent in game',  y=1.25,fontsize=16)\n",
    "plt.xlabel('Days spent')\n",
    "plt.ylabel('Buildings');"
   ]
  },
  {
   "cell_type": "markdown",
   "metadata": {},
   "source": [
    "Pie chart of users by the first level completion types."
   ]
  },
  {
   "cell_type": "code",
   "execution_count": null,
   "metadata": {},
   "outputs": [],
   "source": [
    "fb_users.groupby('fin_type')['source'].count()\\\n",
    "                                      .sort_values(ascending=False)\\\n",
    "                                      .plot.pie(colors = ['C1','C0','C2'])\n",
    "plt.title('Diagram of users by playing style', fontsize=16)\n",
    "plt.xlabel(' ')\n",
    "plt.ylabel(' ');"
   ]
  },
  {
   "cell_type": "markdown",
   "metadata": {},
   "source": [
    "Let's see how much time in game was spent by users who have not completed the first level."
   ]
  },
  {
   "cell_type": "markdown",
   "metadata": {},
   "source": [
    "<div style=\"background:#d4d6fa; color:#000; padding:10px; margin-top:10px\">\n",
    "    <p><b> Комментарий тимлида: </b></p>\n",
    "    \n",
    "Как правило, не достаточно сказать на что мы смотрим, или что за диаграмма показано. Основной интерес составляют именно выводы из графика, а не сам факт создания графика. \n",
    "</div>"
   ]
  },
  {
   "cell_type": "code",
   "execution_count": null,
   "metadata": {
    "scrolled": true
   },
   "outputs": [],
   "source": [
    "fb_users.query(\"fin_type =='incomplete'\").describe()"
   ]
  },
  {
   "cell_type": "markdown",
   "metadata": {},
   "source": [
    "The amount of days spent in the game depending on the type of the first level completion."
   ]
  },
  {
   "cell_type": "code",
   "execution_count": null,
   "metadata": {},
   "outputs": [],
   "source": [
    "fb_users.groupby('fin_type')['days_spent'].describe()"
   ]
  },
  {
   "cell_type": "markdown",
   "metadata": {},
   "source": [
    "The amount of buildings depending on the first level completion type."
   ]
  },
  {
   "cell_type": "code",
   "execution_count": null,
   "metadata": {
    "scrolled": true
   },
   "outputs": [],
   "source": [
    "fb_users.groupby('fin_type')['buildings'].describe()"
   ]
  },
  {
   "cell_type": "markdown",
   "metadata": {},
   "source": [
    "#### Instagram"
   ]
  },
  {
   "cell_type": "code",
   "execution_count": null,
   "metadata": {},
   "outputs": [],
   "source": [
    "inst_users = users.query(\"source == 'instagram_new_adverts'\")"
   ]
  },
  {
   "cell_type": "code",
   "execution_count": null,
   "metadata": {},
   "outputs": [],
   "source": [
    "inst_users.sample(10)"
   ]
  },
  {
   "cell_type": "markdown",
   "metadata": {},
   "source": [
    "Distribution of users by days spent in the game."
   ]
  },
  {
   "cell_type": "code",
   "execution_count": null,
   "metadata": {
    "scrolled": false
   },
   "outputs": [],
   "source": [
    "f = plt.figure(figsize=(15,8))\n",
    "ax = f.add_subplot(1,1,1)\n",
    "palette ={\"incomplete\": \"C1\", \"fight\": \"C0\", \"project\": \"C2\"}\n",
    "sns.histplot(data=inst_users, ax=ax, stat=\"count\", multiple=\"stack\",\n",
    "             x=\"days_spent\", kde=False,\n",
    "             palette=palette, hue=\"fin_type\",\n",
    "             element=\"bars\", legend=True, bins=30)\n",
    "\n",
    "plt.title('РDistribution of users by days spent in game', fontsize=16)\n",
    "plt.xlabel('Days in game')\n",
    "plt.ylabel('Users');"
   ]
  },
  {
   "cell_type": "markdown",
   "metadata": {},
   "source": [
    "Distribution by the amount of completed buildings."
   ]
  },
  {
   "cell_type": "code",
   "execution_count": null,
   "metadata": {
    "scrolled": false
   },
   "outputs": [],
   "source": [
    "f = plt.figure(figsize=(15,8))\n",
    "ax = f.add_subplot(1,1,1)\n",
    "sns.histplot(data=inst_users, ax=ax, stat=\"count\", multiple=\"stack\",\n",
    "             x=\"buildings\", kde=False,\n",
    "             palette=palette, hue=\"fin_type\",\n",
    "             element=\"bars\", legend=True, bins=20)\n",
    "plt.title('Distribution of users by completed buildings', fontsize=16)\n",
    "plt.xlabel('Buildings')\n",
    "plt.ylabel('Users');"
   ]
  },
  {
   "cell_type": "markdown",
   "metadata": {},
   "source": [
    "Scatter plot showing the amount of the completed buildings by the days spent in the game and the style of the first level completion."
   ]
  },
  {
   "cell_type": "code",
   "execution_count": null,
   "metadata": {},
   "outputs": [],
   "source": [
    "#fb_users.plot.scatter(x='days_spent', y='buildings')\n",
    "sns.set(rc={'figure.figsize':(15,8)})\n",
    "palette ={ \"fight\": \"C0\",\"incomplete\": \"C1\", \"project\": \"C2\"}\n",
    "sns.jointplot(data=inst_users, \n",
    "                x=\"days_spent\", \n",
    "                y=\"buildings\", \n",
    "                #hue=\"fin_type\",\n",
    "                kind='hex',\n",
    "                palette=palette, \n",
    "                height  = 12, alpha=0.3\n",
    "              )\n",
    "plt.title('Buildings amount distribution by days spent in game',  y=1.25,fontsize=16)\n",
    "plt.xlabel('Days spent')\n",
    "plt.ylabel('Buildings');"
   ]
  },
  {
   "cell_type": "markdown",
   "metadata": {},
   "source": [
    "Pie chart of users by the first level completion types."
   ]
  },
  {
   "cell_type": "code",
   "execution_count": null,
   "metadata": {},
   "outputs": [],
   "source": [
    "inst_users.groupby('fin_type')['source'].count()\\\n",
    "                                      .sort_values(ascending=False)\\\n",
    "                                      .plot.pie(colors = ['C1','C0','C2'])\n",
    "plt.title('Diagram of users by playing style', fontsize=16)\n",
    "plt.xlabel(' ')\n",
    "plt.ylabel(' ');"
   ]
  },
  {
   "cell_type": "markdown",
   "metadata": {},
   "source": [
    "Let's see how much time in game was spent by users who have not completed the first level."
   ]
  },
  {
   "cell_type": "code",
   "execution_count": null,
   "metadata": {
    "scrolled": true
   },
   "outputs": [],
   "source": [
    "inst_users.query(\"fin_type =='incomplete'\").describe()"
   ]
  },
  {
   "cell_type": "markdown",
   "metadata": {},
   "source": [
    "The amount of days spent in the game depending on the type of the first level completion."
   ]
  },
  {
   "cell_type": "code",
   "execution_count": null,
   "metadata": {},
   "outputs": [],
   "source": [
    "inst_users.groupby('fin_type')['days_spent'].describe()"
   ]
  },
  {
   "cell_type": "markdown",
   "metadata": {},
   "source": [
    "The amount of buildings depending on the first level completion type."
   ]
  },
  {
   "cell_type": "code",
   "execution_count": null,
   "metadata": {
    "scrolled": false
   },
   "outputs": [],
   "source": [
    "inst_users.groupby('fin_type')['buildings'].describe()"
   ]
  },
  {
   "cell_type": "markdown",
   "metadata": {},
   "source": [
    "#### YouTube"
   ]
  },
  {
   "cell_type": "code",
   "execution_count": null,
   "metadata": {},
   "outputs": [],
   "source": [
    "yt_users = users.query(\"source == 'youtube_channel_reklama'\")"
   ]
  },
  {
   "cell_type": "code",
   "execution_count": null,
   "metadata": {},
   "outputs": [],
   "source": [
    "yt_users.sample(10)"
   ]
  },
  {
   "cell_type": "markdown",
   "metadata": {},
   "source": [
    "Distribution users by days spent in the game."
   ]
  },
  {
   "cell_type": "code",
   "execution_count": null,
   "metadata": {
    "scrolled": false
   },
   "outputs": [],
   "source": [
    "f = plt.figure(figsize=(15,8))\n",
    "ax = f.add_subplot(1,1,1)\n",
    "sns.histplot(data=yt_users, ax=ax, stat=\"count\", multiple=\"stack\",\n",
    "             x=\"days_spent\", kde=False,\n",
    "             palette=palette, hue=\"fin_type\",\n",
    "             element=\"bars\", legend=True, bins=30)\n",
    "\n",
    "plt.title('Distribution of users by days spent in game', fontsize=16)\n",
    "plt.xlabel('Days in game')\n",
    "plt.ylabel('Users');"
   ]
  },
  {
   "cell_type": "markdown",
   "metadata": {},
   "source": [
    "Distribution by the amount of completed buildings."
   ]
  },
  {
   "cell_type": "code",
   "execution_count": null,
   "metadata": {
    "scrolled": false
   },
   "outputs": [],
   "source": [
    "f = plt.figure(figsize=(15,8))\n",
    "ax = f.add_subplot(1,1,1)\n",
    "sns.histplot(data=yt_users, ax=ax, stat=\"count\", multiple=\"stack\",\n",
    "             x=\"buildings\", kde=False,\n",
    "             palette=palette, hue=\"fin_type\",\n",
    "             element=\"bars\", legend=True, bins=20)\n",
    "plt.title('Distribution of users by completed buildings', fontsize=16)\n",
    "plt.xlabel('Buildings')\n",
    "plt.ylabel('Users');"
   ]
  },
  {
   "cell_type": "markdown",
   "metadata": {},
   "source": [
    "Scatter plot showing the amount of the completed buildings by the days spent in the game and the style of the first level completion."
   ]
  },
  {
   "cell_type": "code",
   "execution_count": null,
   "metadata": {},
   "outputs": [],
   "source": [
    "#fb_users.plot.scatter(x='days_spent', y='buildings')\n",
    "sns.set(rc={'figure.figsize':(15,8)})\n",
    "palette ={ \"fight\": \"C0\",\"incomplete\": \"C1\", \"project\": \"C2\"}\n",
    "sns.jointplot(data=yt_users, \n",
    "                x=\"days_spent\", \n",
    "                y=\"buildings\", \n",
    "                #hue=\"fin_type\",\n",
    "                kind='hex',\n",
    "                palette=palette, \n",
    "                height  = 12, alpha=0.3\n",
    "              )\n",
    "plt.title('Buildings amount distribution by days spent in game',  y=1.25,fontsize=16)\n",
    "plt.xlabel('Days spent')\n",
    "plt.ylabel('Buildings');"
   ]
  },
  {
   "cell_type": "markdown",
   "metadata": {},
   "source": [
    "Pie chart of users by the first level completion types."
   ]
  },
  {
   "cell_type": "code",
   "execution_count": null,
   "metadata": {},
   "outputs": [],
   "source": [
    "yt_users.groupby('fin_type')['source'].count()\\\n",
    "                                      .sort_values(ascending=False)\\\n",
    "                                      .plot.pie(colors = ['C1','C0','C2'])\n",
    "plt.title('Diagram of users by playing style', fontsize=16)\n",
    "plt.xlabel(' ')\n",
    "plt.ylabel(' ');"
   ]
  },
  {
   "cell_type": "markdown",
   "metadata": {},
   "source": [
    "Let's see how much time in game was spent by users who have not completed the first level."
   ]
  },
  {
   "cell_type": "code",
   "execution_count": null,
   "metadata": {
    "scrolled": true
   },
   "outputs": [],
   "source": [
    "yt_users.query(\"fin_type =='incomplete'\").describe()"
   ]
  },
  {
   "cell_type": "markdown",
   "metadata": {},
   "source": [
    "The amount of days spent in the game depending on the type of the first level completion."
   ]
  },
  {
   "cell_type": "code",
   "execution_count": null,
   "metadata": {
    "scrolled": true
   },
   "outputs": [],
   "source": [
    "yt_users.groupby('fin_type')['days_spent'].describe()"
   ]
  },
  {
   "cell_type": "markdown",
   "metadata": {},
   "source": [
    "The amount of buildings depending on the first level completion type."
   ]
  },
  {
   "cell_type": "code",
   "execution_count": null,
   "metadata": {
    "scrolled": false
   },
   "outputs": [],
   "source": [
    "yt_users.groupby('fin_type')['buildings'].describe()"
   ]
  },
  {
   "cell_type": "markdown",
   "metadata": {},
   "source": [
    "#### Yandex"
   ]
  },
  {
   "cell_type": "code",
   "execution_count": null,
   "metadata": {},
   "outputs": [],
   "source": [
    "yad_users = users.query(\"source == 'yandex_direct'\")"
   ]
  },
  {
   "cell_type": "code",
   "execution_count": null,
   "metadata": {},
   "outputs": [],
   "source": [
    "yad_users.sample(10)"
   ]
  },
  {
   "cell_type": "markdown",
   "metadata": {},
   "source": [
    "Dividing users by days spent in the game."
   ]
  },
  {
   "cell_type": "code",
   "execution_count": null,
   "metadata": {
    "scrolled": false
   },
   "outputs": [],
   "source": [
    "f = plt.figure(figsize=(15,8))\n",
    "ax = f.add_subplot(1,1,1)\n",
    "sns.histplot(data=yad_users, ax=ax, stat=\"count\", multiple=\"stack\",\n",
    "             x=\"days_spent\", kde=False,\n",
    "             palette=palette, hue=\"fin_type\",\n",
    "             element=\"bars\", legend=True, bins=30)\n",
    "plt.title('Distribution of users by days spent in game', fontsize=16)\n",
    "plt.xlabel('Days in game')\n",
    "plt.ylabel('Users');"
   ]
  },
  {
   "cell_type": "markdown",
   "metadata": {},
   "source": [
    "Distribution by the amount of completed buildings."
   ]
  },
  {
   "cell_type": "code",
   "execution_count": null,
   "metadata": {
    "scrolled": false
   },
   "outputs": [],
   "source": [
    "f = plt.figure(figsize=(15,8))\n",
    "ax = f.add_subplot(1,1,1)\n",
    "sns.histplot(data=yad_users, ax=ax, stat=\"count\", multiple=\"stack\",\n",
    "             x=\"buildings\", kde=False,\n",
    "             palette=palette, hue=\"fin_type\",\n",
    "             element=\"bars\", legend=True, bins=20)\n",
    "plt.title('Distribution of users by completed buildings', fontsize=16)\n",
    "plt.xlabel('Buildings')\n",
    "plt.ylabel('Users');"
   ]
  },
  {
   "cell_type": "markdown",
   "metadata": {},
   "source": [
    "Scatter plot showing the amount of the completed buildings by the days spent in the game and the style of the first level completion."
   ]
  },
  {
   "cell_type": "code",
   "execution_count": null,
   "metadata": {},
   "outputs": [],
   "source": [
    "#fb_users.plot.scatter(x='days_spent', y='buildings')\n",
    "sns.set(rc={'figure.figsize':(15,8)})\n",
    "palette ={ \"fight\": \"C0\",\"incomplete\": \"C1\", \"project\": \"C2\"}\n",
    "sns.jointplot(data=yad_users, \n",
    "                x=\"days_spent\", \n",
    "                y=\"buildings\", \n",
    "                #hue=\"fin_type\",\n",
    "                kind='hex',\n",
    "                palette=palette, \n",
    "                height  = 12, alpha=0.3\n",
    "              )\n",
    "plt.title('Buildings amount distribution by days spent in game',  y=1.25,fontsize=16)\n",
    "plt.xlabel('Days spent')\n",
    "plt.ylabel('Buildings');"
   ]
  },
  {
   "cell_type": "markdown",
   "metadata": {},
   "source": [
    "Pie chart of users by the first level completion types."
   ]
  },
  {
   "cell_type": "code",
   "execution_count": null,
   "metadata": {},
   "outputs": [],
   "source": [
    "yad_users.groupby('fin_type')['source'].count()\\\n",
    "                                      .sort_values(ascending=False)\\\n",
    "                                      .plot.pie(colors = ['C1','C0','C2'],\n",
    "                                                labels = ['Не прошли уровень', 'Битва с первым врагом', 'Строительство орбитальной станции'])\n",
    "plt.title('Diagram of users by playing style', fontsize=16)\n",
    "plt.xlabel(' ')\n",
    "plt.ylabel(' ');"
   ]
  },
  {
   "cell_type": "markdown",
   "metadata": {},
   "source": [
    "Let's see how much time in game was spent by users who have not completed the first level."
   ]
  },
  {
   "cell_type": "code",
   "execution_count": null,
   "metadata": {
    "scrolled": true
   },
   "outputs": [],
   "source": [
    "yad_users.query(\"fin_type =='incomplete'\").describe()"
   ]
  },
  {
   "cell_type": "markdown",
   "metadata": {},
   "source": [
    "The amount of days spent in the game depending on the type of the first level completion."
   ]
  },
  {
   "cell_type": "code",
   "execution_count": null,
   "metadata": {
    "scrolled": true
   },
   "outputs": [],
   "source": [
    "yad_users.groupby('fin_type')['days_spent'].describe()"
   ]
  },
  {
   "cell_type": "markdown",
   "metadata": {},
   "source": [
    "The amount of buildings depending on the first level completion type."
   ]
  },
  {
   "cell_type": "code",
   "execution_count": null,
   "metadata": {
    "scrolled": true
   },
   "outputs": [],
   "source": [
    "yad_users.groupby('fin_type')['buildings'].describe()"
   ]
  },
  {
   "cell_type": "markdown",
   "metadata": {},
   "source": [
    "#### Comparison"
   ]
  },
  {
   "cell_type": "code",
   "execution_count": null,
   "metadata": {},
   "outputs": [],
   "source": [
    "fig, ax = plt.subplots()\n",
    "ax.hist(fb_users['days_spent'], bins=30, density=True, alpha=0.3)\n",
    "ax.hist(inst_users['days_spent'], bins=30, density=True, alpha=0.3)\n",
    "ax.hist(yad_users['days_spent'], bins=30, density=True, alpha=0.3)\n",
    "ax.hist(yt_users['days_spent'], bins=30, density=True, alpha=0.3)\n",
    "plt.legend(['Facebook','Instagram','Yandex','YouTube'])\n",
    "plt.title('Distribution of users by days spent in game', fontsize=16)\n",
    "plt.xlabel('Days in game')\n",
    "plt.ylabel('Users');\n"
   ]
  },
  {
   "cell_type": "markdown",
   "metadata": {},
   "source": [
    "#### Level completion"
   ]
  },
  {
   "cell_type": "markdown",
   "metadata": {},
   "source": [
    "Percentage of the users finished the first level in different ways."
   ]
  },
  {
   "cell_type": "code",
   "execution_count": null,
   "metadata": {
    "scrolled": false
   },
   "outputs": [],
   "source": [
    "fin_type_source_pivot = users.pivot_table(index='source', columns='fin_type', values='days_spent',aggfunc= 'count')\n",
    "display(fin_type_source_pivot)"
   ]
  },
  {
   "cell_type": "code",
   "execution_count": null,
   "metadata": {},
   "outputs": [],
   "source": [
    "fin_type_source_pivot['total'] = fin_type_source_pivot.sum(axis=1)"
   ]
  },
  {
   "cell_type": "code",
   "execution_count": null,
   "metadata": {},
   "outputs": [],
   "source": [
    "fin_type_source_pivot['fight'] = fin_type_source_pivot['fight'] / fin_type_source_pivot['total'] *100\n",
    "fin_type_source_pivot['incomplete'] = fin_type_source_pivot['incomplete'] / fin_type_source_pivot['total'] *100\n",
    "fin_type_source_pivot['project'] = fin_type_source_pivot['project'] / fin_type_source_pivot['total'] *100"
   ]
  },
  {
   "cell_type": "code",
   "execution_count": null,
   "metadata": {},
   "outputs": [],
   "source": [
    "display(fin_type_source_pivot)"
   ]
  },
  {
   "cell_type": "code",
   "execution_count": null,
   "metadata": {
    "scrolled": true
   },
   "outputs": [],
   "source": [
    "fin_type_source_complete_pivot = users.query(\"fin_type != 'incomplete'\").pivot_table(index='source', columns='fin_type', values='days_spent',aggfunc= 'count')\n",
    "fin_type_source_complete_pivot['total'] = fin_type_source_complete_pivot.sum(axis=1)\n",
    "fin_type_source_complete_pivot['fight'] = fin_type_source_complete_pivot['fight'] / fin_type_source_complete_pivot['total'] *100\n",
    "fin_type_source_complete_pivot['project'] = fin_type_source_complete_pivot['project'] / fin_type_source_complete_pivot['total'] *100\n",
    "display(fin_type_source_complete_pivot)"
   ]
  },
  {
   "cell_type": "markdown",
   "metadata": {},
   "source": [
    "#### Buildings"
   ]
  },
  {
   "cell_type": "markdown",
   "metadata": {},
   "source": [
    "An average amount of buildings."
   ]
  },
  {
   "cell_type": "code",
   "execution_count": null,
   "metadata": {},
   "outputs": [],
   "source": [
    "build_source_pivot = users.pivot_table(index='source', columns='fin_type', values='buildings',aggfunc= 'mean')\n",
    "display(build_source_pivot)"
   ]
  },
  {
   "cell_type": "code",
   "execution_count": null,
   "metadata": {
    "scrolled": true
   },
   "outputs": [],
   "source": [
    "fig, ax = plt.subplots()\n",
    "ax.hist(fb_users['buildings'], bins=20, density=True, alpha=0.3)\n",
    "ax.hist(inst_users['buildings'], bins=20, density=True, alpha=0.3)\n",
    "ax.hist(yad_users['buildings'], bins=20, density=True, alpha=0.3)\n",
    "ax.hist(yt_users['buildings'], bins=20, density=True, alpha=0.3)\n",
    "\n",
    "plt.legend(['Facebook','Instagram','Yandex','YouTube'])\n",
    "plt.title('Distribution of users by the amount of buildings', fontsize=16)\n",
    "plt.xlabel('Buildings')\n",
    "plt.ylabel('Users');"
   ]
  },
  {
   "cell_type": "markdown",
   "metadata": {},
   "source": [
    "#### Conclusion"
   ]
  },
  {
   "cell_type": "markdown",
   "metadata": {},
   "source": [
    "* We do not observe a big difference in behavior of the users came from the different sources.\n",
    "* The distribution of the users by days spent in the game is close to a normal with slight shift to the left. The median and the average are close.\n",
    "* Users who prefer to complete the first level by fighting the enemy usually spent less days on the first level than the users who choose completing the project.\n",
    "* According to the distribution diagram users need to build at least 10 buildings in order to complete the project.\n",
    "* There is a drop seen on the chart at 7 buildings. There is no obvious reason for that according to the provided data.  Should be discussed with the developers team.\n",
    "* There is a positive tendency in the buildings and days spent dependency chart but it can not be considered as a rule.\n",
    "* The playing style pie chart show that the users who did not finished the first level are prevail.\n",
    "* About 57% of all users do not complete the first level.\n",
    "* And 67% of users who finished the level have chosen the fight with the enemy."
   ]
  },
  {
   "cell_type": "markdown",
   "metadata": {},
   "source": [
    "<div style=\"background:#d4d6fa; color:#000; padding:10px; margin-top:10px\">\n",
    "    <p><b> Комментарий тимлида: </b></p>\n",
    "    \n",
    "Вот это всё хочется видеть в форме промежуточных выводов. Так как выше ты дал огромное количество графиков и прочей информации и удержать её всю в голове практически невозможно. В итоге чтобы убедиться в выводах нужно много листать вверх-вниз, искать то место, по которому ты сделал вывод и т.д. \n",
    "    \n",
    "Всё это сильно усложняет восприятие проекта.\n",
    "</div>"
   ]
  },
  {
   "cell_type": "markdown",
   "metadata": {},
   "source": [
    "### By engagement"
   ]
  },
  {
   "cell_type": "markdown",
   "metadata": {},
   "source": [
    "#### Users who spent the most time in the game (duration in minutes and days, retention)"
   ]
  },
  {
   "cell_type": "markdown",
   "metadata": {},
   "source": [
    "The average speed of the first level completion "
   ]
  },
  {
   "cell_type": "code",
   "execution_count": null,
   "metadata": {
    "scrolled": true
   },
   "outputs": [],
   "source": [
    "av_days_pivot = users.pivot_table(index='source', columns='fin_type', values='days_spent',aggfunc= 'mean')\n",
    "display(av_days_pivot)"
   ]
  },
  {
   "cell_type": "code",
   "execution_count": null,
   "metadata": {},
   "outputs": [],
   "source": [
    "av_days_pivot = users.pivot_table(index='source', columns='fin_type', values='days_spent',aggfunc= 'median')\n",
    "display(av_days_pivot)"
   ]
  },
  {
   "cell_type": "markdown",
   "metadata": {},
   "source": [
    "#### Users who have not finished the first level and churned users"
   ]
  },
  {
   "cell_type": "code",
   "execution_count": null,
   "metadata": {
    "scrolled": false
   },
   "outputs": [],
   "source": [
    "churn_users = users.query(\"fin_type == 'incomplete'\")\n",
    "display(churn_users.sample(5))"
   ]
  },
  {
   "cell_type": "code",
   "execution_count": null,
   "metadata": {},
   "outputs": [],
   "source": [
    "retained_users = users.query(\"fin_type != 'incomplete'\")"
   ]
  },
  {
   "cell_type": "code",
   "execution_count": null,
   "metadata": {
    "scrolled": true
   },
   "outputs": [],
   "source": [
    "fig, ax = plt.subplots()\n",
    "ax.hist(churn_users['days_spent'], bins=30, density=True, alpha=0.3)\n",
    "ax.hist(retained_users['days_spent'], bins=30, density=True, alpha=0.3)\n",
    "\n",
    "plt.legend(['Churned users','Completed level users'])\n",
    "plt.title('An average time spent in game (incl. completed the first level and not) В среднем дней в игре (прошедшие и непрошедшие первый уровень игроки)', fontsize=16)\n",
    "plt.xlabel('Days in game')\n",
    "plt.ylabel('Users');"
   ]
  },
  {
   "cell_type": "markdown",
   "metadata": {},
   "source": [
    "#### Conclusion"
   ]
  },
  {
   "cell_type": "markdown",
   "metadata": {},
   "source": [
    "* Completed the first level users spent in the game more days on average than other users.\n",
    "* The average time spent to complete the first level is 10-12 days. \n",
    "* The churned users spent in the game 9 days on average."
   ]
  },
  {
   "cell_type": "markdown",
   "metadata": {},
   "source": [
    "## Traffic sources analysis "
   ]
  },
  {
   "cell_type": "markdown",
   "metadata": {},
   "source": [
    "### Dynamics of installations"
   ]
  },
  {
   "cell_type": "markdown",
   "metadata": {},
   "source": [
    "The amount of acquired users by dates with breakdown by traffic source."
   ]
  },
  {
   "cell_type": "code",
   "execution_count": null,
   "metadata": {},
   "outputs": [],
   "source": [
    "users_source_by_date = users.pivot_table(index='first_event', columns='source', values='days_spent', aggfunc='count')\n",
    "display(users_source_by_date)"
   ]
  },
  {
   "cell_type": "code",
   "execution_count": null,
   "metadata": {},
   "outputs": [],
   "source": [
    "users_source_by_date.plot()\n",
    "plt.title('Daily dynamics of installs, by traffic sources', fontsize=16)\n",
    "plt.xlabel('Date')\n",
    "plt.ylabel('Installs');"
   ]
  },
  {
   "cell_type": "code",
   "execution_count": null,
   "metadata": {},
   "outputs": [],
   "source": [
    "users_source_by_date_cum = users_source_by_date.cumsum()\n",
    "users_source_by_date_cum.plot()\n",
    "plt.title('Cumulative daily dynamics of installs, by traffic sources', fontsize=16)\n",
    "plt.xlabel('Date')\n",
    "plt.ylabel('Installs');"
   ]
  },
  {
   "cell_type": "markdown",
   "metadata": {},
   "source": [
    "### Dynamics of costs"
   ]
  },
  {
   "cell_type": "markdown",
   "metadata": {},
   "source": [
    "Calculating the total costs of the users acquisition"
   ]
  },
  {
   "cell_type": "code",
   "execution_count": null,
   "metadata": {
    "scrolled": true
   },
   "outputs": [],
   "source": [
    "ad_cos_by_day_source = ad_costs.pivot_table(index='day',values='cost',columns='source', aggfunc='sum')\n",
    "display(ad_cos_by_day_source)"
   ]
  },
  {
   "cell_type": "code",
   "execution_count": null,
   "metadata": {},
   "outputs": [],
   "source": [
    "ad_cos_by_day_source.plot()\n",
    "plt.title('Daily dinamics of costs, by traffic sources', fontsize=16)\n",
    "plt.xlabel('Date')\n",
    "plt.ylabel('Costs');"
   ]
  },
  {
   "cell_type": "code",
   "execution_count": null,
   "metadata": {},
   "outputs": [],
   "source": [
    "ad_cos_by_day_source_cum = ad_cos_by_day_source.cumsum()\n",
    "ad_cos_by_day_source_cum.plot()\n",
    "plt.title('Cumulative daily dynamic of costs, by traffic sources', fontsize=16)\n",
    "plt.xlabel('Date')\n",
    "plt.ylabel('Costs');"
   ]
  },
  {
   "cell_type": "markdown",
   "metadata": {},
   "source": [
    "Calculating the average costs per installation per day"
   ]
  },
  {
   "cell_type": "code",
   "execution_count": null,
   "metadata": {},
   "outputs": [],
   "source": [
    "users_source_by_date = users.pivot_table(index='first_event', columns='source', values='days_spent', aggfunc='count')\n",
    "users_source_by_date.index = users_source_by_date.index - pd.Timedelta(days=1)\n",
    "user_cost_per_day = ad_cos_by_day_source / users_source_by_date\n",
    "display(user_cost_per_day)"
   ]
  },
  {
   "cell_type": "code",
   "execution_count": null,
   "metadata": {},
   "outputs": [],
   "source": [
    "user_cost_per_day.plot()\n",
    "plt.title('Average installing costs per day, by traffic sources', fontsize=16)\n",
    "plt.xlabel('Date')\n",
    "plt.ylabel('Costs');"
   ]
  },
  {
   "cell_type": "code",
   "execution_count": null,
   "metadata": {},
   "outputs": [],
   "source": [
    "display(user_cost_per_day.mean())"
   ]
  },
  {
   "cell_type": "markdown",
   "metadata": {},
   "source": [
    "### Level completion dynamics"
   ]
  },
  {
   "cell_type": "markdown",
   "metadata": {},
   "source": [
    "Counting the percentage of the completed the first level users by dates of acquisition and traffic sources."
   ]
  },
  {
   "cell_type": "code",
   "execution_count": null,
   "metadata": {},
   "outputs": [],
   "source": [
    "users_compl_incomp = users.copy()\n",
    "#users_compl_incomp.query(\"fin_type !=incomplete \")['fin_type'] = 'complete'\n",
    "users_compl_incomp['fin_type'] = users_compl_incomp['fin_type'].replace('fight',1)\n",
    "users_compl_incomp['fin_type'] = users_compl_incomp['fin_type'].replace('project',1)\n",
    "users_compl_incomp['fin_type'] = users_compl_incomp['fin_type'].replace('incomplete',0)"
   ]
  },
  {
   "cell_type": "code",
   "execution_count": null,
   "metadata": {
    "scrolled": false
   },
   "outputs": [],
   "source": [
    "complete_rate_by_source = users_compl_incomp.pivot_table(index='first_event',\n",
    "                                                         columns='source',\n",
    "                                                         values='fin_type',\n",
    "                                                         aggfunc='mean')\n",
    "display(complete_rate_by_source)"
   ]
  },
  {
   "cell_type": "code",
   "execution_count": null,
   "metadata": {},
   "outputs": [],
   "source": [
    "complete_rate_by_source.plot()\n",
    "plt.title('Percentage of the first level completers by dates of installments,  by traffic sources', fontsize=16)\n",
    "plt.xlabel('Date of installment')\n",
    "plt.ylabel('The first level completion percent');"
   ]
  },
  {
   "cell_type": "markdown",
   "metadata": {},
   "source": [
    "There are fewer installs at the end of the campaign and it causes big volatility."
   ]
  },
  {
   "cell_type": "markdown",
   "metadata": {},
   "source": [
    "      "
   ]
  },
  {
   "cell_type": "markdown",
   "metadata": {},
   "source": [
    "### Conclusion "
   ]
  },
  {
   "cell_type": "markdown",
   "metadata": {},
   "source": [
    "* The amount of the acquired users is lower at the end of the marketing campaign than at its start. \n",
    "* The majority of the users were acquired through the adds in Yandex Direct.\n",
    "* The second biggest part of the users — through Instagram. \n",
    "* Adds in YouTube and Facebook acquired an equal amount of the new users.\n",
    "* The cheapest user acquisition is through YouTube.\n",
    "* The average acquisition cost does not change in time and is: \n",
    "    * Facebook — 0.78 monetary units\n",
    "    * Instagram — 0.65 monetary units\n",
    "    * Yandex Direct  — 0.46 monetary units\n",
    "    * YouTube — 0.4 monetary units.\n",
    "* The percentage of the first level completion does not depend on the traffic source.\n",
    "* The amount of the acquired users lowers by the end of the marketing campaign which increases variation."
   ]
  },
  {
   "cell_type": "markdown",
   "metadata": {},
   "source": [
    "## Hypothesis testing"
   ]
  },
  {
   "cell_type": "markdown",
   "metadata": {},
   "source": [
    "### Hypothesis 1"
   ]
  },
  {
   "cell_type": "markdown",
   "metadata": {},
   "source": [
    "$H_0$: The average time for different type of the first level completion does not vary significantly.\n",
    "\n",
    "$H_1$: The average time for different type of the first level completion vary significantly."
   ]
  },
  {
   "cell_type": "code",
   "execution_count": null,
   "metadata": {},
   "outputs": [],
   "source": [
    "sample_A = users.query(\"fin_type == 'fight'\")['days_spent'].copy()\n",
    "sample_B = users.query(\"fin_type == 'project'\")['days_spent'].copy()"
   ]
  },
  {
   "cell_type": "code",
   "execution_count": null,
   "metadata": {},
   "outputs": [],
   "source": [
    "alpha = .05 # critical statistical significance level\n",
    "# if the p-value is less than this - reject the hypothesis\n",
    "\n",
    "results = st.ttest_ind(\n",
    "    sample_A, \n",
    "    sample_B)\n",
    "print('Type \"fight\" mean:', sample_A.mean())\n",
    "print('Type \"project\" mean:', sample_B.mean(),'\\n')\n",
    "print('Fight to project difference', (sample_A.mean()/sample_B.mean()-1)*100,'\\n')\n",
    "print('p-value:', results.pvalue)\n",
    "\n",
    "if results.pvalue < alpha:\n",
    "    print(\"Rejecting the null hypothesis\")\n",
    "else:\n",
    "    print(\"Can not reject the null hypothesis\")  "
   ]
  },
  {
   "cell_type": "markdown",
   "metadata": {},
   "source": [
    "#### Conclusion"
   ]
  },
  {
   "cell_type": "markdown",
   "metadata": {},
   "source": [
    "* The difference in level completion time depending on the style of play is 18%. Players who choose the project development spend more time in the game, about 13 days, versus 10 days for users who chose to fight the first enemy.\n",
    "* The probability of making an error in rejecting this hypothesis is close to zero.  "
   ]
  },
  {
   "cell_type": "markdown",
   "metadata": {},
   "source": [
    "### Hypothesis 2"
   ]
  },
  {
   "cell_type": "markdown",
   "metadata": {},
   "source": [
    "$H_0$: Players who completed the first level and players who did not have, on average, spent the same number of days in the game\n",
    "\n",
    "$H_1$: Players who completed the first level and players who did not have, on average, spent the same number of days in the game"
   ]
  },
  {
   "cell_type": "code",
   "execution_count": null,
   "metadata": {},
   "outputs": [],
   "source": [
    "sample_A2 = users.query(\"fin_type == 'fight' or fin_type == 'project'\")['days_spent'].copy()\n",
    "sample_B2 = users.query(\"fin_type == 'incomplete'\")['days_spent'].copy()"
   ]
  },
  {
   "cell_type": "code",
   "execution_count": null,
   "metadata": {
    "scrolled": true
   },
   "outputs": [],
   "source": [
    "alpha = .01 # critical statistical significance level\n",
    "# if the p-value is less than this - reject the hypothesis\n",
    "\n",
    "results = st.ttest_ind(\n",
    "    sample_A2, \n",
    "    sample_B2)\n",
    "print('Type \"complete\" mean:', sample_A2.mean())\n",
    "print('Type \"incomplete\" mean:', sample_B2.mean(),'\\n')\n",
    "print('difference', (sample_A2.mean()/sample_B2.mean()-1)*100,'\\n')\n",
    "print('p-value:', results.pvalue)\n",
    "\n",
    "if results.pvalue < alpha:\n",
    "    print(\"Rejecting the null hypothesis\")\n",
    "else:\n",
    "    print(\"Can not reject the null hypothesis\")  "
   ]
  },
  {
   "cell_type": "markdown",
   "metadata": {},
   "source": [
    "#### Conclusion"
   ]
  },
  {
   "cell_type": "markdown",
   "metadata": {},
   "source": [
    "* The difference in time spent in the game by users who completed a level and those who didn't is 22.4% - non-completers spend about 9 days in the game, compared with 12 days for those who completed the first level. \n",
    "* The probability of making an error when rejecting this hypothesis is close to zero."
   ]
  },
  {
   "cell_type": "markdown",
   "metadata": {},
   "source": [
    "### Hypothesis 3"
   ]
  },
  {
   "cell_type": "markdown",
   "metadata": {},
   "source": [
    "$H_0$: Players acquired from different sources complete the first level with equal probability\n",
    "\n",
    "$H_1$: Players acquired from different sources complete the first level with different probability"
   ]
  },
  {
   "cell_type": "code",
   "execution_count": null,
   "metadata": {},
   "outputs": [],
   "source": [
    "incomplete_source = users_compl_incomp.pivot_table(index='source',columns='fin_type',values='days_spent',aggfunc='count')\n",
    "incomplete_source[1] = incomplete_source[0]+incomplete_source[1]\n",
    "incomplete_source = incomplete_source.rename(columns = {1:'total', 0:'incomplete'})\n",
    "incomplete_source = (incomplete_source['incomplete']/incomplete_source['total'])*100\n",
    "\n",
    "incomplete_source.plot(kind='bar', ylim=[52,58],color=['C0','C1','C2','C3'])\n",
    "plt.title('Percentage of users completed level, by traffic source', fontsize=16)\n",
    "plt.xlabel('Traffic source')\n",
    "plt.ylabel('Percent');"
   ]
  },
  {
   "cell_type": "code",
   "execution_count": null,
   "metadata": {},
   "outputs": [],
   "source": [
    "def groups_difference (group_1, group_2, alpha):\n",
    "    \n",
    "    leads = [group_1.count(),group_2.count()]\n",
    "    purchases = [group_1.sum(),group_2.sum()]    \n",
    "    \n",
    "    \n",
    "    p1 = purchases[0]/leads[0]  # the proportion of successes in the first group\n",
    "\n",
    "    p2 = purchases[1]/leads[1] # the proportion of successes in the second group\n",
    "\n",
    "    p_combined = (purchases[0] + purchases[1]) / (leads[0] + leads[1]) # proportion of successes in the combined dataset\n",
    "\n",
    "    difference = p1 - p2  # difference in proportions in datasets\n",
    "\n",
    "    z_value = difference / mth.sqrt(p_combined * (1 - p_combined) * (1/leads[0] + 1/leads[1]))\n",
    "\n",
    "    distr = st.norm(0, 1) #standard normal distribution (mean 0, standard deviation 1)\n",
    "\n",
    "    p_value = p_value = (1 - distr.cdf(abs(z_value))) * 2\n",
    "\n",
    "    print('The first group: %.3f' % p1,' The second group: %.3f' % p2,' Difference: %.3f' % -difference)\n",
    "    print('p-value: ', p_value)\n",
    "\n",
    "    if p_value < alpha:\n",
    "        print(\"Rejecting the null hypothesis\")\n",
    "    else:\n",
    "        print(\"Can not reject the null hypothesis\")   \n",
    "        \n",
    "        "
   ]
  },
  {
   "cell_type": "code",
   "execution_count": null,
   "metadata": {},
   "outputs": [],
   "source": [
    "sample_Fb = users_compl_incomp.query(\" source == 'facebook_ads'\")['fin_type'].copy()\n",
    "sample_In = users_compl_incomp.query(\" source == 'instagram_new_adverts'\")['fin_type'].copy()\n",
    "sample_Ya = users_compl_incomp.query(\" source == 'yandex_direct'\")['fin_type'].copy()\n",
    "sample_Yt = users_compl_incomp.query(\" source == 'youtube_channel_reklama'\")['fin_type'].copy()"
   ]
  },
  {
   "cell_type": "markdown",
   "metadata": {},
   "source": [
    "Since there are 4 comparing groups, in order to make all possible comparisons a Bonferroni correction must be applied reducing the required level of significance by a factor of 6."
   ]
  },
  {
   "cell_type": "code",
   "execution_count": null,
   "metadata": {},
   "outputs": [],
   "source": [
    "print('Fb / Inst')\n",
    "groups_difference(sample_Fb, sample_In, 0.05/6)\n",
    "print('\\n')\n",
    "\n",
    "print('Fb / Ya')\n",
    "groups_difference(sample_Fb, sample_Ya, 0.05/6)\n",
    "print('\\n')\n",
    "\n",
    "print('Fb / Yt')\n",
    "groups_difference(sample_Fb, sample_Yt, 0.05/6)\n",
    "print('\\n')\n",
    "\n",
    "print('Ins / Ya')\n",
    "groups_difference(sample_In, sample_Ya, 0.05/6)\n",
    "print('\\n')\n",
    "\n",
    "print('Ins / Yt')\n",
    "groups_difference(sample_In, sample_Yt, 0.05/6)\n",
    "print('\\n')\n",
    "\n",
    "print('Yt / Ya')\n",
    "groups_difference(sample_Yt, sample_Ya, 0.05/6)\n",
    "print('\\n')\n",
    "    "
   ]
  },
  {
   "cell_type": "markdown",
   "metadata": {},
   "source": [
    "#### Conclusion"
   ]
  },
  {
   "cell_type": "markdown",
   "metadata": {},
   "source": [
    "* In the dynamics of the first level completion analysis section we determined that there is no difference between players acquired through different sources. The hypothesis testing confirmed this.\n",
    "* The difference in the first level completion speed among players acquired through the different sources is less than one percent."
   ]
  },
  {
   "cell_type": "markdown",
   "metadata": {},
   "source": [
    "## Final conclusion"
   ]
  },
  {
   "cell_type": "markdown",
   "metadata": {},
   "source": [
    "* The following steps were done in preparation for the analysis:\n",
    "    * A preliminary review of the collected data \n",
    "    * Duplicated events were removed\n",
    "    * A user table was created and filled with summary data\n",
    "       \n",
    "* During the data review the following was found:\n",
    "    * Period of the marketing campaign: *3 — 9 of May 2020*\n",
    "    * Unique users acquired: *13576*\n",
    "    * Users acquisition sources:\n",
    "        * *Facebook ads*\n",
    "        * *Yandex Direct*\n",
    "        * *YouTube Channel*\n",
    "        * *Instagram Adverts*\n",
    "    * Period of the first game sessions:  *4  — 10 May 2020*\n",
    "    * Period of the in-game activity: *4 May — 5 June 2020*\n",
    "  \n",
    "   \n",
    "* Players profiles analysis highlights:    \n",
    "    * No difference was found in the behavior of the users acquired from different traffic sources.\n",
    "    * Players who choose completing the first level through the fight with an enemy spend less days in the game than users who choose the project development. The difference is *18%*.\n",
    "    * About 57% of players do not complete the first level. \n",
    "    * And about 67% of the users completed the first level choose the fighting with an enemy.\n",
    "    * Players who choose the project development built *10 buildings* and more. \n",
    "    * There is also a visible drop in the number of users who built exactly *7 buildings*. There is no obvious reason for that according to the provided data. Should be discussed with the developers team.\n",
    "    * Users who completed the first level spent, on average, more days in the game than others. \n",
    "    * On average users complete the first level in *10-12 days*.\n",
    "    * Non-completers spend in the game *9 days* on average.\n",
    "    * The difference in time spent in the game for completed the first level users and  non-completers is *22.4%*\n",
    "    * The first level completion speed difference for users acquired from different traffic sources is *less than 1%*.     \n",
    "    \n",
    "* The marketing campaign results analysis highlights: \n",
    "    * The most users were acquired through Yandex Direct.\n",
    "    * The second biggest part of the users — through Instagram.\n",
    "    * Ads in YouTube and Facebook acquired an equal amount of new users. \n",
    "    * The cheapest user acquisition is through YouTube.\n",
    "    * The average acquisition cost does not change in time and is:\n",
    "        * Facebook — 0.78 monetary units\n",
    "        * Instagram — 0.65 monetary units\n",
    "        * Yandex Direct — 0.46 monetary units\n",
    "        * YouTube — 0.4 monetary units.\n",
    "    * The percentage of the first level completion does not depend on the traffic source.\n",
    "    * The amount of the acquired users lowers by the end of the marketing campaign which increases the noise.\n",
    "       \n",
    "       \n",
    "**Recommendations**        \n",
    "* As the same amount of money was invested in advertising on Facebook, Instagram and Yandex Direct, but more users came through the latter, this lowered the average cost per player through Yandex Direct (0.46 m.u. versus 0.65 for Instagram and 0.78 for Facebook). At the same time user behaviour from different sources does not differ significantly. Therefore, it makes sense to focus on advertising through Yandex Direct.\n",
    "* It is also worth attracting attention of the development and game design departments to the drop in the number of users who have built exactly 7 buildings in the game.\n",
    "* Since about 57% of users do not complete the first level, it is worth discussing with the game design department the possibility of improving onboarding for the new players or adjusting the difficulty of the first level."
   ]
  }
 ],
 "metadata": {
  "ExecuteTimeLog": [
   {
    "duration": 45,
    "start_time": "2022-11-11T14:48:06.255Z"
   },
   {
    "duration": 6,
    "start_time": "2022-11-11T14:48:06.433Z"
   },
   {
    "duration": 6,
    "start_time": "2022-11-11T14:48:06.596Z"
   },
   {
    "duration": 398,
    "start_time": "2022-11-11T14:48:10.784Z"
   },
   {
    "duration": 2215,
    "start_time": "2022-11-11T14:48:11.184Z"
   },
   {
    "duration": 16,
    "start_time": "2022-11-11T14:48:13.400Z"
   },
   {
    "duration": 19,
    "start_time": "2022-11-11T14:48:13.418Z"
   },
   {
    "duration": 15,
    "start_time": "2022-11-11T14:48:13.439Z"
   },
   {
    "duration": 13,
    "start_time": "2022-11-11T14:48:32.024Z"
   },
   {
    "duration": 8,
    "start_time": "2022-11-11T14:48:32.232Z"
   },
   {
    "duration": 13,
    "start_time": "2022-11-11T14:48:36.797Z"
   },
   {
    "duration": 8,
    "start_time": "2022-11-11T14:48:38.977Z"
   },
   {
    "duration": 11,
    "start_time": "2022-11-11T14:49:47.299Z"
   },
   {
    "duration": 10,
    "start_time": "2022-11-11T14:49:47.458Z"
   },
   {
    "duration": 32,
    "start_time": "2022-11-11T14:49:47.640Z"
   },
   {
    "duration": 11,
    "start_time": "2022-11-11T14:53:52.870Z"
   },
   {
    "duration": 10,
    "start_time": "2022-11-11T14:53:58.486Z"
   },
   {
    "duration": 17,
    "start_time": "2022-11-11T14:54:16.625Z"
   },
   {
    "duration": 17,
    "start_time": "2022-11-11T14:55:16.566Z"
   },
   {
    "duration": 17,
    "start_time": "2022-11-11T14:55:47.735Z"
   },
   {
    "duration": 18,
    "start_time": "2022-11-11T14:55:53.860Z"
   },
   {
    "duration": 17,
    "start_time": "2022-11-11T14:56:05.749Z"
   },
   {
    "duration": 18,
    "start_time": "2022-11-11T14:56:18.798Z"
   },
   {
    "duration": 18,
    "start_time": "2022-11-11T14:56:26.808Z"
   },
   {
    "duration": 382,
    "start_time": "2022-11-11T14:56:33.960Z"
   },
   {
    "duration": 2060,
    "start_time": "2022-11-11T14:56:34.344Z"
   },
   {
    "duration": 14,
    "start_time": "2022-11-11T14:56:36.406Z"
   },
   {
    "duration": 47,
    "start_time": "2022-11-11T14:56:36.422Z"
   },
   {
    "duration": 14,
    "start_time": "2022-11-11T14:56:36.471Z"
   },
   {
    "duration": 34,
    "start_time": "2022-11-11T14:56:36.487Z"
   },
   {
    "duration": 7,
    "start_time": "2022-11-11T14:56:36.523Z"
   },
   {
    "duration": 9,
    "start_time": "2022-11-11T14:56:36.531Z"
   },
   {
    "duration": 17,
    "start_time": "2022-11-11T14:56:36.551Z"
   },
   {
    "duration": 8,
    "start_time": "2022-11-11T14:56:36.570Z"
   },
   {
    "duration": 18,
    "start_time": "2022-11-11T14:56:48.454Z"
   },
   {
    "duration": 18,
    "start_time": "2022-11-11T14:56:57.181Z"
   },
   {
    "duration": 18,
    "start_time": "2022-11-11T14:57:07.412Z"
   },
   {
    "duration": 3,
    "start_time": "2022-11-11T14:57:30.424Z"
   },
   {
    "duration": 17,
    "start_time": "2022-11-11T16:10:14.031Z"
   },
   {
    "duration": 93,
    "start_time": "2022-11-18T07:21:28.350Z"
   },
   {
    "duration": 48,
    "start_time": "2022-11-18T14:34:09.389Z"
   },
   {
    "duration": 1367,
    "start_time": "2022-11-18T14:34:14.162Z"
   },
   {
    "duration": 2320,
    "start_time": "2022-11-18T14:34:15.531Z"
   },
   {
    "duration": 14,
    "start_time": "2022-11-18T14:34:17.853Z"
   },
   {
    "duration": 12,
    "start_time": "2022-11-18T14:34:17.869Z"
   },
   {
    "duration": 18,
    "start_time": "2022-11-18T14:34:17.883Z"
   },
   {
    "duration": 54,
    "start_time": "2022-11-18T14:34:17.902Z"
   },
   {
    "duration": 15,
    "start_time": "2022-11-18T14:34:17.957Z"
   },
   {
    "duration": 17,
    "start_time": "2022-11-18T14:34:17.974Z"
   },
   {
    "duration": 23,
    "start_time": "2022-11-18T14:34:17.992Z"
   },
   {
    "duration": 10,
    "start_time": "2022-11-18T14:34:18.035Z"
   },
   {
    "duration": 27,
    "start_time": "2022-11-18T14:34:18.047Z"
   },
   {
    "duration": 28,
    "start_time": "2022-11-18T14:34:18.076Z"
   },
   {
    "duration": 6,
    "start_time": "2022-11-18T14:34:18.106Z"
   },
   {
    "duration": 18,
    "start_time": "2022-11-18T14:34:18.113Z"
   },
   {
    "duration": 53,
    "start_time": "2022-11-18T14:34:18.132Z"
   },
   {
    "duration": 16,
    "start_time": "2022-11-18T14:34:18.187Z"
   },
   {
    "duration": 33,
    "start_time": "2022-11-18T14:34:18.205Z"
   },
   {
    "duration": 35,
    "start_time": "2022-11-18T14:34:18.240Z"
   },
   {
    "duration": 81,
    "start_time": "2022-11-18T14:34:18.277Z"
   },
   {
    "duration": 11,
    "start_time": "2022-11-18T14:34:18.359Z"
   },
   {
    "duration": 18,
    "start_time": "2022-11-18T14:34:18.373Z"
   },
   {
    "duration": 34,
    "start_time": "2022-11-18T14:34:18.393Z"
   },
   {
    "duration": 63,
    "start_time": "2022-11-18T14:34:18.434Z"
   },
   {
    "duration": 69,
    "start_time": "2022-11-18T14:34:18.498Z"
   },
   {
    "duration": 9,
    "start_time": "2022-11-18T14:34:18.569Z"
   },
   {
    "duration": 19,
    "start_time": "2022-11-18T14:34:18.579Z"
   },
   {
    "duration": 140,
    "start_time": "2022-11-18T14:34:18.600Z"
   },
   {
    "duration": 61,
    "start_time": "2022-11-18T14:34:18.746Z"
   },
   {
    "duration": 70,
    "start_time": "2022-11-18T14:34:18.809Z"
   },
   {
    "duration": 7,
    "start_time": "2022-11-18T14:34:18.881Z"
   },
   {
    "duration": 38,
    "start_time": "2022-11-18T14:34:18.889Z"
   },
   {
    "duration": 15,
    "start_time": "2022-11-18T14:34:18.928Z"
   },
   {
    "duration": 38,
    "start_time": "2022-11-18T14:34:18.945Z"
   },
   {
    "duration": 50,
    "start_time": "2022-11-18T14:34:18.985Z"
   },
   {
    "duration": 12,
    "start_time": "2022-11-18T14:34:19.036Z"
   },
   {
    "duration": 120,
    "start_time": "2022-11-18T14:34:19.049Z"
   },
   {
    "duration": 36,
    "start_time": "2022-11-18T14:34:19.171Z"
   },
   {
    "duration": 34,
    "start_time": "2022-11-18T14:34:19.209Z"
   },
   {
    "duration": 52,
    "start_time": "2022-11-18T14:34:19.246Z"
   },
   {
    "duration": 15,
    "start_time": "2022-11-18T14:34:19.300Z"
   },
   {
    "duration": 26,
    "start_time": "2022-11-18T14:34:19.336Z"
   },
   {
    "duration": 17,
    "start_time": "2022-11-18T14:34:19.364Z"
   },
   {
    "duration": 246,
    "start_time": "2022-11-18T14:34:19.383Z"
   },
   {
    "duration": 9,
    "start_time": "2022-11-18T14:34:19.630Z"
   },
   {
    "duration": 28,
    "start_time": "2022-11-18T14:34:19.641Z"
   },
   {
    "duration": 8,
    "start_time": "2022-11-18T14:34:19.671Z"
   },
   {
    "duration": 27,
    "start_time": "2022-11-18T14:34:19.681Z"
   },
   {
    "duration": 32,
    "start_time": "2022-11-18T14:34:19.709Z"
   },
   {
    "duration": 438,
    "start_time": "2022-11-18T14:34:19.743Z"
   },
   {
    "duration": 410,
    "start_time": "2022-11-18T14:34:20.183Z"
   },
   {
    "duration": 666,
    "start_time": "2022-11-18T14:34:20.595Z"
   },
   {
    "duration": 138,
    "start_time": "2022-11-18T14:34:21.263Z"
   },
   {
    "duration": 17,
    "start_time": "2022-11-18T14:34:21.403Z"
   },
   {
    "duration": 32,
    "start_time": "2022-11-18T14:34:21.421Z"
   },
   {
    "duration": 28,
    "start_time": "2022-11-18T14:34:21.454Z"
   },
   {
    "duration": 35,
    "start_time": "2022-11-18T14:34:21.484Z"
   },
   {
    "duration": 38,
    "start_time": "2022-11-18T14:34:21.521Z"
   },
   {
    "duration": 421,
    "start_time": "2022-11-18T14:34:21.561Z"
   },
   {
    "duration": 389,
    "start_time": "2022-11-18T14:34:21.984Z"
   },
   {
    "duration": 704,
    "start_time": "2022-11-18T14:34:22.375Z"
   },
   {
    "duration": 208,
    "start_time": "2022-11-18T14:34:23.081Z"
   },
   {
    "duration": 16,
    "start_time": "2022-11-18T14:34:23.291Z"
   },
   {
    "duration": 43,
    "start_time": "2022-11-18T14:34:23.309Z"
   },
   {
    "duration": 20,
    "start_time": "2022-11-18T14:34:23.353Z"
   },
   {
    "duration": 20,
    "start_time": "2022-11-18T14:34:23.374Z"
   },
   {
    "duration": 25,
    "start_time": "2022-11-18T14:34:23.396Z"
   },
   {
    "duration": 416,
    "start_time": "2022-11-18T14:34:23.423Z"
   },
   {
    "duration": 362,
    "start_time": "2022-11-18T14:34:23.841Z"
   },
   {
    "duration": 652,
    "start_time": "2022-11-18T14:34:24.205Z"
   },
   {
    "duration": 116,
    "start_time": "2022-11-18T14:34:24.858Z"
   },
   {
    "duration": 17,
    "start_time": "2022-11-18T14:34:24.976Z"
   },
   {
    "duration": 22,
    "start_time": "2022-11-18T14:34:24.994Z"
   },
   {
    "duration": 21,
    "start_time": "2022-11-18T14:34:25.036Z"
   },
   {
    "duration": 7,
    "start_time": "2022-11-18T14:34:25.059Z"
   },
   {
    "duration": 16,
    "start_time": "2022-11-18T14:34:25.068Z"
   },
   {
    "duration": 409,
    "start_time": "2022-11-18T14:34:25.085Z"
   },
   {
    "duration": 473,
    "start_time": "2022-11-18T14:34:25.496Z"
   },
   {
    "duration": 651,
    "start_time": "2022-11-18T14:34:25.971Z"
   },
   {
    "duration": 141,
    "start_time": "2022-11-18T14:34:26.624Z"
   },
   {
    "duration": 19,
    "start_time": "2022-11-18T14:34:26.767Z"
   },
   {
    "duration": 23,
    "start_time": "2022-11-18T14:34:26.788Z"
   },
   {
    "duration": 22,
    "start_time": "2022-11-18T14:34:26.837Z"
   },
   {
    "duration": 458,
    "start_time": "2022-11-18T14:34:26.861Z"
   },
   {
    "duration": 24,
    "start_time": "2022-11-18T14:34:27.321Z"
   },
   {
    "duration": 3,
    "start_time": "2022-11-18T14:34:27.347Z"
   },
   {
    "duration": 10,
    "start_time": "2022-11-18T14:34:27.352Z"
   },
   {
    "duration": 16,
    "start_time": "2022-11-18T14:34:27.363Z"
   },
   {
    "duration": 55,
    "start_time": "2022-11-18T14:34:27.380Z"
   },
   {
    "duration": 19,
    "start_time": "2022-11-18T14:34:27.437Z"
   },
   {
    "duration": 396,
    "start_time": "2022-11-18T14:34:27.459Z"
   },
   {
    "duration": 21,
    "start_time": "2022-11-18T14:34:27.857Z"
   },
   {
    "duration": 18,
    "start_time": "2022-11-18T14:34:27.880Z"
   },
   {
    "duration": 35,
    "start_time": "2022-11-18T14:34:27.900Z"
   },
   {
    "duration": 8,
    "start_time": "2022-11-18T14:34:27.937Z"
   },
   {
    "duration": 325,
    "start_time": "2022-11-18T14:34:27.947Z"
   },
   {
    "duration": 19,
    "start_time": "2022-11-18T14:34:28.274Z"
   },
   {
    "duration": 501,
    "start_time": "2022-11-18T14:34:28.295Z"
   },
   {
    "duration": 329,
    "start_time": "2022-11-18T14:34:28.798Z"
   },
   {
    "duration": 19,
    "start_time": "2022-11-18T14:34:29.129Z"
   },
   {
    "duration": 260,
    "start_time": "2022-11-18T14:34:29.149Z"
   },
   {
    "duration": 270,
    "start_time": "2022-11-18T14:34:29.411Z"
   },
   {
    "duration": 6,
    "start_time": "2022-11-18T14:34:29.682Z"
   },
   {
    "duration": 22,
    "start_time": "2022-11-18T14:34:29.689Z"
   },
   {
    "duration": 264,
    "start_time": "2022-11-18T14:34:29.712Z"
   },
   {
    "duration": 6,
    "start_time": "2022-11-18T14:34:29.978Z"
   },
   {
    "duration": 15,
    "start_time": "2022-11-18T14:34:29.985Z"
   },
   {
    "duration": 43,
    "start_time": "2022-11-18T14:34:30.001Z"
   },
   {
    "duration": 318,
    "start_time": "2022-11-18T14:34:30.046Z"
   },
   {
    "duration": 11,
    "start_time": "2022-11-18T14:34:30.365Z"
   },
   {
    "duration": 36,
    "start_time": "2022-11-18T14:34:30.377Z"
   },
   {
    "duration": 44,
    "start_time": "2022-11-18T14:34:30.415Z"
   },
   {
    "duration": 24,
    "start_time": "2022-11-18T14:34:30.461Z"
   },
   {
    "duration": 235,
    "start_time": "2022-11-18T14:34:30.486Z"
   },
   {
    "duration": 13,
    "start_time": "2022-11-18T14:34:30.723Z"
   },
   {
    "duration": 105,
    "start_time": "2022-11-18T14:34:30.737Z"
   },
   {
    "duration": 27,
    "start_time": "2022-11-18T14:34:30.844Z"
   },
   {
    "duration": 8,
    "start_time": "2022-11-18T14:47:52.400Z"
   },
   {
    "duration": 43,
    "start_time": "2022-11-18T15:02:35.875Z"
   },
   {
    "duration": 39,
    "start_time": "2022-11-18T15:02:42.699Z"
   },
   {
    "duration": 46,
    "start_time": "2022-11-18T15:02:47.633Z"
   },
   {
    "duration": 101,
    "start_time": "2022-11-18T15:03:54.292Z"
   },
   {
    "duration": 112,
    "start_time": "2022-11-18T15:04:22.704Z"
   }
  ],
  "kernelspec": {
   "display_name": "Python 3 (ipykernel)",
   "language": "python",
   "name": "python3"
  },
  "language_info": {
   "codemirror_mode": {
    "name": "ipython",
    "version": 3
   },
   "file_extension": ".py",
   "mimetype": "text/x-python",
   "name": "python",
   "nbconvert_exporter": "python",
   "pygments_lexer": "ipython3",
   "version": "3.9.12"
  },
  "toc": {
   "base_numbering": 1,
   "nav_menu": {},
   "number_sections": true,
   "sideBar": true,
   "skip_h1_title": true,
   "title_cell": "Table of Contents",
   "title_sidebar": "Contents",
   "toc_cell": false,
   "toc_position": {
    "height": "calc(100% - 180px)",
    "left": "10px",
    "top": "150px",
    "width": "263.589px"
   },
   "toc_section_display": true,
   "toc_window_display": true
  }
 },
 "nbformat": 4,
 "nbformat_minor": 2
}
