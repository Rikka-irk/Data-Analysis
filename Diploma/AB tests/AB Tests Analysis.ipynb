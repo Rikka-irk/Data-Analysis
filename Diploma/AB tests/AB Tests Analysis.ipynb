{
 "cells": [
  {
   "cell_type": "markdown",
   "id": "e0ba77c3",
   "metadata": {},
   "source": [
    "# Проведение и анализ результатов A/B-тестирования"
   ]
  },
  {
   "cell_type": "markdown",
   "id": "c96358a5",
   "metadata": {},
   "source": [
    "**Цель исследования**   \n",
    "\n",
    "Проанализировать результаты А/В-тестирования и составить рекомендации для увеличения выручки интернет-магазина. "
   ]
  },
  {
   "cell_type": "markdown",
   "id": "c8368dd6",
   "metadata": {},
   "source": [
    "**Ход исследования**    \n",
    "\n",
    "\n",
    "\n"
   ]
  },
  {
   "cell_type": "markdown",
   "id": "230abb4e",
   "metadata": {},
   "source": [
    "## Обзор данных"
   ]
  },
  {
   "cell_type": "markdown",
   "id": "3b2d1cf4",
   "metadata": {},
   "source": [
    "### Описание данных "
   ]
  },
  {
   "cell_type": "markdown",
   "id": "c1243d7a",
   "metadata": {},
   "source": [
    "Подгружаем необходимые для работы библиотеки."
   ]
  },
  {
   "cell_type": "code",
   "execution_count": 101,
   "id": "bb3f0b57",
   "metadata": {},
   "outputs": [],
   "source": [
    "import pandas as pd\n",
    "import os"
   ]
  },
  {
   "cell_type": "markdown",
   "id": "0b0dc446",
   "metadata": {},
   "source": [
    "Загружаем данные в датафреймы"
   ]
  },
  {
   "cell_type": "markdown",
   "id": "c7fdefbd",
   "metadata": {},
   "source": [
    "**Tаблица участников тестов**\n",
    "   \n",
    "      \n",
    "- `user_id` — идентификатор пользователя;\n",
    "- `ab_test` — название теста;\n",
    "- `group` — группа пользователя.     "
   ]
  },
  {
   "cell_type": "code",
   "execution_count": 102,
   "id": "f596eafb",
   "metadata": {
    "scrolled": false
   },
   "outputs": [
    {
     "data": {
      "text/html": [
       "<div>\n",
       "<style scoped>\n",
       "    .dataframe tbody tr th:only-of-type {\n",
       "        vertical-align: middle;\n",
       "    }\n",
       "\n",
       "    .dataframe tbody tr th {\n",
       "        vertical-align: top;\n",
       "    }\n",
       "\n",
       "    .dataframe thead th {\n",
       "        text-align: right;\n",
       "    }\n",
       "</style>\n",
       "<table border=\"1\" class=\"dataframe\">\n",
       "  <thead>\n",
       "    <tr style=\"text-align: right;\">\n",
       "      <th></th>\n",
       "      <th>user_id</th>\n",
       "      <th>group</th>\n",
       "      <th>ab_test</th>\n",
       "    </tr>\n",
       "  </thead>\n",
       "  <tbody>\n",
       "    <tr>\n",
       "      <th>4560</th>\n",
       "      <td>99931A66B4B8B4CF</td>\n",
       "      <td>A</td>\n",
       "      <td>recommender_system_test</td>\n",
       "    </tr>\n",
       "    <tr>\n",
       "      <th>15695</th>\n",
       "      <td>0313C457F07C339E</td>\n",
       "      <td>A</td>\n",
       "      <td>interface_eu_test</td>\n",
       "    </tr>\n",
       "    <tr>\n",
       "      <th>15438</th>\n",
       "      <td>F7268316128D33E5</td>\n",
       "      <td>A</td>\n",
       "      <td>interface_eu_test</td>\n",
       "    </tr>\n",
       "    <tr>\n",
       "      <th>3183</th>\n",
       "      <td>78CE39387962B153</td>\n",
       "      <td>A</td>\n",
       "      <td>recommender_system_test</td>\n",
       "    </tr>\n",
       "    <tr>\n",
       "      <th>5759</th>\n",
       "      <td>F7F9C521946845CE</td>\n",
       "      <td>B</td>\n",
       "      <td>recommender_system_test</td>\n",
       "    </tr>\n",
       "    <tr>\n",
       "      <th>16040</th>\n",
       "      <td>02DA046DE2CDD811</td>\n",
       "      <td>A</td>\n",
       "      <td>interface_eu_test</td>\n",
       "    </tr>\n",
       "    <tr>\n",
       "      <th>10761</th>\n",
       "      <td>C0ED8DB8F8906BC9</td>\n",
       "      <td>B</td>\n",
       "      <td>interface_eu_test</td>\n",
       "    </tr>\n",
       "    <tr>\n",
       "      <th>4344</th>\n",
       "      <td>D0ECAB9DA4FE2E00</td>\n",
       "      <td>A</td>\n",
       "      <td>recommender_system_test</td>\n",
       "    </tr>\n",
       "    <tr>\n",
       "      <th>6108</th>\n",
       "      <td>D5D10F1F92A87A1A</td>\n",
       "      <td>B</td>\n",
       "      <td>recommender_system_test</td>\n",
       "    </tr>\n",
       "    <tr>\n",
       "      <th>8704</th>\n",
       "      <td>AFFC4117AC279D49</td>\n",
       "      <td>B</td>\n",
       "      <td>interface_eu_test</td>\n",
       "    </tr>\n",
       "  </tbody>\n",
       "</table>\n",
       "</div>"
      ],
      "text/plain": [
       "                user_id group                  ab_test\n",
       "4560   99931A66B4B8B4CF     A  recommender_system_test\n",
       "15695  0313C457F07C339E     A        interface_eu_test\n",
       "15438  F7268316128D33E5     A        interface_eu_test\n",
       "3183   78CE39387962B153     A  recommender_system_test\n",
       "5759   F7F9C521946845CE     B  recommender_system_test\n",
       "16040  02DA046DE2CDD811     A        interface_eu_test\n",
       "10761  C0ED8DB8F8906BC9     B        interface_eu_test\n",
       "4344   D0ECAB9DA4FE2E00     A  recommender_system_test\n",
       "6108   D5D10F1F92A87A1A     B  recommender_system_test\n",
       "8704   AFFC4117AC279D49     B        interface_eu_test"
      ]
     },
     "metadata": {},
     "output_type": "display_data"
    },
    {
     "name": "stdout",
     "output_type": "stream",
     "text": [
      "<class 'pandas.core.frame.DataFrame'>\n",
      "RangeIndex: 18268 entries, 0 to 18267\n",
      "Data columns (total 3 columns):\n",
      " #   Column   Non-Null Count  Dtype \n",
      "---  ------   --------------  ----- \n",
      " 0   user_id  18268 non-null  object\n",
      " 1   group    18268 non-null  object\n",
      " 2   ab_test  18268 non-null  object\n",
      "dtypes: object(3)\n",
      "memory usage: 428.3+ KB\n"
     ]
    },
    {
     "data": {
      "text/plain": [
       "None"
      ]
     },
     "metadata": {},
     "output_type": "display_data"
    }
   ],
   "source": [
    "final_ab_participants_path1 = 'final_ab_participants.csv'\n",
    "final_ab_participants_path2 = '/datasets/final_ab_participants.csv'\n",
    "\n",
    "if os.path.exists(final_ab_participants_path1):\n",
    "    final_ab_participants = pd.read_csv(final_ab_participants_path1)\n",
    "elif os.path.exists(final_ab_participants_path2):\n",
    "    final_ab_participants = pd.read_csv(final_ab_participants_path2)\n",
    "else:\n",
    "    print('Wrong file path')\n",
    "\n",
    "display(final_ab_participants.sample(10))\n",
    "display(final_ab_participants.info())"
   ]
  },
  {
   "cell_type": "markdown",
   "id": "1728fc65",
   "metadata": {},
   "source": [
    "В таблице содержатся данные не только о пользователях, участвоваших в интересующем нас А/В тесте. Нужно будет отфильтровать лишние данные."
   ]
  },
  {
   "cell_type": "markdown",
   "id": "957cd6fc",
   "metadata": {},
   "source": [
    "**Новые пользователи**     \n",
    "    \n",
    "Зарегистрировавшиеся с 7 по 21 декабря 2020 года.   \n",
    "   \n",
    "      \n",
    "      \n",
    "- `user_id` — идентификатор пользователя;\n",
    "- `first_date` — дата регистрации;\n",
    "- `region` — регион пользователя;\n",
    "- `device` — устройство, с которого происходила регистрация."
   ]
  },
  {
   "cell_type": "code",
   "execution_count": 3,
   "id": "9eb6e0a7",
   "metadata": {
    "scrolled": false
   },
   "outputs": [
    {
     "data": {
      "text/html": [
       "<div>\n",
       "<style scoped>\n",
       "    .dataframe tbody tr th:only-of-type {\n",
       "        vertical-align: middle;\n",
       "    }\n",
       "\n",
       "    .dataframe tbody tr th {\n",
       "        vertical-align: top;\n",
       "    }\n",
       "\n",
       "    .dataframe thead th {\n",
       "        text-align: right;\n",
       "    }\n",
       "</style>\n",
       "<table border=\"1\" class=\"dataframe\">\n",
       "  <thead>\n",
       "    <tr style=\"text-align: right;\">\n",
       "      <th></th>\n",
       "      <th>user_id</th>\n",
       "      <th>first_date</th>\n",
       "      <th>region</th>\n",
       "      <th>device</th>\n",
       "    </tr>\n",
       "  </thead>\n",
       "  <tbody>\n",
       "    <tr>\n",
       "      <th>36273</th>\n",
       "      <td>9A6A78BF03A0ABBE</td>\n",
       "      <td>2020-12-10</td>\n",
       "      <td>EU</td>\n",
       "      <td>Mac</td>\n",
       "    </tr>\n",
       "    <tr>\n",
       "      <th>6349</th>\n",
       "      <td>4A93FCB6FB260CCC</td>\n",
       "      <td>2020-12-14</td>\n",
       "      <td>EU</td>\n",
       "      <td>iPhone</td>\n",
       "    </tr>\n",
       "    <tr>\n",
       "      <th>29792</th>\n",
       "      <td>D3B476223ABCA0DF</td>\n",
       "      <td>2020-12-16</td>\n",
       "      <td>EU</td>\n",
       "      <td>Android</td>\n",
       "    </tr>\n",
       "    <tr>\n",
       "      <th>37477</th>\n",
       "      <td>06BE7D81C8AB6530</td>\n",
       "      <td>2020-12-17</td>\n",
       "      <td>EU</td>\n",
       "      <td>Mac</td>\n",
       "    </tr>\n",
       "    <tr>\n",
       "      <th>7913</th>\n",
       "      <td>479E6D6A1693C32E</td>\n",
       "      <td>2020-12-14</td>\n",
       "      <td>EU</td>\n",
       "      <td>iPhone</td>\n",
       "    </tr>\n",
       "    <tr>\n",
       "      <th>14004</th>\n",
       "      <td>BA265A075A50AB26</td>\n",
       "      <td>2020-12-21</td>\n",
       "      <td>EU</td>\n",
       "      <td>Mac</td>\n",
       "    </tr>\n",
       "    <tr>\n",
       "      <th>38036</th>\n",
       "      <td>6704C5B603751145</td>\n",
       "      <td>2020-12-17</td>\n",
       "      <td>CIS</td>\n",
       "      <td>PC</td>\n",
       "    </tr>\n",
       "    <tr>\n",
       "      <th>40557</th>\n",
       "      <td>90F275E48FD7C693</td>\n",
       "      <td>2020-12-11</td>\n",
       "      <td>APAC</td>\n",
       "      <td>Android</td>\n",
       "    </tr>\n",
       "    <tr>\n",
       "      <th>35187</th>\n",
       "      <td>AD137552F1FAE59D</td>\n",
       "      <td>2020-12-10</td>\n",
       "      <td>EU</td>\n",
       "      <td>Android</td>\n",
       "    </tr>\n",
       "    <tr>\n",
       "      <th>7121</th>\n",
       "      <td>FFC2CFB58A63BE68</td>\n",
       "      <td>2020-12-14</td>\n",
       "      <td>EU</td>\n",
       "      <td>iPhone</td>\n",
       "    </tr>\n",
       "  </tbody>\n",
       "</table>\n",
       "</div>"
      ],
      "text/plain": [
       "                user_id  first_date region   device\n",
       "36273  9A6A78BF03A0ABBE  2020-12-10     EU      Mac\n",
       "6349   4A93FCB6FB260CCC  2020-12-14     EU   iPhone\n",
       "29792  D3B476223ABCA0DF  2020-12-16     EU  Android\n",
       "37477  06BE7D81C8AB6530  2020-12-17     EU      Mac\n",
       "7913   479E6D6A1693C32E  2020-12-14     EU   iPhone\n",
       "14004  BA265A075A50AB26  2020-12-21     EU      Mac\n",
       "38036  6704C5B603751145  2020-12-17    CIS       PC\n",
       "40557  90F275E48FD7C693  2020-12-11   APAC  Android\n",
       "35187  AD137552F1FAE59D  2020-12-10     EU  Android\n",
       "7121   FFC2CFB58A63BE68  2020-12-14     EU   iPhone"
      ]
     },
     "metadata": {},
     "output_type": "display_data"
    },
    {
     "name": "stdout",
     "output_type": "stream",
     "text": [
      "<class 'pandas.core.frame.DataFrame'>\n",
      "RangeIndex: 61733 entries, 0 to 61732\n",
      "Data columns (total 4 columns):\n",
      " #   Column      Non-Null Count  Dtype \n",
      "---  ------      --------------  ----- \n",
      " 0   user_id     61733 non-null  object\n",
      " 1   first_date  61733 non-null  object\n",
      " 2   region      61733 non-null  object\n",
      " 3   device      61733 non-null  object\n",
      "dtypes: object(4)\n",
      "memory usage: 1.9+ MB\n"
     ]
    },
    {
     "data": {
      "text/plain": [
       "None"
      ]
     },
     "metadata": {},
     "output_type": "display_data"
    }
   ],
   "source": [
    "final_ab_new_users_path1 = 'final_ab_new_users.csv'\n",
    "final_ab_new_users_path2 = '/datasets/final_ab_new_users.csv'\n",
    "\n",
    "if os.path.exists(final_ab_new_users_path1):\n",
    "    final_ab_new_users = pd.read_csv(final_ab_new_users_path1)\n",
    "elif os.path.final_ab_new_users(final_ab_new_users_path2):\n",
    "    final_ab_participants = pd.read_csv(final_ab_new_users_path2)\n",
    "else:\n",
    "    print('Wrong file path')\n",
    "\n",
    "final_ab_new_users = pd.read_csv('final_ab_new_users.csv')\n",
    "display(final_ab_new_users.sample(10))\n",
    "display(final_ab_new_users.info())"
   ]
  },
  {
   "cell_type": "markdown",
   "id": "9fbab8f8",
   "metadata": {},
   "source": [
    "То же самое и здесь, в таблице содержатся данные о пользователях не только из нужного для исследования региона."
   ]
  },
  {
   "cell_type": "markdown",
   "id": "9a743088",
   "metadata": {},
   "source": [
    "**Действия новых пользователей**  \n",
    "   \n",
    "В период с 7 декабря 2020 по 4 января 2021 года.   \n",
    "    \n",
    "- `user_id` — идентификатор пользователя;\n",
    "- `event_dt` — дата и время покупки;\n",
    "- `event_name` — тип события;\n",
    "- `details` — дополнительные данные о событии. Например, для покупок, `purchase,` в этом поле хранится стоимость покупки в долларах."
   ]
  },
  {
   "cell_type": "code",
   "execution_count": 9,
   "id": "aaacb2c2",
   "metadata": {
    "scrolled": false
   },
   "outputs": [
    {
     "data": {
      "text/html": [
       "<div>\n",
       "<style scoped>\n",
       "    .dataframe tbody tr th:only-of-type {\n",
       "        vertical-align: middle;\n",
       "    }\n",
       "\n",
       "    .dataframe tbody tr th {\n",
       "        vertical-align: top;\n",
       "    }\n",
       "\n",
       "    .dataframe thead th {\n",
       "        text-align: right;\n",
       "    }\n",
       "</style>\n",
       "<table border=\"1\" class=\"dataframe\">\n",
       "  <thead>\n",
       "    <tr style=\"text-align: right;\">\n",
       "      <th></th>\n",
       "      <th>user_id</th>\n",
       "      <th>event_dt</th>\n",
       "      <th>event_name</th>\n",
       "      <th>details</th>\n",
       "    </tr>\n",
       "  </thead>\n",
       "  <tbody>\n",
       "    <tr>\n",
       "      <th>118412</th>\n",
       "      <td>4A1EB7F4B0355A8F</td>\n",
       "      <td>2020-12-26 00:25:12</td>\n",
       "      <td>product_cart</td>\n",
       "      <td>NaN</td>\n",
       "    </tr>\n",
       "    <tr>\n",
       "      <th>144591</th>\n",
       "      <td>ADBA041F9AD515FB</td>\n",
       "      <td>2020-12-12 22:53:42</td>\n",
       "      <td>product_page</td>\n",
       "      <td>NaN</td>\n",
       "    </tr>\n",
       "    <tr>\n",
       "      <th>434342</th>\n",
       "      <td>A0B9172C6816687D</td>\n",
       "      <td>2020-12-28 20:04:50</td>\n",
       "      <td>login</td>\n",
       "      <td>NaN</td>\n",
       "    </tr>\n",
       "    <tr>\n",
       "      <th>60708</th>\n",
       "      <td>371F6F0F9481976D</td>\n",
       "      <td>2020-12-28 05:53:54</td>\n",
       "      <td>purchase</td>\n",
       "      <td>4.99</td>\n",
       "    </tr>\n",
       "    <tr>\n",
       "      <th>242306</th>\n",
       "      <td>DEF83DEA825E3E27</td>\n",
       "      <td>2020-12-27 15:46:32</td>\n",
       "      <td>product_page</td>\n",
       "      <td>NaN</td>\n",
       "    </tr>\n",
       "    <tr>\n",
       "      <th>70543</th>\n",
       "      <td>55740BFAADBAC48C</td>\n",
       "      <td>2020-12-11 17:01:59</td>\n",
       "      <td>product_cart</td>\n",
       "      <td>NaN</td>\n",
       "    </tr>\n",
       "    <tr>\n",
       "      <th>28287</th>\n",
       "      <td>6EEB1BCFE0FAFE50</td>\n",
       "      <td>2020-12-18 14:45:37</td>\n",
       "      <td>purchase</td>\n",
       "      <td>9.99</td>\n",
       "    </tr>\n",
       "    <tr>\n",
       "      <th>359814</th>\n",
       "      <td>D990FDCE9E55D39C</td>\n",
       "      <td>2020-12-20 21:08:33</td>\n",
       "      <td>login</td>\n",
       "      <td>NaN</td>\n",
       "    </tr>\n",
       "    <tr>\n",
       "      <th>267286</th>\n",
       "      <td>48592DF295545AC6</td>\n",
       "      <td>2020-12-10 14:32:47</td>\n",
       "      <td>login</td>\n",
       "      <td>NaN</td>\n",
       "    </tr>\n",
       "    <tr>\n",
       "      <th>147513</th>\n",
       "      <td>21A4770BA49E0FF7</td>\n",
       "      <td>2020-12-12 15:41:43</td>\n",
       "      <td>product_page</td>\n",
       "      <td>NaN</td>\n",
       "    </tr>\n",
       "  </tbody>\n",
       "</table>\n",
       "</div>"
      ],
      "text/plain": [
       "                 user_id             event_dt    event_name  details\n",
       "118412  4A1EB7F4B0355A8F  2020-12-26 00:25:12  product_cart      NaN\n",
       "144591  ADBA041F9AD515FB  2020-12-12 22:53:42  product_page      NaN\n",
       "434342  A0B9172C6816687D  2020-12-28 20:04:50         login      NaN\n",
       "60708   371F6F0F9481976D  2020-12-28 05:53:54      purchase     4.99\n",
       "242306  DEF83DEA825E3E27  2020-12-27 15:46:32  product_page      NaN\n",
       "70543   55740BFAADBAC48C  2020-12-11 17:01:59  product_cart      NaN\n",
       "28287   6EEB1BCFE0FAFE50  2020-12-18 14:45:37      purchase     9.99\n",
       "359814  D990FDCE9E55D39C  2020-12-20 21:08:33         login      NaN\n",
       "267286  48592DF295545AC6  2020-12-10 14:32:47         login      NaN\n",
       "147513  21A4770BA49E0FF7  2020-12-12 15:41:43  product_page      NaN"
      ]
     },
     "metadata": {},
     "output_type": "display_data"
    },
    {
     "name": "stdout",
     "output_type": "stream",
     "text": [
      "<class 'pandas.core.frame.DataFrame'>\n",
      "RangeIndex: 440317 entries, 0 to 440316\n",
      "Data columns (total 4 columns):\n",
      " #   Column      Non-Null Count   Dtype  \n",
      "---  ------      --------------   -----  \n",
      " 0   user_id     440317 non-null  object \n",
      " 1   event_dt    440317 non-null  object \n",
      " 2   event_name  440317 non-null  object \n",
      " 3   details     62740 non-null   float64\n",
      "dtypes: float64(1), object(3)\n",
      "memory usage: 13.4+ MB\n"
     ]
    },
    {
     "data": {
      "text/plain": [
       "None"
      ]
     },
     "metadata": {},
     "output_type": "display_data"
    }
   ],
   "source": [
    "final_ab_events = pd.read_csv('final_ab_events.csv')\n",
    "display(final_ab_events.sample(10))\n",
    "display(final_ab_events.info())"
   ]
  },
  {
   "cell_type": "markdown",
   "id": "f03a5af3",
   "metadata": {},
   "source": [
    "**Календарь маркетинговых событий на 2020 год**    \n",
    "    \n",
    "- `name` — название маркетингового события;\n",
    "- `regions` — регионы, в которых будет проводиться рекламная кампания;\n",
    "- `start_dt` — дата начала кампании;\n",
    "- `finish_dt` — дата завершения кампании.    "
   ]
  },
  {
   "cell_type": "code",
   "execution_count": 62,
   "id": "09845eb8",
   "metadata": {},
   "outputs": [
    {
     "data": {
      "text/html": [
       "<div>\n",
       "<style scoped>\n",
       "    .dataframe tbody tr th:only-of-type {\n",
       "        vertical-align: middle;\n",
       "    }\n",
       "\n",
       "    .dataframe tbody tr th {\n",
       "        vertical-align: top;\n",
       "    }\n",
       "\n",
       "    .dataframe thead th {\n",
       "        text-align: right;\n",
       "    }\n",
       "</style>\n",
       "<table border=\"1\" class=\"dataframe\">\n",
       "  <thead>\n",
       "    <tr style=\"text-align: right;\">\n",
       "      <th></th>\n",
       "      <th>name</th>\n",
       "      <th>regions</th>\n",
       "      <th>start_dt</th>\n",
       "      <th>finish_dt</th>\n",
       "    </tr>\n",
       "  </thead>\n",
       "  <tbody>\n",
       "    <tr>\n",
       "      <th>0</th>\n",
       "      <td>Christmas&amp;New Year Promo</td>\n",
       "      <td>EU, N.America</td>\n",
       "      <td>2020-12-25</td>\n",
       "      <td>2021-01-03</td>\n",
       "    </tr>\n",
       "    <tr>\n",
       "      <th>10</th>\n",
       "      <td>CIS New Year Gift Lottery</td>\n",
       "      <td>CIS</td>\n",
       "      <td>2020-12-30</td>\n",
       "      <td>2021-01-07</td>\n",
       "    </tr>\n",
       "    <tr>\n",
       "      <th>4</th>\n",
       "      <td>4th of July Promo</td>\n",
       "      <td>N.America</td>\n",
       "      <td>2020-07-04</td>\n",
       "      <td>2020-07-11</td>\n",
       "    </tr>\n",
       "    <tr>\n",
       "      <th>7</th>\n",
       "      <td>Labor day (May 1st) Ads Campaign</td>\n",
       "      <td>EU, CIS, APAC</td>\n",
       "      <td>2020-05-01</td>\n",
       "      <td>2020-05-03</td>\n",
       "    </tr>\n",
       "    <tr>\n",
       "      <th>12</th>\n",
       "      <td>Single's Day Gift Promo</td>\n",
       "      <td>APAC</td>\n",
       "      <td>2020-11-11</td>\n",
       "      <td>2020-11-12</td>\n",
       "    </tr>\n",
       "    <tr>\n",
       "      <th>6</th>\n",
       "      <td>Chinese New Year Promo</td>\n",
       "      <td>APAC</td>\n",
       "      <td>2020-01-25</td>\n",
       "      <td>2020-02-07</td>\n",
       "    </tr>\n",
       "    <tr>\n",
       "      <th>11</th>\n",
       "      <td>Dragon Boat Festival Giveaway</td>\n",
       "      <td>APAC</td>\n",
       "      <td>2020-06-25</td>\n",
       "      <td>2020-07-01</td>\n",
       "    </tr>\n",
       "    <tr>\n",
       "      <th>5</th>\n",
       "      <td>Black Friday Ads Campaign</td>\n",
       "      <td>EU, CIS, APAC, N.America</td>\n",
       "      <td>2020-11-26</td>\n",
       "      <td>2020-12-01</td>\n",
       "    </tr>\n",
       "    <tr>\n",
       "      <th>1</th>\n",
       "      <td>St. Valentine's Day Giveaway</td>\n",
       "      <td>EU, CIS, APAC, N.America</td>\n",
       "      <td>2020-02-14</td>\n",
       "      <td>2020-02-16</td>\n",
       "    </tr>\n",
       "    <tr>\n",
       "      <th>8</th>\n",
       "      <td>International Women's Day Promo</td>\n",
       "      <td>EU, CIS, APAC</td>\n",
       "      <td>2020-03-08</td>\n",
       "      <td>2020-03-10</td>\n",
       "    </tr>\n",
       "  </tbody>\n",
       "</table>\n",
       "</div>"
      ],
      "text/plain": [
       "                                name                   regions    start_dt  \\\n",
       "0           Christmas&New Year Promo             EU, N.America  2020-12-25   \n",
       "10         CIS New Year Gift Lottery                       CIS  2020-12-30   \n",
       "4                  4th of July Promo                 N.America  2020-07-04   \n",
       "7   Labor day (May 1st) Ads Campaign             EU, CIS, APAC  2020-05-01   \n",
       "12           Single's Day Gift Promo                      APAC  2020-11-11   \n",
       "6             Chinese New Year Promo                      APAC  2020-01-25   \n",
       "11     Dragon Boat Festival Giveaway                      APAC  2020-06-25   \n",
       "5          Black Friday Ads Campaign  EU, CIS, APAC, N.America  2020-11-26   \n",
       "1       St. Valentine's Day Giveaway  EU, CIS, APAC, N.America  2020-02-14   \n",
       "8    International Women's Day Promo             EU, CIS, APAC  2020-03-08   \n",
       "\n",
       "     finish_dt  \n",
       "0   2021-01-03  \n",
       "10  2021-01-07  \n",
       "4   2020-07-11  \n",
       "7   2020-05-03  \n",
       "12  2020-11-12  \n",
       "6   2020-02-07  \n",
       "11  2020-07-01  \n",
       "5   2020-12-01  \n",
       "1   2020-02-16  \n",
       "8   2020-03-10  "
      ]
     },
     "metadata": {},
     "output_type": "display_data"
    },
    {
     "name": "stdout",
     "output_type": "stream",
     "text": [
      "<class 'pandas.core.frame.DataFrame'>\n",
      "RangeIndex: 14 entries, 0 to 13\n",
      "Data columns (total 4 columns):\n",
      " #   Column     Non-Null Count  Dtype \n",
      "---  ------     --------------  ----- \n",
      " 0   name       14 non-null     object\n",
      " 1   regions    14 non-null     object\n",
      " 2   start_dt   14 non-null     object\n",
      " 3   finish_dt  14 non-null     object\n",
      "dtypes: object(4)\n",
      "memory usage: 576.0+ bytes\n"
     ]
    },
    {
     "data": {
      "text/plain": [
       "None"
      ]
     },
     "metadata": {},
     "output_type": "display_data"
    }
   ],
   "source": [
    "ab_project_marketing_events = pd.read_csv('ab_project_marketing_events.csv')\n",
    "display(ab_project_marketing_events.sample(10))\n",
    "display(ab_project_marketing_events.info())"
   ]
  },
  {
   "cell_type": "markdown",
   "id": "d8e6c453",
   "metadata": {},
   "source": [
    "### Предварительный анализ данных"
   ]
  },
  {
   "cell_type": "markdown",
   "id": "753c3603",
   "metadata": {},
   "source": [
    "#### Участники теста"
   ]
  },
  {
   "cell_type": "code",
   "execution_count": 35,
   "id": "c31c2264",
   "metadata": {
    "scrolled": true
   },
   "outputs": [
    {
     "name": "stdout",
     "output_type": "stream",
     "text": [
      "Rоличество уникальных пользователей:  6701\n",
      "\n",
      "Количество тестовых групп: 2\n",
      "\n",
      "Тестовые группы: ['A', 'B']\n",
      "\n",
      "Количество пользователей в тестовоых группах:\n",
      "       user_id\n",
      "group         \n",
      "A         3824\n",
      "B         2877\n",
      "\n"
     ]
    }
   ],
   "source": [
    "print('Rоличество уникальных пользователей: ',  final_ab_participants\\\n",
    "      .loc[final_ab_participants\\\n",
    "      .ab_test == 'recommender_system_test']['user_id']\\\n",
    "      .nunique())\n",
    "print('')\n",
    "print('Количество тестовых групп:',  final_ab_participants.\\\n",
    "        loc[final_ab_participants.ab_test == 'recommender_system_test']['group']\\\n",
    "        .nunique())\n",
    "print('')\n",
    "print('Тестовые группы:', final_ab_participants.\\\n",
    "        loc[final_ab_participants.ab_test == 'recommender_system_test']['group']\\\n",
    "        .unique().tolist())\n",
    "print('')\n",
    "print('Количество пользователей в тестовоых группах:')\n",
    "print( final_ab_participants.\\\n",
    "        loc[final_ab_participants.ab_test == 'recommender_system_test'][['user_id','group']]\\\n",
    "        .groupby('group').nunique())\n",
    "print('')\n"
   ]
  },
  {
   "cell_type": "markdown",
   "id": "ac5864bb",
   "metadata": {},
   "source": [
    "#### Зарегистрировавшиеся пользователи"
   ]
  },
  {
   "cell_type": "code",
   "execution_count": 50,
   "id": "898e635c",
   "metadata": {
    "scrolled": true
   },
   "outputs": [
    {
     "name": "stdout",
     "output_type": "stream",
     "text": [
      "Rоличество уникальных пользователей:  6351\n",
      "\n",
      "Виды девайсов: ['PC' 'Android' 'iPhone' 'Mac']\n",
      "\n",
      "Начало регистраций: 2020-12-07\n",
      "\n",
      "Конец регистраций: 2020-12-21\n"
     ]
    }
   ],
   "source": [
    "users=(final_ab_participants\n",
    "      .loc[final_ab_participants\n",
    "      .ab_test == 'recommender_system_test']\n",
    "      ['user_id']\n",
    "      )\n",
    " \n",
    "print('Rоличество уникальных пользователей: ',  \n",
    "      final_ab_new_users.query(\"user_id in @users and region == 'EU'\")\n",
    "      ['user_id']\n",
    "      .nunique()\n",
    "     )\n",
    "\n",
    "print('')\n",
    "print('Виды девайсов:', \n",
    "      final_ab_new_users\n",
    "      .query(\"user_id in @users and region == 'EU'\")\n",
    "      ['device']\n",
    "      .unique()\n",
    "     )\n",
    "\n",
    "print('')\n",
    "print('Начало регистраций:', \n",
    "      final_ab_new_users\n",
    "      .query(\"user_id in @users and region == 'EU'\")\n",
    "      ['first_date'].min()\n",
    "     )\n",
    "        \n",
    "print('')\n",
    "print('Конец регистраций:', \n",
    "      final_ab_new_users\n",
    "      .query(\"user_id in @users and region == 'EU'\")\n",
    "      ['first_date'].max()\n",
    "     )"
   ]
  },
  {
   "cell_type": "markdown",
   "id": "8d41b7d6",
   "metadata": {},
   "source": [
    "Пользователей оказалось меньше, чем в писке участников теста. Возможно, в список участников теста попали в том числе пользователи, зарегистрировавшиеся после остановки набора новых польователей."
   ]
  },
  {
   "cell_type": "markdown",
   "id": "c96f1af6",
   "metadata": {},
   "source": [
    "#### Действия участников теста"
   ]
  },
  {
   "cell_type": "code",
   "execution_count": 79,
   "id": "99f58f2f",
   "metadata": {
    "scrolled": true
   },
   "outputs": [
    {
     "name": "stdout",
     "output_type": "stream",
     "text": [
      "\n",
      "Событий в период А/В теста: 15180\n",
      "\n",
      "Виды событий: ['purchase' 'product_cart' 'product_page' 'login']\n",
      "\n",
      "Пользователей: 3165\n"
     ]
    }
   ],
   "source": [
    "final_ab_events['event_dt'] = final_ab_events['event_dt'].astype('datetime64[ns]')\n",
    "\n",
    "print('')\n",
    "print('Событий в период А/В теста:',\n",
    "   final_ab_events.query(\"('2020-12-07'< event_dt < '2020-12-21') and user_id in @users \").shape[0]\n",
    "      )\n",
    "\n",
    "print('')\n",
    "print('Виды событий:',\n",
    "   final_ab_events.query(\"('2020-12-07'< event_dt < '2020-12-21') and user_id in @users \")\n",
    "      ['event_name'].unique()\n",
    "      )\n",
    "\n",
    "print('')\n",
    "print('Пользователей:',\n",
    "   final_ab_events.query(\"('2020-12-07'< event_dt < '2020-12-21') and user_id in @users \")\n",
    "      ['user_id'].nunique()\n",
    "      )"
   ]
  },
  {
   "cell_type": "markdown",
   "id": "242ea7ce",
   "metadata": {},
   "source": [
    "Здесь пользователей стало еще меньше. Далеко не все зарегистрировавшиеся заходили на сайт и совершали покупки."
   ]
  },
  {
   "cell_type": "markdown",
   "id": "a128b7d8",
   "metadata": {},
   "source": [
    "#### Рекламные кампании"
   ]
  },
  {
   "cell_type": "code",
   "execution_count": 99,
   "id": "744a509c",
   "metadata": {},
   "outputs": [
    {
     "name": "stdout",
     "output_type": "stream",
     "text": [
      "\n",
      "Рекламные кампании в период регистрации новых пользователей: 0\n",
      "\n",
      "Рекламные кампании в период проведения аб теста: 1\n"
     ]
    },
    {
     "data": {
      "text/html": [
       "<div>\n",
       "<style scoped>\n",
       "    .dataframe tbody tr th:only-of-type {\n",
       "        vertical-align: middle;\n",
       "    }\n",
       "\n",
       "    .dataframe tbody tr th {\n",
       "        vertical-align: top;\n",
       "    }\n",
       "\n",
       "    .dataframe thead th {\n",
       "        text-align: right;\n",
       "    }\n",
       "</style>\n",
       "<table border=\"1\" class=\"dataframe\">\n",
       "  <thead>\n",
       "    <tr style=\"text-align: right;\">\n",
       "      <th></th>\n",
       "      <th>name</th>\n",
       "      <th>regions</th>\n",
       "      <th>start_dt</th>\n",
       "      <th>finish_dt</th>\n",
       "    </tr>\n",
       "  </thead>\n",
       "  <tbody>\n",
       "    <tr>\n",
       "      <th>0</th>\n",
       "      <td>Christmas&amp;New Year Promo</td>\n",
       "      <td>EU, N.America</td>\n",
       "      <td>2020-12-25</td>\n",
       "      <td>2021-01-03</td>\n",
       "    </tr>\n",
       "  </tbody>\n",
       "</table>\n",
       "</div>"
      ],
      "text/plain": [
       "                       name        regions   start_dt  finish_dt\n",
       "0  Christmas&New Year Promo  EU, N.America 2020-12-25 2021-01-03"
      ]
     },
     "metadata": {},
     "output_type": "display_data"
    }
   ],
   "source": [
    "ab_project_marketing_events['start_dt'] = ab_project_marketing_events['start_dt'].astype('datetime64[ns]')\n",
    "ab_project_marketing_events['finish_dt'] = ab_project_marketing_events['finish_dt'].astype('datetime64[ns]')\n",
    "\n",
    "print('')\n",
    "print('Рекламные кампании в период регистрации новых пользователей:',\n",
    "       ab_project_marketing_events.loc[ab_project_marketing_events.\n",
    "       regions.str.contains('EU')]\n",
    "       .query(\" ('2020-12-07'< start_dt < '2020-12-21') and  ('2020-12-07'< finish_dt < '2020-12-21') \").shape[0]\n",
    "     )\n",
    "\n",
    "print('')\n",
    "print('Рекламные кампании в период проведения аб теста:', \n",
    "      ab_project_marketing_events.loc[ab_project_marketing_events.\n",
    "       regions.str.contains('EU')]\n",
    "       .query(\" ('2020-12-07'< start_dt < '2021-01-04') and  ('2020-12-07'< finish_dt < '2021-01-04') \").shape[0]\n",
    "     )\n",
    "display(ab_project_marketing_events\n",
    "  .loc[ab_project_marketing_events.regions.str.contains('EU')]\n",
    "  .query(\" ('2020-12-07'< start_dt < '2021-01-04') and  ('2020-12-07'< finish_dt < '2021-01-04') \")\n",
    "        )"
   ]
  },
  {
   "cell_type": "markdown",
   "id": "8de28cac",
   "metadata": {},
   "source": [
    "Во время привлечения новых пользователей рекламные кампании не проводились. Но после набора пользователей, во время проведения тестирования, была одна Новогодняя промо-кампания."
   ]
  },
  {
   "cell_type": "markdown",
   "id": "a26a002d",
   "metadata": {},
   "source": [
    "### Вывод"
   ]
  },
  {
   "cell_type": "markdown",
   "id": "2cc6cef7",
   "metadata": {},
   "source": [
    "\n",
    "## Предобработка данных"
   ]
  },
  {
   "cell_type": "markdown",
   "id": "b601e210",
   "metadata": {},
   "source": [
    "### Обработка пропусков"
   ]
  },
  {
   "cell_type": "markdown",
   "id": "5912dbb7",
   "metadata": {},
   "source": [
    "### Изменение типов данных"
   ]
  },
  {
   "cell_type": "markdown",
   "id": "19d73e4a",
   "metadata": {},
   "source": [
    "### Проверка данных на аномалии"
   ]
  },
  {
   "cell_type": "markdown",
   "id": "ba534f7c",
   "metadata": {},
   "source": [
    "### Обработка дубликатов"
   ]
  },
  {
   "cell_type": "markdown",
   "id": "c344366f",
   "metadata": {},
   "source": [
    "### Формирование дополнительных датафреймов "
   ]
  },
  {
   "cell_type": "code",
   "execution_count": null,
   "id": "263040c3",
   "metadata": {},
   "outputs": [],
   "source": []
  },
  {
   "cell_type": "code",
   "execution_count": null,
   "id": "41efd796",
   "metadata": {},
   "outputs": [],
   "source": []
  },
  {
   "cell_type": "code",
   "execution_count": null,
   "id": "97107d88",
   "metadata": {},
   "outputs": [],
   "source": []
  }
 ],
 "metadata": {
  "kernelspec": {
   "display_name": "Python 3 (ipykernel)",
   "language": "python",
   "name": "python3"
  },
  "language_info": {
   "codemirror_mode": {
    "name": "ipython",
    "version": 3
   },
   "file_extension": ".py",
   "mimetype": "text/x-python",
   "name": "python",
   "nbconvert_exporter": "python",
   "pygments_lexer": "ipython3",
   "version": "3.9.12"
  },
  "toc": {
   "base_numbering": 1,
   "nav_menu": {},
   "number_sections": true,
   "sideBar": true,
   "skip_h1_title": true,
   "title_cell": "Table of Contents",
   "title_sidebar": "Contents",
   "toc_cell": false,
   "toc_position": {
    "height": "calc(100% - 180px)",
    "left": "10px",
    "top": "150px",
    "width": "496.6px"
   },
   "toc_section_display": true,
   "toc_window_display": true
  }
 },
 "nbformat": 4,
 "nbformat_minor": 5
}
